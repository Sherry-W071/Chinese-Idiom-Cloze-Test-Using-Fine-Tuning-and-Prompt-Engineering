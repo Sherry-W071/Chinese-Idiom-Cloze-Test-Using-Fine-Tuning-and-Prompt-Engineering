{
  "cells": [
    {
      "cell_type": "markdown",
      "metadata": {
        "id": "931cb5cd-10af-445e-b38c-389bb5d8837d"
      },
      "source": [
        "# T5-small Fine-tuning"
      ],
      "id": "931cb5cd-10af-445e-b38c-389bb5d8837d"
    },
    {
      "cell_type": "markdown",
      "source": [
        "### **The model checkpoint can be downloaded from: [Google Drive](https://drive.google.com/file/d/1rPxy0jeDDT5JkYI1q5ntlOROJvt2Jpdo/view?usp=sharing)*"
      ],
      "metadata": {
        "id": "q1WDTm1VFloi"
      },
      "id": "q1WDTm1VFloi"
    },
    {
      "cell_type": "markdown",
      "metadata": {
        "id": "338f1500-424a-44af-991a-ab96caf01238"
      },
      "source": [
        "## Imports, Device Setting and Weight and Bias Display"
      ],
      "id": "338f1500-424a-44af-991a-ab96caf01238"
    },
    {
      "cell_type": "code",
      "execution_count": 1,
      "metadata": {
        "colab": {
          "base_uri": "https://localhost:8080/"
        },
        "id": "2db85f5a-7e83-4f2e-9e5b-783132661495",
        "outputId": "ec224484-09cd-4acc-afdf-63500898ed07"
      },
      "outputs": [
        {
          "output_type": "stream",
          "name": "stdout",
          "text": [
            "Looking in indexes: https://pypi.org/simple, https://us-python.pkg.dev/colab-wheels/public/simple/\n",
            "Collecting transformers\n",
            "  Downloading transformers-4.28.1-py3-none-any.whl (7.0 MB)\n",
            "\u001b[2K     \u001b[90m━━━━━━━━━━━━━━━━━━━━━━━━━━━━━━━━━━━━━━━━\u001b[0m \u001b[32m7.0/7.0 MB\u001b[0m \u001b[31m96.4 MB/s\u001b[0m eta \u001b[36m0:00:00\u001b[0m\n",
            "\u001b[?25hRequirement already satisfied: regex!=2019.12.17 in /usr/local/lib/python3.10/dist-packages (from transformers) (2022.10.31)\n",
            "Requirement already satisfied: requests in /usr/local/lib/python3.10/dist-packages (from transformers) (2.27.1)\n",
            "Requirement already satisfied: tqdm>=4.27 in /usr/local/lib/python3.10/dist-packages (from transformers) (4.65.0)\n",
            "Requirement already satisfied: filelock in /usr/local/lib/python3.10/dist-packages (from transformers) (3.12.0)\n",
            "Collecting tokenizers!=0.11.3,<0.14,>=0.11.1\n",
            "  Downloading tokenizers-0.13.3-cp310-cp310-manylinux_2_17_x86_64.manylinux2014_x86_64.whl (7.8 MB)\n",
            "\u001b[2K     \u001b[90m━━━━━━━━━━━━━━━━━━━━━━━━━━━━━━━━━━━━━━━━\u001b[0m \u001b[32m7.8/7.8 MB\u001b[0m \u001b[31m98.1 MB/s\u001b[0m eta \u001b[36m0:00:00\u001b[0m\n",
            "\u001b[?25hRequirement already satisfied: pyyaml>=5.1 in /usr/local/lib/python3.10/dist-packages (from transformers) (6.0)\n",
            "Requirement already satisfied: numpy>=1.17 in /usr/local/lib/python3.10/dist-packages (from transformers) (1.22.4)\n",
            "Requirement already satisfied: packaging>=20.0 in /usr/local/lib/python3.10/dist-packages (from transformers) (23.1)\n",
            "Collecting huggingface-hub<1.0,>=0.11.0\n",
            "  Downloading huggingface_hub-0.14.1-py3-none-any.whl (224 kB)\n",
            "\u001b[2K     \u001b[90m━━━━━━━━━━━━━━━━━━━━━━━━━━━━━━━━━━━━━━\u001b[0m \u001b[32m224.5/224.5 kB\u001b[0m \u001b[31m30.0 MB/s\u001b[0m eta \u001b[36m0:00:00\u001b[0m\n",
            "\u001b[?25hRequirement already satisfied: fsspec in /usr/local/lib/python3.10/dist-packages (from huggingface-hub<1.0,>=0.11.0->transformers) (2023.4.0)\n",
            "Requirement already satisfied: typing-extensions>=3.7.4.3 in /usr/local/lib/python3.10/dist-packages (from huggingface-hub<1.0,>=0.11.0->transformers) (4.5.0)\n",
            "Requirement already satisfied: certifi>=2017.4.17 in /usr/local/lib/python3.10/dist-packages (from requests->transformers) (2022.12.7)\n",
            "Requirement already satisfied: idna<4,>=2.5 in /usr/local/lib/python3.10/dist-packages (from requests->transformers) (3.4)\n",
            "Requirement already satisfied: charset-normalizer~=2.0.0 in /usr/local/lib/python3.10/dist-packages (from requests->transformers) (2.0.12)\n",
            "Requirement already satisfied: urllib3<1.27,>=1.21.1 in /usr/local/lib/python3.10/dist-packages (from requests->transformers) (1.26.15)\n",
            "Installing collected packages: tokenizers, huggingface-hub, transformers\n",
            "Successfully installed huggingface-hub-0.14.1 tokenizers-0.13.3 transformers-4.28.1\n",
            "Looking in indexes: https://pypi.org/simple, https://us-python.pkg.dev/colab-wheels/public/simple/\n",
            "Collecting wandb\n",
            "  Downloading wandb-0.15.0-py3-none-any.whl (2.0 MB)\n",
            "\u001b[2K     \u001b[90m━━━━━━━━━━━━━━━━━━━━━━━━━━━━━━━━━━━━━━━━\u001b[0m \u001b[32m2.0/2.0 MB\u001b[0m \u001b[31m76.0 MB/s\u001b[0m eta \u001b[36m0:00:00\u001b[0m\n",
            "\u001b[?25hRequirement already satisfied: setuptools in /usr/local/lib/python3.10/dist-packages (from wandb) (67.7.2)\n",
            "Requirement already satisfied: PyYAML in /usr/local/lib/python3.10/dist-packages (from wandb) (6.0)\n",
            "Requirement already satisfied: appdirs>=1.4.3 in /usr/local/lib/python3.10/dist-packages (from wandb) (1.4.4)\n",
            "Collecting setproctitle\n",
            "  Downloading setproctitle-1.3.2-cp310-cp310-manylinux_2_5_x86_64.manylinux1_x86_64.manylinux_2_17_x86_64.manylinux2014_x86_64.whl (30 kB)\n",
            "Collecting pathtools\n",
            "  Downloading pathtools-0.1.2.tar.gz (11 kB)\n",
            "  Preparing metadata (setup.py) ... \u001b[?25l\u001b[?25hdone\n",
            "Requirement already satisfied: psutil>=5.0.0 in /usr/local/lib/python3.10/dist-packages (from wandb) (5.9.5)\n",
            "Requirement already satisfied: protobuf!=4.21.0,<5,>=3.19.0 in /usr/local/lib/python3.10/dist-packages (from wandb) (3.20.3)\n",
            "Collecting sentry-sdk>=1.0.0\n",
            "  Downloading sentry_sdk-1.21.0-py2.py3-none-any.whl (199 kB)\n",
            "\u001b[2K     \u001b[90m━━━━━━━━━━━━━━━━━━━━━━━━━━━━━━━━━━━━━━\u001b[0m \u001b[32m199.5/199.5 kB\u001b[0m \u001b[31m27.0 MB/s\u001b[0m eta \u001b[36m0:00:00\u001b[0m\n",
            "\u001b[?25hCollecting GitPython!=3.1.29,>=1.0.0\n",
            "  Downloading GitPython-3.1.31-py3-none-any.whl (184 kB)\n",
            "\u001b[2K     \u001b[90m━━━━━━━━━━━━━━━━━━━━━━━━━━━━━━━━━━━━━━\u001b[0m \u001b[32m184.3/184.3 kB\u001b[0m \u001b[31m26.2 MB/s\u001b[0m eta \u001b[36m0:00:00\u001b[0m\n",
            "\u001b[?25hRequirement already satisfied: requests<3,>=2.0.0 in /usr/local/lib/python3.10/dist-packages (from wandb) (2.27.1)\n",
            "Requirement already satisfied: Click!=8.0.0,>=7.0 in /usr/local/lib/python3.10/dist-packages (from wandb) (8.1.3)\n",
            "Collecting docker-pycreds>=0.4.0\n",
            "  Downloading docker_pycreds-0.4.0-py2.py3-none-any.whl (9.0 kB)\n",
            "Requirement already satisfied: six>=1.4.0 in /usr/local/lib/python3.10/dist-packages (from docker-pycreds>=0.4.0->wandb) (1.16.0)\n",
            "Collecting gitdb<5,>=4.0.1\n",
            "  Downloading gitdb-4.0.10-py3-none-any.whl (62 kB)\n",
            "\u001b[2K     \u001b[90m━━━━━━━━━━━━━━━━━━━━━━━━━━━━━━━━━━━━━━━━\u001b[0m \u001b[32m62.7/62.7 kB\u001b[0m \u001b[31m7.3 MB/s\u001b[0m eta \u001b[36m0:00:00\u001b[0m\n",
            "\u001b[?25hRequirement already satisfied: urllib3<1.27,>=1.21.1 in /usr/local/lib/python3.10/dist-packages (from requests<3,>=2.0.0->wandb) (1.26.15)\n",
            "Requirement already satisfied: idna<4,>=2.5 in /usr/local/lib/python3.10/dist-packages (from requests<3,>=2.0.0->wandb) (3.4)\n",
            "Requirement already satisfied: charset-normalizer~=2.0.0 in /usr/local/lib/python3.10/dist-packages (from requests<3,>=2.0.0->wandb) (2.0.12)\n",
            "Requirement already satisfied: certifi>=2017.4.17 in /usr/local/lib/python3.10/dist-packages (from requests<3,>=2.0.0->wandb) (2022.12.7)\n",
            "Collecting smmap<6,>=3.0.1\n",
            "  Downloading smmap-5.0.0-py3-none-any.whl (24 kB)\n",
            "Building wheels for collected packages: pathtools\n",
            "  Building wheel for pathtools (setup.py) ... \u001b[?25l\u001b[?25hdone\n",
            "  Created wheel for pathtools: filename=pathtools-0.1.2-py3-none-any.whl size=8807 sha256=f6a526b8a355754eb4f4b2e60e08c34a406ec70597c1c91484cce8ac2dcc1e3a\n",
            "  Stored in directory: /root/.cache/pip/wheels/e7/f3/22/152153d6eb222ee7a56ff8617d80ee5207207a8c00a7aab794\n",
            "Successfully built pathtools\n",
            "Installing collected packages: pathtools, smmap, setproctitle, sentry-sdk, docker-pycreds, gitdb, GitPython, wandb\n",
            "Successfully installed GitPython-3.1.31 docker-pycreds-0.4.0 gitdb-4.0.10 pathtools-0.1.2 sentry-sdk-1.21.0 setproctitle-1.3.2 smmap-5.0.0 wandb-0.15.0\n"
          ]
        }
      ],
      "source": [
        "! pip install transformers\n",
        "!pip3 install wandb\n",
        "import wandb\n",
        "import os\n",
        "import torch\n",
        "import re\n",
        "from torch import cuda, nn, optim\n",
        "from transformers import BertTokenizer, T5ForConditionalGeneration, Text2TextGenerationPipeline\n",
        "from transformers import TrainingArguments, Trainer, logging\n",
        "from torch.utils.data import Dataset, DataLoader\n",
        "from torch.nn.utils.rnn import pad_sequence\n"
      ],
      "id": "2db85f5a-7e83-4f2e-9e5b-783132661495"
    },
    {
      "cell_type": "code",
      "execution_count": 2,
      "metadata": {
        "colab": {
          "base_uri": "https://localhost:8080/"
        },
        "id": "11dcc013-acec-4506-b1a4-a17912c5d13f",
        "outputId": "9e591099-500e-4cc1-8fcc-c002506f4aa2"
      },
      "outputs": [
        {
          "output_type": "stream",
          "name": "stdout",
          "text": [
            "Mounted at /content/gdrive\n",
            "cuda\n"
          ]
        }
      ],
      "source": [
        "from google.colab import drive\n",
        "drive.mount('/content/gdrive')\n",
        "manual_seed = 585\n",
        "torch.manual_seed(manual_seed)\n",
        "device = torch.device(\"cuda\" if torch.cuda.is_available() else \"cpu\")\n",
        "print(device)"
      ],
      "id": "11dcc013-acec-4506-b1a4-a17912c5d13f"
    },
    {
      "cell_type": "code",
      "source": [
        "wandb.login()\n",
        "wandb.init(project=\"Zootopia\", entity=\"qmygrace\")\n"
      ],
      "metadata": {
        "colab": {
          "base_uri": "https://localhost:8080/",
          "height": 576
        },
        "id": "gfGHEqITuwMD",
        "outputId": "8459b687-2a9e-44bf-efb9-9dbece45b00a"
      },
      "id": "gfGHEqITuwMD",
      "execution_count": 3,
      "outputs": [
        {
          "output_type": "display_data",
          "data": {
            "text/plain": [
              "<IPython.core.display.Javascript object>"
            ],
            "application/javascript": [
              "\n",
              "        window._wandbApiKey = new Promise((resolve, reject) => {\n",
              "            function loadScript(url) {\n",
              "            return new Promise(function(resolve, reject) {\n",
              "                let newScript = document.createElement(\"script\");\n",
              "                newScript.onerror = reject;\n",
              "                newScript.onload = resolve;\n",
              "                document.body.appendChild(newScript);\n",
              "                newScript.src = url;\n",
              "            });\n",
              "            }\n",
              "            loadScript(\"https://cdn.jsdelivr.net/npm/postmate/build/postmate.min.js\").then(() => {\n",
              "            const iframe = document.createElement('iframe')\n",
              "            iframe.style.cssText = \"width:0;height:0;border:none\"\n",
              "            document.body.appendChild(iframe)\n",
              "            const handshake = new Postmate({\n",
              "                container: iframe,\n",
              "                url: 'https://wandb.ai/authorize'\n",
              "            });\n",
              "            const timeout = setTimeout(() => reject(\"Couldn't auto authenticate\"), 5000)\n",
              "            handshake.then(function(child) {\n",
              "                child.on('authorize', data => {\n",
              "                    clearTimeout(timeout)\n",
              "                    resolve(data)\n",
              "                });\n",
              "            });\n",
              "            })\n",
              "        });\n",
              "    "
            ]
          },
          "metadata": {}
        },
        {
          "output_type": "stream",
          "name": "stderr",
          "text": [
            "\u001b[34m\u001b[1mwandb\u001b[0m: Appending key for api.wandb.ai to your netrc file: /root/.netrc\n",
            "\u001b[34m\u001b[1mwandb\u001b[0m: Currently logged in as: \u001b[33mqmygrace\u001b[0m. Use \u001b[1m`wandb login --relogin`\u001b[0m to force relogin\n"
          ]
        },
        {
          "output_type": "display_data",
          "data": {
            "text/plain": [
              "<IPython.core.display.HTML object>"
            ],
            "text/html": [
              "Tracking run with wandb version 0.15.0"
            ]
          },
          "metadata": {}
        },
        {
          "output_type": "display_data",
          "data": {
            "text/plain": [
              "<IPython.core.display.HTML object>"
            ],
            "text/html": [
              "Run data is saved locally in <code>/content/wandb/run-20230427_223653-tbi2tjru</code>"
            ]
          },
          "metadata": {}
        },
        {
          "output_type": "display_data",
          "data": {
            "text/plain": [
              "<IPython.core.display.HTML object>"
            ],
            "text/html": [
              "Syncing run <strong><a href='https://wandb.ai/qmygrace/Zootopia/runs/tbi2tjru' target=\"_blank\">kind-planet-18</a></strong> to <a href='https://wandb.ai/qmygrace/Zootopia' target=\"_blank\">Weights & Biases</a> (<a href='https://wandb.me/run' target=\"_blank\">docs</a>)<br/>"
            ]
          },
          "metadata": {}
        },
        {
          "output_type": "display_data",
          "data": {
            "text/plain": [
              "<IPython.core.display.HTML object>"
            ],
            "text/html": [
              " View project at <a href='https://wandb.ai/qmygrace/Zootopia' target=\"_blank\">https://wandb.ai/qmygrace/Zootopia</a>"
            ]
          },
          "metadata": {}
        },
        {
          "output_type": "display_data",
          "data": {
            "text/plain": [
              "<IPython.core.display.HTML object>"
            ],
            "text/html": [
              " View run at <a href='https://wandb.ai/qmygrace/Zootopia/runs/tbi2tjru' target=\"_blank\">https://wandb.ai/qmygrace/Zootopia/runs/tbi2tjru</a>"
            ]
          },
          "metadata": {}
        },
        {
          "output_type": "execute_result",
          "data": {
            "text/html": [
              "<button onClick=\"this.nextSibling.style.display='block';this.style.display='none';\">Display W&B run</button><iframe src='https://wandb.ai/qmygrace/Zootopia/runs/tbi2tjru?jupyter=true' style='border:none;width:100%;height:420px;display:none;'></iframe>"
            ],
            "text/plain": [
              "<wandb.sdk.wandb_run.Run at 0x7fa1eaa8f1c0>"
            ]
          },
          "metadata": {},
          "execution_count": 3
        }
      ]
    },
    {
      "cell_type": "markdown",
      "metadata": {
        "id": "o6y1YrsaF7HY"
      },
      "source": [],
      "id": "o6y1YrsaF7HY"
    },
    {
      "cell_type": "markdown",
      "metadata": {
        "id": "f7c2f97e-7c04-4abc-b23a-8e4a29ec7ffc"
      },
      "source": [
        "## Load the Pre-trained Model"
      ],
      "id": "f7c2f97e-7c04-4abc-b23a-8e4a29ec7ffc"
    },
    {
      "cell_type": "code",
      "execution_count": 4,
      "metadata": {
        "id": "99ae48ef-34a0-44fd-8489-0d4b13dc73d0",
        "colab": {
          "base_uri": "https://localhost:8080/",
          "height": 177,
          "referenced_widgets": [
            "a84de71e0aeb4d1ea85af278700e1acb",
            "a97bd8c1832040b0b9c4db4d1e29255d",
            "a5948b5125d5439d8b270704b1902d9a",
            "6e39a6addd9643c398aadb3444c3d3e5",
            "1d7543ddcb834a1cb1e7685e43c432fe",
            "62664748193e4ef5add6e0a2cfaaa74a",
            "953247f17a294227893d08b307cecb64",
            "8cd1f05c7c7b481b91653c97ed66810f",
            "8c2d14cd433648518e3671233bc07514",
            "9fd6cf03e98c4e628ee07f784ea4a43c",
            "7b78da60664b4fb29727af232f2932ea",
            "874904d1d8b44598bd7e8f545a686b0c",
            "d6b978530f5a4322a3cd9e4e622128bb",
            "6ecfbf27c1c942c686ad1cacac3d2bf2",
            "4b7d6bec05c5439a81b2ab11dc017ce9",
            "ce5580872db64f05823b934c668a241f",
            "22c184a4006f42a69f2c85c212e5b6be",
            "8c50dec7bdfc4372bf35a4b76292327b",
            "a271bf3904a343799be0f5694820ee14",
            "563770896ea740af8b07e27daa6519e5",
            "d6d51d4f9a5947cfb3d42592018468d1",
            "7b87b895141d4f2393a7f5cbe6719f17",
            "adc351c1e04e490c9c973a7eb2887ec1",
            "8137eb6a562140e582cab8a82ec2a785",
            "d9c0e5f286374e7cbae14ebbfbabfe90",
            "7ca5a7e3ec0c486184a7840d7db3239d",
            "778f419f228c453983b30c0b7fbfd8c4",
            "7b359ce291ba4a008f73d649b62b6fa9",
            "d5660d4e80c44108822da988a2d6966a",
            "5b158adcfba5476d93d33349b95f439e",
            "60f87ffc226445c0b289a165281fede9",
            "29dcd3e28e4f40459c467e3f972db12a",
            "ab06f4c0d8f74a729508de32ecd14409",
            "840df91149c8418b93a830b6f6f002b8",
            "1cfda322c1dd49c8a821e937577281a5",
            "22a7d98678d444c09a20403f0ae189ca",
            "72440f7395e94983a6bb305fbd1771a7",
            "9080f64c084c4ba589bbefad255e1037",
            "69e00b434c604eceb66374195eefa0b7",
            "80b7b014134a4966a1d2fb3ae2d44939",
            "77a37b7b09114e2182d7ac1595009c89",
            "18e5abd5dfc44cbf9fbf96f2cf5d5ab1",
            "8e7c7910f2684202b83335799a68b0f7",
            "85911946947a413cbdf351fe8ed5128c",
            "c84ef4a160604100be9d7a7c082c9006",
            "ac5f1b8693434968ae128329cb7d461a",
            "38f9dbd940fa4bc3bf771e0fb9a028c9",
            "0543e3e13ff9493786fddc232508ae1c",
            "3581a7fc5cf843308028bcc689144b5c",
            "fc2ab12d25c44253a9677e9b9634eb87",
            "db64aedb38474c07ab0ff0a14323cc9c",
            "d9fb0f2b04ab4b94ba13cee5d6f96d69",
            "97a2e519cd0b47d5a7f35b8420c030bb",
            "8034217695044ea29dfde5ccc34e4411",
            "8e280fb11a1c402d96acecdef3e50d14"
          ]
        },
        "outputId": "c1b0fbbc-cdbf-40ab-96f1-771fce5d9916"
      },
      "outputs": [
        {
          "output_type": "display_data",
          "data": {
            "text/plain": [
              "Downloading (…)solve/main/vocab.txt:   0%|          | 0.00/110k [00:00<?, ?B/s]"
            ],
            "application/vnd.jupyter.widget-view+json": {
              "version_major": 2,
              "version_minor": 0,
              "model_id": "a84de71e0aeb4d1ea85af278700e1acb"
            }
          },
          "metadata": {}
        },
        {
          "output_type": "display_data",
          "data": {
            "text/plain": [
              "Downloading (…)cial_tokens_map.json:   0%|          | 0.00/112 [00:00<?, ?B/s]"
            ],
            "application/vnd.jupyter.widget-view+json": {
              "version_major": 2,
              "version_minor": 0,
              "model_id": "874904d1d8b44598bd7e8f545a686b0c"
            }
          },
          "metadata": {}
        },
        {
          "output_type": "display_data",
          "data": {
            "text/plain": [
              "Downloading (…)okenizer_config.json:   0%|          | 0.00/321 [00:00<?, ?B/s]"
            ],
            "application/vnd.jupyter.widget-view+json": {
              "version_major": 2,
              "version_minor": 0,
              "model_id": "adc351c1e04e490c9c973a7eb2887ec1"
            }
          },
          "metadata": {}
        },
        {
          "output_type": "display_data",
          "data": {
            "text/plain": [
              "Downloading (…)lve/main/config.json:   0%|          | 0.00/458 [00:00<?, ?B/s]"
            ],
            "application/vnd.jupyter.widget-view+json": {
              "version_major": 2,
              "version_minor": 0,
              "model_id": "840df91149c8418b93a830b6f6f002b8"
            }
          },
          "metadata": {}
        },
        {
          "output_type": "display_data",
          "data": {
            "text/plain": [
              "Downloading pytorch_model.bin:   0%|          | 0.00/220M [00:00<?, ?B/s]"
            ],
            "application/vnd.jupyter.widget-view+json": {
              "version_major": 2,
              "version_minor": 0,
              "model_id": "c84ef4a160604100be9d7a7c082c9006"
            }
          },
          "metadata": {}
        }
      ],
      "source": [
        "# tokenizer = AutoTokenizer.from_pretrained(\"t5-small\")\n",
        "# model = AutoModelForSeq2SeqLM.from_pretrained(\"t5-small\")\n",
        "# No Chinese was used for pre-train\n",
        "\n",
        "# tokenizer = AutoTokenizer.from_pretrained(\"mxmax/Chinese_Chat_T5_Base\")\n",
        "# model = AutoModelForSeq2SeqLM.from_pretrained(\"mxmax/Chinese_Chat_T5_Base\")\n",
        "\n",
        "# https://huggingface.co/uer/t5-small-chinese-cluecorpussmall\n",
        "tokenizer = BertTokenizer.from_pretrained(\"uer/t5-small-chinese-cluecorpussmall\")\n",
        "model = T5ForConditionalGeneration.from_pretrained(\"uer/t5-small-chinese-cluecorpussmall\")\n"
      ],
      "id": "99ae48ef-34a0-44fd-8489-0d4b13dc73d0"
    },
    {
      "cell_type": "markdown",
      "metadata": {
        "id": "2bf1f4b3-2f98-4704-bff4-12f1f9ad055a"
      },
      "source": [
        "## Preprocess data"
      ],
      "id": "2bf1f4b3-2f98-4704-bff4-12f1f9ad055a"
    },
    {
      "cell_type": "code",
      "execution_count": 5,
      "metadata": {
        "colab": {
          "base_uri": "https://localhost:8080/"
        },
        "id": "a0aa74f8-a3fa-4746-a720-c831ac6ef645",
        "outputId": "dd7f72f2-208a-4859-fcf0-97be03038876"
      },
      "outputs": [
        {
          "output_type": "stream",
          "name": "stdout",
          "text": [
            "['{\"groundTruth\": [\"发扬光大\", \"平易近人\", \"温文尔雅\"], \"candidates\": [[\"意气风发\", \"街谈巷议\", \"人才辈出\", \"一脉相传\", \"后继有人\", \"发扬光大\", \"腥风血雨\"], [\"平易近人\", \"落落大方\", \"八仙过海\", \"彬彬有礼\", \"史无前例\", \"盛气凌人\", \"好自为之\"], [\"不拘小节\", \"风流潇洒\", \"无病呻吟\", \"言谈举止\", \"壮志凌云\", \"关门闭户\", \"温文尔雅\"]], \"content\": \"由实力派演员刘威饰演的清华第三任校长蒋南翔，是我国著名的青年运动家和教育家，他跟清华终身校长梅贻琦一样，都是由清华人自己培养出来的校长。历史上的蒋南翔是著名的“一二九”学生救亡运动的领导人之一，他在清华校长之位14年期间，不但很好的继承了清华建校之初的优秀传统与理念，而且更加的#idiom#，他把清华的教师队伍扩大了将近5倍，将清华本科人数破万，为新中国培养了大量的有用人才。在《天行健》中饰演蒋南翔的刘威是观众所熟悉的著名实力派演员，早在1987年刘威就在《关东大侠》中饰演豪爽仗义的关云天一角而获得了金鸡奖最佳男主角的提名，后来更是因在《唐明皇》中精湛的表演而一举夺得金鹰奖最佳男演员奖。此次《天行健》选定刘威来出演正是看中了他#idiom#的表演方式和对人物深入内心的刻画。至此，《天行健》中涉及的三位清华校长的人选都已经曝光，#idiom#的第一任校长赵文?、稳重坚毅的第二任校长孙逊、亲切务实的第三任校长刘威，再加上梁思成、林徽因、朱自清、闻一多等一批“大师”的加盟，相信作为清华百年校庆重点项目之一的《天行健》一定会带领观众重温那段不能抹去的历史。\", \"realCount\": 3}\\n', '{\"groundTruth\": [\"肥头大耳\"], \"candidates\": [[\"超凡入圣\", \"骨瘦如柴\", \"青面獠牙\", \"虎背熊腰\", \"成人之美\", \"肥头大耳\", \"神不守舍\"]], \"content\": \"#idiom#的掌柜只穿一件衬衫，坐在柜台里。几个堂倌穿着脏得发黑的白工作服，因为没有顾客，都散坐在桌子旁。这当儿看到这位不寻常的客人，都露出好奇的神色列宁曾批评他理论上的错误，同时认为他“所写的全部哲学，赶紧迎上前来伺候。聂赫留朵夫要了一瓶矿泉水，在离窗较远的地方挨着一张铺有肮脏桌布的小桌坐下。\", \"realCount\": 1}\\n'] \n",
            " 20000 3000\n"
          ]
        }
      ],
      "source": [
        "# path = '../data/'    # change the path as needed\n",
        "path = '/content/gdrive/My Drive/585data/'\n",
        "\n",
        "def read_data(file):\n",
        "    with open (path+file) as t:\n",
        "        data = t.readlines()\n",
        "    return data\n",
        "\n",
        "train_set = read_data('train_data.txt')[:20000]\n",
        "dev_set = read_data('dev_data.txt')[:3000]\n",
        "# test_set = read_data('test_data.txt')[:3000]\n",
        "\n",
        "# type(train_set)\n",
        "print(train_set[:2], '\\n', len(train_set), len(dev_set))"
      ],
      "id": "a0aa74f8-a3fa-4746-a720-c831ac6ef645"
    },
    {
      "cell_type": "code",
      "source": [
        "# preprocess_idx = -1\n",
        "# def replace(match):\n",
        "#     global preprocess_idx\n",
        "#     preprocess_idx += 1\n",
        "#     return 'extra {}'.format(preprocess_idx)\n",
        "\n",
        "# text = '由实力派演员刘威饰演的清华第三任校长蒋南翔，是我国著名的青年运动家和教育家，他跟清华终身校长梅贻琦一样，都是由清华人自己培养出来的校长。历史上的蒋南翔是著名的“一二九”学生救亡运动的领导人之一，他在清华校长之位14年期间，不但很好的继承了清华建校之初的优秀传统与理念，而且更加的#idiom#，他把清华的教师队伍扩大了将近5倍，将清华本科人数破万，为新中国培养了大量的有用人才。在《天行健》中饰演蒋南翔的刘威是观众所熟悉的著名实力派演员，早在1987年刘威就在《关东大侠》中饰演豪爽仗义的关云天一角而获得了金鸡奖最佳男主角的提名，后来更是因在《唐明皇》中精湛的表演而一举夺得金鹰奖最佳男演员奖。此次《天行健》选定刘威来出演正是看中了他#idiom#的表演方式和对人物深入内心的刻画。至此，《天行健》中涉及的三位清华校长的人选都已经曝光，#idiom#的第一任校长赵文?、稳重坚毅的第二任校长孙逊、亲切务实的第三任校长刘威，再加上梁思成、林徽因、朱自清、闻一多等一批“大师”的加盟，相信作为清华百年校庆重点项目之一的《天行健》一定会带领观众重温那段不能抹去的历史。'\n",
        "# re.sub(r'#idiom#', replace, text)"
      ],
      "metadata": {
        "id": "dZ1JICTnZPma"
      },
      "id": "dZ1JICTnZPma",
      "execution_count": 6,
      "outputs": []
    },
    {
      "cell_type": "code",
      "execution_count": 7,
      "metadata": {
        "id": "9c3965b6-eaff-42ff-ac70-dac21b8dbd21"
      },
      "outputs": [],
      "source": [
        "def preprocess(data):\n",
        "    text_input = []\n",
        "    idiom_output = []\n",
        "    for i in range(len(data)):\n",
        "        data[i] = eval(data[i])\n",
        "        input_text = data[i]['content']\n",
        "        ground_truth = data[i]['groundTruth']\n",
        "        candidates = data[i]['candidates']\n",
        "\n",
        "        candidate_str = ''\n",
        "        for candidate in candidates:\n",
        "            candidate_str += '('+'|'.join(candidate)+')'\n",
        "        \n",
        "        preprocess_idx = -1\n",
        "        def replace(match):\n",
        "            nonlocal preprocess_idx\n",
        "            preprocess_idx += 1\n",
        "            return 'extra{}'.format(preprocess_idx)\n",
        "        input_text = re.sub(r'#idiom#', replace, input_text)\n",
        "\n",
        "        instruction = '请从下列括号中分别选择合适的成语填入空缺处：{}'.format(candidate_str)\n",
        "        # input_text = input_text.replace('#idiom#', '_')\n",
        "        output_text = ','.join(ground_truth)\n",
        "        \n",
        "        text_input.append(instruction+'\\n'+input_text)\n",
        "        idiom_output.append(output_text)\n",
        "    \n",
        "    print(text_input[0], idiom_output[0])    \n",
        "    input_tok = tokenizer.batch_encode_plus(text_input,\n",
        "                                            add_special_tokens=False, \n",
        "                                            return_token_type_ids=False)\n",
        "    output_tok = tokenizer.batch_encode_plus(idiom_output, \n",
        "                                             add_special_tokens=False,\n",
        "                                             return_token_type_ids=False)\n",
        "    return input_tok, output_tok"
      ],
      "id": "9c3965b6-eaff-42ff-ac70-dac21b8dbd21"
    },
    {
      "cell_type": "code",
      "execution_count": 8,
      "metadata": {
        "id": "9ad9389a-0f2a-4222-8f67-e9f968e6c734",
        "colab": {
          "base_uri": "https://localhost:8080/"
        },
        "outputId": "35611671-73ee-4f12-8580-ce16f95f7ae1"
      },
      "outputs": [
        {
          "output_type": "stream",
          "name": "stdout",
          "text": [
            "请从下列括号中分别选择合适的成语填入空缺处：(意气风发|街谈巷议|人才辈出|一脉相传|后继有人|发扬光大|腥风血雨)(平易近人|落落大方|八仙过海|彬彬有礼|史无前例|盛气凌人|好自为之)(不拘小节|风流潇洒|无病呻吟|言谈举止|壮志凌云|关门闭户|温文尔雅)\n",
            "由实力派演员刘威饰演的清华第三任校长蒋南翔，是我国著名的青年运动家和教育家，他跟清华终身校长梅贻琦一样，都是由清华人自己培养出来的校长。历史上的蒋南翔是著名的“一二九”学生救亡运动的领导人之一，他在清华校长之位14年期间，不但很好的继承了清华建校之初的优秀传统与理念，而且更加的extra0，他把清华的教师队伍扩大了将近5倍，将清华本科人数破万，为新中国培养了大量的有用人才。在《天行健》中饰演蒋南翔的刘威是观众所熟悉的著名实力派演员，早在1987年刘威就在《关东大侠》中饰演豪爽仗义的关云天一角而获得了金鸡奖最佳男主角的提名，后来更是因在《唐明皇》中精湛的表演而一举夺得金鹰奖最佳男演员奖。此次《天行健》选定刘威来出演正是看中了他extra1的表演方式和对人物深入内心的刻画。至此，《天行健》中涉及的三位清华校长的人选都已经曝光，extra2的第一任校长赵文?、稳重坚毅的第二任校长孙逊、亲切务实的第三任校长刘威，再加上梁思成、林徽因、朱自清、闻一多等一批“大师”的加盟，相信作为清华百年校庆重点项目之一的《天行健》一定会带领观众重温那段不能抹去的历史。 发扬光大,平易近人,温文尔雅\n",
            "请从下列括号中分别选择合适的成语填入空缺处：(深恶痛绝|人人自危|恨入骨髓|不胜枚举|嗤之以鼻|走马看花|不屑一顾)\n",
            "另据了解，北京一个对垃圾短信extra0的老人，利用该软件总共呼死了近2000个号码。20分钟呼上万号码记者昨天在百度里输入“呼死你软件”，出现了7000多个相关网页，随机登录几个网站，发现软件均需花钱购买，价格从200元至500元不等。 深恶痛绝\n"
          ]
        }
      ],
      "source": [
        "train_input, train_output = preprocess(train_set)\n",
        "dev_input, dev_output = preprocess(dev_set)\n",
        "# test_input, test_output = preprocess(test_set)"
      ],
      "id": "9ad9389a-0f2a-4222-8f67-e9f968e6c734"
    },
    {
      "cell_type": "code",
      "execution_count": 9,
      "metadata": {
        "colab": {
          "base_uri": "https://localhost:8080/"
        },
        "id": "7dbb4375-3f3f-441c-81b4-be13b24160bb",
        "outputId": "8dbcf503-2cd9-44f0-85b1-744730757aba"
      },
      "outputs": [
        {
          "output_type": "stream",
          "name": "stdout",
          "text": [
            "dict_keys(['input_ids', 'attention_mask']) dict_keys(['input_ids', 'attention_mask'])\n"
          ]
        }
      ],
      "source": [
        "print(train_input.keys(), train_output.keys())"
      ],
      "id": "7dbb4375-3f3f-441c-81b4-be13b24160bb"
    },
    {
      "cell_type": "code",
      "execution_count": 10,
      "metadata": {
        "colab": {
          "base_uri": "https://localhost:8080/"
        },
        "id": "2dab48c9-e312-4706-b5fa-d408bc8d227a",
        "outputId": "6bb5e539-7a69-48cd-eb2b-11627da497f1"
      },
      "outputs": [
        {
          "output_type": "stream",
          "name": "stdout",
          "text": [
            "[6435, 794, 678, 1154, 2886, 1384, 704, 1146, 1166, 6848, 2885, 1394, 6844, 4638, 2768, 6427, 1856, 1057, 4958, 5375, 1905, 8038, 113, 2692, 3698, 7599, 1355, 170, 6125, 6448, 2350, 6379, 170, 782, 2798, 6777, 1139, 170, 671, 5549, 4685, 837, 170, 1400, 5326, 3300, 782, 170, 1355, 2813, 1045, 1920, 170, 5581, 7599, 6117, 7433, 114, 113, 2398, 3211, 6818, 782, 170, 5862, 5862, 1920, 3175, 170, 1061, 803, 6814, 3862, 170, 2509, 2509, 3300, 4851, 170, 1380, 3187, 1184, 891, 170, 4670, 3698, 1119, 782, 170, 1962, 5632, 711, 722, 114, 113, 679, 2872, 2207, 5688, 170, 7599, 3837, 4045, 3818, 170, 3187, 4567, 1460, 1412, 170, 6241, 6448, 715, 3632, 170, 1896, 2562, 1119, 756, 170, 1068, 7305, 7308, 2787, 170, 3946, 3152, 2209, 7414, 114, 4507, 2141, 1213, 3836, 4028, 1447, 1155, 2014, 7652, 4028, 4638, 3926, 1290, 5018, 676, 818, 3413, 7270, 5882, 1298, 5425, 8024, 3221, 2769, 1744, 5865, 1399, 4638, 7471, 2399, 6817, 1220, 2157, 1469, 3136, 5509, 2157, 8024, 800, 6656, 3926, 1290, 5303, 6716, 3413, 7270, 3449, 6591, 4425, 671, 3416, 8024, 6963, 3221, 4507, 3926, 1290, 782, 5632, 2346, 1824, 1075, 1139, 3341, 4638, 3413, 7270, 511, 1325, 1380, 677, 4638, 5882, 1298, 5425, 3221, 5865, 1399, 4638, 100, 671, 753, 736, 100, 2110, 4495, 3131, 767, 6817, 1220, 4638, 7566, 2193, 782, 722, 671, 8024, 800, 1762, 3926, 1290, 3413, 7270, 722, 855, 8122, 2399, 3309, 7313, 8024, 679, 852, 2523, 1962, 4638, 5326, 2824, 749, 3926, 1290, 2456, 3413, 722, 1159, 4638, 831, 4899, 837, 5320, 680, 4415, 2573, 8024, 5445, 684, 3291, 1217, 4638, 21128, 8024, 800, 2828, 3926, 1290, 4638, 3136, 2360, 7339, 824, 2810, 1920, 749, 2199, 6818, 126, 945, 8024, 2199, 3926, 1290, 3315, 4906, 782, 3144, 4788, 674, 8024, 711, 3173, 704, 1744, 1824, 1075, 749, 1920, 7030, 4638, 3300, 4500, 782, 2798, 511, 1762, 517, 1921, 6121, 978, 518, 704, 7652, 4028, 5882, 1298, 5425, 4638, 1155, 2014, 3221, 6225, 830, 2792, 4225, 2634, 4638, 5865, 1399, 2141, 1213, 3836, 4028, 1447, 8024, 3193, 1762, 8622, 2399, 1155, 2014, 2218, 1762, 517, 1068, 691, 1920, 899, 518, 704, 7652, 4028, 6498, 4272, 801, 721, 4638, 1068, 756, 1921, 671, 6235, 5445, 5815, 2533, 749, 7032, 7883, 1946, 3297, 881, 4511, 712, 6235, 4638, 2990, 1399, 8024, 1400, 3341, 3291, 3221, 1728, 1762, 517, 1538, 3209, 4640, 518, 704, 5125, 3961, 4638, 6134, 4028, 5445, 671, 715, 1932, 2533, 7032, 7916, 1946, 3297, 881, 4511, 4028, 1447, 1946, 511, 3634, 3613, 517, 1921, 6121, 978, 518, 6848, 2137, 1155, 2014, 3341, 1139, 4028, 3633, 3221, 4692, 704, 749, 800, 21129, 4638, 6134, 4028, 3175, 2466, 1469, 2190, 782, 4289, 3918, 1057, 1079, 2552, 4638, 1174, 4514, 511, 5635, 3634, 8024, 517, 1921, 6121, 978, 518, 704, 3868, 1350, 4638, 676, 855, 3926, 1290, 3413, 7270, 4638, 782, 6848, 6963, 2347, 5307, 3284, 1045, 8024, 21130, 4638, 5018, 671, 818, 3413, 7270, 6627, 3152, 136, 510, 4937, 7028, 1780, 3675, 4638, 5018, 753, 818, 3413, 7270, 2101, 6849, 510, 779, 1147, 1218, 2141, 4638, 5018, 676, 818, 3413, 7270, 1155, 2014, 8024, 1086, 1217, 677, 3448, 2590, 2768, 510, 3360, 2551, 1728, 510, 3319, 5632, 3926, 510, 7319, 671, 1914, 5023, 671, 2821, 100, 1920, 2360, 100, 4638, 1217, 4673, 8024, 4685, 928, 868, 711, 3926, 1290, 4636, 2399, 3413, 2412, 7028, 4157, 7555, 4680, 722, 671, 4638, 517, 1921, 6121, 978, 518, 671, 2137, 833, 2372, 7566, 6225, 830, 7028, 3946, 6929, 3667, 679, 5543, 2851, 1343, 4638, 1325, 1380, 511] \n",
            " [1, 1, 1, 1, 1, 1, 1, 1, 1, 1, 1, 1, 1, 1, 1, 1, 1, 1, 1, 1, 1, 1, 1, 1, 1, 1, 1, 1, 1, 1, 1, 1, 1, 1, 1, 1, 1, 1, 1, 1, 1, 1, 1, 1, 1, 1, 1, 1, 1, 1, 1, 1, 1, 1, 1, 1, 1, 1, 1, 1, 1, 1, 1, 1, 1, 1, 1, 1, 1, 1, 1, 1, 1, 1, 1, 1, 1, 1, 1, 1, 1, 1, 1, 1, 1, 1, 1, 1, 1, 1, 1, 1, 1, 1, 1, 1, 1, 1, 1, 1, 1, 1, 1, 1, 1, 1, 1, 1, 1, 1, 1, 1, 1, 1, 1, 1, 1, 1, 1, 1, 1, 1, 1, 1, 1, 1, 1, 1, 1, 1, 1, 1, 1, 1, 1, 1, 1, 1, 1, 1, 1, 1, 1, 1, 1, 1, 1, 1, 1, 1, 1, 1, 1, 1, 1, 1, 1, 1, 1, 1, 1, 1, 1, 1, 1, 1, 1, 1, 1, 1, 1, 1, 1, 1, 1, 1, 1, 1, 1, 1, 1, 1, 1, 1, 1, 1, 1, 1, 1, 1, 1, 1, 1, 1, 1, 1, 1, 1, 1, 1, 1, 1, 1, 1, 1, 1, 1, 1, 1, 1, 1, 1, 1, 1, 1, 1, 1, 1, 1, 1, 1, 1, 1, 1, 1, 1, 1, 1, 1, 1, 1, 1, 1, 1, 1, 1, 1, 1, 1, 1, 1, 1, 1, 1, 1, 1, 1, 1, 1, 1, 1, 1, 1, 1, 1, 1, 1, 1, 1, 1, 1, 1, 1, 1, 1, 1, 1, 1, 1, 1, 1, 1, 1, 1, 1, 1, 1, 1, 1, 1, 1, 1, 1, 1, 1, 1, 1, 1, 1, 1, 1, 1, 1, 1, 1, 1, 1, 1, 1, 1, 1, 1, 1, 1, 1, 1, 1, 1, 1, 1, 1, 1, 1, 1, 1, 1, 1, 1, 1, 1, 1, 1, 1, 1, 1, 1, 1, 1, 1, 1, 1, 1, 1, 1, 1, 1, 1, 1, 1, 1, 1, 1, 1, 1, 1, 1, 1, 1, 1, 1, 1, 1, 1, 1, 1, 1, 1, 1, 1, 1, 1, 1, 1, 1, 1, 1, 1, 1, 1, 1, 1, 1, 1, 1, 1, 1, 1, 1, 1, 1, 1, 1, 1, 1, 1, 1, 1, 1, 1, 1, 1, 1, 1, 1, 1, 1, 1, 1, 1, 1, 1, 1, 1, 1, 1, 1, 1, 1, 1, 1, 1, 1, 1, 1, 1, 1, 1, 1, 1, 1, 1, 1, 1, 1, 1, 1, 1, 1, 1, 1, 1, 1, 1, 1, 1, 1, 1, 1, 1, 1, 1, 1, 1, 1, 1, 1, 1, 1, 1, 1, 1, 1, 1, 1, 1, 1, 1, 1, 1, 1, 1, 1, 1, 1, 1, 1, 1, 1, 1, 1, 1, 1, 1, 1, 1, 1, 1, 1, 1, 1, 1, 1, 1, 1, 1, 1, 1, 1, 1, 1, 1, 1, 1, 1, 1, 1, 1, 1, 1, 1, 1, 1, 1, 1, 1, 1, 1, 1, 1, 1, 1, 1, 1, 1, 1, 1, 1, 1, 1, 1, 1, 1, 1, 1, 1, 1, 1, 1, 1, 1, 1, 1, 1, 1, 1, 1, 1, 1, 1, 1, 1, 1, 1, 1, 1, 1, 1, 1, 1, 1, 1, 1, 1, 1, 1, 1, 1, 1, 1, 1, 1, 1, 1, 1, 1, 1, 1, 1, 1, 1, 1, 1, 1, 1, 1, 1, 1, 1, 1, 1, 1, 1, 1, 1, 1, 1, 1, 1, 1]\n"
          ]
        }
      ],
      "source": [
        "print(train_input['input_ids'][0], '\\n', train_input['attention_mask'][0])"
      ],
      "id": "2dab48c9-e312-4706-b5fa-d408bc8d227a"
    },
    {
      "cell_type": "code",
      "source": [
        "print(train_output['input_ids'][0], '\\n', train_output['attention_mask'][0])"
      ],
      "metadata": {
        "colab": {
          "base_uri": "https://localhost:8080/"
        },
        "id": "ItvsDz6wgf2D",
        "outputId": "9cb3caaf-88e2-4633-9ab5-a89c7d11d6cc"
      },
      "id": "ItvsDz6wgf2D",
      "execution_count": 11,
      "outputs": [
        {
          "output_type": "stream",
          "name": "stdout",
          "text": [
            "[1355, 2813, 1045, 1920, 117, 2398, 3211, 6818, 782, 117, 3946, 3152, 2209, 7414] \n",
            " [1, 1, 1, 1, 1, 1, 1, 1, 1, 1, 1, 1, 1, 1]\n"
          ]
        }
      ]
    },
    {
      "cell_type": "code",
      "execution_count": 12,
      "metadata": {
        "id": "745d083f-5ef4-4ef2-95ae-88edc375a5aa"
      },
      "outputs": [],
      "source": [
        "class IdiomDataset(Dataset):\n",
        "    def __init__(self, inputs, outputs):\n",
        "        self.inputs = inputs\n",
        "        self.outputs = outputs\n",
        "\n",
        "    def __len__(self):\n",
        "        return len(self.inputs[\"input_ids\"])\n",
        "\n",
        "    def __getitem__(self, idx):\n",
        "        input_ids = self.inputs['input_ids'][idx]\n",
        "        attention_mask = self.inputs['attention_mask'][idx]\n",
        "\n",
        "        target_ids = self.outputs['input_ids'][idx]\n",
        "        target_attention_mask = self.outputs['attention_mask'][idx]\n",
        "        return {\"input_ids\": input_ids, \"attention_mask\":attention_mask, \"output_ids\":target_ids}\n",
        "\n",
        "\n",
        "def collate_fn(batch):\n",
        "    batch_input = [torch.LongTensor(example['input_ids']) for example in batch]\n",
        "    batch_output = [torch.LongTensor(example['output_ids']) for example in batch]\n",
        "    batch_mask = [torch.LongTensor(example['attention_mask']) for example in batch]\n",
        "\n",
        "    padded_batch_input_ids = pad_sequence(batch_input, batch_first=True, padding_value=tokenizer.pad_token_id)\n",
        "    padded_batch_label = pad_sequence(batch_output, batch_first=True, padding_value=tokenizer.pad_token_id)\n",
        "    padded_batch_att_mask = pad_sequence(batch_mask, batch_first=True, padding_value=0)\n",
        "\n",
        "    return {\"input_ids\": padded_batch_input_ids, \"attention_mask\": padded_batch_att_mask, \"labels\": padded_batch_label}\n",
        "\n",
        "def to_device(data, device):\n",
        "    new_data = {}\n",
        "    for k in data:\n",
        "        # k = k.to(device)\n",
        "        new_data[k] = data[k].to(device)\n",
        "    return new_data"
      ],
      "id": "745d083f-5ef4-4ef2-95ae-88edc375a5aa"
    },
    {
      "cell_type": "code",
      "execution_count": 13,
      "metadata": {
        "id": "2306fb26-febb-4159-b957-89944b73a9c4"
      },
      "outputs": [],
      "source": [
        "train_dataset = IdiomDataset(train_input, train_output)\n",
        "train_loader = DataLoader(train_dataset, batch_size=8, collate_fn=collate_fn, shuffle=True)\n",
        "\n",
        "dev_dataset = IdiomDataset(dev_input, dev_output)\n",
        "dev_loader = DataLoader(dev_dataset, batch_size=8, collate_fn=collate_fn, shuffle=False)\n"
      ],
      "id": "2306fb26-febb-4159-b957-89944b73a9c4"
    },
    {
      "cell_type": "markdown",
      "metadata": {
        "id": "3f4fc45d-c94f-4dcc-a845-285e1959ef6e"
      },
      "source": [
        "## Training"
      ],
      "id": "3f4fc45d-c94f-4dcc-a845-285e1959ef6e"
    },
    {
      "cell_type": "code",
      "execution_count": 14,
      "metadata": {
        "id": "20e09128-fe25-44b1-8572-496a460bf870"
      },
      "outputs": [],
      "source": [
        "@torch.no_grad()\n",
        "def evaluate(model:nn.Module, eval_loader:DataLoader):\n",
        "    eval_loss = 0.0\n",
        "    correct = 0\n",
        "    total = 0\n",
        "    model.eval()\n",
        "    print(\"eval_loader len:\", len(eval_loader))\n",
        "    for batch in eval_loader:\n",
        "        batch = to_device(batch, device)\n",
        "        output = model(**batch)\n",
        "        loss = output.loss\n",
        "        eval_loss += loss.item()\n",
        "        pred = output.logits.argmax(-1)\n",
        "        label = batch[\"labels\"]\n",
        "        correct += torch.where(label!=0, pred==label, 0).sum().item()\n",
        "        total += torch.sum(label!=0).item()\n",
        "\n",
        "    eval_acc = correct / total\n",
        "    eval_loss = eval_loss / len(eval_loader) \n",
        "    print(total, correct)\n",
        "    return eval_acc, eval_loss"
      ],
      "id": "20e09128-fe25-44b1-8572-496a460bf870"
    },
    {
      "cell_type": "code",
      "execution_count": 15,
      "metadata": {
        "id": "e4aed717-87ff-4abf-a24a-c3397bfec0f5",
        "colab": {
          "base_uri": "https://localhost:8080/"
        },
        "outputId": "e6061bec-600c-43a2-99c2-afac22b7ad68"
      },
      "outputs": [
        {
          "output_type": "stream",
          "name": "stdout",
          "text": [
            "Train Step: 0 Loss: 0.09620771408081055\n",
            "Train Step: 100 Loss: 8.64742648601532\n",
            "Train Step: 200 Loss: 7.374978351593017\n",
            "Train Step: 300 Loss: 6.931719088554383\n",
            "Train Step: 400 Loss: 6.691545848846435\n",
            "Train Step: 500 Loss: 6.328795137405396\n",
            "Train Step: 600 Loss: 6.13201672077179\n",
            "Train Step: 700 Loss: 6.0014139890670775\n",
            "Train Step: 800 Loss: 5.9826555347442625\n",
            "Train Step: 900 Loss: 5.679838309288025\n",
            "Train Step: 1000 Loss: 5.499179644584656\n",
            "Train Step: 1100 Loss: 5.40323822259903\n",
            "Train Step: 1200 Loss: 5.168613016605377\n",
            "Train Step: 1300 Loss: 5.1516958379745486\n",
            "Train Step: 1400 Loss: 5.144575681686401\n",
            "Train Step: 1500 Loss: 4.87628068447113\n",
            "Train Step: 1600 Loss: 4.77899142742157\n",
            "Train Step: 1700 Loss: 4.652412295341492\n",
            "Train Step: 1800 Loss: 4.667818729877472\n",
            "Train Step: 1900 Loss: 4.345775380134582\n",
            "Train Step: 2000 Loss: 4.290574998855591\n",
            "Train Step: 2100 Loss: 4.329298982620239\n",
            "Train Step: 2200 Loss: 4.215694088935852\n",
            "Train Step: 2300 Loss: 4.101018986701965\n",
            "Train Step: 2400 Loss: 4.24183497428894\n",
            "Epoch: 1 Loss is: 13456.797968864441\n",
            "eval_loader len: 375\n",
            "15420 11476\n",
            "Epoch 1 Eval Acc: 0.7442282749675746; Eval Loss: 3.4813468691507974\n",
            "Train Step: 0 Loss: 0.02610903263092041\n",
            "Train Step: 100 Loss: 3.4799807047843934\n",
            "Train Step: 200 Loss: 3.245654550790787\n",
            "Train Step: 300 Loss: 2.9664982557296753\n",
            "Train Step: 400 Loss: 2.8050373613834383\n",
            "Train Step: 500 Loss: 2.815817779302597\n",
            "Train Step: 600 Loss: 2.669011299610138\n",
            "Train Step: 700 Loss: 2.6576977336406706\n",
            "Train Step: 800 Loss: 2.522350009679794\n",
            "Train Step: 900 Loss: 2.5078107810020445\n",
            "Train Step: 1000 Loss: 2.384580283164978\n",
            "Train Step: 1100 Loss: 2.3563789784908296\n",
            "Train Step: 1200 Loss: 2.3950235021114348\n",
            "Train Step: 1300 Loss: 2.2118848860263824\n",
            "Train Step: 1400 Loss: 2.1789340460300446\n",
            "Train Step: 1500 Loss: 2.0966355097293854\n",
            "Train Step: 1600 Loss: 2.0527794766426086\n",
            "Train Step: 1700 Loss: 1.9959745407104492\n",
            "Train Step: 1800 Loss: 2.064977219104767\n",
            "Train Step: 1900 Loss: 1.9861502432823182\n",
            "Train Step: 2000 Loss: 1.8245245397090912\n",
            "Train Step: 2100 Loss: 1.9280709266662597\n",
            "Train Step: 2200 Loss: 1.8803064823150635\n",
            "Train Step: 2300 Loss: 1.84505931019783\n",
            "Train Step: 2400 Loss: 1.6855816662311554\n",
            "Epoch: 2 Loss is: 5829.574641108513\n",
            "eval_loader len: 375\n",
            "15420 12687\n",
            "Epoch 2 Eval Acc: 0.8227626459143969; Eval Loss: 1.7135065231323243\n",
            "Train Step: 0 Loss: 0.015882244110107423\n",
            "Train Step: 100 Loss: 1.5441719722747802\n",
            "Train Step: 200 Loss: 1.6587470358610152\n",
            "Train Step: 300 Loss: 1.5760958498716355\n",
            "Train Step: 400 Loss: 1.5472290581464767\n",
            "Train Step: 500 Loss: 1.5437071007490157\n",
            "Train Step: 600 Loss: 1.474196541905403\n",
            "Train Step: 700 Loss: 1.4583252561092377\n",
            "Train Step: 800 Loss: 1.5428877484798431\n",
            "Train Step: 900 Loss: 1.3600138688087464\n",
            "Train Step: 1000 Loss: 1.42448070704937\n",
            "Train Step: 1100 Loss: 1.3783834409713744\n",
            "Train Step: 1200 Loss: 1.3458882743120193\n",
            "Train Step: 1300 Loss: 1.3018394565582276\n",
            "Train Step: 1400 Loss: 1.332643539905548\n",
            "Train Step: 1500 Loss: 1.271476217508316\n",
            "Train Step: 1600 Loss: 1.2654014319181441\n",
            "Train Step: 1700 Loss: 1.227569488286972\n",
            "Train Step: 1800 Loss: 1.2492935484647751\n",
            "Train Step: 1900 Loss: 1.2310101091861725\n",
            "Train Step: 2000 Loss: 1.174734588265419\n",
            "Train Step: 2100 Loss: 1.1497879093885421\n",
            "Train Step: 2200 Loss: 1.1041551411151886\n",
            "Train Step: 2300 Loss: 1.1908324211835861\n",
            "Train Step: 2400 Loss: 1.0291789972782135\n",
            "Epoch: 3 Loss is: 3343.0391625761986\n",
            "eval_loader len: 375\n",
            "15420 12889\n",
            "Epoch 3 Eval Acc: 0.8358625162127108; Eval Loss: 1.0781652427514394\n",
            "Train Step: 0 Loss: 0.008403778672218323\n",
            "Train Step: 100 Loss: 1.0337273520231247\n",
            "Train Step: 200 Loss: 1.0548895886540413\n",
            "Train Step: 300 Loss: 0.9536021980643272\n",
            "Train Step: 400 Loss: 0.9959772351384163\n",
            "Train Step: 500 Loss: 0.8702192321419716\n",
            "Train Step: 600 Loss: 0.8809983459115028\n",
            "Train Step: 700 Loss: 0.9406549268960953\n",
            "Train Step: 800 Loss: 0.875870863199234\n",
            "Train Step: 900 Loss: 0.8920922946929931\n",
            "Train Step: 1000 Loss: 0.8523631778359413\n",
            "Train Step: 1100 Loss: 0.88033227622509\n",
            "Train Step: 1200 Loss: 0.8066228350996971\n",
            "Train Step: 1300 Loss: 0.8313725754618645\n",
            "Train Step: 1400 Loss: 0.7761333426833152\n",
            "Train Step: 1500 Loss: 0.804943240582943\n",
            "Train Step: 1600 Loss: 0.7343713963031768\n",
            "Train Step: 1700 Loss: 0.762445992231369\n",
            "Train Step: 1800 Loss: 0.8097777459025383\n",
            "Train Step: 1900 Loss: 0.7929741007089615\n",
            "Train Step: 2000 Loss: 0.6800730189681053\n",
            "Train Step: 2100 Loss: 0.7757838916778564\n",
            "Train Step: 2200 Loss: 0.7003240767121315\n",
            "Train Step: 2300 Loss: 0.75569530159235\n",
            "Train Step: 2400 Loss: 0.6733635571599007\n",
            "Epoch: 4 Loss is: 2084.945557743311\n",
            "eval_loader len: 375\n",
            "15420 13146\n",
            "Epoch 4 Eval Acc: 0.8525291828793774; Eval Loss: 0.7373455586433411\n",
            "Train Step: 0 Loss: 0.006111498475074768\n",
            "Train Step: 100 Loss: 0.631907450556755\n",
            "Train Step: 200 Loss: 0.6678539824485779\n",
            "Train Step: 300 Loss: 0.6308210816979408\n",
            "Train Step: 400 Loss: 0.6338936996459961\n",
            "Train Step: 500 Loss: 0.6687464842200279\n",
            "Train Step: 600 Loss: 0.5922016182541847\n",
            "Train Step: 700 Loss: 0.5866772627830505\n",
            "Train Step: 800 Loss: 0.5992090511322021\n",
            "Train Step: 900 Loss: 0.5712528190016747\n",
            "Train Step: 1000 Loss: 0.6010501483082771\n",
            "Train Step: 1100 Loss: 0.6090180626511574\n",
            "Train Step: 1200 Loss: 0.5389290270209313\n",
            "Train Step: 1300 Loss: 0.5446698722243309\n",
            "Train Step: 1400 Loss: 0.5730841542780399\n",
            "Train Step: 1500 Loss: 0.5443383650481701\n",
            "Train Step: 1600 Loss: 0.5468974161148071\n",
            "Train Step: 1700 Loss: 0.5324048782885075\n",
            "Train Step: 1800 Loss: 0.5351896747946739\n",
            "Train Step: 1900 Loss: 0.5711511611938477\n",
            "Train Step: 2000 Loss: 0.4900113870203495\n",
            "Train Step: 2100 Loss: 0.568259084224701\n",
            "Train Step: 2200 Loss: 0.5017386472225189\n",
            "Train Step: 2300 Loss: 0.5175325584411621\n",
            "Train Step: 2400 Loss: 0.5225709873437882\n",
            "Epoch: 5 Loss is: 1428.6047691851854\n",
            "eval_loader len: 375\n",
            "15420 13206\n",
            "Epoch 5 Eval Acc: 0.856420233463035; Eval Loss: 0.5659937760432561\n"
          ]
        }
      ],
      "source": [
        "epoches = 5       \n",
        "optimizer = optim.Adam(model.parameters(), lr=5e-5)\n",
        "model.to(device)\n",
        "\n",
        "model.train()\n",
        "for epoch in range(epoches):\n",
        "    epoch_loss = 0.0\n",
        "    log_loss = 0.0\n",
        "    for idx, batch in enumerate(train_loader):\n",
        "        model.zero_grad()\n",
        "        batch = to_device(batch, device)\n",
        "        loss = model(**batch).loss\n",
        "        loss.backward()\n",
        "        optimizer.step()\n",
        "        epoch_loss += loss.item()\n",
        "        log_loss += loss.item()\n",
        "\n",
        "        wandb.log({'batch':idx, 'train_loss': loss.item()})\n",
        "        wandb.log({'batch':idx, 'accumulated_train_loss_in_this_100_batches': log_loss})\n",
        "\n",
        "        if idx % 100 == 0:\n",
        "            print(f\"Train Step: {idx} Loss: {log_loss / 100}\")\n",
        "            log_loss = 0.0\n",
        "    print(f\"Epoch: {epoch+1} Loss is: {epoch_loss}\")\n",
        "    eval_acc, eval_loss = evaluate(model, dev_loader)\n",
        "    print(f\"Epoch {epoch+1} Eval Acc: {eval_acc}; Eval Loss: {eval_loss}\")"
      ],
      "id": "e4aed717-87ff-4abf-a24a-c3397bfec0f5"
    },
    {
      "cell_type": "code",
      "execution_count": 16,
      "metadata": {
        "id": "27b27ea9-82a6-429a-9198-da7e64683bba"
      },
      "outputs": [],
      "source": [
        "torch.save(model.state_dict(), path+\"T5-small_model_5epoch.pt\")"
      ],
      "id": "27b27ea9-82a6-429a-9198-da7e64683bba"
    },
    {
      "cell_type": "code",
      "source": [
        "def count_parameters(model):\n",
        "    return sum(p.numel() for p in model.parameters() if p.requires_grad)\n",
        "\n",
        "print(f'The model has {count_parameters(model):,} trainable parameters')"
      ],
      "metadata": {
        "colab": {
          "base_uri": "https://localhost:8080/"
        },
        "id": "QU3_bzhwBXud",
        "outputId": "578dfeee-5568-4d24-9343-4eb501e51b17"
      },
      "id": "QU3_bzhwBXud",
      "execution_count": 17,
      "outputs": [
        {
          "output_type": "stream",
          "name": "stdout",
          "text": [
            "The model has 54,925,824 trainable parameters\n"
          ]
        }
      ]
    },
    {
      "cell_type": "markdown",
      "source": [
        "## Evaluation"
      ],
      "metadata": {
        "id": "nExNVXOrwSe_"
      },
      "id": "nExNVXOrwSe_"
    },
    {
      "cell_type": "code",
      "execution_count": 18,
      "metadata": {
        "id": "DLFW9KkpjPQ9"
      },
      "outputs": [],
      "source": [
        "@torch.no_grad()\n",
        "def fill_idiom(model, loader):\n",
        "\n",
        "    all_preds = []\n",
        "    all_labels = []\n",
        "    model.eval()\n",
        "    for batch in loader:\n",
        "        batch = to_device(batch, device)\n",
        "        input_ids = batch[\"input_ids\"]\n",
        "        attention_mask = batch[\"attention_mask\"]\n",
        "        labels = batch[\"labels\"]\n",
        "        outputs = model.generate(input_ids=input_ids, \n",
        "                                 attention_mask=attention_mask, \n",
        "                                 return_dict_in_generate=True, \n",
        "                                 pad_token_id=tokenizer.pad_token_id, \n",
        "                                 max_length=512, \n",
        "                                 top_k=15)\n",
        "        truncated_outputs = []\n",
        "\n",
        "        decode_texts = tokenizer.batch_decode([l[l != 0] for l in outputs['sequences']])\n",
        "        gold_texts = tokenizer.batch_decode([l[l != 0] for l in labels])\n",
        "        # print(decode_texts, gold_texts)\n",
        "        for gold, decode in zip(gold_texts, decode_texts):\n",
        "            l = set(gold.replace(' ', '').replace('[CLS]', '').split(','))\n",
        "            p = set(decode.replace(' ', '').replace('[CLS]', '').split(','))\n",
        "            # print(l, p)\n",
        "            all_labels.append(l)\n",
        "            all_preds.append(p)\n",
        "        # print(decode_texts)\n",
        "        # print(gold_texts)\n",
        "        # break\n",
        "    \n",
        "    return all_preds, all_labels\n",
        "\n",
        "def f1_score(sys, gold):\n",
        "    tp = 0\n",
        "    total = 0\n",
        "    pos = 0\n",
        "    for s, g in zip(sys, gold):\n",
        "        total += len(g)\n",
        "        pos += len(s)\n",
        "        tp += len(g & s)\n",
        "    precision = tp / pos if pos != 0 else 0\n",
        "    recall = tp / total if total != 0 else 0\n",
        "    f1 = (2 * precision * recall) / (precision + recall) if (precision + recall) != 0 else 0\n",
        "    return precision, recall, f1, tp"
      ],
      "id": "DLFW9KkpjPQ9"
    },
    {
      "cell_type": "code",
      "execution_count": 19,
      "metadata": {
        "id": "ZiMhMM_ZjWsj"
      },
      "outputs": [],
      "source": [
        "sys, gold = fill_idiom(model, dev_loader)\n",
        "p, r, f1, tp = f1_score(sys, gold)"
      ],
      "id": "ZiMhMM_ZjWsj"
    },
    {
      "cell_type": "code",
      "source": [
        "total = 0\n",
        "for s, g in zip(sys, gold):\n",
        "    total += len(g)"
      ],
      "metadata": {
        "id": "TvhKNUaaOh3j"
      },
      "id": "TvhKNUaaOh3j",
      "execution_count": 20,
      "outputs": []
    },
    {
      "cell_type": "code",
      "source": [
        "print(f\"Accurate amount for Validation set is {tp} out of {total}\")\n",
        "print(f\"Accuracy for Validation set is {tp/total}\")\n",
        "print(f\"F1 score for Validation set is {f1}\")"
      ],
      "metadata": {
        "colab": {
          "base_uri": "https://localhost:8080/"
        },
        "id": "NVeTyoI4MDRF",
        "outputId": "c5a1116a-4d6d-46e9-e23e-f661958fd105"
      },
      "id": "NVeTyoI4MDRF",
      "execution_count": 21,
      "outputs": [
        {
          "output_type": "stream",
          "name": "stdout",
          "text": [
            "Accurate amount for Validation set is 1496 out of 3668\n",
            "Accuracy for Validation set is 0.4078516902944384\n",
            "F1 score for Validation set is 0.4100315198026586\n"
          ]
        }
      ]
    },
    {
      "cell_type": "code",
      "source": [
        "sys[:10]"
      ],
      "metadata": {
        "colab": {
          "base_uri": "https://localhost:8080/"
        },
        "id": "gMSWr-DEtcEB",
        "outputId": "9f9c9892-6d60-487a-cb57-73c5c3190138"
      },
      "id": "gMSWr-DEtcEB",
      "execution_count": 22,
      "outputs": [
        {
          "output_type": "execute_result",
          "data": {
            "text/plain": [
              "[{'恨入骨髓'},\n",
              " {'乱七八糟'},\n",
              " {'应付裕如'},\n",
              " {'独一无二'},\n",
              " {'一语道破', '不胜其烦', '评头题足'},\n",
              " {'一模一样'},\n",
              " {'罪魁祸首'},\n",
              " {'聪明才智'},\n",
              " {'百年不遇'},\n",
              " {'酸甜苦辣'}]"
            ]
          },
          "metadata": {},
          "execution_count": 22
        }
      ]
    },
    {
      "cell_type": "code",
      "source": [
        "gold[:10]"
      ],
      "metadata": {
        "colab": {
          "base_uri": "https://localhost:8080/"
        },
        "id": "YulPihgI0l98",
        "outputId": "24e3e045-1016-4068-dfa1-cb88a2f406b6"
      },
      "id": "YulPihgI0l98",
      "execution_count": 23,
      "outputs": [
        {
          "output_type": "execute_result",
          "data": {
            "text/plain": [
              "[{'深恶痛绝'},\n",
              " {'杂乱无章'},\n",
              " {'磨刀霍霍'},\n",
              " {'独一无二'},\n",
              " {'一语道破', '不厌其烦', '品头题足'},\n",
              " {'大同小异'},\n",
              " {'罪魁祸首'},\n",
              " {'聪明才智'},\n",
              " {'千载难逢'},\n",
              " {'酸甜苦辣'}]"
            ]
          },
          "metadata": {},
          "execution_count": 23
        }
      ]
    },
    {
      "cell_type": "code",
      "source": [
        "sys[-10:]"
      ],
      "metadata": {
        "id": "FA1JOKa3CJaM",
        "colab": {
          "base_uri": "https://localhost:8080/"
        },
        "outputId": "e135d792-7fc6-4128-e5d5-5fa76a9cfbb6"
      },
      "id": "FA1JOKa3CJaM",
      "execution_count": 24,
      "outputs": [
        {
          "output_type": "execute_result",
          "data": {
            "text/plain": [
              "[{'无可置疑'},\n",
              " {'入不敷出'},\n",
              " {'近在咫尺'},\n",
              " {'虎视眈眈'},\n",
              " {'循序渐进', '按部就班'},\n",
              " {'鸡零狗碎'},\n",
              " {'轻举妄动'},\n",
              " {'世态炎凉'},\n",
              " {'因地制宜'},\n",
              " {'有条有理'}]"
            ]
          },
          "metadata": {},
          "execution_count": 24
        }
      ]
    },
    {
      "cell_type": "code",
      "source": [
        "gold[-10:]"
      ],
      "metadata": {
        "colab": {
          "base_uri": "https://localhost:8080/"
        },
        "id": "JzaeWMYlCr6c",
        "outputId": "459bc156-05ef-4d76-8868-d371a2c3a637"
      },
      "id": "JzaeWMYlCr6c",
      "execution_count": 25,
      "outputs": [
        {
          "output_type": "execute_result",
          "data": {
            "text/plain": [
              "[{'实至名归'},\n",
              " {'入不敷出'},\n",
              " {'大惑不解'},\n",
              " {'盛气凌人'},\n",
              " {'例行公事', '新陈代谢'},\n",
              " {'无关痛痒'},\n",
              " {'按兵不动'},\n",
              " {'世态炎凉'},\n",
              " {'因地制宜'},\n",
              " {'神气活现'}]"
            ]
          },
          "metadata": {},
          "execution_count": 25
        }
      ]
    },
    {
      "cell_type": "code",
      "source": [
        "with open ('T5-small_outputs.txt', 'w', encoding='utf-8') as t5:\n",
        "    for s in sys:\n",
        "        line = ','.join(s)\n",
        "        t5.write(str(line)+'\\n')"
      ],
      "metadata": {
        "id": "PDGeg2GuCu9v"
      },
      "id": "PDGeg2GuCu9v",
      "execution_count": 35,
      "outputs": []
    },
    {
      "cell_type": "code",
      "source": [],
      "metadata": {
        "id": "H_aa1fRWDGjj"
      },
      "id": "H_aa1fRWDGjj",
      "execution_count": null,
      "outputs": []
    }
  ],
  "metadata": {
    "accelerator": "GPU",
    "colab": {
      "machine_shape": "hm",
      "provenance": []
    },
    "gpuClass": "premium",
    "kernelspec": {
      "display_name": "Python 3 (ipykernel)",
      "language": "python",
      "name": "python3"
    },
    "language_info": {
      "codemirror_mode": {
        "name": "ipython",
        "version": 3
      },
      "file_extension": ".py",
      "mimetype": "text/x-python",
      "name": "python",
      "nbconvert_exporter": "python",
      "pygments_lexer": "ipython3",
      "version": "3.10.6"
    },
    "widgets": {
      "application/vnd.jupyter.widget-state+json": {
        "a84de71e0aeb4d1ea85af278700e1acb": {
          "model_module": "@jupyter-widgets/controls",
          "model_name": "HBoxModel",
          "model_module_version": "1.5.0",
          "state": {
            "_dom_classes": [],
            "_model_module": "@jupyter-widgets/controls",
            "_model_module_version": "1.5.0",
            "_model_name": "HBoxModel",
            "_view_count": null,
            "_view_module": "@jupyter-widgets/controls",
            "_view_module_version": "1.5.0",
            "_view_name": "HBoxView",
            "box_style": "",
            "children": [
              "IPY_MODEL_a97bd8c1832040b0b9c4db4d1e29255d",
              "IPY_MODEL_a5948b5125d5439d8b270704b1902d9a",
              "IPY_MODEL_6e39a6addd9643c398aadb3444c3d3e5"
            ],
            "layout": "IPY_MODEL_1d7543ddcb834a1cb1e7685e43c432fe"
          }
        },
        "a97bd8c1832040b0b9c4db4d1e29255d": {
          "model_module": "@jupyter-widgets/controls",
          "model_name": "HTMLModel",
          "model_module_version": "1.5.0",
          "state": {
            "_dom_classes": [],
            "_model_module": "@jupyter-widgets/controls",
            "_model_module_version": "1.5.0",
            "_model_name": "HTMLModel",
            "_view_count": null,
            "_view_module": "@jupyter-widgets/controls",
            "_view_module_version": "1.5.0",
            "_view_name": "HTMLView",
            "description": "",
            "description_tooltip": null,
            "layout": "IPY_MODEL_62664748193e4ef5add6e0a2cfaaa74a",
            "placeholder": "​",
            "style": "IPY_MODEL_953247f17a294227893d08b307cecb64",
            "value": "Downloading (…)solve/main/vocab.txt: 100%"
          }
        },
        "a5948b5125d5439d8b270704b1902d9a": {
          "model_module": "@jupyter-widgets/controls",
          "model_name": "FloatProgressModel",
          "model_module_version": "1.5.0",
          "state": {
            "_dom_classes": [],
            "_model_module": "@jupyter-widgets/controls",
            "_model_module_version": "1.5.0",
            "_model_name": "FloatProgressModel",
            "_view_count": null,
            "_view_module": "@jupyter-widgets/controls",
            "_view_module_version": "1.5.0",
            "_view_name": "ProgressView",
            "bar_style": "success",
            "description": "",
            "description_tooltip": null,
            "layout": "IPY_MODEL_8cd1f05c7c7b481b91653c97ed66810f",
            "max": 110330,
            "min": 0,
            "orientation": "horizontal",
            "style": "IPY_MODEL_8c2d14cd433648518e3671233bc07514",
            "value": 110330
          }
        },
        "6e39a6addd9643c398aadb3444c3d3e5": {
          "model_module": "@jupyter-widgets/controls",
          "model_name": "HTMLModel",
          "model_module_version": "1.5.0",
          "state": {
            "_dom_classes": [],
            "_model_module": "@jupyter-widgets/controls",
            "_model_module_version": "1.5.0",
            "_model_name": "HTMLModel",
            "_view_count": null,
            "_view_module": "@jupyter-widgets/controls",
            "_view_module_version": "1.5.0",
            "_view_name": "HTMLView",
            "description": "",
            "description_tooltip": null,
            "layout": "IPY_MODEL_9fd6cf03e98c4e628ee07f784ea4a43c",
            "placeholder": "​",
            "style": "IPY_MODEL_7b78da60664b4fb29727af232f2932ea",
            "value": " 110k/110k [00:00&lt;00:00, 513kB/s]"
          }
        },
        "1d7543ddcb834a1cb1e7685e43c432fe": {
          "model_module": "@jupyter-widgets/base",
          "model_name": "LayoutModel",
          "model_module_version": "1.2.0",
          "state": {
            "_model_module": "@jupyter-widgets/base",
            "_model_module_version": "1.2.0",
            "_model_name": "LayoutModel",
            "_view_count": null,
            "_view_module": "@jupyter-widgets/base",
            "_view_module_version": "1.2.0",
            "_view_name": "LayoutView",
            "align_content": null,
            "align_items": null,
            "align_self": null,
            "border": null,
            "bottom": null,
            "display": null,
            "flex": null,
            "flex_flow": null,
            "grid_area": null,
            "grid_auto_columns": null,
            "grid_auto_flow": null,
            "grid_auto_rows": null,
            "grid_column": null,
            "grid_gap": null,
            "grid_row": null,
            "grid_template_areas": null,
            "grid_template_columns": null,
            "grid_template_rows": null,
            "height": null,
            "justify_content": null,
            "justify_items": null,
            "left": null,
            "margin": null,
            "max_height": null,
            "max_width": null,
            "min_height": null,
            "min_width": null,
            "object_fit": null,
            "object_position": null,
            "order": null,
            "overflow": null,
            "overflow_x": null,
            "overflow_y": null,
            "padding": null,
            "right": null,
            "top": null,
            "visibility": null,
            "width": null
          }
        },
        "62664748193e4ef5add6e0a2cfaaa74a": {
          "model_module": "@jupyter-widgets/base",
          "model_name": "LayoutModel",
          "model_module_version": "1.2.0",
          "state": {
            "_model_module": "@jupyter-widgets/base",
            "_model_module_version": "1.2.0",
            "_model_name": "LayoutModel",
            "_view_count": null,
            "_view_module": "@jupyter-widgets/base",
            "_view_module_version": "1.2.0",
            "_view_name": "LayoutView",
            "align_content": null,
            "align_items": null,
            "align_self": null,
            "border": null,
            "bottom": null,
            "display": null,
            "flex": null,
            "flex_flow": null,
            "grid_area": null,
            "grid_auto_columns": null,
            "grid_auto_flow": null,
            "grid_auto_rows": null,
            "grid_column": null,
            "grid_gap": null,
            "grid_row": null,
            "grid_template_areas": null,
            "grid_template_columns": null,
            "grid_template_rows": null,
            "height": null,
            "justify_content": null,
            "justify_items": null,
            "left": null,
            "margin": null,
            "max_height": null,
            "max_width": null,
            "min_height": null,
            "min_width": null,
            "object_fit": null,
            "object_position": null,
            "order": null,
            "overflow": null,
            "overflow_x": null,
            "overflow_y": null,
            "padding": null,
            "right": null,
            "top": null,
            "visibility": null,
            "width": null
          }
        },
        "953247f17a294227893d08b307cecb64": {
          "model_module": "@jupyter-widgets/controls",
          "model_name": "DescriptionStyleModel",
          "model_module_version": "1.5.0",
          "state": {
            "_model_module": "@jupyter-widgets/controls",
            "_model_module_version": "1.5.0",
            "_model_name": "DescriptionStyleModel",
            "_view_count": null,
            "_view_module": "@jupyter-widgets/base",
            "_view_module_version": "1.2.0",
            "_view_name": "StyleView",
            "description_width": ""
          }
        },
        "8cd1f05c7c7b481b91653c97ed66810f": {
          "model_module": "@jupyter-widgets/base",
          "model_name": "LayoutModel",
          "model_module_version": "1.2.0",
          "state": {
            "_model_module": "@jupyter-widgets/base",
            "_model_module_version": "1.2.0",
            "_model_name": "LayoutModel",
            "_view_count": null,
            "_view_module": "@jupyter-widgets/base",
            "_view_module_version": "1.2.0",
            "_view_name": "LayoutView",
            "align_content": null,
            "align_items": null,
            "align_self": null,
            "border": null,
            "bottom": null,
            "display": null,
            "flex": null,
            "flex_flow": null,
            "grid_area": null,
            "grid_auto_columns": null,
            "grid_auto_flow": null,
            "grid_auto_rows": null,
            "grid_column": null,
            "grid_gap": null,
            "grid_row": null,
            "grid_template_areas": null,
            "grid_template_columns": null,
            "grid_template_rows": null,
            "height": null,
            "justify_content": null,
            "justify_items": null,
            "left": null,
            "margin": null,
            "max_height": null,
            "max_width": null,
            "min_height": null,
            "min_width": null,
            "object_fit": null,
            "object_position": null,
            "order": null,
            "overflow": null,
            "overflow_x": null,
            "overflow_y": null,
            "padding": null,
            "right": null,
            "top": null,
            "visibility": null,
            "width": null
          }
        },
        "8c2d14cd433648518e3671233bc07514": {
          "model_module": "@jupyter-widgets/controls",
          "model_name": "ProgressStyleModel",
          "model_module_version": "1.5.0",
          "state": {
            "_model_module": "@jupyter-widgets/controls",
            "_model_module_version": "1.5.0",
            "_model_name": "ProgressStyleModel",
            "_view_count": null,
            "_view_module": "@jupyter-widgets/base",
            "_view_module_version": "1.2.0",
            "_view_name": "StyleView",
            "bar_color": null,
            "description_width": ""
          }
        },
        "9fd6cf03e98c4e628ee07f784ea4a43c": {
          "model_module": "@jupyter-widgets/base",
          "model_name": "LayoutModel",
          "model_module_version": "1.2.0",
          "state": {
            "_model_module": "@jupyter-widgets/base",
            "_model_module_version": "1.2.0",
            "_model_name": "LayoutModel",
            "_view_count": null,
            "_view_module": "@jupyter-widgets/base",
            "_view_module_version": "1.2.0",
            "_view_name": "LayoutView",
            "align_content": null,
            "align_items": null,
            "align_self": null,
            "border": null,
            "bottom": null,
            "display": null,
            "flex": null,
            "flex_flow": null,
            "grid_area": null,
            "grid_auto_columns": null,
            "grid_auto_flow": null,
            "grid_auto_rows": null,
            "grid_column": null,
            "grid_gap": null,
            "grid_row": null,
            "grid_template_areas": null,
            "grid_template_columns": null,
            "grid_template_rows": null,
            "height": null,
            "justify_content": null,
            "justify_items": null,
            "left": null,
            "margin": null,
            "max_height": null,
            "max_width": null,
            "min_height": null,
            "min_width": null,
            "object_fit": null,
            "object_position": null,
            "order": null,
            "overflow": null,
            "overflow_x": null,
            "overflow_y": null,
            "padding": null,
            "right": null,
            "top": null,
            "visibility": null,
            "width": null
          }
        },
        "7b78da60664b4fb29727af232f2932ea": {
          "model_module": "@jupyter-widgets/controls",
          "model_name": "DescriptionStyleModel",
          "model_module_version": "1.5.0",
          "state": {
            "_model_module": "@jupyter-widgets/controls",
            "_model_module_version": "1.5.0",
            "_model_name": "DescriptionStyleModel",
            "_view_count": null,
            "_view_module": "@jupyter-widgets/base",
            "_view_module_version": "1.2.0",
            "_view_name": "StyleView",
            "description_width": ""
          }
        },
        "874904d1d8b44598bd7e8f545a686b0c": {
          "model_module": "@jupyter-widgets/controls",
          "model_name": "HBoxModel",
          "model_module_version": "1.5.0",
          "state": {
            "_dom_classes": [],
            "_model_module": "@jupyter-widgets/controls",
            "_model_module_version": "1.5.0",
            "_model_name": "HBoxModel",
            "_view_count": null,
            "_view_module": "@jupyter-widgets/controls",
            "_view_module_version": "1.5.0",
            "_view_name": "HBoxView",
            "box_style": "",
            "children": [
              "IPY_MODEL_d6b978530f5a4322a3cd9e4e622128bb",
              "IPY_MODEL_6ecfbf27c1c942c686ad1cacac3d2bf2",
              "IPY_MODEL_4b7d6bec05c5439a81b2ab11dc017ce9"
            ],
            "layout": "IPY_MODEL_ce5580872db64f05823b934c668a241f"
          }
        },
        "d6b978530f5a4322a3cd9e4e622128bb": {
          "model_module": "@jupyter-widgets/controls",
          "model_name": "HTMLModel",
          "model_module_version": "1.5.0",
          "state": {
            "_dom_classes": [],
            "_model_module": "@jupyter-widgets/controls",
            "_model_module_version": "1.5.0",
            "_model_name": "HTMLModel",
            "_view_count": null,
            "_view_module": "@jupyter-widgets/controls",
            "_view_module_version": "1.5.0",
            "_view_name": "HTMLView",
            "description": "",
            "description_tooltip": null,
            "layout": "IPY_MODEL_22c184a4006f42a69f2c85c212e5b6be",
            "placeholder": "​",
            "style": "IPY_MODEL_8c50dec7bdfc4372bf35a4b76292327b",
            "value": "Downloading (…)cial_tokens_map.json: 100%"
          }
        },
        "6ecfbf27c1c942c686ad1cacac3d2bf2": {
          "model_module": "@jupyter-widgets/controls",
          "model_name": "FloatProgressModel",
          "model_module_version": "1.5.0",
          "state": {
            "_dom_classes": [],
            "_model_module": "@jupyter-widgets/controls",
            "_model_module_version": "1.5.0",
            "_model_name": "FloatProgressModel",
            "_view_count": null,
            "_view_module": "@jupyter-widgets/controls",
            "_view_module_version": "1.5.0",
            "_view_name": "ProgressView",
            "bar_style": "success",
            "description": "",
            "description_tooltip": null,
            "layout": "IPY_MODEL_a271bf3904a343799be0f5694820ee14",
            "max": 112,
            "min": 0,
            "orientation": "horizontal",
            "style": "IPY_MODEL_563770896ea740af8b07e27daa6519e5",
            "value": 112
          }
        },
        "4b7d6bec05c5439a81b2ab11dc017ce9": {
          "model_module": "@jupyter-widgets/controls",
          "model_name": "HTMLModel",
          "model_module_version": "1.5.0",
          "state": {
            "_dom_classes": [],
            "_model_module": "@jupyter-widgets/controls",
            "_model_module_version": "1.5.0",
            "_model_name": "HTMLModel",
            "_view_count": null,
            "_view_module": "@jupyter-widgets/controls",
            "_view_module_version": "1.5.0",
            "_view_name": "HTMLView",
            "description": "",
            "description_tooltip": null,
            "layout": "IPY_MODEL_d6d51d4f9a5947cfb3d42592018468d1",
            "placeholder": "​",
            "style": "IPY_MODEL_7b87b895141d4f2393a7f5cbe6719f17",
            "value": " 112/112 [00:00&lt;00:00, 10.4kB/s]"
          }
        },
        "ce5580872db64f05823b934c668a241f": {
          "model_module": "@jupyter-widgets/base",
          "model_name": "LayoutModel",
          "model_module_version": "1.2.0",
          "state": {
            "_model_module": "@jupyter-widgets/base",
            "_model_module_version": "1.2.0",
            "_model_name": "LayoutModel",
            "_view_count": null,
            "_view_module": "@jupyter-widgets/base",
            "_view_module_version": "1.2.0",
            "_view_name": "LayoutView",
            "align_content": null,
            "align_items": null,
            "align_self": null,
            "border": null,
            "bottom": null,
            "display": null,
            "flex": null,
            "flex_flow": null,
            "grid_area": null,
            "grid_auto_columns": null,
            "grid_auto_flow": null,
            "grid_auto_rows": null,
            "grid_column": null,
            "grid_gap": null,
            "grid_row": null,
            "grid_template_areas": null,
            "grid_template_columns": null,
            "grid_template_rows": null,
            "height": null,
            "justify_content": null,
            "justify_items": null,
            "left": null,
            "margin": null,
            "max_height": null,
            "max_width": null,
            "min_height": null,
            "min_width": null,
            "object_fit": null,
            "object_position": null,
            "order": null,
            "overflow": null,
            "overflow_x": null,
            "overflow_y": null,
            "padding": null,
            "right": null,
            "top": null,
            "visibility": null,
            "width": null
          }
        },
        "22c184a4006f42a69f2c85c212e5b6be": {
          "model_module": "@jupyter-widgets/base",
          "model_name": "LayoutModel",
          "model_module_version": "1.2.0",
          "state": {
            "_model_module": "@jupyter-widgets/base",
            "_model_module_version": "1.2.0",
            "_model_name": "LayoutModel",
            "_view_count": null,
            "_view_module": "@jupyter-widgets/base",
            "_view_module_version": "1.2.0",
            "_view_name": "LayoutView",
            "align_content": null,
            "align_items": null,
            "align_self": null,
            "border": null,
            "bottom": null,
            "display": null,
            "flex": null,
            "flex_flow": null,
            "grid_area": null,
            "grid_auto_columns": null,
            "grid_auto_flow": null,
            "grid_auto_rows": null,
            "grid_column": null,
            "grid_gap": null,
            "grid_row": null,
            "grid_template_areas": null,
            "grid_template_columns": null,
            "grid_template_rows": null,
            "height": null,
            "justify_content": null,
            "justify_items": null,
            "left": null,
            "margin": null,
            "max_height": null,
            "max_width": null,
            "min_height": null,
            "min_width": null,
            "object_fit": null,
            "object_position": null,
            "order": null,
            "overflow": null,
            "overflow_x": null,
            "overflow_y": null,
            "padding": null,
            "right": null,
            "top": null,
            "visibility": null,
            "width": null
          }
        },
        "8c50dec7bdfc4372bf35a4b76292327b": {
          "model_module": "@jupyter-widgets/controls",
          "model_name": "DescriptionStyleModel",
          "model_module_version": "1.5.0",
          "state": {
            "_model_module": "@jupyter-widgets/controls",
            "_model_module_version": "1.5.0",
            "_model_name": "DescriptionStyleModel",
            "_view_count": null,
            "_view_module": "@jupyter-widgets/base",
            "_view_module_version": "1.2.0",
            "_view_name": "StyleView",
            "description_width": ""
          }
        },
        "a271bf3904a343799be0f5694820ee14": {
          "model_module": "@jupyter-widgets/base",
          "model_name": "LayoutModel",
          "model_module_version": "1.2.0",
          "state": {
            "_model_module": "@jupyter-widgets/base",
            "_model_module_version": "1.2.0",
            "_model_name": "LayoutModel",
            "_view_count": null,
            "_view_module": "@jupyter-widgets/base",
            "_view_module_version": "1.2.0",
            "_view_name": "LayoutView",
            "align_content": null,
            "align_items": null,
            "align_self": null,
            "border": null,
            "bottom": null,
            "display": null,
            "flex": null,
            "flex_flow": null,
            "grid_area": null,
            "grid_auto_columns": null,
            "grid_auto_flow": null,
            "grid_auto_rows": null,
            "grid_column": null,
            "grid_gap": null,
            "grid_row": null,
            "grid_template_areas": null,
            "grid_template_columns": null,
            "grid_template_rows": null,
            "height": null,
            "justify_content": null,
            "justify_items": null,
            "left": null,
            "margin": null,
            "max_height": null,
            "max_width": null,
            "min_height": null,
            "min_width": null,
            "object_fit": null,
            "object_position": null,
            "order": null,
            "overflow": null,
            "overflow_x": null,
            "overflow_y": null,
            "padding": null,
            "right": null,
            "top": null,
            "visibility": null,
            "width": null
          }
        },
        "563770896ea740af8b07e27daa6519e5": {
          "model_module": "@jupyter-widgets/controls",
          "model_name": "ProgressStyleModel",
          "model_module_version": "1.5.0",
          "state": {
            "_model_module": "@jupyter-widgets/controls",
            "_model_module_version": "1.5.0",
            "_model_name": "ProgressStyleModel",
            "_view_count": null,
            "_view_module": "@jupyter-widgets/base",
            "_view_module_version": "1.2.0",
            "_view_name": "StyleView",
            "bar_color": null,
            "description_width": ""
          }
        },
        "d6d51d4f9a5947cfb3d42592018468d1": {
          "model_module": "@jupyter-widgets/base",
          "model_name": "LayoutModel",
          "model_module_version": "1.2.0",
          "state": {
            "_model_module": "@jupyter-widgets/base",
            "_model_module_version": "1.2.0",
            "_model_name": "LayoutModel",
            "_view_count": null,
            "_view_module": "@jupyter-widgets/base",
            "_view_module_version": "1.2.0",
            "_view_name": "LayoutView",
            "align_content": null,
            "align_items": null,
            "align_self": null,
            "border": null,
            "bottom": null,
            "display": null,
            "flex": null,
            "flex_flow": null,
            "grid_area": null,
            "grid_auto_columns": null,
            "grid_auto_flow": null,
            "grid_auto_rows": null,
            "grid_column": null,
            "grid_gap": null,
            "grid_row": null,
            "grid_template_areas": null,
            "grid_template_columns": null,
            "grid_template_rows": null,
            "height": null,
            "justify_content": null,
            "justify_items": null,
            "left": null,
            "margin": null,
            "max_height": null,
            "max_width": null,
            "min_height": null,
            "min_width": null,
            "object_fit": null,
            "object_position": null,
            "order": null,
            "overflow": null,
            "overflow_x": null,
            "overflow_y": null,
            "padding": null,
            "right": null,
            "top": null,
            "visibility": null,
            "width": null
          }
        },
        "7b87b895141d4f2393a7f5cbe6719f17": {
          "model_module": "@jupyter-widgets/controls",
          "model_name": "DescriptionStyleModel",
          "model_module_version": "1.5.0",
          "state": {
            "_model_module": "@jupyter-widgets/controls",
            "_model_module_version": "1.5.0",
            "_model_name": "DescriptionStyleModel",
            "_view_count": null,
            "_view_module": "@jupyter-widgets/base",
            "_view_module_version": "1.2.0",
            "_view_name": "StyleView",
            "description_width": ""
          }
        },
        "adc351c1e04e490c9c973a7eb2887ec1": {
          "model_module": "@jupyter-widgets/controls",
          "model_name": "HBoxModel",
          "model_module_version": "1.5.0",
          "state": {
            "_dom_classes": [],
            "_model_module": "@jupyter-widgets/controls",
            "_model_module_version": "1.5.0",
            "_model_name": "HBoxModel",
            "_view_count": null,
            "_view_module": "@jupyter-widgets/controls",
            "_view_module_version": "1.5.0",
            "_view_name": "HBoxView",
            "box_style": "",
            "children": [
              "IPY_MODEL_8137eb6a562140e582cab8a82ec2a785",
              "IPY_MODEL_d9c0e5f286374e7cbae14ebbfbabfe90",
              "IPY_MODEL_7ca5a7e3ec0c486184a7840d7db3239d"
            ],
            "layout": "IPY_MODEL_778f419f228c453983b30c0b7fbfd8c4"
          }
        },
        "8137eb6a562140e582cab8a82ec2a785": {
          "model_module": "@jupyter-widgets/controls",
          "model_name": "HTMLModel",
          "model_module_version": "1.5.0",
          "state": {
            "_dom_classes": [],
            "_model_module": "@jupyter-widgets/controls",
            "_model_module_version": "1.5.0",
            "_model_name": "HTMLModel",
            "_view_count": null,
            "_view_module": "@jupyter-widgets/controls",
            "_view_module_version": "1.5.0",
            "_view_name": "HTMLView",
            "description": "",
            "description_tooltip": null,
            "layout": "IPY_MODEL_7b359ce291ba4a008f73d649b62b6fa9",
            "placeholder": "​",
            "style": "IPY_MODEL_d5660d4e80c44108822da988a2d6966a",
            "value": "Downloading (…)okenizer_config.json: 100%"
          }
        },
        "d9c0e5f286374e7cbae14ebbfbabfe90": {
          "model_module": "@jupyter-widgets/controls",
          "model_name": "FloatProgressModel",
          "model_module_version": "1.5.0",
          "state": {
            "_dom_classes": [],
            "_model_module": "@jupyter-widgets/controls",
            "_model_module_version": "1.5.0",
            "_model_name": "FloatProgressModel",
            "_view_count": null,
            "_view_module": "@jupyter-widgets/controls",
            "_view_module_version": "1.5.0",
            "_view_name": "ProgressView",
            "bar_style": "success",
            "description": "",
            "description_tooltip": null,
            "layout": "IPY_MODEL_5b158adcfba5476d93d33349b95f439e",
            "max": 321,
            "min": 0,
            "orientation": "horizontal",
            "style": "IPY_MODEL_60f87ffc226445c0b289a165281fede9",
            "value": 321
          }
        },
        "7ca5a7e3ec0c486184a7840d7db3239d": {
          "model_module": "@jupyter-widgets/controls",
          "model_name": "HTMLModel",
          "model_module_version": "1.5.0",
          "state": {
            "_dom_classes": [],
            "_model_module": "@jupyter-widgets/controls",
            "_model_module_version": "1.5.0",
            "_model_name": "HTMLModel",
            "_view_count": null,
            "_view_module": "@jupyter-widgets/controls",
            "_view_module_version": "1.5.0",
            "_view_name": "HTMLView",
            "description": "",
            "description_tooltip": null,
            "layout": "IPY_MODEL_29dcd3e28e4f40459c467e3f972db12a",
            "placeholder": "​",
            "style": "IPY_MODEL_ab06f4c0d8f74a729508de32ecd14409",
            "value": " 321/321 [00:00&lt;00:00, 17.2kB/s]"
          }
        },
        "778f419f228c453983b30c0b7fbfd8c4": {
          "model_module": "@jupyter-widgets/base",
          "model_name": "LayoutModel",
          "model_module_version": "1.2.0",
          "state": {
            "_model_module": "@jupyter-widgets/base",
            "_model_module_version": "1.2.0",
            "_model_name": "LayoutModel",
            "_view_count": null,
            "_view_module": "@jupyter-widgets/base",
            "_view_module_version": "1.2.0",
            "_view_name": "LayoutView",
            "align_content": null,
            "align_items": null,
            "align_self": null,
            "border": null,
            "bottom": null,
            "display": null,
            "flex": null,
            "flex_flow": null,
            "grid_area": null,
            "grid_auto_columns": null,
            "grid_auto_flow": null,
            "grid_auto_rows": null,
            "grid_column": null,
            "grid_gap": null,
            "grid_row": null,
            "grid_template_areas": null,
            "grid_template_columns": null,
            "grid_template_rows": null,
            "height": null,
            "justify_content": null,
            "justify_items": null,
            "left": null,
            "margin": null,
            "max_height": null,
            "max_width": null,
            "min_height": null,
            "min_width": null,
            "object_fit": null,
            "object_position": null,
            "order": null,
            "overflow": null,
            "overflow_x": null,
            "overflow_y": null,
            "padding": null,
            "right": null,
            "top": null,
            "visibility": null,
            "width": null
          }
        },
        "7b359ce291ba4a008f73d649b62b6fa9": {
          "model_module": "@jupyter-widgets/base",
          "model_name": "LayoutModel",
          "model_module_version": "1.2.0",
          "state": {
            "_model_module": "@jupyter-widgets/base",
            "_model_module_version": "1.2.0",
            "_model_name": "LayoutModel",
            "_view_count": null,
            "_view_module": "@jupyter-widgets/base",
            "_view_module_version": "1.2.0",
            "_view_name": "LayoutView",
            "align_content": null,
            "align_items": null,
            "align_self": null,
            "border": null,
            "bottom": null,
            "display": null,
            "flex": null,
            "flex_flow": null,
            "grid_area": null,
            "grid_auto_columns": null,
            "grid_auto_flow": null,
            "grid_auto_rows": null,
            "grid_column": null,
            "grid_gap": null,
            "grid_row": null,
            "grid_template_areas": null,
            "grid_template_columns": null,
            "grid_template_rows": null,
            "height": null,
            "justify_content": null,
            "justify_items": null,
            "left": null,
            "margin": null,
            "max_height": null,
            "max_width": null,
            "min_height": null,
            "min_width": null,
            "object_fit": null,
            "object_position": null,
            "order": null,
            "overflow": null,
            "overflow_x": null,
            "overflow_y": null,
            "padding": null,
            "right": null,
            "top": null,
            "visibility": null,
            "width": null
          }
        },
        "d5660d4e80c44108822da988a2d6966a": {
          "model_module": "@jupyter-widgets/controls",
          "model_name": "DescriptionStyleModel",
          "model_module_version": "1.5.0",
          "state": {
            "_model_module": "@jupyter-widgets/controls",
            "_model_module_version": "1.5.0",
            "_model_name": "DescriptionStyleModel",
            "_view_count": null,
            "_view_module": "@jupyter-widgets/base",
            "_view_module_version": "1.2.0",
            "_view_name": "StyleView",
            "description_width": ""
          }
        },
        "5b158adcfba5476d93d33349b95f439e": {
          "model_module": "@jupyter-widgets/base",
          "model_name": "LayoutModel",
          "model_module_version": "1.2.0",
          "state": {
            "_model_module": "@jupyter-widgets/base",
            "_model_module_version": "1.2.0",
            "_model_name": "LayoutModel",
            "_view_count": null,
            "_view_module": "@jupyter-widgets/base",
            "_view_module_version": "1.2.0",
            "_view_name": "LayoutView",
            "align_content": null,
            "align_items": null,
            "align_self": null,
            "border": null,
            "bottom": null,
            "display": null,
            "flex": null,
            "flex_flow": null,
            "grid_area": null,
            "grid_auto_columns": null,
            "grid_auto_flow": null,
            "grid_auto_rows": null,
            "grid_column": null,
            "grid_gap": null,
            "grid_row": null,
            "grid_template_areas": null,
            "grid_template_columns": null,
            "grid_template_rows": null,
            "height": null,
            "justify_content": null,
            "justify_items": null,
            "left": null,
            "margin": null,
            "max_height": null,
            "max_width": null,
            "min_height": null,
            "min_width": null,
            "object_fit": null,
            "object_position": null,
            "order": null,
            "overflow": null,
            "overflow_x": null,
            "overflow_y": null,
            "padding": null,
            "right": null,
            "top": null,
            "visibility": null,
            "width": null
          }
        },
        "60f87ffc226445c0b289a165281fede9": {
          "model_module": "@jupyter-widgets/controls",
          "model_name": "ProgressStyleModel",
          "model_module_version": "1.5.0",
          "state": {
            "_model_module": "@jupyter-widgets/controls",
            "_model_module_version": "1.5.0",
            "_model_name": "ProgressStyleModel",
            "_view_count": null,
            "_view_module": "@jupyter-widgets/base",
            "_view_module_version": "1.2.0",
            "_view_name": "StyleView",
            "bar_color": null,
            "description_width": ""
          }
        },
        "29dcd3e28e4f40459c467e3f972db12a": {
          "model_module": "@jupyter-widgets/base",
          "model_name": "LayoutModel",
          "model_module_version": "1.2.0",
          "state": {
            "_model_module": "@jupyter-widgets/base",
            "_model_module_version": "1.2.0",
            "_model_name": "LayoutModel",
            "_view_count": null,
            "_view_module": "@jupyter-widgets/base",
            "_view_module_version": "1.2.0",
            "_view_name": "LayoutView",
            "align_content": null,
            "align_items": null,
            "align_self": null,
            "border": null,
            "bottom": null,
            "display": null,
            "flex": null,
            "flex_flow": null,
            "grid_area": null,
            "grid_auto_columns": null,
            "grid_auto_flow": null,
            "grid_auto_rows": null,
            "grid_column": null,
            "grid_gap": null,
            "grid_row": null,
            "grid_template_areas": null,
            "grid_template_columns": null,
            "grid_template_rows": null,
            "height": null,
            "justify_content": null,
            "justify_items": null,
            "left": null,
            "margin": null,
            "max_height": null,
            "max_width": null,
            "min_height": null,
            "min_width": null,
            "object_fit": null,
            "object_position": null,
            "order": null,
            "overflow": null,
            "overflow_x": null,
            "overflow_y": null,
            "padding": null,
            "right": null,
            "top": null,
            "visibility": null,
            "width": null
          }
        },
        "ab06f4c0d8f74a729508de32ecd14409": {
          "model_module": "@jupyter-widgets/controls",
          "model_name": "DescriptionStyleModel",
          "model_module_version": "1.5.0",
          "state": {
            "_model_module": "@jupyter-widgets/controls",
            "_model_module_version": "1.5.0",
            "_model_name": "DescriptionStyleModel",
            "_view_count": null,
            "_view_module": "@jupyter-widgets/base",
            "_view_module_version": "1.2.0",
            "_view_name": "StyleView",
            "description_width": ""
          }
        },
        "840df91149c8418b93a830b6f6f002b8": {
          "model_module": "@jupyter-widgets/controls",
          "model_name": "HBoxModel",
          "model_module_version": "1.5.0",
          "state": {
            "_dom_classes": [],
            "_model_module": "@jupyter-widgets/controls",
            "_model_module_version": "1.5.0",
            "_model_name": "HBoxModel",
            "_view_count": null,
            "_view_module": "@jupyter-widgets/controls",
            "_view_module_version": "1.5.0",
            "_view_name": "HBoxView",
            "box_style": "",
            "children": [
              "IPY_MODEL_1cfda322c1dd49c8a821e937577281a5",
              "IPY_MODEL_22a7d98678d444c09a20403f0ae189ca",
              "IPY_MODEL_72440f7395e94983a6bb305fbd1771a7"
            ],
            "layout": "IPY_MODEL_9080f64c084c4ba589bbefad255e1037"
          }
        },
        "1cfda322c1dd49c8a821e937577281a5": {
          "model_module": "@jupyter-widgets/controls",
          "model_name": "HTMLModel",
          "model_module_version": "1.5.0",
          "state": {
            "_dom_classes": [],
            "_model_module": "@jupyter-widgets/controls",
            "_model_module_version": "1.5.0",
            "_model_name": "HTMLModel",
            "_view_count": null,
            "_view_module": "@jupyter-widgets/controls",
            "_view_module_version": "1.5.0",
            "_view_name": "HTMLView",
            "description": "",
            "description_tooltip": null,
            "layout": "IPY_MODEL_69e00b434c604eceb66374195eefa0b7",
            "placeholder": "​",
            "style": "IPY_MODEL_80b7b014134a4966a1d2fb3ae2d44939",
            "value": "Downloading (…)lve/main/config.json: 100%"
          }
        },
        "22a7d98678d444c09a20403f0ae189ca": {
          "model_module": "@jupyter-widgets/controls",
          "model_name": "FloatProgressModel",
          "model_module_version": "1.5.0",
          "state": {
            "_dom_classes": [],
            "_model_module": "@jupyter-widgets/controls",
            "_model_module_version": "1.5.0",
            "_model_name": "FloatProgressModel",
            "_view_count": null,
            "_view_module": "@jupyter-widgets/controls",
            "_view_module_version": "1.5.0",
            "_view_name": "ProgressView",
            "bar_style": "success",
            "description": "",
            "description_tooltip": null,
            "layout": "IPY_MODEL_77a37b7b09114e2182d7ac1595009c89",
            "max": 458,
            "min": 0,
            "orientation": "horizontal",
            "style": "IPY_MODEL_18e5abd5dfc44cbf9fbf96f2cf5d5ab1",
            "value": 458
          }
        },
        "72440f7395e94983a6bb305fbd1771a7": {
          "model_module": "@jupyter-widgets/controls",
          "model_name": "HTMLModel",
          "model_module_version": "1.5.0",
          "state": {
            "_dom_classes": [],
            "_model_module": "@jupyter-widgets/controls",
            "_model_module_version": "1.5.0",
            "_model_name": "HTMLModel",
            "_view_count": null,
            "_view_module": "@jupyter-widgets/controls",
            "_view_module_version": "1.5.0",
            "_view_name": "HTMLView",
            "description": "",
            "description_tooltip": null,
            "layout": "IPY_MODEL_8e7c7910f2684202b83335799a68b0f7",
            "placeholder": "​",
            "style": "IPY_MODEL_85911946947a413cbdf351fe8ed5128c",
            "value": " 458/458 [00:00&lt;00:00, 40.0kB/s]"
          }
        },
        "9080f64c084c4ba589bbefad255e1037": {
          "model_module": "@jupyter-widgets/base",
          "model_name": "LayoutModel",
          "model_module_version": "1.2.0",
          "state": {
            "_model_module": "@jupyter-widgets/base",
            "_model_module_version": "1.2.0",
            "_model_name": "LayoutModel",
            "_view_count": null,
            "_view_module": "@jupyter-widgets/base",
            "_view_module_version": "1.2.0",
            "_view_name": "LayoutView",
            "align_content": null,
            "align_items": null,
            "align_self": null,
            "border": null,
            "bottom": null,
            "display": null,
            "flex": null,
            "flex_flow": null,
            "grid_area": null,
            "grid_auto_columns": null,
            "grid_auto_flow": null,
            "grid_auto_rows": null,
            "grid_column": null,
            "grid_gap": null,
            "grid_row": null,
            "grid_template_areas": null,
            "grid_template_columns": null,
            "grid_template_rows": null,
            "height": null,
            "justify_content": null,
            "justify_items": null,
            "left": null,
            "margin": null,
            "max_height": null,
            "max_width": null,
            "min_height": null,
            "min_width": null,
            "object_fit": null,
            "object_position": null,
            "order": null,
            "overflow": null,
            "overflow_x": null,
            "overflow_y": null,
            "padding": null,
            "right": null,
            "top": null,
            "visibility": null,
            "width": null
          }
        },
        "69e00b434c604eceb66374195eefa0b7": {
          "model_module": "@jupyter-widgets/base",
          "model_name": "LayoutModel",
          "model_module_version": "1.2.0",
          "state": {
            "_model_module": "@jupyter-widgets/base",
            "_model_module_version": "1.2.0",
            "_model_name": "LayoutModel",
            "_view_count": null,
            "_view_module": "@jupyter-widgets/base",
            "_view_module_version": "1.2.0",
            "_view_name": "LayoutView",
            "align_content": null,
            "align_items": null,
            "align_self": null,
            "border": null,
            "bottom": null,
            "display": null,
            "flex": null,
            "flex_flow": null,
            "grid_area": null,
            "grid_auto_columns": null,
            "grid_auto_flow": null,
            "grid_auto_rows": null,
            "grid_column": null,
            "grid_gap": null,
            "grid_row": null,
            "grid_template_areas": null,
            "grid_template_columns": null,
            "grid_template_rows": null,
            "height": null,
            "justify_content": null,
            "justify_items": null,
            "left": null,
            "margin": null,
            "max_height": null,
            "max_width": null,
            "min_height": null,
            "min_width": null,
            "object_fit": null,
            "object_position": null,
            "order": null,
            "overflow": null,
            "overflow_x": null,
            "overflow_y": null,
            "padding": null,
            "right": null,
            "top": null,
            "visibility": null,
            "width": null
          }
        },
        "80b7b014134a4966a1d2fb3ae2d44939": {
          "model_module": "@jupyter-widgets/controls",
          "model_name": "DescriptionStyleModel",
          "model_module_version": "1.5.0",
          "state": {
            "_model_module": "@jupyter-widgets/controls",
            "_model_module_version": "1.5.0",
            "_model_name": "DescriptionStyleModel",
            "_view_count": null,
            "_view_module": "@jupyter-widgets/base",
            "_view_module_version": "1.2.0",
            "_view_name": "StyleView",
            "description_width": ""
          }
        },
        "77a37b7b09114e2182d7ac1595009c89": {
          "model_module": "@jupyter-widgets/base",
          "model_name": "LayoutModel",
          "model_module_version": "1.2.0",
          "state": {
            "_model_module": "@jupyter-widgets/base",
            "_model_module_version": "1.2.0",
            "_model_name": "LayoutModel",
            "_view_count": null,
            "_view_module": "@jupyter-widgets/base",
            "_view_module_version": "1.2.0",
            "_view_name": "LayoutView",
            "align_content": null,
            "align_items": null,
            "align_self": null,
            "border": null,
            "bottom": null,
            "display": null,
            "flex": null,
            "flex_flow": null,
            "grid_area": null,
            "grid_auto_columns": null,
            "grid_auto_flow": null,
            "grid_auto_rows": null,
            "grid_column": null,
            "grid_gap": null,
            "grid_row": null,
            "grid_template_areas": null,
            "grid_template_columns": null,
            "grid_template_rows": null,
            "height": null,
            "justify_content": null,
            "justify_items": null,
            "left": null,
            "margin": null,
            "max_height": null,
            "max_width": null,
            "min_height": null,
            "min_width": null,
            "object_fit": null,
            "object_position": null,
            "order": null,
            "overflow": null,
            "overflow_x": null,
            "overflow_y": null,
            "padding": null,
            "right": null,
            "top": null,
            "visibility": null,
            "width": null
          }
        },
        "18e5abd5dfc44cbf9fbf96f2cf5d5ab1": {
          "model_module": "@jupyter-widgets/controls",
          "model_name": "ProgressStyleModel",
          "model_module_version": "1.5.0",
          "state": {
            "_model_module": "@jupyter-widgets/controls",
            "_model_module_version": "1.5.0",
            "_model_name": "ProgressStyleModel",
            "_view_count": null,
            "_view_module": "@jupyter-widgets/base",
            "_view_module_version": "1.2.0",
            "_view_name": "StyleView",
            "bar_color": null,
            "description_width": ""
          }
        },
        "8e7c7910f2684202b83335799a68b0f7": {
          "model_module": "@jupyter-widgets/base",
          "model_name": "LayoutModel",
          "model_module_version": "1.2.0",
          "state": {
            "_model_module": "@jupyter-widgets/base",
            "_model_module_version": "1.2.0",
            "_model_name": "LayoutModel",
            "_view_count": null,
            "_view_module": "@jupyter-widgets/base",
            "_view_module_version": "1.2.0",
            "_view_name": "LayoutView",
            "align_content": null,
            "align_items": null,
            "align_self": null,
            "border": null,
            "bottom": null,
            "display": null,
            "flex": null,
            "flex_flow": null,
            "grid_area": null,
            "grid_auto_columns": null,
            "grid_auto_flow": null,
            "grid_auto_rows": null,
            "grid_column": null,
            "grid_gap": null,
            "grid_row": null,
            "grid_template_areas": null,
            "grid_template_columns": null,
            "grid_template_rows": null,
            "height": null,
            "justify_content": null,
            "justify_items": null,
            "left": null,
            "margin": null,
            "max_height": null,
            "max_width": null,
            "min_height": null,
            "min_width": null,
            "object_fit": null,
            "object_position": null,
            "order": null,
            "overflow": null,
            "overflow_x": null,
            "overflow_y": null,
            "padding": null,
            "right": null,
            "top": null,
            "visibility": null,
            "width": null
          }
        },
        "85911946947a413cbdf351fe8ed5128c": {
          "model_module": "@jupyter-widgets/controls",
          "model_name": "DescriptionStyleModel",
          "model_module_version": "1.5.0",
          "state": {
            "_model_module": "@jupyter-widgets/controls",
            "_model_module_version": "1.5.0",
            "_model_name": "DescriptionStyleModel",
            "_view_count": null,
            "_view_module": "@jupyter-widgets/base",
            "_view_module_version": "1.2.0",
            "_view_name": "StyleView",
            "description_width": ""
          }
        },
        "c84ef4a160604100be9d7a7c082c9006": {
          "model_module": "@jupyter-widgets/controls",
          "model_name": "HBoxModel",
          "model_module_version": "1.5.0",
          "state": {
            "_dom_classes": [],
            "_model_module": "@jupyter-widgets/controls",
            "_model_module_version": "1.5.0",
            "_model_name": "HBoxModel",
            "_view_count": null,
            "_view_module": "@jupyter-widgets/controls",
            "_view_module_version": "1.5.0",
            "_view_name": "HBoxView",
            "box_style": "",
            "children": [
              "IPY_MODEL_ac5f1b8693434968ae128329cb7d461a",
              "IPY_MODEL_38f9dbd940fa4bc3bf771e0fb9a028c9",
              "IPY_MODEL_0543e3e13ff9493786fddc232508ae1c"
            ],
            "layout": "IPY_MODEL_3581a7fc5cf843308028bcc689144b5c"
          }
        },
        "ac5f1b8693434968ae128329cb7d461a": {
          "model_module": "@jupyter-widgets/controls",
          "model_name": "HTMLModel",
          "model_module_version": "1.5.0",
          "state": {
            "_dom_classes": [],
            "_model_module": "@jupyter-widgets/controls",
            "_model_module_version": "1.5.0",
            "_model_name": "HTMLModel",
            "_view_count": null,
            "_view_module": "@jupyter-widgets/controls",
            "_view_module_version": "1.5.0",
            "_view_name": "HTMLView",
            "description": "",
            "description_tooltip": null,
            "layout": "IPY_MODEL_fc2ab12d25c44253a9677e9b9634eb87",
            "placeholder": "​",
            "style": "IPY_MODEL_db64aedb38474c07ab0ff0a14323cc9c",
            "value": "Downloading pytorch_model.bin: 100%"
          }
        },
        "38f9dbd940fa4bc3bf771e0fb9a028c9": {
          "model_module": "@jupyter-widgets/controls",
          "model_name": "FloatProgressModel",
          "model_module_version": "1.5.0",
          "state": {
            "_dom_classes": [],
            "_model_module": "@jupyter-widgets/controls",
            "_model_module_version": "1.5.0",
            "_model_name": "FloatProgressModel",
            "_view_count": null,
            "_view_module": "@jupyter-widgets/controls",
            "_view_module_version": "1.5.0",
            "_view_name": "ProgressView",
            "bar_style": "success",
            "description": "",
            "description_tooltip": null,
            "layout": "IPY_MODEL_d9fb0f2b04ab4b94ba13cee5d6f96d69",
            "max": 219764039,
            "min": 0,
            "orientation": "horizontal",
            "style": "IPY_MODEL_97a2e519cd0b47d5a7f35b8420c030bb",
            "value": 219764039
          }
        },
        "0543e3e13ff9493786fddc232508ae1c": {
          "model_module": "@jupyter-widgets/controls",
          "model_name": "HTMLModel",
          "model_module_version": "1.5.0",
          "state": {
            "_dom_classes": [],
            "_model_module": "@jupyter-widgets/controls",
            "_model_module_version": "1.5.0",
            "_model_name": "HTMLModel",
            "_view_count": null,
            "_view_module": "@jupyter-widgets/controls",
            "_view_module_version": "1.5.0",
            "_view_name": "HTMLView",
            "description": "",
            "description_tooltip": null,
            "layout": "IPY_MODEL_8034217695044ea29dfde5ccc34e4411",
            "placeholder": "​",
            "style": "IPY_MODEL_8e280fb11a1c402d96acecdef3e50d14",
            "value": " 220M/220M [00:00&lt;00:00, 271MB/s]"
          }
        },
        "3581a7fc5cf843308028bcc689144b5c": {
          "model_module": "@jupyter-widgets/base",
          "model_name": "LayoutModel",
          "model_module_version": "1.2.0",
          "state": {
            "_model_module": "@jupyter-widgets/base",
            "_model_module_version": "1.2.0",
            "_model_name": "LayoutModel",
            "_view_count": null,
            "_view_module": "@jupyter-widgets/base",
            "_view_module_version": "1.2.0",
            "_view_name": "LayoutView",
            "align_content": null,
            "align_items": null,
            "align_self": null,
            "border": null,
            "bottom": null,
            "display": null,
            "flex": null,
            "flex_flow": null,
            "grid_area": null,
            "grid_auto_columns": null,
            "grid_auto_flow": null,
            "grid_auto_rows": null,
            "grid_column": null,
            "grid_gap": null,
            "grid_row": null,
            "grid_template_areas": null,
            "grid_template_columns": null,
            "grid_template_rows": null,
            "height": null,
            "justify_content": null,
            "justify_items": null,
            "left": null,
            "margin": null,
            "max_height": null,
            "max_width": null,
            "min_height": null,
            "min_width": null,
            "object_fit": null,
            "object_position": null,
            "order": null,
            "overflow": null,
            "overflow_x": null,
            "overflow_y": null,
            "padding": null,
            "right": null,
            "top": null,
            "visibility": null,
            "width": null
          }
        },
        "fc2ab12d25c44253a9677e9b9634eb87": {
          "model_module": "@jupyter-widgets/base",
          "model_name": "LayoutModel",
          "model_module_version": "1.2.0",
          "state": {
            "_model_module": "@jupyter-widgets/base",
            "_model_module_version": "1.2.0",
            "_model_name": "LayoutModel",
            "_view_count": null,
            "_view_module": "@jupyter-widgets/base",
            "_view_module_version": "1.2.0",
            "_view_name": "LayoutView",
            "align_content": null,
            "align_items": null,
            "align_self": null,
            "border": null,
            "bottom": null,
            "display": null,
            "flex": null,
            "flex_flow": null,
            "grid_area": null,
            "grid_auto_columns": null,
            "grid_auto_flow": null,
            "grid_auto_rows": null,
            "grid_column": null,
            "grid_gap": null,
            "grid_row": null,
            "grid_template_areas": null,
            "grid_template_columns": null,
            "grid_template_rows": null,
            "height": null,
            "justify_content": null,
            "justify_items": null,
            "left": null,
            "margin": null,
            "max_height": null,
            "max_width": null,
            "min_height": null,
            "min_width": null,
            "object_fit": null,
            "object_position": null,
            "order": null,
            "overflow": null,
            "overflow_x": null,
            "overflow_y": null,
            "padding": null,
            "right": null,
            "top": null,
            "visibility": null,
            "width": null
          }
        },
        "db64aedb38474c07ab0ff0a14323cc9c": {
          "model_module": "@jupyter-widgets/controls",
          "model_name": "DescriptionStyleModel",
          "model_module_version": "1.5.0",
          "state": {
            "_model_module": "@jupyter-widgets/controls",
            "_model_module_version": "1.5.0",
            "_model_name": "DescriptionStyleModel",
            "_view_count": null,
            "_view_module": "@jupyter-widgets/base",
            "_view_module_version": "1.2.0",
            "_view_name": "StyleView",
            "description_width": ""
          }
        },
        "d9fb0f2b04ab4b94ba13cee5d6f96d69": {
          "model_module": "@jupyter-widgets/base",
          "model_name": "LayoutModel",
          "model_module_version": "1.2.0",
          "state": {
            "_model_module": "@jupyter-widgets/base",
            "_model_module_version": "1.2.0",
            "_model_name": "LayoutModel",
            "_view_count": null,
            "_view_module": "@jupyter-widgets/base",
            "_view_module_version": "1.2.0",
            "_view_name": "LayoutView",
            "align_content": null,
            "align_items": null,
            "align_self": null,
            "border": null,
            "bottom": null,
            "display": null,
            "flex": null,
            "flex_flow": null,
            "grid_area": null,
            "grid_auto_columns": null,
            "grid_auto_flow": null,
            "grid_auto_rows": null,
            "grid_column": null,
            "grid_gap": null,
            "grid_row": null,
            "grid_template_areas": null,
            "grid_template_columns": null,
            "grid_template_rows": null,
            "height": null,
            "justify_content": null,
            "justify_items": null,
            "left": null,
            "margin": null,
            "max_height": null,
            "max_width": null,
            "min_height": null,
            "min_width": null,
            "object_fit": null,
            "object_position": null,
            "order": null,
            "overflow": null,
            "overflow_x": null,
            "overflow_y": null,
            "padding": null,
            "right": null,
            "top": null,
            "visibility": null,
            "width": null
          }
        },
        "97a2e519cd0b47d5a7f35b8420c030bb": {
          "model_module": "@jupyter-widgets/controls",
          "model_name": "ProgressStyleModel",
          "model_module_version": "1.5.0",
          "state": {
            "_model_module": "@jupyter-widgets/controls",
            "_model_module_version": "1.5.0",
            "_model_name": "ProgressStyleModel",
            "_view_count": null,
            "_view_module": "@jupyter-widgets/base",
            "_view_module_version": "1.2.0",
            "_view_name": "StyleView",
            "bar_color": null,
            "description_width": ""
          }
        },
        "8034217695044ea29dfde5ccc34e4411": {
          "model_module": "@jupyter-widgets/base",
          "model_name": "LayoutModel",
          "model_module_version": "1.2.0",
          "state": {
            "_model_module": "@jupyter-widgets/base",
            "_model_module_version": "1.2.0",
            "_model_name": "LayoutModel",
            "_view_count": null,
            "_view_module": "@jupyter-widgets/base",
            "_view_module_version": "1.2.0",
            "_view_name": "LayoutView",
            "align_content": null,
            "align_items": null,
            "align_self": null,
            "border": null,
            "bottom": null,
            "display": null,
            "flex": null,
            "flex_flow": null,
            "grid_area": null,
            "grid_auto_columns": null,
            "grid_auto_flow": null,
            "grid_auto_rows": null,
            "grid_column": null,
            "grid_gap": null,
            "grid_row": null,
            "grid_template_areas": null,
            "grid_template_columns": null,
            "grid_template_rows": null,
            "height": null,
            "justify_content": null,
            "justify_items": null,
            "left": null,
            "margin": null,
            "max_height": null,
            "max_width": null,
            "min_height": null,
            "min_width": null,
            "object_fit": null,
            "object_position": null,
            "order": null,
            "overflow": null,
            "overflow_x": null,
            "overflow_y": null,
            "padding": null,
            "right": null,
            "top": null,
            "visibility": null,
            "width": null
          }
        },
        "8e280fb11a1c402d96acecdef3e50d14": {
          "model_module": "@jupyter-widgets/controls",
          "model_name": "DescriptionStyleModel",
          "model_module_version": "1.5.0",
          "state": {
            "_model_module": "@jupyter-widgets/controls",
            "_model_module_version": "1.5.0",
            "_model_name": "DescriptionStyleModel",
            "_view_count": null,
            "_view_module": "@jupyter-widgets/base",
            "_view_module_version": "1.2.0",
            "_view_name": "StyleView",
            "description_width": ""
          }
        }
      }
    }
  },
  "nbformat": 4,
  "nbformat_minor": 5
}