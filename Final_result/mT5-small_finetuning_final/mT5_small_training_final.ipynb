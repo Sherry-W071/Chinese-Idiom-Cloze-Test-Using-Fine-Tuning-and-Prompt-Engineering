{
  "cells": [
    {
      "cell_type": "markdown",
      "metadata": {
        "id": "931cb5cd-10af-445e-b38c-389bb5d8837d"
      },
      "source": [
        "# mT5-small Fine-tuning"
      ],
      "id": "931cb5cd-10af-445e-b38c-389bb5d8837d"
    },
    {
      "cell_type": "markdown",
      "source": [
        "### **The model checkpoint can be downloaded from: [Google Drive](https://drive.google.com/file/d/1uuevTEvrMhLiW4cfijcMkpfz3IrdwgG-/view?usp=sharing)*"
      ],
      "metadata": {
        "id": "q1WDTm1VFloi"
      },
      "id": "q1WDTm1VFloi"
    },
    {
      "cell_type": "markdown",
      "metadata": {
        "id": "338f1500-424a-44af-991a-ab96caf01238"
      },
      "source": [
        "## Imports, Device Setting and Weight and Bias Display"
      ],
      "id": "338f1500-424a-44af-991a-ab96caf01238"
    },
    {
      "cell_type": "code",
      "execution_count": 1,
      "metadata": {
        "colab": {
          "base_uri": "https://localhost:8080/"
        },
        "id": "2db85f5a-7e83-4f2e-9e5b-783132661495",
        "outputId": "9f8613db-ad87-4530-c0ca-6cdd8ca17c2b"
      },
      "outputs": [
        {
          "output_type": "stream",
          "name": "stdout",
          "text": [
            "Looking in indexes: https://pypi.org/simple, https://us-python.pkg.dev/colab-wheels/public/simple/\n",
            "Collecting transformers\n",
            "  Downloading transformers-4.28.1-py3-none-any.whl (7.0 MB)\n",
            "\u001b[2K     \u001b[90m━━━━━━━━━━━━━━━━━━━━━━━━━━━━━━━━━━━━━━━━\u001b[0m \u001b[32m7.0/7.0 MB\u001b[0m \u001b[31m54.3 MB/s\u001b[0m eta \u001b[36m0:00:00\u001b[0m\n",
            "\u001b[?25hRequirement already satisfied: filelock in /usr/local/lib/python3.10/dist-packages (from transformers) (3.12.0)\n",
            "Collecting huggingface-hub<1.0,>=0.11.0\n",
            "  Downloading huggingface_hub-0.14.1-py3-none-any.whl (224 kB)\n",
            "\u001b[2K     \u001b[90m━━━━━━━━━━━━━━━━━━━━━━━━━━━━━━━━━━━━━━\u001b[0m \u001b[32m224.5/224.5 kB\u001b[0m \u001b[31m27.8 MB/s\u001b[0m eta \u001b[36m0:00:00\u001b[0m\n",
            "\u001b[?25hRequirement already satisfied: requests in /usr/local/lib/python3.10/dist-packages (from transformers) (2.27.1)\n",
            "Requirement already satisfied: tqdm>=4.27 in /usr/local/lib/python3.10/dist-packages (from transformers) (4.65.0)\n",
            "Requirement already satisfied: numpy>=1.17 in /usr/local/lib/python3.10/dist-packages (from transformers) (1.22.4)\n",
            "Requirement already satisfied: packaging>=20.0 in /usr/local/lib/python3.10/dist-packages (from transformers) (23.1)\n",
            "Requirement already satisfied: regex!=2019.12.17 in /usr/local/lib/python3.10/dist-packages (from transformers) (2022.10.31)\n",
            "Collecting tokenizers!=0.11.3,<0.14,>=0.11.1\n",
            "  Downloading tokenizers-0.13.3-cp310-cp310-manylinux_2_17_x86_64.manylinux2014_x86_64.whl (7.8 MB)\n",
            "\u001b[2K     \u001b[90m━━━━━━━━━━━━━━━━━━━━━━━━━━━━━━━━━━━━━━━━\u001b[0m \u001b[32m7.8/7.8 MB\u001b[0m \u001b[31m106.2 MB/s\u001b[0m eta \u001b[36m0:00:00\u001b[0m\n",
            "\u001b[?25hRequirement already satisfied: pyyaml>=5.1 in /usr/local/lib/python3.10/dist-packages (from transformers) (6.0)\n",
            "Requirement already satisfied: typing-extensions>=3.7.4.3 in /usr/local/lib/python3.10/dist-packages (from huggingface-hub<1.0,>=0.11.0->transformers) (4.5.0)\n",
            "Requirement already satisfied: fsspec in /usr/local/lib/python3.10/dist-packages (from huggingface-hub<1.0,>=0.11.0->transformers) (2023.4.0)\n",
            "Requirement already satisfied: charset-normalizer~=2.0.0 in /usr/local/lib/python3.10/dist-packages (from requests->transformers) (2.0.12)\n",
            "Requirement already satisfied: certifi>=2017.4.17 in /usr/local/lib/python3.10/dist-packages (from requests->transformers) (2022.12.7)\n",
            "Requirement already satisfied: urllib3<1.27,>=1.21.1 in /usr/local/lib/python3.10/dist-packages (from requests->transformers) (1.26.15)\n",
            "Requirement already satisfied: idna<4,>=2.5 in /usr/local/lib/python3.10/dist-packages (from requests->transformers) (3.4)\n",
            "Installing collected packages: tokenizers, huggingface-hub, transformers\n",
            "Successfully installed huggingface-hub-0.14.1 tokenizers-0.13.3 transformers-4.28.1\n",
            "Looking in indexes: https://pypi.org/simple, https://us-python.pkg.dev/colab-wheels/public/simple/\n",
            "Collecting wandb\n",
            "  Downloading wandb-0.15.0-py3-none-any.whl (2.0 MB)\n",
            "\u001b[2K     \u001b[90m━━━━━━━━━━━━━━━━━━━━━━━━━━━━━━━━━━━━━━━━\u001b[0m \u001b[32m2.0/2.0 MB\u001b[0m \u001b[31m24.2 MB/s\u001b[0m eta \u001b[36m0:00:00\u001b[0m\n",
            "\u001b[?25hRequirement already satisfied: PyYAML in /usr/local/lib/python3.10/dist-packages (from wandb) (6.0)\n",
            "Requirement already satisfied: requests<3,>=2.0.0 in /usr/local/lib/python3.10/dist-packages (from wandb) (2.27.1)\n",
            "Collecting pathtools\n",
            "  Downloading pathtools-0.1.2.tar.gz (11 kB)\n",
            "  Preparing metadata (setup.py) ... \u001b[?25l\u001b[?25hdone\n",
            "Collecting setproctitle\n",
            "  Downloading setproctitle-1.3.2-cp310-cp310-manylinux_2_5_x86_64.manylinux1_x86_64.manylinux_2_17_x86_64.manylinux2014_x86_64.whl (30 kB)\n",
            "Requirement already satisfied: appdirs>=1.4.3 in /usr/local/lib/python3.10/dist-packages (from wandb) (1.4.4)\n",
            "Requirement already satisfied: psutil>=5.0.0 in /usr/local/lib/python3.10/dist-packages (from wandb) (5.9.5)\n",
            "Collecting sentry-sdk>=1.0.0\n",
            "  Downloading sentry_sdk-1.21.0-py2.py3-none-any.whl (199 kB)\n",
            "\u001b[2K     \u001b[90m━━━━━━━━━━━━━━━━━━━━━━━━━━━━━━━━━━━━━━\u001b[0m \u001b[32m199.5/199.5 kB\u001b[0m \u001b[31m23.3 MB/s\u001b[0m eta \u001b[36m0:00:00\u001b[0m\n",
            "\u001b[?25hRequirement already satisfied: Click!=8.0.0,>=7.0 in /usr/local/lib/python3.10/dist-packages (from wandb) (8.1.3)\n",
            "Requirement already satisfied: setuptools in /usr/local/lib/python3.10/dist-packages (from wandb) (67.7.2)\n",
            "Collecting GitPython!=3.1.29,>=1.0.0\n",
            "  Downloading GitPython-3.1.31-py3-none-any.whl (184 kB)\n",
            "\u001b[2K     \u001b[90m━━━━━━━━━━━━━━━━━━━━━━━━━━━━━━━━━━━━━━━\u001b[0m \u001b[32m184.3/184.3 kB\u001b[0m \u001b[31m1.5 MB/s\u001b[0m eta \u001b[36m0:00:00\u001b[0m\n",
            "\u001b[?25hRequirement already satisfied: protobuf!=4.21.0,<5,>=3.19.0 in /usr/local/lib/python3.10/dist-packages (from wandb) (3.20.3)\n",
            "Collecting docker-pycreds>=0.4.0\n",
            "  Downloading docker_pycreds-0.4.0-py2.py3-none-any.whl (9.0 kB)\n",
            "Requirement already satisfied: six>=1.4.0 in /usr/local/lib/python3.10/dist-packages (from docker-pycreds>=0.4.0->wandb) (1.16.0)\n",
            "Collecting gitdb<5,>=4.0.1\n",
            "  Downloading gitdb-4.0.10-py3-none-any.whl (62 kB)\n",
            "\u001b[2K     \u001b[90m━━━━━━━━━━━━━━━━━━━━━━━━━━━━━━━━━━━━━━━━\u001b[0m \u001b[32m62.7/62.7 kB\u001b[0m \u001b[31m8.3 MB/s\u001b[0m eta \u001b[36m0:00:00\u001b[0m\n",
            "\u001b[?25hRequirement already satisfied: idna<4,>=2.5 in /usr/local/lib/python3.10/dist-packages (from requests<3,>=2.0.0->wandb) (3.4)\n",
            "Requirement already satisfied: urllib3<1.27,>=1.21.1 in /usr/local/lib/python3.10/dist-packages (from requests<3,>=2.0.0->wandb) (1.26.15)\n",
            "Requirement already satisfied: certifi>=2017.4.17 in /usr/local/lib/python3.10/dist-packages (from requests<3,>=2.0.0->wandb) (2022.12.7)\n",
            "Requirement already satisfied: charset-normalizer~=2.0.0 in /usr/local/lib/python3.10/dist-packages (from requests<3,>=2.0.0->wandb) (2.0.12)\n",
            "Collecting smmap<6,>=3.0.1\n",
            "  Downloading smmap-5.0.0-py3-none-any.whl (24 kB)\n",
            "Building wheels for collected packages: pathtools\n",
            "  Building wheel for pathtools (setup.py) ... \u001b[?25l\u001b[?25hdone\n",
            "  Created wheel for pathtools: filename=pathtools-0.1.2-py3-none-any.whl size=8807 sha256=695639923dbee205b277ee117dd375fa3e0a7c3cb26719b4f1728c91b99d73c9\n",
            "  Stored in directory: /root/.cache/pip/wheels/e7/f3/22/152153d6eb222ee7a56ff8617d80ee5207207a8c00a7aab794\n",
            "Successfully built pathtools\n",
            "Installing collected packages: pathtools, smmap, setproctitle, sentry-sdk, docker-pycreds, gitdb, GitPython, wandb\n",
            "Successfully installed GitPython-3.1.31 docker-pycreds-0.4.0 gitdb-4.0.10 pathtools-0.1.2 sentry-sdk-1.21.0 setproctitle-1.3.2 smmap-5.0.0 wandb-0.15.0\n",
            "Looking in indexes: https://pypi.org/simple, https://us-python.pkg.dev/colab-wheels/public/simple/\n",
            "Collecting sentencepiece\n",
            "  Downloading sentencepiece-0.1.98-cp310-cp310-manylinux_2_17_x86_64.manylinux2014_x86_64.whl (1.3 MB)\n",
            "\u001b[2K     \u001b[90m━━━━━━━━━━━━━━━━━━━━━━━━━━━━━━━━━━━━━━━━\u001b[0m \u001b[32m1.3/1.3 MB\u001b[0m \u001b[31m17.2 MB/s\u001b[0m eta \u001b[36m0:00:00\u001b[0m\n",
            "\u001b[?25hInstalling collected packages: sentencepiece\n",
            "Successfully installed sentencepiece-0.1.98\n"
          ]
        }
      ],
      "source": [
        "! pip install transformers\n",
        "! pip3 install wandb\n",
        "! pip install sentencepiece\n",
        "\n",
        "import wandb\n",
        "import os\n",
        "import torch\n",
        "import re\n",
        "from torch import cuda, nn, optim\n",
        "from transformers import AutoTokenizer, AutoModelForSeq2SeqLM\n",
        "from transformers import TrainingArguments, Trainer, logging\n",
        "from torch.utils.data import Dataset, DataLoader\n",
        "from torch.nn.utils.rnn import pad_sequence\n"
      ],
      "id": "2db85f5a-7e83-4f2e-9e5b-783132661495"
    },
    {
      "cell_type": "code",
      "execution_count": 2,
      "metadata": {
        "colab": {
          "base_uri": "https://localhost:8080/"
        },
        "id": "11dcc013-acec-4506-b1a4-a17912c5d13f",
        "outputId": "8626a073-de94-4d1f-fb0e-256d2c1912f2"
      },
      "outputs": [
        {
          "output_type": "stream",
          "name": "stdout",
          "text": [
            "Mounted at /content/gdrive\n",
            "cuda\n"
          ]
        }
      ],
      "source": [
        "from google.colab import drive\n",
        "drive.mount('/content/gdrive')\n",
        "manual_seed = 585\n",
        "torch.manual_seed(manual_seed)\n",
        "device = torch.device(\"cuda\" if torch.cuda.is_available() else \"cpu\")\n",
        "print(device)"
      ],
      "id": "11dcc013-acec-4506-b1a4-a17912c5d13f"
    },
    {
      "cell_type": "code",
      "source": [
        "wandb.login()\n",
        "wandb.init(project=\"Zootopia\", entity=\"qmygrace\")\n"
      ],
      "metadata": {
        "colab": {
          "base_uri": "https://localhost:8080/",
          "height": 177
        },
        "id": "gfGHEqITuwMD",
        "outputId": "bdabcae4-79ec-4da4-ebb3-840eeb75c7df"
      },
      "id": "gfGHEqITuwMD",
      "execution_count": 3,
      "outputs": [
        {
          "output_type": "display_data",
          "data": {
            "text/plain": [
              "<IPython.core.display.Javascript object>"
            ],
            "application/javascript": [
              "\n",
              "        window._wandbApiKey = new Promise((resolve, reject) => {\n",
              "            function loadScript(url) {\n",
              "            return new Promise(function(resolve, reject) {\n",
              "                let newScript = document.createElement(\"script\");\n",
              "                newScript.onerror = reject;\n",
              "                newScript.onload = resolve;\n",
              "                document.body.appendChild(newScript);\n",
              "                newScript.src = url;\n",
              "            });\n",
              "            }\n",
              "            loadScript(\"https://cdn.jsdelivr.net/npm/postmate/build/postmate.min.js\").then(() => {\n",
              "            const iframe = document.createElement('iframe')\n",
              "            iframe.style.cssText = \"width:0;height:0;border:none\"\n",
              "            document.body.appendChild(iframe)\n",
              "            const handshake = new Postmate({\n",
              "                container: iframe,\n",
              "                url: 'https://wandb.ai/authorize'\n",
              "            });\n",
              "            const timeout = setTimeout(() => reject(\"Couldn't auto authenticate\"), 5000)\n",
              "            handshake.then(function(child) {\n",
              "                child.on('authorize', data => {\n",
              "                    clearTimeout(timeout)\n",
              "                    resolve(data)\n",
              "                });\n",
              "            });\n",
              "            })\n",
              "        });\n",
              "    "
            ]
          },
          "metadata": {}
        },
        {
          "output_type": "stream",
          "name": "stderr",
          "text": [
            "\u001b[34m\u001b[1mwandb\u001b[0m: Appending key for api.wandb.ai to your netrc file: /root/.netrc\n",
            "\u001b[34m\u001b[1mwandb\u001b[0m: Currently logged in as: \u001b[33mqmygrace\u001b[0m. Use \u001b[1m`wandb login --relogin`\u001b[0m to force relogin\n"
          ]
        },
        {
          "output_type": "display_data",
          "data": {
            "text/plain": [
              "<IPython.core.display.HTML object>"
            ],
            "text/html": [
              "Tracking run with wandb version 0.15.0"
            ]
          },
          "metadata": {}
        },
        {
          "output_type": "display_data",
          "data": {
            "text/plain": [
              "<IPython.core.display.HTML object>"
            ],
            "text/html": [
              "Run data is saved locally in <code>/content/wandb/run-20230427_223325-u19nk1tg</code>"
            ]
          },
          "metadata": {}
        },
        {
          "output_type": "display_data",
          "data": {
            "text/plain": [
              "<IPython.core.display.HTML object>"
            ],
            "text/html": [
              "Syncing run <strong><a href='https://wandb.ai/qmygrace/Zootopia/runs/u19nk1tg' target=\"_blank\">fancy-tree-17</a></strong> to <a href='https://wandb.ai/qmygrace/Zootopia' target=\"_blank\">Weights & Biases</a> (<a href='https://wandb.me/run' target=\"_blank\">docs</a>)<br/>"
            ]
          },
          "metadata": {}
        },
        {
          "output_type": "display_data",
          "data": {
            "text/plain": [
              "<IPython.core.display.HTML object>"
            ],
            "text/html": [
              " View project at <a href='https://wandb.ai/qmygrace/Zootopia' target=\"_blank\">https://wandb.ai/qmygrace/Zootopia</a>"
            ]
          },
          "metadata": {}
        },
        {
          "output_type": "display_data",
          "data": {
            "text/plain": [
              "<IPython.core.display.HTML object>"
            ],
            "text/html": [
              " View run at <a href='https://wandb.ai/qmygrace/Zootopia/runs/u19nk1tg' target=\"_blank\">https://wandb.ai/qmygrace/Zootopia/runs/u19nk1tg</a>"
            ]
          },
          "metadata": {}
        },
        {
          "output_type": "execute_result",
          "data": {
            "text/html": [
              "<button onClick=\"this.nextSibling.style.display='block';this.style.display='none';\">Display W&B run</button><iframe src='https://wandb.ai/qmygrace/Zootopia/runs/u19nk1tg?jupyter=true' style='border:none;width:100%;height:420px;display:none;'></iframe>"
            ],
            "text/plain": [
              "<wandb.sdk.wandb_run.Run at 0x7f10f05b7a90>"
            ]
          },
          "metadata": {},
          "execution_count": 3
        }
      ]
    },
    {
      "cell_type": "markdown",
      "metadata": {
        "id": "o6y1YrsaF7HY"
      },
      "source": [],
      "id": "o6y1YrsaF7HY"
    },
    {
      "cell_type": "markdown",
      "metadata": {
        "id": "f7c2f97e-7c04-4abc-b23a-8e4a29ec7ffc"
      },
      "source": [
        "## Load the Pre-trained Model"
      ],
      "id": "f7c2f97e-7c04-4abc-b23a-8e4a29ec7ffc"
    },
    {
      "cell_type": "code",
      "execution_count": 4,
      "metadata": {
        "id": "99ae48ef-34a0-44fd-8489-0d4b13dc73d0",
        "colab": {
          "base_uri": "https://localhost:8080/",
          "height": 1000,
          "referenced_widgets": [
            "3781246ff17f49fba0aa2a53621e182f",
            "44a4ab2cf0c34f9a96199765abfc8ae2",
            "de7611ed60df4a4cb8043af4ff11e3e6",
            "ae8f01950f5949f5b823306af4b8a53d",
            "4e7546530aea4f28be87f54a363a52e5",
            "9d6f95a97e19465bad57a6e3a601f520",
            "9f51d4644f3f411b8dd743e84e0cf7d8",
            "d7eac58d16c244268ac7b2d271577998",
            "2fd1a0adee1b47d4bebaa53215a3ea26",
            "692f4ff679734eb8af6a9cbc260a140f",
            "67c0f451bf4844a995d6d789f362d382",
            "44792bea175e4178954cda4af19b3206",
            "01523b16840d43708ebf8fda1f94211c",
            "f4011389b7c94120b9b11b34ab456464",
            "13d0557947034caf9f741b938d00d91d",
            "3b65b960820543d2813fa501e0ad6a6c",
            "ae1447773c774571a7db53de712a521e",
            "0ed206e944d54d4ab2b053ba569e4458",
            "aeedd4c024954d0dbd08729652d216b5",
            "f50e6ef69efe40a7899174f958013960",
            "2622a975bb094bcd89b48c9e13ee85c4",
            "cadf190921a14b80850ce64fac6d5515",
            "24cbc4f6775c45ea9238efdf9812f179",
            "74df5cdc9f9b4bab81c05ca1ba9219d0",
            "2269de442f1b41a486fd4e221d1d0a9d",
            "b1f29684ae5f4802be54b4af6a913bdd",
            "d379d3d9cfee4a88b1b101b109c0a2a5",
            "9afa81b4946a471090c77e5aadd96f25",
            "f95eb80445d04a918ffa8b44304e93d8",
            "2a04e5e04ef9461faea3d3492e17683a",
            "9084621ebdfa4b01bea03b67dde2c3ff",
            "b8535354e3534c15b0e282b732d80dc6",
            "24f8a919e3484bd183e9d8a84fdba238",
            "27dee2e636a3478b9d4b2ce96f121846",
            "6f1b949068af438aa012ad6851bd3fcd",
            "7ff75fc1fbb74b6bb232ef9b283a944e",
            "22e56652a4e1482a8cc1e793bff1449d",
            "b1b316eb5fe4429c9e6ae390ca7b2187",
            "9f0f83c5d0b740e3aba1c373200b92b0",
            "b3bace984f0c4f4ea2f9819e9966abdd",
            "c1ce66186cc0492d93e37ce19b63b28c",
            "ca7a3e89820f4471820ab565e6f7e38e",
            "b9dbb6528d8f46088484b0ff0f9c84c0",
            "6c236b5d35be4444b87979ff2ed4d19a",
            "203a62b24972498fac046137f5a6c1bf",
            "d9dff10f46744024b24528a29e49380c",
            "84483290ef8b4766a5b5ddeb87b3a3ae",
            "cbb411f26f3f471b84b082621796c7a7",
            "4bbe0cd1bb99490e91e84025470ffda9",
            "e074b3eb7ec64e23a416e44cd0112174",
            "19bbb16464cd4131ac4864b97ae6cbfb",
            "b69516b31d42439e957043b991d1892c",
            "8a34541280e64340a57c93ca6a90552c",
            "13c9567c9051455aa9505fdf03dc0f08",
            "6e83be6a392b4aaa8322e6fd1b78b522",
            "6f72bddd2182441f8ca55a27517bf312",
            "5c84641942854a73b65ecab43b6b5354",
            "4e1021327b504584ab9a3c51713f069c",
            "97d73d001ecb48c386c03c69ba30ceb8",
            "0016a3cc85524962b42fa956b7c3ba7c",
            "2f887091b1214626bc2de99e326a0f9c",
            "e0c93a49783349e7a6ae14b15144c253",
            "2586619d53034ad3ac795b23ffc29542",
            "d48fd7c645e943a6a495fe0eb6e03190",
            "15479b800d244d648de0a41cedde9961",
            "10cbab29f9c6401198e7f495da646367"
          ]
        },
        "outputId": "4ba0600c-6b38-45ef-ec7a-df3b0421f735"
      },
      "outputs": [
        {
          "output_type": "display_data",
          "data": {
            "text/plain": [
              "Downloading (…)okenizer_config.json:   0%|          | 0.00/82.0 [00:00<?, ?B/s]"
            ],
            "application/vnd.jupyter.widget-view+json": {
              "version_major": 2,
              "version_minor": 0,
              "model_id": "3781246ff17f49fba0aa2a53621e182f"
            }
          },
          "metadata": {}
        },
        {
          "output_type": "display_data",
          "data": {
            "text/plain": [
              "Downloading (…)lve/main/config.json:   0%|          | 0.00/553 [00:00<?, ?B/s]"
            ],
            "application/vnd.jupyter.widget-view+json": {
              "version_major": 2,
              "version_minor": 0,
              "model_id": "44792bea175e4178954cda4af19b3206"
            }
          },
          "metadata": {}
        },
        {
          "output_type": "display_data",
          "data": {
            "text/plain": [
              "Downloading (…)ve/main/spiece.model:   0%|          | 0.00/4.31M [00:00<?, ?B/s]"
            ],
            "application/vnd.jupyter.widget-view+json": {
              "version_major": 2,
              "version_minor": 0,
              "model_id": "24cbc4f6775c45ea9238efdf9812f179"
            }
          },
          "metadata": {}
        },
        {
          "output_type": "display_data",
          "data": {
            "text/plain": [
              "Downloading (…)cial_tokens_map.json:   0%|          | 0.00/99.0 [00:00<?, ?B/s]"
            ],
            "application/vnd.jupyter.widget-view+json": {
              "version_major": 2,
              "version_minor": 0,
              "model_id": "27dee2e636a3478b9d4b2ce96f121846"
            }
          },
          "metadata": {}
        },
        {
          "output_type": "stream",
          "name": "stderr",
          "text": [
            "/usr/local/lib/python3.10/dist-packages/transformers/convert_slow_tokenizer.py:454: UserWarning: The sentencepiece tokenizer that you are converting to a fast tokenizer uses the byte fallback option which is not implemented in the fast tokenizers. In practice this means that the fast version of the tokenizer can produce unknown tokens whereas the sentencepiece version would have converted these unknown tokens into a sequence of byte tokens matching the original piece of text.\n",
            "  warnings.warn(\n"
          ]
        },
        {
          "output_type": "display_data",
          "data": {
            "text/plain": [
              "Downloading pytorch_model.bin:   0%|          | 0.00/1.20G [00:00<?, ?B/s]"
            ],
            "application/vnd.jupyter.widget-view+json": {
              "version_major": 2,
              "version_minor": 0,
              "model_id": "203a62b24972498fac046137f5a6c1bf"
            }
          },
          "metadata": {}
        },
        {
          "output_type": "display_data",
          "data": {
            "text/plain": [
              "Downloading (…)neration_config.json:   0%|          | 0.00/147 [00:00<?, ?B/s]"
            ],
            "application/vnd.jupyter.widget-view+json": {
              "version_major": 2,
              "version_minor": 0,
              "model_id": "6f72bddd2182441f8ca55a27517bf312"
            }
          },
          "metadata": {}
        },
        {
          "output_type": "execute_result",
          "data": {
            "text/plain": [
              "MT5ForConditionalGeneration(\n",
              "  (shared): Embedding(250112, 512)\n",
              "  (encoder): MT5Stack(\n",
              "    (embed_tokens): Embedding(250112, 512)\n",
              "    (block): ModuleList(\n",
              "      (0): MT5Block(\n",
              "        (layer): ModuleList(\n",
              "          (0): MT5LayerSelfAttention(\n",
              "            (SelfAttention): MT5Attention(\n",
              "              (q): Linear(in_features=512, out_features=384, bias=False)\n",
              "              (k): Linear(in_features=512, out_features=384, bias=False)\n",
              "              (v): Linear(in_features=512, out_features=384, bias=False)\n",
              "              (o): Linear(in_features=384, out_features=512, bias=False)\n",
              "              (relative_attention_bias): Embedding(32, 6)\n",
              "            )\n",
              "            (layer_norm): MT5LayerNorm()\n",
              "            (dropout): Dropout(p=0.1, inplace=False)\n",
              "          )\n",
              "          (1): MT5LayerFF(\n",
              "            (DenseReluDense): MT5DenseGatedActDense(\n",
              "              (wi_0): Linear(in_features=512, out_features=1024, bias=False)\n",
              "              (wi_1): Linear(in_features=512, out_features=1024, bias=False)\n",
              "              (wo): Linear(in_features=1024, out_features=512, bias=False)\n",
              "              (dropout): Dropout(p=0.1, inplace=False)\n",
              "              (act): NewGELUActivation()\n",
              "            )\n",
              "            (layer_norm): MT5LayerNorm()\n",
              "            (dropout): Dropout(p=0.1, inplace=False)\n",
              "          )\n",
              "        )\n",
              "      )\n",
              "      (1-7): 7 x MT5Block(\n",
              "        (layer): ModuleList(\n",
              "          (0): MT5LayerSelfAttention(\n",
              "            (SelfAttention): MT5Attention(\n",
              "              (q): Linear(in_features=512, out_features=384, bias=False)\n",
              "              (k): Linear(in_features=512, out_features=384, bias=False)\n",
              "              (v): Linear(in_features=512, out_features=384, bias=False)\n",
              "              (o): Linear(in_features=384, out_features=512, bias=False)\n",
              "            )\n",
              "            (layer_norm): MT5LayerNorm()\n",
              "            (dropout): Dropout(p=0.1, inplace=False)\n",
              "          )\n",
              "          (1): MT5LayerFF(\n",
              "            (DenseReluDense): MT5DenseGatedActDense(\n",
              "              (wi_0): Linear(in_features=512, out_features=1024, bias=False)\n",
              "              (wi_1): Linear(in_features=512, out_features=1024, bias=False)\n",
              "              (wo): Linear(in_features=1024, out_features=512, bias=False)\n",
              "              (dropout): Dropout(p=0.1, inplace=False)\n",
              "              (act): NewGELUActivation()\n",
              "            )\n",
              "            (layer_norm): MT5LayerNorm()\n",
              "            (dropout): Dropout(p=0.1, inplace=False)\n",
              "          )\n",
              "        )\n",
              "      )\n",
              "    )\n",
              "    (final_layer_norm): MT5LayerNorm()\n",
              "    (dropout): Dropout(p=0.1, inplace=False)\n",
              "  )\n",
              "  (decoder): MT5Stack(\n",
              "    (embed_tokens): Embedding(250112, 512)\n",
              "    (block): ModuleList(\n",
              "      (0): MT5Block(\n",
              "        (layer): ModuleList(\n",
              "          (0): MT5LayerSelfAttention(\n",
              "            (SelfAttention): MT5Attention(\n",
              "              (q): Linear(in_features=512, out_features=384, bias=False)\n",
              "              (k): Linear(in_features=512, out_features=384, bias=False)\n",
              "              (v): Linear(in_features=512, out_features=384, bias=False)\n",
              "              (o): Linear(in_features=384, out_features=512, bias=False)\n",
              "              (relative_attention_bias): Embedding(32, 6)\n",
              "            )\n",
              "            (layer_norm): MT5LayerNorm()\n",
              "            (dropout): Dropout(p=0.1, inplace=False)\n",
              "          )\n",
              "          (1): MT5LayerCrossAttention(\n",
              "            (EncDecAttention): MT5Attention(\n",
              "              (q): Linear(in_features=512, out_features=384, bias=False)\n",
              "              (k): Linear(in_features=512, out_features=384, bias=False)\n",
              "              (v): Linear(in_features=512, out_features=384, bias=False)\n",
              "              (o): Linear(in_features=384, out_features=512, bias=False)\n",
              "            )\n",
              "            (layer_norm): MT5LayerNorm()\n",
              "            (dropout): Dropout(p=0.1, inplace=False)\n",
              "          )\n",
              "          (2): MT5LayerFF(\n",
              "            (DenseReluDense): MT5DenseGatedActDense(\n",
              "              (wi_0): Linear(in_features=512, out_features=1024, bias=False)\n",
              "              (wi_1): Linear(in_features=512, out_features=1024, bias=False)\n",
              "              (wo): Linear(in_features=1024, out_features=512, bias=False)\n",
              "              (dropout): Dropout(p=0.1, inplace=False)\n",
              "              (act): NewGELUActivation()\n",
              "            )\n",
              "            (layer_norm): MT5LayerNorm()\n",
              "            (dropout): Dropout(p=0.1, inplace=False)\n",
              "          )\n",
              "        )\n",
              "      )\n",
              "      (1-7): 7 x MT5Block(\n",
              "        (layer): ModuleList(\n",
              "          (0): MT5LayerSelfAttention(\n",
              "            (SelfAttention): MT5Attention(\n",
              "              (q): Linear(in_features=512, out_features=384, bias=False)\n",
              "              (k): Linear(in_features=512, out_features=384, bias=False)\n",
              "              (v): Linear(in_features=512, out_features=384, bias=False)\n",
              "              (o): Linear(in_features=384, out_features=512, bias=False)\n",
              "            )\n",
              "            (layer_norm): MT5LayerNorm()\n",
              "            (dropout): Dropout(p=0.1, inplace=False)\n",
              "          )\n",
              "          (1): MT5LayerCrossAttention(\n",
              "            (EncDecAttention): MT5Attention(\n",
              "              (q): Linear(in_features=512, out_features=384, bias=False)\n",
              "              (k): Linear(in_features=512, out_features=384, bias=False)\n",
              "              (v): Linear(in_features=512, out_features=384, bias=False)\n",
              "              (o): Linear(in_features=384, out_features=512, bias=False)\n",
              "            )\n",
              "            (layer_norm): MT5LayerNorm()\n",
              "            (dropout): Dropout(p=0.1, inplace=False)\n",
              "          )\n",
              "          (2): MT5LayerFF(\n",
              "            (DenseReluDense): MT5DenseGatedActDense(\n",
              "              (wi_0): Linear(in_features=512, out_features=1024, bias=False)\n",
              "              (wi_1): Linear(in_features=512, out_features=1024, bias=False)\n",
              "              (wo): Linear(in_features=1024, out_features=512, bias=False)\n",
              "              (dropout): Dropout(p=0.1, inplace=False)\n",
              "              (act): NewGELUActivation()\n",
              "            )\n",
              "            (layer_norm): MT5LayerNorm()\n",
              "            (dropout): Dropout(p=0.1, inplace=False)\n",
              "          )\n",
              "        )\n",
              "      )\n",
              "    )\n",
              "    (final_layer_norm): MT5LayerNorm()\n",
              "    (dropout): Dropout(p=0.1, inplace=False)\n",
              "  )\n",
              "  (lm_head): Linear(in_features=512, out_features=250112, bias=False)\n",
              ")"
            ]
          },
          "metadata": {},
          "execution_count": 4
        }
      ],
      "source": [
        "# https://huggingface.co/google/mt5-small\n",
        "\n",
        "tokenizer = AutoTokenizer.from_pretrained(\"google/mt5-small\")\n",
        "model = AutoModelForSeq2SeqLM.from_pretrained(\"google/mt5-small\")\n",
        "model.to(device)"
      ],
      "id": "99ae48ef-34a0-44fd-8489-0d4b13dc73d0"
    },
    {
      "cell_type": "markdown",
      "metadata": {
        "id": "2bf1f4b3-2f98-4704-bff4-12f1f9ad055a"
      },
      "source": [
        "## Preprocess data"
      ],
      "id": "2bf1f4b3-2f98-4704-bff4-12f1f9ad055a"
    },
    {
      "cell_type": "code",
      "execution_count": 5,
      "metadata": {
        "colab": {
          "base_uri": "https://localhost:8080/"
        },
        "id": "a0aa74f8-a3fa-4746-a720-c831ac6ef645",
        "outputId": "c4fb930f-6d69-4aa9-d8d2-b3adb8c0db43"
      },
      "outputs": [
        {
          "output_type": "stream",
          "name": "stdout",
          "text": [
            "['{\"groundTruth\": [\"发扬光大\", \"平易近人\", \"温文尔雅\"], \"candidates\": [[\"意气风发\", \"街谈巷议\", \"人才辈出\", \"一脉相传\", \"后继有人\", \"发扬光大\", \"腥风血雨\"], [\"平易近人\", \"落落大方\", \"八仙过海\", \"彬彬有礼\", \"史无前例\", \"盛气凌人\", \"好自为之\"], [\"不拘小节\", \"风流潇洒\", \"无病呻吟\", \"言谈举止\", \"壮志凌云\", \"关门闭户\", \"温文尔雅\"]], \"content\": \"由实力派演员刘威饰演的清华第三任校长蒋南翔，是我国著名的青年运动家和教育家，他跟清华终身校长梅贻琦一样，都是由清华人自己培养出来的校长。历史上的蒋南翔是著名的“一二九”学生救亡运动的领导人之一，他在清华校长之位14年期间，不但很好的继承了清华建校之初的优秀传统与理念，而且更加的#idiom#，他把清华的教师队伍扩大了将近5倍，将清华本科人数破万，为新中国培养了大量的有用人才。在《天行健》中饰演蒋南翔的刘威是观众所熟悉的著名实力派演员，早在1987年刘威就在《关东大侠》中饰演豪爽仗义的关云天一角而获得了金鸡奖最佳男主角的提名，后来更是因在《唐明皇》中精湛的表演而一举夺得金鹰奖最佳男演员奖。此次《天行健》选定刘威来出演正是看中了他#idiom#的表演方式和对人物深入内心的刻画。至此，《天行健》中涉及的三位清华校长的人选都已经曝光，#idiom#的第一任校长赵文?、稳重坚毅的第二任校长孙逊、亲切务实的第三任校长刘威，再加上梁思成、林徽因、朱自清、闻一多等一批“大师”的加盟，相信作为清华百年校庆重点项目之一的《天行健》一定会带领观众重温那段不能抹去的历史。\", \"realCount\": 3}\\n', '{\"groundTruth\": [\"肥头大耳\"], \"candidates\": [[\"超凡入圣\", \"骨瘦如柴\", \"青面獠牙\", \"虎背熊腰\", \"成人之美\", \"肥头大耳\", \"神不守舍\"]], \"content\": \"#idiom#的掌柜只穿一件衬衫，坐在柜台里。几个堂倌穿着脏得发黑的白工作服，因为没有顾客，都散坐在桌子旁。这当儿看到这位不寻常的客人，都露出好奇的神色列宁曾批评他理论上的错误，同时认为他“所写的全部哲学，赶紧迎上前来伺候。聂赫留朵夫要了一瓶矿泉水，在离窗较远的地方挨着一张铺有肮脏桌布的小桌坐下。\", \"realCount\": 1}\\n'] \n",
            " 20000 3000\n"
          ]
        }
      ],
      "source": [
        "# path = '../data/'    # change the path as needed\n",
        "path = '/content/gdrive/My Drive/585data/'\n",
        "\n",
        "def read_data(file):\n",
        "    with open (path+file) as t:\n",
        "        data = t.readlines()\n",
        "    return data\n",
        "\n",
        "train_set = read_data('train_data.txt')[:20000]\n",
        "dev_set = read_data('dev_data.txt')[:3000]\n",
        "# test_set = read_data('test_data.txt')[:3000]\n",
        "\n",
        "# type(train_set)\n",
        "print(train_set[:2], '\\n', len(train_set), len(dev_set))"
      ],
      "id": "a0aa74f8-a3fa-4746-a720-c831ac6ef645"
    },
    {
      "cell_type": "code",
      "source": [
        "# preprocess_idx = -1\n",
        "# def replace(match):\n",
        "#     global preprocess_idx\n",
        "#     preprocess_idx += 1\n",
        "#     return 'extra {}'.format(preprocess_idx)\n",
        "\n",
        "# text = '由实力派演员刘威饰演的清华第三任校长蒋南翔，是我国著名的青年运动家和教育家，他跟清华终身校长梅贻琦一样，都是由清华人自己培养出来的校长。历史上的蒋南翔是著名的“一二九”学生救亡运动的领导人之一，他在清华校长之位14年期间，不但很好的继承了清华建校之初的优秀传统与理念，而且更加的#idiom#，他把清华的教师队伍扩大了将近5倍，将清华本科人数破万，为新中国培养了大量的有用人才。在《天行健》中饰演蒋南翔的刘威是观众所熟悉的著名实力派演员，早在1987年刘威就在《关东大侠》中饰演豪爽仗义的关云天一角而获得了金鸡奖最佳男主角的提名，后来更是因在《唐明皇》中精湛的表演而一举夺得金鹰奖最佳男演员奖。此次《天行健》选定刘威来出演正是看中了他#idiom#的表演方式和对人物深入内心的刻画。至此，《天行健》中涉及的三位清华校长的人选都已经曝光，#idiom#的第一任校长赵文?、稳重坚毅的第二任校长孙逊、亲切务实的第三任校长刘威，再加上梁思成、林徽因、朱自清、闻一多等一批“大师”的加盟，相信作为清华百年校庆重点项目之一的《天行健》一定会带领观众重温那段不能抹去的历史。'\n",
        "# re.sub(r'#idiom#', replace, text)"
      ],
      "metadata": {
        "id": "dZ1JICTnZPma"
      },
      "id": "dZ1JICTnZPma",
      "execution_count": 6,
      "outputs": []
    },
    {
      "cell_type": "code",
      "execution_count": 7,
      "metadata": {
        "id": "9c3965b6-eaff-42ff-ac70-dac21b8dbd21"
      },
      "outputs": [],
      "source": [
        "def preprocess(data):\n",
        "    text_input = []\n",
        "    idiom_output = []\n",
        "    for i in range(len(data)):\n",
        "        data[i] = eval(data[i])\n",
        "        input_text = data[i]['content']\n",
        "        ground_truth = data[i]['groundTruth']\n",
        "        candidates = data[i]['candidates']\n",
        "\n",
        "        candidate_str = ''\n",
        "        for candidate in candidates:\n",
        "            candidate_str += '('+'|'.join(candidate)+')'\n",
        "        \n",
        "        preprocess_idx = -1\n",
        "        def replace(match):\n",
        "            nonlocal preprocess_idx\n",
        "            preprocess_idx += 1\n",
        "            return 'extra{}'.format(preprocess_idx)\n",
        "        input_text = re.sub(r'#idiom#', replace, input_text)\n",
        "\n",
        "        instruction = '请从下列括号中分别选择合适的成语填入空缺处：{}'.format(candidate_str)\n",
        "        # input_text = input_text.replace('#idiom#', '_')\n",
        "        output_text = ','.join(ground_truth)\n",
        "        \n",
        "        text_input.append(instruction+'\\n'+input_text)\n",
        "        idiom_output.append(output_text)\n",
        "    \n",
        "    print(text_input[0], idiom_output[0])    \n",
        "    input_tok = tokenizer.batch_encode_plus(text_input,\n",
        "                                            add_special_tokens=False, \n",
        "                                            return_token_type_ids=False)\n",
        "    output_tok = tokenizer.batch_encode_plus(idiom_output, \n",
        "                                             add_special_tokens=False,\n",
        "                                             return_token_type_ids=False)\n",
        "    return input_tok, output_tok"
      ],
      "id": "9c3965b6-eaff-42ff-ac70-dac21b8dbd21"
    },
    {
      "cell_type": "code",
      "execution_count": 8,
      "metadata": {
        "id": "9ad9389a-0f2a-4222-8f67-e9f968e6c734",
        "colab": {
          "base_uri": "https://localhost:8080/"
        },
        "outputId": "87fa1fbd-1415-4d50-bee6-6206a7099de9"
      },
      "outputs": [
        {
          "output_type": "stream",
          "name": "stdout",
          "text": [
            "请从下列括号中分别选择合适的成语填入空缺处：(意气风发|街谈巷议|人才辈出|一脉相传|后继有人|发扬光大|腥风血雨)(平易近人|落落大方|八仙过海|彬彬有礼|史无前例|盛气凌人|好自为之)(不拘小节|风流潇洒|无病呻吟|言谈举止|壮志凌云|关门闭户|温文尔雅)\n",
            "由实力派演员刘威饰演的清华第三任校长蒋南翔，是我国著名的青年运动家和教育家，他跟清华终身校长梅贻琦一样，都是由清华人自己培养出来的校长。历史上的蒋南翔是著名的“一二九”学生救亡运动的领导人之一，他在清华校长之位14年期间，不但很好的继承了清华建校之初的优秀传统与理念，而且更加的extra0，他把清华的教师队伍扩大了将近5倍，将清华本科人数破万，为新中国培养了大量的有用人才。在《天行健》中饰演蒋南翔的刘威是观众所熟悉的著名实力派演员，早在1987年刘威就在《关东大侠》中饰演豪爽仗义的关云天一角而获得了金鸡奖最佳男主角的提名，后来更是因在《唐明皇》中精湛的表演而一举夺得金鹰奖最佳男演员奖。此次《天行健》选定刘威来出演正是看中了他extra1的表演方式和对人物深入内心的刻画。至此，《天行健》中涉及的三位清华校长的人选都已经曝光，extra2的第一任校长赵文?、稳重坚毅的第二任校长孙逊、亲切务实的第三任校长刘威，再加上梁思成、林徽因、朱自清、闻一多等一批“大师”的加盟，相信作为清华百年校庆重点项目之一的《天行健》一定会带领观众重温那段不能抹去的历史。 发扬光大,平易近人,温文尔雅\n",
            "请从下列括号中分别选择合适的成语填入空缺处：(深恶痛绝|人人自危|恨入骨髓|不胜枚举|嗤之以鼻|走马看花|不屑一顾)\n",
            "另据了解，北京一个对垃圾短信extra0的老人，利用该软件总共呼死了近2000个号码。20分钟呼上万号码记者昨天在百度里输入“呼死你软件”，出现了7000多个相关网页，随机登录几个网站，发现软件均需花钱购买，价格从200元至500元不等。 深恶痛绝\n"
          ]
        }
      ],
      "source": [
        "train_input, train_output = preprocess(train_set)\n",
        "dev_input, dev_output = preprocess(dev_set)\n",
        "# test_input, test_output = preprocess(test_set)"
      ],
      "id": "9ad9389a-0f2a-4222-8f67-e9f968e6c734"
    },
    {
      "cell_type": "code",
      "execution_count": 9,
      "metadata": {
        "colab": {
          "base_uri": "https://localhost:8080/"
        },
        "id": "7dbb4375-3f3f-441c-81b4-be13b24160bb",
        "outputId": "df9ab871-5858-4882-896c-6c7aef1a4b2d"
      },
      "outputs": [
        {
          "output_type": "stream",
          "name": "stdout",
          "text": [
            "dict_keys(['input_ids', 'attention_mask']) dict_keys(['input_ids', 'attention_mask'])\n"
          ]
        }
      ],
      "source": [
        "print(train_input.keys(), train_output.keys())"
      ],
      "id": "7dbb4375-3f3f-441c-81b4-be13b24160bb"
    },
    {
      "cell_type": "code",
      "execution_count": 10,
      "metadata": {
        "colab": {
          "base_uri": "https://localhost:8080/"
        },
        "id": "2dab48c9-e312-4706-b5fa-d408bc8d227a",
        "outputId": "86037281-2277-4cc6-ef55-e9cc3f06aced"
      },
      "outputs": [
        {
          "output_type": "stream",
          "name": "stdout",
          "text": [
            "[259, 20256, 5229, 2446, 19783, 149527, 3688, 1223, 91486, 29133, 5072, 92396, 493, 4449, 20139, 82635, 4484, 8123, 47193, 13746, 267, 312, 10691, 11755, 8893, 5685, 409, 16628, 30014, 158795, 26896, 409, 47145, 130509, 2371, 409, 1374, 117723, 6497, 19946, 409, 3592, 88623, 64947, 409, 5685, 54029, 4491, 1146, 409, 239243, 8893, 18643, 16189, 4829, 5064, 18272, 8659, 1193, 409, 12265, 12265, 1146, 4222, 409, 7704, 39098, 6994, 4093, 409, 204126, 204126, 1637, 21158, 409, 22695, 5941, 2884, 13733, 409, 19510, 11755, 91708, 1193, 409, 3586, 5081, 2037, 2904, 4829, 1597, 104151, 2144, 16984, 409, 8893, 8041, 239151, 185028, 409, 5941, 14469, 242248, 172615, 409, 9812, 30014, 49425, 32401, 409, 78590, 16706, 91708, 9896, 409, 14428, 8394, 80855, 27841, 409, 17794, 4565, 8216, 24582, 271, 259, 10135, 77006, 19700, 138014, 18538, 18157, 73502, 20936, 493, 9060, 8423, 42258, 12307, 155410, 128057, 4938, 93781, 261, 1543, 44635, 237766, 44283, 61449, 3203, 1107, 9716, 3203, 261, 3763, 18475, 9060, 8423, 52095, 7431, 155410, 29702, 242959, 216892, 62685, 261, 24134, 10135, 9060, 141789, 9512, 106277, 162480, 155410, 306, 218000, 493, 128057, 4938, 93781, 1543, 237766, 591, 1374, 3178, 13591, 365, 18105, 23616, 65201, 61449, 493, 181313, 51838, 261, 175021, 9060, 8423, 155410, 2904, 5396, 1635, 848, 59632, 261, 196603, 199006, 218824, 1322, 9060, 8423, 10389, 14470, 2904, 12869, 493, 94962, 67714, 2645, 92113, 261, 39722, 56424, 493, 51056, 460, 261, 3763, 9803, 9060, 8423, 493, 70015, 125219, 103247, 1322, 3661, 8659, 428, 9697, 261, 3661, 9060, 8423, 140344, 69951, 18540, 2029, 261, 2037, 2188, 3161, 106277, 1322, 207010, 180469, 47145, 306, 1083, 2518, 2910, 3541, 39450, 2640, 1223, 73502, 20936, 128057, 4938, 93781, 493, 18538, 18157, 1543, 114912, 4398, 167296, 493, 144362, 77006, 19700, 138014, 261, 7321, 1083, 56875, 848, 18538, 18157, 125159, 2518, 14428, 8854, 1146, 97451, 2640, 1223, 73502, 20936, 29789, 73891, 185422, 27056, 493, 14428, 9896, 2910, 1374, 15347, 4925, 221896, 2445, 42651, 28251, 41844, 11323, 187777, 493, 17459, 3094, 261, 116536, 104763, 16563, 1083, 2518, 29572, 5853, 29145, 2640, 1223, 12348, 190829, 493, 130822, 4925, 1374, 49425, 75076, 5880, 2445, 110632, 28251, 41844, 11323, 138014, 28251, 306, 77554, 2518, 2910, 3541, 39450, 2640, 7213, 5160, 18538, 18157, 3480, 74089, 131967, 4833, 1223, 218782, 51056, 353, 493, 130822, 22492, 1107, 2991, 58839, 62375, 190351, 493, 35487, 15828, 306, 9903, 14781, 62784, 2910, 3541, 39450, 2640, 1223, 107572, 493, 2092, 5396, 9060, 8423, 155410, 28936, 7213, 4794, 17909, 117471, 261, 51056, 338, 179657, 12307, 155410, 42759, 4565, 291, 292, 34224, 5742, 74688, 126732, 493, 26454, 12307, 155410, 38157, 168402, 292, 25187, 13802, 237751, 493, 42258, 12307, 155410, 18538, 18157, 261, 7519, 158919, 44586, 15011, 4449, 292, 6892, 195057, 16563, 292, 53380, 5081, 9060, 292, 53982, 1374, 3139, 2395, 136507, 591, 49194, 365, 493, 6690, 261, 90759, 24673, 9060, 8423, 156542, 14470, 39583, 39961, 15268, 51838, 493, 2518, 2910, 3541, 39450, 2640, 231061, 182699, 114912, 5742, 17794, 10776, 14219, 23808, 126767, 6072, 158335, 306] \n",
            " [1, 1, 1, 1, 1, 1, 1, 1, 1, 1, 1, 1, 1, 1, 1, 1, 1, 1, 1, 1, 1, 1, 1, 1, 1, 1, 1, 1, 1, 1, 1, 1, 1, 1, 1, 1, 1, 1, 1, 1, 1, 1, 1, 1, 1, 1, 1, 1, 1, 1, 1, 1, 1, 1, 1, 1, 1, 1, 1, 1, 1, 1, 1, 1, 1, 1, 1, 1, 1, 1, 1, 1, 1, 1, 1, 1, 1, 1, 1, 1, 1, 1, 1, 1, 1, 1, 1, 1, 1, 1, 1, 1, 1, 1, 1, 1, 1, 1, 1, 1, 1, 1, 1, 1, 1, 1, 1, 1, 1, 1, 1, 1, 1, 1, 1, 1, 1, 1, 1, 1, 1, 1, 1, 1, 1, 1, 1, 1, 1, 1, 1, 1, 1, 1, 1, 1, 1, 1, 1, 1, 1, 1, 1, 1, 1, 1, 1, 1, 1, 1, 1, 1, 1, 1, 1, 1, 1, 1, 1, 1, 1, 1, 1, 1, 1, 1, 1, 1, 1, 1, 1, 1, 1, 1, 1, 1, 1, 1, 1, 1, 1, 1, 1, 1, 1, 1, 1, 1, 1, 1, 1, 1, 1, 1, 1, 1, 1, 1, 1, 1, 1, 1, 1, 1, 1, 1, 1, 1, 1, 1, 1, 1, 1, 1, 1, 1, 1, 1, 1, 1, 1, 1, 1, 1, 1, 1, 1, 1, 1, 1, 1, 1, 1, 1, 1, 1, 1, 1, 1, 1, 1, 1, 1, 1, 1, 1, 1, 1, 1, 1, 1, 1, 1, 1, 1, 1, 1, 1, 1, 1, 1, 1, 1, 1, 1, 1, 1, 1, 1, 1, 1, 1, 1, 1, 1, 1, 1, 1, 1, 1, 1, 1, 1, 1, 1, 1, 1, 1, 1, 1, 1, 1, 1, 1, 1, 1, 1, 1, 1, 1, 1, 1, 1, 1, 1, 1, 1, 1, 1, 1, 1, 1, 1, 1, 1, 1, 1, 1, 1, 1, 1, 1, 1, 1, 1, 1, 1, 1, 1, 1, 1, 1, 1, 1, 1, 1, 1, 1, 1, 1, 1, 1, 1, 1, 1, 1, 1, 1, 1, 1, 1, 1, 1, 1, 1, 1, 1, 1, 1, 1, 1, 1, 1, 1, 1, 1, 1, 1, 1, 1, 1, 1, 1, 1, 1, 1, 1, 1, 1, 1, 1, 1, 1, 1, 1, 1, 1, 1, 1, 1, 1, 1, 1, 1, 1, 1, 1, 1, 1, 1, 1, 1, 1, 1, 1, 1, 1, 1, 1, 1, 1, 1, 1, 1, 1, 1, 1, 1, 1, 1, 1, 1, 1, 1, 1, 1, 1, 1, 1, 1, 1, 1, 1, 1, 1, 1, 1, 1, 1, 1, 1, 1, 1, 1, 1, 1, 1, 1, 1, 1, 1, 1, 1, 1, 1, 1, 1, 1, 1, 1, 1, 1, 1, 1, 1, 1, 1, 1, 1, 1, 1, 1, 1, 1, 1, 1, 1, 1, 1, 1, 1, 1]\n"
          ]
        }
      ],
      "source": [
        "print(train_input['input_ids'][0], '\\n', train_input['attention_mask'][0])"
      ],
      "id": "2dab48c9-e312-4706-b5fa-d408bc8d227a"
    },
    {
      "cell_type": "code",
      "source": [
        "print(train_output['input_ids'][0], '\\n', train_output['attention_mask'][0])"
      ],
      "metadata": {
        "colab": {
          "base_uri": "https://localhost:8080/"
        },
        "id": "ItvsDz6wgf2D",
        "outputId": "0074e3a2-094d-40f2-e968-d951dfd4fab2"
      },
      "id": "ItvsDz6wgf2D",
      "execution_count": 11,
      "outputs": [
        {
          "output_type": "stream",
          "name": "stdout",
          "text": [
            "[259, 5685, 54029, 4491, 1146, 261, 5064, 18272, 8659, 1193, 261, 17794, 4565, 8216, 24582] \n",
            " [1, 1, 1, 1, 1, 1, 1, 1, 1, 1, 1, 1, 1, 1, 1]\n"
          ]
        }
      ]
    },
    {
      "cell_type": "code",
      "execution_count": 12,
      "metadata": {
        "id": "745d083f-5ef4-4ef2-95ae-88edc375a5aa"
      },
      "outputs": [],
      "source": [
        "class IdiomDataset(Dataset):\n",
        "    def __init__(self, inputs, outputs):\n",
        "        self.inputs = inputs\n",
        "        self.outputs = outputs\n",
        "\n",
        "    def __len__(self):\n",
        "        return len(self.inputs[\"input_ids\"])\n",
        "\n",
        "    def __getitem__(self, idx):\n",
        "        input_ids = self.inputs['input_ids'][idx]\n",
        "        attention_mask = self.inputs['attention_mask'][idx]\n",
        "\n",
        "        target_ids = self.outputs['input_ids'][idx]\n",
        "        target_attention_mask = self.outputs['attention_mask'][idx]\n",
        "        return {\"input_ids\": input_ids, \"attention_mask\":attention_mask, \"output_ids\":target_ids}\n",
        "\n",
        "\n",
        "def collate_fn(batch):\n",
        "    batch_input = [torch.LongTensor(example['input_ids']) for example in batch]\n",
        "    batch_output = [torch.LongTensor(example['output_ids']) for example in batch]\n",
        "    batch_mask = [torch.LongTensor(example['attention_mask']) for example in batch]\n",
        "\n",
        "    padded_batch_input_ids = pad_sequence(batch_input, batch_first=True, padding_value=tokenizer.pad_token_id)\n",
        "    padded_batch_label = pad_sequence(batch_output, batch_first=True, padding_value=tokenizer.pad_token_id)\n",
        "    padded_batch_att_mask = pad_sequence(batch_mask, batch_first=True, padding_value=0)\n",
        "\n",
        "    return {\"input_ids\": padded_batch_input_ids, \"attention_mask\": padded_batch_att_mask, \"labels\": padded_batch_label}\n",
        "\n",
        "def to_device(data, device):\n",
        "    new_data = {}\n",
        "    for k in data:\n",
        "        # k = k.to(device)\n",
        "        new_data[k] = data[k].to(device)\n",
        "    return new_data"
      ],
      "id": "745d083f-5ef4-4ef2-95ae-88edc375a5aa"
    },
    {
      "cell_type": "code",
      "execution_count": 13,
      "metadata": {
        "id": "2306fb26-febb-4159-b957-89944b73a9c4"
      },
      "outputs": [],
      "source": [
        "train_dataset = IdiomDataset(train_input, train_output)\n",
        "train_loader = DataLoader(train_dataset, batch_size=8, collate_fn=collate_fn, shuffle=True)\n",
        "\n",
        "dev_dataset = IdiomDataset(dev_input, dev_output)\n",
        "dev_loader = DataLoader(dev_dataset, batch_size=8, collate_fn=collate_fn, shuffle=False)\n"
      ],
      "id": "2306fb26-febb-4159-b957-89944b73a9c4"
    },
    {
      "cell_type": "markdown",
      "metadata": {
        "id": "3f4fc45d-c94f-4dcc-a845-285e1959ef6e"
      },
      "source": [
        "## Training"
      ],
      "id": "3f4fc45d-c94f-4dcc-a845-285e1959ef6e"
    },
    {
      "cell_type": "code",
      "execution_count": 14,
      "metadata": {
        "id": "20e09128-fe25-44b1-8572-496a460bf870"
      },
      "outputs": [],
      "source": [
        "@torch.no_grad()\n",
        "def evaluate(model:nn.Module, eval_loader:DataLoader):\n",
        "    eval_loss = 0.0\n",
        "    correct = 0\n",
        "    total = 0\n",
        "    model.eval()\n",
        "    print(\"eval_loader len:\", len(eval_loader))\n",
        "    for batch in eval_loader:\n",
        "        batch = to_device(batch, device)\n",
        "        output = model(**batch)\n",
        "        loss = output.loss\n",
        "        eval_loss += loss.item()\n",
        "        pred = output.logits.argmax(-1)\n",
        "        label = batch[\"labels\"]\n",
        "        correct += torch.where(label!=0, pred==label, 0).sum().item()\n",
        "        total += torch.sum(label!=0).item()\n",
        "\n",
        "    eval_acc = correct / total\n",
        "    eval_loss = eval_loss / len(eval_loader) \n",
        "    print(total, correct)\n",
        "    return eval_acc, eval_loss"
      ],
      "id": "20e09128-fe25-44b1-8572-496a460bf870"
    },
    {
      "cell_type": "code",
      "execution_count": 15,
      "metadata": {
        "id": "e4aed717-87ff-4abf-a24a-c3397bfec0f5",
        "colab": {
          "base_uri": "https://localhost:8080/"
        },
        "outputId": "d32fbe9c-591a-421c-c69b-597894dc2d9b"
      },
      "outputs": [
        {
          "output_type": "stream",
          "name": "stdout",
          "text": [
            "Train Step: 0 Loss: 0.3624109268188477\n",
            "Train Step: 100 Loss: 27.885444202423095\n",
            "Train Step: 200 Loss: 20.266760244369507\n",
            "Train Step: 300 Loss: 16.646393766403197\n",
            "Train Step: 400 Loss: 14.34015974998474\n",
            "Train Step: 500 Loss: 12.613938312530518\n",
            "Train Step: 600 Loss: 10.975036611557007\n",
            "Train Step: 700 Loss: 10.338030376434325\n",
            "Train Step: 800 Loss: 9.289741277694702\n",
            "Train Step: 900 Loss: 8.410621366500855\n",
            "Train Step: 1000 Loss: 7.64582968711853\n",
            "Train Step: 1100 Loss: 6.7045935535430905\n",
            "Train Step: 1200 Loss: 5.868394136428833\n",
            "Train Step: 1300 Loss: 5.172049405574799\n",
            "Train Step: 1400 Loss: 4.590031695365906\n",
            "Train Step: 1500 Loss: 4.2740762996673585\n",
            "Train Step: 1600 Loss: 3.9429748368263247\n",
            "Train Step: 1700 Loss: 3.383105719089508\n",
            "Train Step: 1800 Loss: 3.169616365432739\n",
            "Train Step: 1900 Loss: 3.0035462272167206\n",
            "Train Step: 2000 Loss: 2.489843978881836\n",
            "Train Step: 2100 Loss: 2.2652867710590363\n",
            "Train Step: 2200 Loss: 2.05966717004776\n",
            "Train Step: 2300 Loss: 1.8886240816116333\n",
            "Train Step: 2400 Loss: 1.7699570846557617\n",
            "Epoch: 1 Loss is: 19104.092910170555\n",
            "eval_loader len: 375\n",
            "17824 14446\n",
            "Epoch 1 Eval Acc: 0.8104802513464991; Eval Loss: 0.5737738767464956\n",
            "Train Step: 0 Loss: 0.007011102437973022\n",
            "Train Step: 100 Loss: 0.555310134589672\n",
            "Train Step: 200 Loss: 0.5110707502067089\n",
            "Train Step: 300 Loss: 0.4977967768907547\n",
            "Train Step: 400 Loss: 0.4778363764286041\n",
            "Train Step: 500 Loss: 0.47456473112106323\n",
            "Train Step: 600 Loss: 0.4641479080915451\n",
            "Train Step: 700 Loss: 0.4675141669809818\n",
            "Train Step: 800 Loss: 0.4533259654045105\n",
            "Train Step: 900 Loss: 0.4464793656766415\n",
            "Train Step: 1000 Loss: 0.44608487993478774\n",
            "Train Step: 1100 Loss: 0.4253613889217377\n",
            "Train Step: 1200 Loss: 0.4259974279999733\n",
            "Train Step: 1300 Loss: 0.4299730043113232\n",
            "Train Step: 1400 Loss: 0.4283511213958263\n",
            "Train Step: 1500 Loss: 0.4055023731291294\n",
            "Train Step: 1600 Loss: 0.40270177498459814\n",
            "Train Step: 1700 Loss: 0.4176038579642773\n",
            "Train Step: 1800 Loss: 0.3884035040438175\n",
            "Train Step: 1900 Loss: 0.3943640618026257\n",
            "Train Step: 2000 Loss: 0.405628357976675\n",
            "Train Step: 2100 Loss: 0.3922239625453949\n",
            "Train Step: 2200 Loss: 0.3811748513579369\n",
            "Train Step: 2300 Loss: 0.38964151322841645\n",
            "Train Step: 2400 Loss: 0.3776901787519455\n",
            "Epoch: 2 Loss is: 1084.0170597434044\n",
            "eval_loader len: 375\n",
            "17824 15025\n",
            "Epoch 2 Eval Acc: 0.8429645421903053; Eval Loss: 0.38779880487918855\n",
            "Train Step: 0 Loss: 0.004478715360164642\n",
            "Train Step: 100 Loss: 0.3726155632734299\n",
            "Train Step: 200 Loss: 0.3474459046125412\n",
            "Train Step: 300 Loss: 0.3394324915111065\n",
            "Train Step: 400 Loss: 0.3373596797883511\n",
            "Train Step: 500 Loss: 0.3499791416525841\n",
            "Train Step: 600 Loss: 0.33229412257671354\n",
            "Train Step: 700 Loss: 0.3436283869296312\n",
            "Train Step: 800 Loss: 0.3298389072716236\n",
            "Train Step: 900 Loss: 0.30883948907256126\n",
            "Train Step: 1000 Loss: 0.3425845791399479\n",
            "Train Step: 1100 Loss: 0.32188831239938737\n",
            "Train Step: 1200 Loss: 0.3223768511414528\n",
            "Train Step: 1300 Loss: 0.3196987025439739\n",
            "Train Step: 1400 Loss: 0.30834932684898375\n",
            "Train Step: 1500 Loss: 0.3342520214617252\n",
            "Train Step: 1600 Loss: 0.31005698345601557\n",
            "Train Step: 1700 Loss: 0.33018073439598083\n",
            "Train Step: 1800 Loss: 0.30185060173273087\n",
            "Train Step: 1900 Loss: 0.3173738460242748\n",
            "Train Step: 2000 Loss: 0.33115080997347834\n",
            "Train Step: 2100 Loss: 0.31351400636136534\n",
            "Train Step: 2200 Loss: 0.322204210460186\n",
            "Train Step: 2300 Loss: 0.3129747214913368\n",
            "Train Step: 2400 Loss: 0.3267287227511406\n",
            "Epoch: 3 Loss is: 817.6416110619903\n",
            "eval_loader len: 375\n",
            "17824 15306\n",
            "Epoch 3 Eval Acc: 0.858729802513465; Eval Loss: 0.31914161707957583\n",
            "Train Step: 0 Loss: 0.002855781614780426\n",
            "Train Step: 100 Loss: 0.24936757996678352\n",
            "Train Step: 200 Loss: 0.26169325038790703\n",
            "Train Step: 300 Loss: 0.2615162750333548\n",
            "Train Step: 400 Loss: 0.2575240971893072\n",
            "Train Step: 500 Loss: 0.27279280982911586\n",
            "Train Step: 600 Loss: 0.24726648308336735\n",
            "Train Step: 700 Loss: 0.25553674161434176\n",
            "Train Step: 800 Loss: 0.24695243008434772\n",
            "Train Step: 900 Loss: 0.25272507302463054\n",
            "Train Step: 1000 Loss: 0.2555119474977255\n",
            "Train Step: 1100 Loss: 0.2633194899559021\n",
            "Train Step: 1200 Loss: 0.2712740097939968\n",
            "Train Step: 1300 Loss: 0.26569498181343076\n",
            "Train Step: 1400 Loss: 0.2572473981231451\n",
            "Train Step: 1500 Loss: 0.246702236905694\n",
            "Train Step: 1600 Loss: 0.24065378241240978\n",
            "Train Step: 1700 Loss: 0.2540111781656742\n",
            "Train Step: 1800 Loss: 0.2409694716334343\n",
            "Train Step: 1900 Loss: 0.2547171653062105\n",
            "Train Step: 2000 Loss: 0.2419091631472111\n",
            "Train Step: 2100 Loss: 0.25697039879858496\n",
            "Train Step: 2200 Loss: 0.24719532653689386\n",
            "Train Step: 2300 Loss: 0.23700149342417717\n",
            "Train Step: 2400 Loss: 0.23512297458946704\n",
            "Epoch: 4 Loss is: 632.8200289681554\n",
            "eval_loader len: 375\n",
            "17824 15612\n",
            "Epoch 4 Eval Acc: 0.8758976660682226; Eval Loss: 0.27858852916955945\n",
            "Train Step: 0 Loss: 0.0022598305344581605\n",
            "Train Step: 100 Loss: 0.1787763412296772\n",
            "Train Step: 200 Loss: 0.17557175159454347\n",
            "Train Step: 300 Loss: 0.1930907702073455\n",
            "Train Step: 400 Loss: 0.1933220148459077\n",
            "Train Step: 500 Loss: 0.19899711765348913\n",
            "Train Step: 600 Loss: 0.18597319096326828\n",
            "Train Step: 700 Loss: 0.18956306107342244\n",
            "Train Step: 800 Loss: 0.19231182366609573\n",
            "Train Step: 900 Loss: 0.20125974223017692\n",
            "Train Step: 1000 Loss: 0.18427588189020752\n",
            "Train Step: 1100 Loss: 0.1759845021367073\n",
            "Train Step: 1200 Loss: 0.16901450838893653\n",
            "Train Step: 1300 Loss: 0.1663634507358074\n",
            "Train Step: 1400 Loss: 0.17619289480149747\n",
            "Train Step: 1500 Loss: 0.16598187167197465\n",
            "Train Step: 1600 Loss: 0.17204287316650152\n",
            "Train Step: 1700 Loss: 0.1782617973536253\n",
            "Train Step: 1800 Loss: 0.1796263836324215\n",
            "Train Step: 1900 Loss: 0.17243560660630464\n",
            "Train Step: 2000 Loss: 0.20568211145699025\n",
            "Train Step: 2100 Loss: 0.18708712719380854\n",
            "Train Step: 2200 Loss: 0.1707417617738247\n",
            "Train Step: 2300 Loss: 0.17130329988896847\n",
            "Train Step: 2400 Loss: 0.19398574620485307\n",
            "Epoch: 5 Loss is: 456.0205141287297\n",
            "eval_loader len: 375\n",
            "17824 15717\n",
            "Epoch 5 Eval Acc: 0.8817885996409336; Eval Loss: 0.27089886158704757\n"
          ]
        }
      ],
      "source": [
        "epoches = 5       \n",
        "optimizer = optim.Adam(model.parameters(), lr=5e-5)\n",
        "model.to(device)\n",
        "\n",
        "model.train()\n",
        "for epoch in range(epoches):\n",
        "    epoch_loss = 0.0\n",
        "    log_loss = 0.0\n",
        "    for idx, batch in enumerate(train_loader):\n",
        "        model.zero_grad()\n",
        "        batch = to_device(batch, device)\n",
        "        loss = model(**batch).loss\n",
        "        loss.backward()\n",
        "        optimizer.step()\n",
        "        epoch_loss += loss.item()\n",
        "        log_loss += loss.item()\n",
        "\n",
        "        wandb.log({'batch':idx, 'train_loss': loss.item()})\n",
        "        wandb.log({'batch':idx, 'accumulated_train_loss_in_this_1k_batches': log_loss})\n",
        "\n",
        "        if idx % 100 == 0:\n",
        "            print(f\"Train Step: {idx} Loss: {log_loss / 100}\")\n",
        "            log_loss = 0.0\n",
        "    print(f\"Epoch: {epoch+1} Loss is: {epoch_loss}\")\n",
        "    eval_acc, eval_loss = evaluate(model, dev_loader)\n",
        "    print(f\"Epoch {epoch+1} Eval Acc: {eval_acc}; Eval Loss: {eval_loss}\")"
      ],
      "id": "e4aed717-87ff-4abf-a24a-c3397bfec0f5"
    },
    {
      "cell_type": "code",
      "execution_count": 16,
      "metadata": {
        "id": "27b27ea9-82a6-429a-9198-da7e64683bba"
      },
      "outputs": [],
      "source": [
        "torch.save(model.state_dict(), path+\"mT5-small_model_5epoches.pt\")"
      ],
      "id": "27b27ea9-82a6-429a-9198-da7e64683bba"
    },
    {
      "cell_type": "code",
      "source": [
        "def count_parameters(model):\n",
        "    return sum(p.numel() for p in model.parameters() if p.requires_grad)\n",
        "\n",
        "print(f'The model has {count_parameters(model):,} trainable parameters')"
      ],
      "metadata": {
        "colab": {
          "base_uri": "https://localhost:8080/"
        },
        "id": "QU3_bzhwBXud",
        "outputId": "7e1bbc74-833c-4731-c8aa-d0c7ff04554b"
      },
      "id": "QU3_bzhwBXud",
      "execution_count": 17,
      "outputs": [
        {
          "output_type": "stream",
          "name": "stdout",
          "text": [
            "The model has 300,176,768 trainable parameters\n"
          ]
        }
      ]
    },
    {
      "cell_type": "markdown",
      "source": [
        "## Evaluation"
      ],
      "metadata": {
        "id": "nExNVXOrwSe_"
      },
      "id": "nExNVXOrwSe_"
    },
    {
      "cell_type": "code",
      "execution_count": 18,
      "metadata": {
        "id": "DLFW9KkpjPQ9"
      },
      "outputs": [],
      "source": [
        "@torch.no_grad()\n",
        "def fill_idiom(model, loader):\n",
        "\n",
        "    all_preds = []\n",
        "    all_labels = []\n",
        "    model.eval()\n",
        "    for batch in loader:\n",
        "        batch = to_device(batch, device)\n",
        "        input_ids = batch[\"input_ids\"]\n",
        "        attention_mask = batch[\"attention_mask\"]\n",
        "        labels = batch[\"labels\"]\n",
        "        outputs = model.generate(input_ids=input_ids, \n",
        "                                 attention_mask=attention_mask, \n",
        "                                 return_dict_in_generate=True, \n",
        "                                 pad_token_id=tokenizer.pad_token_id, \n",
        "                                 max_length=512, \n",
        "                                 top_k=15)\n",
        "        truncated_outputs = []\n",
        "\n",
        "        decode_texts = tokenizer.batch_decode([l[l != 0] for l in outputs['sequences']])\n",
        "        gold_texts = tokenizer.batch_decode([l[l != 0] for l in labels])\n",
        "        # print(decode_texts, gold_texts)\n",
        "        for gold, decode in zip(gold_texts, decode_texts):\n",
        "            l = set(gold.replace(' ', '').replace('[CLS]', '').split(','))\n",
        "            p = set(decode.replace(' ', '').replace('[CLS]', '').split(','))\n",
        "            # print(l, p)\n",
        "            all_labels.append(l)\n",
        "            all_preds.append(p)\n",
        "        # print(decode_texts)\n",
        "        # print(gold_texts)\n",
        "        # break\n",
        "    \n",
        "    return all_preds, all_labels\n",
        "\n",
        "def f1_score(sys, gold):\n",
        "    tp = 0\n",
        "    total = 0\n",
        "    pos = 0\n",
        "    for s, g in zip(sys, gold):\n",
        "        total += len(g)\n",
        "        pos += len(s)\n",
        "        tp += len(g & s)\n",
        "    precision = tp / pos if pos != 0 else 0\n",
        "    recall = tp / total if total != 0 else 0\n",
        "    f1 = (2 * precision * recall) / (precision + recall) if (precision + recall) != 0 else 0\n",
        "    return precision, recall, f1, tp"
      ],
      "id": "DLFW9KkpjPQ9"
    },
    {
      "cell_type": "code",
      "execution_count": 19,
      "metadata": {
        "id": "ZiMhMM_ZjWsj"
      },
      "outputs": [],
      "source": [
        "sys, gold = fill_idiom(model, dev_loader)\n",
        "p, r, f1, tp = f1_score(sys, gold)"
      ],
      "id": "ZiMhMM_ZjWsj"
    },
    {
      "cell_type": "code",
      "source": [
        "total = 0\n",
        "for s, g in zip(sys, gold):\n",
        "    total += len(g)"
      ],
      "metadata": {
        "id": "TvhKNUaaOh3j"
      },
      "id": "TvhKNUaaOh3j",
      "execution_count": 20,
      "outputs": []
    },
    {
      "cell_type": "code",
      "source": [
        "print(f\"Accurate amount for Validation set is {tp} out of {total}\")\n",
        "print(f\"Accuracy for Validation set is {tp/total}\")\n",
        "print(f\"F1 score for Validation set is {f1}\")"
      ],
      "metadata": {
        "colab": {
          "base_uri": "https://localhost:8080/"
        },
        "id": "NVeTyoI4MDRF",
        "outputId": "9ffe3488-1066-49af-e6b9-e2ba10253fed"
      },
      "id": "NVeTyoI4MDRF",
      "execution_count": 21,
      "outputs": [
        {
          "output_type": "stream",
          "name": "stdout",
          "text": [
            "Accurate amount for Validation set is 1589 out of 3668\n",
            "Accuracy for Validation set is 0.43320610687022904\n",
            "F1 score for Validation set is 0.43367903930131\n"
          ]
        }
      ]
    },
    {
      "cell_type": "code",
      "source": [
        "sys[:10]"
      ],
      "metadata": {
        "colab": {
          "base_uri": "https://localhost:8080/"
        },
        "id": "gMSWr-DEtcEB",
        "outputId": "23b1c727-90fb-4476-8a1e-165e6b4acd4d"
      },
      "id": "gMSWr-DEtcEB",
      "execution_count": 22,
      "outputs": [
        {
          "output_type": "execute_result",
          "data": {
            "text/plain": [
              "[{'深恶痛绝'},\n",
              " {'井井有条'},\n",
              " {'跃跃欲试'},\n",
              " {'无与伦比'},\n",
              " {'一语道破', '不胜其烦', '评头品足'},\n",
              " {'千篇一律'},\n",
              " {'罪魁祸首'},\n",
              " {'聪明才智'},\n",
              " {'千载难逢'},\n",
              " {'苦中作乐'}]"
            ]
          },
          "metadata": {},
          "execution_count": 22
        }
      ]
    },
    {
      "cell_type": "code",
      "source": [
        "gold[:10]"
      ],
      "metadata": {
        "colab": {
          "base_uri": "https://localhost:8080/"
        },
        "id": "YulPihgI0l98",
        "outputId": "30337d19-4fb0-47f6-9607-34ac5da9a064"
      },
      "id": "YulPihgI0l98",
      "execution_count": 23,
      "outputs": [
        {
          "output_type": "execute_result",
          "data": {
            "text/plain": [
              "[{'深恶痛绝'},\n",
              " {'杂乱无章'},\n",
              " {'磨刀霍霍'},\n",
              " {'独一无二'},\n",
              " {'一语道破', '不厌其烦', '品头题足'},\n",
              " {'大同小异'},\n",
              " {'罪魁祸首'},\n",
              " {'聪明才智'},\n",
              " {'千载难逢'},\n",
              " {'酸甜苦辣'}]"
            ]
          },
          "metadata": {},
          "execution_count": 23
        }
      ]
    },
    {
      "cell_type": "code",
      "source": [
        "with open ('mT5-small_outputs_final.txt', 'w', encoding='utf-8') as mt5:\n",
        "    for s in sys:\n",
        "        line = ','.join(s)\n",
        "        mt5.write(str(line)+'\\n')"
      ],
      "metadata": {
        "id": "bftVEK_Wc4uM"
      },
      "id": "bftVEK_Wc4uM",
      "execution_count": 24,
      "outputs": []
    },
    {
      "cell_type": "code",
      "source": [],
      "metadata": {
        "id": "kqH01ljZQVrX"
      },
      "id": "kqH01ljZQVrX",
      "execution_count": null,
      "outputs": []
    }
  ],
  "metadata": {
    "accelerator": "GPU",
    "colab": {
      "machine_shape": "hm",
      "provenance": []
    },
    "gpuClass": "standard",
    "kernelspec": {
      "display_name": "Python 3 (ipykernel)",
      "language": "python",
      "name": "python3"
    },
    "language_info": {
      "codemirror_mode": {
        "name": "ipython",
        "version": 3
      },
      "file_extension": ".py",
      "mimetype": "text/x-python",
      "name": "python",
      "nbconvert_exporter": "python",
      "pygments_lexer": "ipython3",
      "version": "3.10.6"
    },
    "widgets": {
      "application/vnd.jupyter.widget-state+json": {
        "3781246ff17f49fba0aa2a53621e182f": {
          "model_module": "@jupyter-widgets/controls",
          "model_name": "HBoxModel",
          "model_module_version": "1.5.0",
          "state": {
            "_dom_classes": [],
            "_model_module": "@jupyter-widgets/controls",
            "_model_module_version": "1.5.0",
            "_model_name": "HBoxModel",
            "_view_count": null,
            "_view_module": "@jupyter-widgets/controls",
            "_view_module_version": "1.5.0",
            "_view_name": "HBoxView",
            "box_style": "",
            "children": [
              "IPY_MODEL_44a4ab2cf0c34f9a96199765abfc8ae2",
              "IPY_MODEL_de7611ed60df4a4cb8043af4ff11e3e6",
              "IPY_MODEL_ae8f01950f5949f5b823306af4b8a53d"
            ],
            "layout": "IPY_MODEL_4e7546530aea4f28be87f54a363a52e5"
          }
        },
        "44a4ab2cf0c34f9a96199765abfc8ae2": {
          "model_module": "@jupyter-widgets/controls",
          "model_name": "HTMLModel",
          "model_module_version": "1.5.0",
          "state": {
            "_dom_classes": [],
            "_model_module": "@jupyter-widgets/controls",
            "_model_module_version": "1.5.0",
            "_model_name": "HTMLModel",
            "_view_count": null,
            "_view_module": "@jupyter-widgets/controls",
            "_view_module_version": "1.5.0",
            "_view_name": "HTMLView",
            "description": "",
            "description_tooltip": null,
            "layout": "IPY_MODEL_9d6f95a97e19465bad57a6e3a601f520",
            "placeholder": "​",
            "style": "IPY_MODEL_9f51d4644f3f411b8dd743e84e0cf7d8",
            "value": "Downloading (…)okenizer_config.json: 100%"
          }
        },
        "de7611ed60df4a4cb8043af4ff11e3e6": {
          "model_module": "@jupyter-widgets/controls",
          "model_name": "FloatProgressModel",
          "model_module_version": "1.5.0",
          "state": {
            "_dom_classes": [],
            "_model_module": "@jupyter-widgets/controls",
            "_model_module_version": "1.5.0",
            "_model_name": "FloatProgressModel",
            "_view_count": null,
            "_view_module": "@jupyter-widgets/controls",
            "_view_module_version": "1.5.0",
            "_view_name": "ProgressView",
            "bar_style": "success",
            "description": "",
            "description_tooltip": null,
            "layout": "IPY_MODEL_d7eac58d16c244268ac7b2d271577998",
            "max": 82,
            "min": 0,
            "orientation": "horizontal",
            "style": "IPY_MODEL_2fd1a0adee1b47d4bebaa53215a3ea26",
            "value": 82
          }
        },
        "ae8f01950f5949f5b823306af4b8a53d": {
          "model_module": "@jupyter-widgets/controls",
          "model_name": "HTMLModel",
          "model_module_version": "1.5.0",
          "state": {
            "_dom_classes": [],
            "_model_module": "@jupyter-widgets/controls",
            "_model_module_version": "1.5.0",
            "_model_name": "HTMLModel",
            "_view_count": null,
            "_view_module": "@jupyter-widgets/controls",
            "_view_module_version": "1.5.0",
            "_view_name": "HTMLView",
            "description": "",
            "description_tooltip": null,
            "layout": "IPY_MODEL_692f4ff679734eb8af6a9cbc260a140f",
            "placeholder": "​",
            "style": "IPY_MODEL_67c0f451bf4844a995d6d789f362d382",
            "value": " 82.0/82.0 [00:00&lt;00:00, 2.88kB/s]"
          }
        },
        "4e7546530aea4f28be87f54a363a52e5": {
          "model_module": "@jupyter-widgets/base",
          "model_name": "LayoutModel",
          "model_module_version": "1.2.0",
          "state": {
            "_model_module": "@jupyter-widgets/base",
            "_model_module_version": "1.2.0",
            "_model_name": "LayoutModel",
            "_view_count": null,
            "_view_module": "@jupyter-widgets/base",
            "_view_module_version": "1.2.0",
            "_view_name": "LayoutView",
            "align_content": null,
            "align_items": null,
            "align_self": null,
            "border": null,
            "bottom": null,
            "display": null,
            "flex": null,
            "flex_flow": null,
            "grid_area": null,
            "grid_auto_columns": null,
            "grid_auto_flow": null,
            "grid_auto_rows": null,
            "grid_column": null,
            "grid_gap": null,
            "grid_row": null,
            "grid_template_areas": null,
            "grid_template_columns": null,
            "grid_template_rows": null,
            "height": null,
            "justify_content": null,
            "justify_items": null,
            "left": null,
            "margin": null,
            "max_height": null,
            "max_width": null,
            "min_height": null,
            "min_width": null,
            "object_fit": null,
            "object_position": null,
            "order": null,
            "overflow": null,
            "overflow_x": null,
            "overflow_y": null,
            "padding": null,
            "right": null,
            "top": null,
            "visibility": null,
            "width": null
          }
        },
        "9d6f95a97e19465bad57a6e3a601f520": {
          "model_module": "@jupyter-widgets/base",
          "model_name": "LayoutModel",
          "model_module_version": "1.2.0",
          "state": {
            "_model_module": "@jupyter-widgets/base",
            "_model_module_version": "1.2.0",
            "_model_name": "LayoutModel",
            "_view_count": null,
            "_view_module": "@jupyter-widgets/base",
            "_view_module_version": "1.2.0",
            "_view_name": "LayoutView",
            "align_content": null,
            "align_items": null,
            "align_self": null,
            "border": null,
            "bottom": null,
            "display": null,
            "flex": null,
            "flex_flow": null,
            "grid_area": null,
            "grid_auto_columns": null,
            "grid_auto_flow": null,
            "grid_auto_rows": null,
            "grid_column": null,
            "grid_gap": null,
            "grid_row": null,
            "grid_template_areas": null,
            "grid_template_columns": null,
            "grid_template_rows": null,
            "height": null,
            "justify_content": null,
            "justify_items": null,
            "left": null,
            "margin": null,
            "max_height": null,
            "max_width": null,
            "min_height": null,
            "min_width": null,
            "object_fit": null,
            "object_position": null,
            "order": null,
            "overflow": null,
            "overflow_x": null,
            "overflow_y": null,
            "padding": null,
            "right": null,
            "top": null,
            "visibility": null,
            "width": null
          }
        },
        "9f51d4644f3f411b8dd743e84e0cf7d8": {
          "model_module": "@jupyter-widgets/controls",
          "model_name": "DescriptionStyleModel",
          "model_module_version": "1.5.0",
          "state": {
            "_model_module": "@jupyter-widgets/controls",
            "_model_module_version": "1.5.0",
            "_model_name": "DescriptionStyleModel",
            "_view_count": null,
            "_view_module": "@jupyter-widgets/base",
            "_view_module_version": "1.2.0",
            "_view_name": "StyleView",
            "description_width": ""
          }
        },
        "d7eac58d16c244268ac7b2d271577998": {
          "model_module": "@jupyter-widgets/base",
          "model_name": "LayoutModel",
          "model_module_version": "1.2.0",
          "state": {
            "_model_module": "@jupyter-widgets/base",
            "_model_module_version": "1.2.0",
            "_model_name": "LayoutModel",
            "_view_count": null,
            "_view_module": "@jupyter-widgets/base",
            "_view_module_version": "1.2.0",
            "_view_name": "LayoutView",
            "align_content": null,
            "align_items": null,
            "align_self": null,
            "border": null,
            "bottom": null,
            "display": null,
            "flex": null,
            "flex_flow": null,
            "grid_area": null,
            "grid_auto_columns": null,
            "grid_auto_flow": null,
            "grid_auto_rows": null,
            "grid_column": null,
            "grid_gap": null,
            "grid_row": null,
            "grid_template_areas": null,
            "grid_template_columns": null,
            "grid_template_rows": null,
            "height": null,
            "justify_content": null,
            "justify_items": null,
            "left": null,
            "margin": null,
            "max_height": null,
            "max_width": null,
            "min_height": null,
            "min_width": null,
            "object_fit": null,
            "object_position": null,
            "order": null,
            "overflow": null,
            "overflow_x": null,
            "overflow_y": null,
            "padding": null,
            "right": null,
            "top": null,
            "visibility": null,
            "width": null
          }
        },
        "2fd1a0adee1b47d4bebaa53215a3ea26": {
          "model_module": "@jupyter-widgets/controls",
          "model_name": "ProgressStyleModel",
          "model_module_version": "1.5.0",
          "state": {
            "_model_module": "@jupyter-widgets/controls",
            "_model_module_version": "1.5.0",
            "_model_name": "ProgressStyleModel",
            "_view_count": null,
            "_view_module": "@jupyter-widgets/base",
            "_view_module_version": "1.2.0",
            "_view_name": "StyleView",
            "bar_color": null,
            "description_width": ""
          }
        },
        "692f4ff679734eb8af6a9cbc260a140f": {
          "model_module": "@jupyter-widgets/base",
          "model_name": "LayoutModel",
          "model_module_version": "1.2.0",
          "state": {
            "_model_module": "@jupyter-widgets/base",
            "_model_module_version": "1.2.0",
            "_model_name": "LayoutModel",
            "_view_count": null,
            "_view_module": "@jupyter-widgets/base",
            "_view_module_version": "1.2.0",
            "_view_name": "LayoutView",
            "align_content": null,
            "align_items": null,
            "align_self": null,
            "border": null,
            "bottom": null,
            "display": null,
            "flex": null,
            "flex_flow": null,
            "grid_area": null,
            "grid_auto_columns": null,
            "grid_auto_flow": null,
            "grid_auto_rows": null,
            "grid_column": null,
            "grid_gap": null,
            "grid_row": null,
            "grid_template_areas": null,
            "grid_template_columns": null,
            "grid_template_rows": null,
            "height": null,
            "justify_content": null,
            "justify_items": null,
            "left": null,
            "margin": null,
            "max_height": null,
            "max_width": null,
            "min_height": null,
            "min_width": null,
            "object_fit": null,
            "object_position": null,
            "order": null,
            "overflow": null,
            "overflow_x": null,
            "overflow_y": null,
            "padding": null,
            "right": null,
            "top": null,
            "visibility": null,
            "width": null
          }
        },
        "67c0f451bf4844a995d6d789f362d382": {
          "model_module": "@jupyter-widgets/controls",
          "model_name": "DescriptionStyleModel",
          "model_module_version": "1.5.0",
          "state": {
            "_model_module": "@jupyter-widgets/controls",
            "_model_module_version": "1.5.0",
            "_model_name": "DescriptionStyleModel",
            "_view_count": null,
            "_view_module": "@jupyter-widgets/base",
            "_view_module_version": "1.2.0",
            "_view_name": "StyleView",
            "description_width": ""
          }
        },
        "44792bea175e4178954cda4af19b3206": {
          "model_module": "@jupyter-widgets/controls",
          "model_name": "HBoxModel",
          "model_module_version": "1.5.0",
          "state": {
            "_dom_classes": [],
            "_model_module": "@jupyter-widgets/controls",
            "_model_module_version": "1.5.0",
            "_model_name": "HBoxModel",
            "_view_count": null,
            "_view_module": "@jupyter-widgets/controls",
            "_view_module_version": "1.5.0",
            "_view_name": "HBoxView",
            "box_style": "",
            "children": [
              "IPY_MODEL_01523b16840d43708ebf8fda1f94211c",
              "IPY_MODEL_f4011389b7c94120b9b11b34ab456464",
              "IPY_MODEL_13d0557947034caf9f741b938d00d91d"
            ],
            "layout": "IPY_MODEL_3b65b960820543d2813fa501e0ad6a6c"
          }
        },
        "01523b16840d43708ebf8fda1f94211c": {
          "model_module": "@jupyter-widgets/controls",
          "model_name": "HTMLModel",
          "model_module_version": "1.5.0",
          "state": {
            "_dom_classes": [],
            "_model_module": "@jupyter-widgets/controls",
            "_model_module_version": "1.5.0",
            "_model_name": "HTMLModel",
            "_view_count": null,
            "_view_module": "@jupyter-widgets/controls",
            "_view_module_version": "1.5.0",
            "_view_name": "HTMLView",
            "description": "",
            "description_tooltip": null,
            "layout": "IPY_MODEL_ae1447773c774571a7db53de712a521e",
            "placeholder": "​",
            "style": "IPY_MODEL_0ed206e944d54d4ab2b053ba569e4458",
            "value": "Downloading (…)lve/main/config.json: 100%"
          }
        },
        "f4011389b7c94120b9b11b34ab456464": {
          "model_module": "@jupyter-widgets/controls",
          "model_name": "FloatProgressModel",
          "model_module_version": "1.5.0",
          "state": {
            "_dom_classes": [],
            "_model_module": "@jupyter-widgets/controls",
            "_model_module_version": "1.5.0",
            "_model_name": "FloatProgressModel",
            "_view_count": null,
            "_view_module": "@jupyter-widgets/controls",
            "_view_module_version": "1.5.0",
            "_view_name": "ProgressView",
            "bar_style": "success",
            "description": "",
            "description_tooltip": null,
            "layout": "IPY_MODEL_aeedd4c024954d0dbd08729652d216b5",
            "max": 553,
            "min": 0,
            "orientation": "horizontal",
            "style": "IPY_MODEL_f50e6ef69efe40a7899174f958013960",
            "value": 553
          }
        },
        "13d0557947034caf9f741b938d00d91d": {
          "model_module": "@jupyter-widgets/controls",
          "model_name": "HTMLModel",
          "model_module_version": "1.5.0",
          "state": {
            "_dom_classes": [],
            "_model_module": "@jupyter-widgets/controls",
            "_model_module_version": "1.5.0",
            "_model_name": "HTMLModel",
            "_view_count": null,
            "_view_module": "@jupyter-widgets/controls",
            "_view_module_version": "1.5.0",
            "_view_name": "HTMLView",
            "description": "",
            "description_tooltip": null,
            "layout": "IPY_MODEL_2622a975bb094bcd89b48c9e13ee85c4",
            "placeholder": "​",
            "style": "IPY_MODEL_cadf190921a14b80850ce64fac6d5515",
            "value": " 553/553 [00:00&lt;00:00, 21.5kB/s]"
          }
        },
        "3b65b960820543d2813fa501e0ad6a6c": {
          "model_module": "@jupyter-widgets/base",
          "model_name": "LayoutModel",
          "model_module_version": "1.2.0",
          "state": {
            "_model_module": "@jupyter-widgets/base",
            "_model_module_version": "1.2.0",
            "_model_name": "LayoutModel",
            "_view_count": null,
            "_view_module": "@jupyter-widgets/base",
            "_view_module_version": "1.2.0",
            "_view_name": "LayoutView",
            "align_content": null,
            "align_items": null,
            "align_self": null,
            "border": null,
            "bottom": null,
            "display": null,
            "flex": null,
            "flex_flow": null,
            "grid_area": null,
            "grid_auto_columns": null,
            "grid_auto_flow": null,
            "grid_auto_rows": null,
            "grid_column": null,
            "grid_gap": null,
            "grid_row": null,
            "grid_template_areas": null,
            "grid_template_columns": null,
            "grid_template_rows": null,
            "height": null,
            "justify_content": null,
            "justify_items": null,
            "left": null,
            "margin": null,
            "max_height": null,
            "max_width": null,
            "min_height": null,
            "min_width": null,
            "object_fit": null,
            "object_position": null,
            "order": null,
            "overflow": null,
            "overflow_x": null,
            "overflow_y": null,
            "padding": null,
            "right": null,
            "top": null,
            "visibility": null,
            "width": null
          }
        },
        "ae1447773c774571a7db53de712a521e": {
          "model_module": "@jupyter-widgets/base",
          "model_name": "LayoutModel",
          "model_module_version": "1.2.0",
          "state": {
            "_model_module": "@jupyter-widgets/base",
            "_model_module_version": "1.2.0",
            "_model_name": "LayoutModel",
            "_view_count": null,
            "_view_module": "@jupyter-widgets/base",
            "_view_module_version": "1.2.0",
            "_view_name": "LayoutView",
            "align_content": null,
            "align_items": null,
            "align_self": null,
            "border": null,
            "bottom": null,
            "display": null,
            "flex": null,
            "flex_flow": null,
            "grid_area": null,
            "grid_auto_columns": null,
            "grid_auto_flow": null,
            "grid_auto_rows": null,
            "grid_column": null,
            "grid_gap": null,
            "grid_row": null,
            "grid_template_areas": null,
            "grid_template_columns": null,
            "grid_template_rows": null,
            "height": null,
            "justify_content": null,
            "justify_items": null,
            "left": null,
            "margin": null,
            "max_height": null,
            "max_width": null,
            "min_height": null,
            "min_width": null,
            "object_fit": null,
            "object_position": null,
            "order": null,
            "overflow": null,
            "overflow_x": null,
            "overflow_y": null,
            "padding": null,
            "right": null,
            "top": null,
            "visibility": null,
            "width": null
          }
        },
        "0ed206e944d54d4ab2b053ba569e4458": {
          "model_module": "@jupyter-widgets/controls",
          "model_name": "DescriptionStyleModel",
          "model_module_version": "1.5.0",
          "state": {
            "_model_module": "@jupyter-widgets/controls",
            "_model_module_version": "1.5.0",
            "_model_name": "DescriptionStyleModel",
            "_view_count": null,
            "_view_module": "@jupyter-widgets/base",
            "_view_module_version": "1.2.0",
            "_view_name": "StyleView",
            "description_width": ""
          }
        },
        "aeedd4c024954d0dbd08729652d216b5": {
          "model_module": "@jupyter-widgets/base",
          "model_name": "LayoutModel",
          "model_module_version": "1.2.0",
          "state": {
            "_model_module": "@jupyter-widgets/base",
            "_model_module_version": "1.2.0",
            "_model_name": "LayoutModel",
            "_view_count": null,
            "_view_module": "@jupyter-widgets/base",
            "_view_module_version": "1.2.0",
            "_view_name": "LayoutView",
            "align_content": null,
            "align_items": null,
            "align_self": null,
            "border": null,
            "bottom": null,
            "display": null,
            "flex": null,
            "flex_flow": null,
            "grid_area": null,
            "grid_auto_columns": null,
            "grid_auto_flow": null,
            "grid_auto_rows": null,
            "grid_column": null,
            "grid_gap": null,
            "grid_row": null,
            "grid_template_areas": null,
            "grid_template_columns": null,
            "grid_template_rows": null,
            "height": null,
            "justify_content": null,
            "justify_items": null,
            "left": null,
            "margin": null,
            "max_height": null,
            "max_width": null,
            "min_height": null,
            "min_width": null,
            "object_fit": null,
            "object_position": null,
            "order": null,
            "overflow": null,
            "overflow_x": null,
            "overflow_y": null,
            "padding": null,
            "right": null,
            "top": null,
            "visibility": null,
            "width": null
          }
        },
        "f50e6ef69efe40a7899174f958013960": {
          "model_module": "@jupyter-widgets/controls",
          "model_name": "ProgressStyleModel",
          "model_module_version": "1.5.0",
          "state": {
            "_model_module": "@jupyter-widgets/controls",
            "_model_module_version": "1.5.0",
            "_model_name": "ProgressStyleModel",
            "_view_count": null,
            "_view_module": "@jupyter-widgets/base",
            "_view_module_version": "1.2.0",
            "_view_name": "StyleView",
            "bar_color": null,
            "description_width": ""
          }
        },
        "2622a975bb094bcd89b48c9e13ee85c4": {
          "model_module": "@jupyter-widgets/base",
          "model_name": "LayoutModel",
          "model_module_version": "1.2.0",
          "state": {
            "_model_module": "@jupyter-widgets/base",
            "_model_module_version": "1.2.0",
            "_model_name": "LayoutModel",
            "_view_count": null,
            "_view_module": "@jupyter-widgets/base",
            "_view_module_version": "1.2.0",
            "_view_name": "LayoutView",
            "align_content": null,
            "align_items": null,
            "align_self": null,
            "border": null,
            "bottom": null,
            "display": null,
            "flex": null,
            "flex_flow": null,
            "grid_area": null,
            "grid_auto_columns": null,
            "grid_auto_flow": null,
            "grid_auto_rows": null,
            "grid_column": null,
            "grid_gap": null,
            "grid_row": null,
            "grid_template_areas": null,
            "grid_template_columns": null,
            "grid_template_rows": null,
            "height": null,
            "justify_content": null,
            "justify_items": null,
            "left": null,
            "margin": null,
            "max_height": null,
            "max_width": null,
            "min_height": null,
            "min_width": null,
            "object_fit": null,
            "object_position": null,
            "order": null,
            "overflow": null,
            "overflow_x": null,
            "overflow_y": null,
            "padding": null,
            "right": null,
            "top": null,
            "visibility": null,
            "width": null
          }
        },
        "cadf190921a14b80850ce64fac6d5515": {
          "model_module": "@jupyter-widgets/controls",
          "model_name": "DescriptionStyleModel",
          "model_module_version": "1.5.0",
          "state": {
            "_model_module": "@jupyter-widgets/controls",
            "_model_module_version": "1.5.0",
            "_model_name": "DescriptionStyleModel",
            "_view_count": null,
            "_view_module": "@jupyter-widgets/base",
            "_view_module_version": "1.2.0",
            "_view_name": "StyleView",
            "description_width": ""
          }
        },
        "24cbc4f6775c45ea9238efdf9812f179": {
          "model_module": "@jupyter-widgets/controls",
          "model_name": "HBoxModel",
          "model_module_version": "1.5.0",
          "state": {
            "_dom_classes": [],
            "_model_module": "@jupyter-widgets/controls",
            "_model_module_version": "1.5.0",
            "_model_name": "HBoxModel",
            "_view_count": null,
            "_view_module": "@jupyter-widgets/controls",
            "_view_module_version": "1.5.0",
            "_view_name": "HBoxView",
            "box_style": "",
            "children": [
              "IPY_MODEL_74df5cdc9f9b4bab81c05ca1ba9219d0",
              "IPY_MODEL_2269de442f1b41a486fd4e221d1d0a9d",
              "IPY_MODEL_b1f29684ae5f4802be54b4af6a913bdd"
            ],
            "layout": "IPY_MODEL_d379d3d9cfee4a88b1b101b109c0a2a5"
          }
        },
        "74df5cdc9f9b4bab81c05ca1ba9219d0": {
          "model_module": "@jupyter-widgets/controls",
          "model_name": "HTMLModel",
          "model_module_version": "1.5.0",
          "state": {
            "_dom_classes": [],
            "_model_module": "@jupyter-widgets/controls",
            "_model_module_version": "1.5.0",
            "_model_name": "HTMLModel",
            "_view_count": null,
            "_view_module": "@jupyter-widgets/controls",
            "_view_module_version": "1.5.0",
            "_view_name": "HTMLView",
            "description": "",
            "description_tooltip": null,
            "layout": "IPY_MODEL_9afa81b4946a471090c77e5aadd96f25",
            "placeholder": "​",
            "style": "IPY_MODEL_f95eb80445d04a918ffa8b44304e93d8",
            "value": "Downloading (…)ve/main/spiece.model: 100%"
          }
        },
        "2269de442f1b41a486fd4e221d1d0a9d": {
          "model_module": "@jupyter-widgets/controls",
          "model_name": "FloatProgressModel",
          "model_module_version": "1.5.0",
          "state": {
            "_dom_classes": [],
            "_model_module": "@jupyter-widgets/controls",
            "_model_module_version": "1.5.0",
            "_model_name": "FloatProgressModel",
            "_view_count": null,
            "_view_module": "@jupyter-widgets/controls",
            "_view_module_version": "1.5.0",
            "_view_name": "ProgressView",
            "bar_style": "success",
            "description": "",
            "description_tooltip": null,
            "layout": "IPY_MODEL_2a04e5e04ef9461faea3d3492e17683a",
            "max": 4309802,
            "min": 0,
            "orientation": "horizontal",
            "style": "IPY_MODEL_9084621ebdfa4b01bea03b67dde2c3ff",
            "value": 4309802
          }
        },
        "b1f29684ae5f4802be54b4af6a913bdd": {
          "model_module": "@jupyter-widgets/controls",
          "model_name": "HTMLModel",
          "model_module_version": "1.5.0",
          "state": {
            "_dom_classes": [],
            "_model_module": "@jupyter-widgets/controls",
            "_model_module_version": "1.5.0",
            "_model_name": "HTMLModel",
            "_view_count": null,
            "_view_module": "@jupyter-widgets/controls",
            "_view_module_version": "1.5.0",
            "_view_name": "HTMLView",
            "description": "",
            "description_tooltip": null,
            "layout": "IPY_MODEL_b8535354e3534c15b0e282b732d80dc6",
            "placeholder": "​",
            "style": "IPY_MODEL_24f8a919e3484bd183e9d8a84fdba238",
            "value": " 4.31M/4.31M [00:00&lt;00:00, 11.6MB/s]"
          }
        },
        "d379d3d9cfee4a88b1b101b109c0a2a5": {
          "model_module": "@jupyter-widgets/base",
          "model_name": "LayoutModel",
          "model_module_version": "1.2.0",
          "state": {
            "_model_module": "@jupyter-widgets/base",
            "_model_module_version": "1.2.0",
            "_model_name": "LayoutModel",
            "_view_count": null,
            "_view_module": "@jupyter-widgets/base",
            "_view_module_version": "1.2.0",
            "_view_name": "LayoutView",
            "align_content": null,
            "align_items": null,
            "align_self": null,
            "border": null,
            "bottom": null,
            "display": null,
            "flex": null,
            "flex_flow": null,
            "grid_area": null,
            "grid_auto_columns": null,
            "grid_auto_flow": null,
            "grid_auto_rows": null,
            "grid_column": null,
            "grid_gap": null,
            "grid_row": null,
            "grid_template_areas": null,
            "grid_template_columns": null,
            "grid_template_rows": null,
            "height": null,
            "justify_content": null,
            "justify_items": null,
            "left": null,
            "margin": null,
            "max_height": null,
            "max_width": null,
            "min_height": null,
            "min_width": null,
            "object_fit": null,
            "object_position": null,
            "order": null,
            "overflow": null,
            "overflow_x": null,
            "overflow_y": null,
            "padding": null,
            "right": null,
            "top": null,
            "visibility": null,
            "width": null
          }
        },
        "9afa81b4946a471090c77e5aadd96f25": {
          "model_module": "@jupyter-widgets/base",
          "model_name": "LayoutModel",
          "model_module_version": "1.2.0",
          "state": {
            "_model_module": "@jupyter-widgets/base",
            "_model_module_version": "1.2.0",
            "_model_name": "LayoutModel",
            "_view_count": null,
            "_view_module": "@jupyter-widgets/base",
            "_view_module_version": "1.2.0",
            "_view_name": "LayoutView",
            "align_content": null,
            "align_items": null,
            "align_self": null,
            "border": null,
            "bottom": null,
            "display": null,
            "flex": null,
            "flex_flow": null,
            "grid_area": null,
            "grid_auto_columns": null,
            "grid_auto_flow": null,
            "grid_auto_rows": null,
            "grid_column": null,
            "grid_gap": null,
            "grid_row": null,
            "grid_template_areas": null,
            "grid_template_columns": null,
            "grid_template_rows": null,
            "height": null,
            "justify_content": null,
            "justify_items": null,
            "left": null,
            "margin": null,
            "max_height": null,
            "max_width": null,
            "min_height": null,
            "min_width": null,
            "object_fit": null,
            "object_position": null,
            "order": null,
            "overflow": null,
            "overflow_x": null,
            "overflow_y": null,
            "padding": null,
            "right": null,
            "top": null,
            "visibility": null,
            "width": null
          }
        },
        "f95eb80445d04a918ffa8b44304e93d8": {
          "model_module": "@jupyter-widgets/controls",
          "model_name": "DescriptionStyleModel",
          "model_module_version": "1.5.0",
          "state": {
            "_model_module": "@jupyter-widgets/controls",
            "_model_module_version": "1.5.0",
            "_model_name": "DescriptionStyleModel",
            "_view_count": null,
            "_view_module": "@jupyter-widgets/base",
            "_view_module_version": "1.2.0",
            "_view_name": "StyleView",
            "description_width": ""
          }
        },
        "2a04e5e04ef9461faea3d3492e17683a": {
          "model_module": "@jupyter-widgets/base",
          "model_name": "LayoutModel",
          "model_module_version": "1.2.0",
          "state": {
            "_model_module": "@jupyter-widgets/base",
            "_model_module_version": "1.2.0",
            "_model_name": "LayoutModel",
            "_view_count": null,
            "_view_module": "@jupyter-widgets/base",
            "_view_module_version": "1.2.0",
            "_view_name": "LayoutView",
            "align_content": null,
            "align_items": null,
            "align_self": null,
            "border": null,
            "bottom": null,
            "display": null,
            "flex": null,
            "flex_flow": null,
            "grid_area": null,
            "grid_auto_columns": null,
            "grid_auto_flow": null,
            "grid_auto_rows": null,
            "grid_column": null,
            "grid_gap": null,
            "grid_row": null,
            "grid_template_areas": null,
            "grid_template_columns": null,
            "grid_template_rows": null,
            "height": null,
            "justify_content": null,
            "justify_items": null,
            "left": null,
            "margin": null,
            "max_height": null,
            "max_width": null,
            "min_height": null,
            "min_width": null,
            "object_fit": null,
            "object_position": null,
            "order": null,
            "overflow": null,
            "overflow_x": null,
            "overflow_y": null,
            "padding": null,
            "right": null,
            "top": null,
            "visibility": null,
            "width": null
          }
        },
        "9084621ebdfa4b01bea03b67dde2c3ff": {
          "model_module": "@jupyter-widgets/controls",
          "model_name": "ProgressStyleModel",
          "model_module_version": "1.5.0",
          "state": {
            "_model_module": "@jupyter-widgets/controls",
            "_model_module_version": "1.5.0",
            "_model_name": "ProgressStyleModel",
            "_view_count": null,
            "_view_module": "@jupyter-widgets/base",
            "_view_module_version": "1.2.0",
            "_view_name": "StyleView",
            "bar_color": null,
            "description_width": ""
          }
        },
        "b8535354e3534c15b0e282b732d80dc6": {
          "model_module": "@jupyter-widgets/base",
          "model_name": "LayoutModel",
          "model_module_version": "1.2.0",
          "state": {
            "_model_module": "@jupyter-widgets/base",
            "_model_module_version": "1.2.0",
            "_model_name": "LayoutModel",
            "_view_count": null,
            "_view_module": "@jupyter-widgets/base",
            "_view_module_version": "1.2.0",
            "_view_name": "LayoutView",
            "align_content": null,
            "align_items": null,
            "align_self": null,
            "border": null,
            "bottom": null,
            "display": null,
            "flex": null,
            "flex_flow": null,
            "grid_area": null,
            "grid_auto_columns": null,
            "grid_auto_flow": null,
            "grid_auto_rows": null,
            "grid_column": null,
            "grid_gap": null,
            "grid_row": null,
            "grid_template_areas": null,
            "grid_template_columns": null,
            "grid_template_rows": null,
            "height": null,
            "justify_content": null,
            "justify_items": null,
            "left": null,
            "margin": null,
            "max_height": null,
            "max_width": null,
            "min_height": null,
            "min_width": null,
            "object_fit": null,
            "object_position": null,
            "order": null,
            "overflow": null,
            "overflow_x": null,
            "overflow_y": null,
            "padding": null,
            "right": null,
            "top": null,
            "visibility": null,
            "width": null
          }
        },
        "24f8a919e3484bd183e9d8a84fdba238": {
          "model_module": "@jupyter-widgets/controls",
          "model_name": "DescriptionStyleModel",
          "model_module_version": "1.5.0",
          "state": {
            "_model_module": "@jupyter-widgets/controls",
            "_model_module_version": "1.5.0",
            "_model_name": "DescriptionStyleModel",
            "_view_count": null,
            "_view_module": "@jupyter-widgets/base",
            "_view_module_version": "1.2.0",
            "_view_name": "StyleView",
            "description_width": ""
          }
        },
        "27dee2e636a3478b9d4b2ce96f121846": {
          "model_module": "@jupyter-widgets/controls",
          "model_name": "HBoxModel",
          "model_module_version": "1.5.0",
          "state": {
            "_dom_classes": [],
            "_model_module": "@jupyter-widgets/controls",
            "_model_module_version": "1.5.0",
            "_model_name": "HBoxModel",
            "_view_count": null,
            "_view_module": "@jupyter-widgets/controls",
            "_view_module_version": "1.5.0",
            "_view_name": "HBoxView",
            "box_style": "",
            "children": [
              "IPY_MODEL_6f1b949068af438aa012ad6851bd3fcd",
              "IPY_MODEL_7ff75fc1fbb74b6bb232ef9b283a944e",
              "IPY_MODEL_22e56652a4e1482a8cc1e793bff1449d"
            ],
            "layout": "IPY_MODEL_b1b316eb5fe4429c9e6ae390ca7b2187"
          }
        },
        "6f1b949068af438aa012ad6851bd3fcd": {
          "model_module": "@jupyter-widgets/controls",
          "model_name": "HTMLModel",
          "model_module_version": "1.5.0",
          "state": {
            "_dom_classes": [],
            "_model_module": "@jupyter-widgets/controls",
            "_model_module_version": "1.5.0",
            "_model_name": "HTMLModel",
            "_view_count": null,
            "_view_module": "@jupyter-widgets/controls",
            "_view_module_version": "1.5.0",
            "_view_name": "HTMLView",
            "description": "",
            "description_tooltip": null,
            "layout": "IPY_MODEL_9f0f83c5d0b740e3aba1c373200b92b0",
            "placeholder": "​",
            "style": "IPY_MODEL_b3bace984f0c4f4ea2f9819e9966abdd",
            "value": "Downloading (…)cial_tokens_map.json: 100%"
          }
        },
        "7ff75fc1fbb74b6bb232ef9b283a944e": {
          "model_module": "@jupyter-widgets/controls",
          "model_name": "FloatProgressModel",
          "model_module_version": "1.5.0",
          "state": {
            "_dom_classes": [],
            "_model_module": "@jupyter-widgets/controls",
            "_model_module_version": "1.5.0",
            "_model_name": "FloatProgressModel",
            "_view_count": null,
            "_view_module": "@jupyter-widgets/controls",
            "_view_module_version": "1.5.0",
            "_view_name": "ProgressView",
            "bar_style": "success",
            "description": "",
            "description_tooltip": null,
            "layout": "IPY_MODEL_c1ce66186cc0492d93e37ce19b63b28c",
            "max": 99,
            "min": 0,
            "orientation": "horizontal",
            "style": "IPY_MODEL_ca7a3e89820f4471820ab565e6f7e38e",
            "value": 99
          }
        },
        "22e56652a4e1482a8cc1e793bff1449d": {
          "model_module": "@jupyter-widgets/controls",
          "model_name": "HTMLModel",
          "model_module_version": "1.5.0",
          "state": {
            "_dom_classes": [],
            "_model_module": "@jupyter-widgets/controls",
            "_model_module_version": "1.5.0",
            "_model_name": "HTMLModel",
            "_view_count": null,
            "_view_module": "@jupyter-widgets/controls",
            "_view_module_version": "1.5.0",
            "_view_name": "HTMLView",
            "description": "",
            "description_tooltip": null,
            "layout": "IPY_MODEL_b9dbb6528d8f46088484b0ff0f9c84c0",
            "placeholder": "​",
            "style": "IPY_MODEL_6c236b5d35be4444b87979ff2ed4d19a",
            "value": " 99.0/99.0 [00:00&lt;00:00, 6.24kB/s]"
          }
        },
        "b1b316eb5fe4429c9e6ae390ca7b2187": {
          "model_module": "@jupyter-widgets/base",
          "model_name": "LayoutModel",
          "model_module_version": "1.2.0",
          "state": {
            "_model_module": "@jupyter-widgets/base",
            "_model_module_version": "1.2.0",
            "_model_name": "LayoutModel",
            "_view_count": null,
            "_view_module": "@jupyter-widgets/base",
            "_view_module_version": "1.2.0",
            "_view_name": "LayoutView",
            "align_content": null,
            "align_items": null,
            "align_self": null,
            "border": null,
            "bottom": null,
            "display": null,
            "flex": null,
            "flex_flow": null,
            "grid_area": null,
            "grid_auto_columns": null,
            "grid_auto_flow": null,
            "grid_auto_rows": null,
            "grid_column": null,
            "grid_gap": null,
            "grid_row": null,
            "grid_template_areas": null,
            "grid_template_columns": null,
            "grid_template_rows": null,
            "height": null,
            "justify_content": null,
            "justify_items": null,
            "left": null,
            "margin": null,
            "max_height": null,
            "max_width": null,
            "min_height": null,
            "min_width": null,
            "object_fit": null,
            "object_position": null,
            "order": null,
            "overflow": null,
            "overflow_x": null,
            "overflow_y": null,
            "padding": null,
            "right": null,
            "top": null,
            "visibility": null,
            "width": null
          }
        },
        "9f0f83c5d0b740e3aba1c373200b92b0": {
          "model_module": "@jupyter-widgets/base",
          "model_name": "LayoutModel",
          "model_module_version": "1.2.0",
          "state": {
            "_model_module": "@jupyter-widgets/base",
            "_model_module_version": "1.2.0",
            "_model_name": "LayoutModel",
            "_view_count": null,
            "_view_module": "@jupyter-widgets/base",
            "_view_module_version": "1.2.0",
            "_view_name": "LayoutView",
            "align_content": null,
            "align_items": null,
            "align_self": null,
            "border": null,
            "bottom": null,
            "display": null,
            "flex": null,
            "flex_flow": null,
            "grid_area": null,
            "grid_auto_columns": null,
            "grid_auto_flow": null,
            "grid_auto_rows": null,
            "grid_column": null,
            "grid_gap": null,
            "grid_row": null,
            "grid_template_areas": null,
            "grid_template_columns": null,
            "grid_template_rows": null,
            "height": null,
            "justify_content": null,
            "justify_items": null,
            "left": null,
            "margin": null,
            "max_height": null,
            "max_width": null,
            "min_height": null,
            "min_width": null,
            "object_fit": null,
            "object_position": null,
            "order": null,
            "overflow": null,
            "overflow_x": null,
            "overflow_y": null,
            "padding": null,
            "right": null,
            "top": null,
            "visibility": null,
            "width": null
          }
        },
        "b3bace984f0c4f4ea2f9819e9966abdd": {
          "model_module": "@jupyter-widgets/controls",
          "model_name": "DescriptionStyleModel",
          "model_module_version": "1.5.0",
          "state": {
            "_model_module": "@jupyter-widgets/controls",
            "_model_module_version": "1.5.0",
            "_model_name": "DescriptionStyleModel",
            "_view_count": null,
            "_view_module": "@jupyter-widgets/base",
            "_view_module_version": "1.2.0",
            "_view_name": "StyleView",
            "description_width": ""
          }
        },
        "c1ce66186cc0492d93e37ce19b63b28c": {
          "model_module": "@jupyter-widgets/base",
          "model_name": "LayoutModel",
          "model_module_version": "1.2.0",
          "state": {
            "_model_module": "@jupyter-widgets/base",
            "_model_module_version": "1.2.0",
            "_model_name": "LayoutModel",
            "_view_count": null,
            "_view_module": "@jupyter-widgets/base",
            "_view_module_version": "1.2.0",
            "_view_name": "LayoutView",
            "align_content": null,
            "align_items": null,
            "align_self": null,
            "border": null,
            "bottom": null,
            "display": null,
            "flex": null,
            "flex_flow": null,
            "grid_area": null,
            "grid_auto_columns": null,
            "grid_auto_flow": null,
            "grid_auto_rows": null,
            "grid_column": null,
            "grid_gap": null,
            "grid_row": null,
            "grid_template_areas": null,
            "grid_template_columns": null,
            "grid_template_rows": null,
            "height": null,
            "justify_content": null,
            "justify_items": null,
            "left": null,
            "margin": null,
            "max_height": null,
            "max_width": null,
            "min_height": null,
            "min_width": null,
            "object_fit": null,
            "object_position": null,
            "order": null,
            "overflow": null,
            "overflow_x": null,
            "overflow_y": null,
            "padding": null,
            "right": null,
            "top": null,
            "visibility": null,
            "width": null
          }
        },
        "ca7a3e89820f4471820ab565e6f7e38e": {
          "model_module": "@jupyter-widgets/controls",
          "model_name": "ProgressStyleModel",
          "model_module_version": "1.5.0",
          "state": {
            "_model_module": "@jupyter-widgets/controls",
            "_model_module_version": "1.5.0",
            "_model_name": "ProgressStyleModel",
            "_view_count": null,
            "_view_module": "@jupyter-widgets/base",
            "_view_module_version": "1.2.0",
            "_view_name": "StyleView",
            "bar_color": null,
            "description_width": ""
          }
        },
        "b9dbb6528d8f46088484b0ff0f9c84c0": {
          "model_module": "@jupyter-widgets/base",
          "model_name": "LayoutModel",
          "model_module_version": "1.2.0",
          "state": {
            "_model_module": "@jupyter-widgets/base",
            "_model_module_version": "1.2.0",
            "_model_name": "LayoutModel",
            "_view_count": null,
            "_view_module": "@jupyter-widgets/base",
            "_view_module_version": "1.2.0",
            "_view_name": "LayoutView",
            "align_content": null,
            "align_items": null,
            "align_self": null,
            "border": null,
            "bottom": null,
            "display": null,
            "flex": null,
            "flex_flow": null,
            "grid_area": null,
            "grid_auto_columns": null,
            "grid_auto_flow": null,
            "grid_auto_rows": null,
            "grid_column": null,
            "grid_gap": null,
            "grid_row": null,
            "grid_template_areas": null,
            "grid_template_columns": null,
            "grid_template_rows": null,
            "height": null,
            "justify_content": null,
            "justify_items": null,
            "left": null,
            "margin": null,
            "max_height": null,
            "max_width": null,
            "min_height": null,
            "min_width": null,
            "object_fit": null,
            "object_position": null,
            "order": null,
            "overflow": null,
            "overflow_x": null,
            "overflow_y": null,
            "padding": null,
            "right": null,
            "top": null,
            "visibility": null,
            "width": null
          }
        },
        "6c236b5d35be4444b87979ff2ed4d19a": {
          "model_module": "@jupyter-widgets/controls",
          "model_name": "DescriptionStyleModel",
          "model_module_version": "1.5.0",
          "state": {
            "_model_module": "@jupyter-widgets/controls",
            "_model_module_version": "1.5.0",
            "_model_name": "DescriptionStyleModel",
            "_view_count": null,
            "_view_module": "@jupyter-widgets/base",
            "_view_module_version": "1.2.0",
            "_view_name": "StyleView",
            "description_width": ""
          }
        },
        "203a62b24972498fac046137f5a6c1bf": {
          "model_module": "@jupyter-widgets/controls",
          "model_name": "HBoxModel",
          "model_module_version": "1.5.0",
          "state": {
            "_dom_classes": [],
            "_model_module": "@jupyter-widgets/controls",
            "_model_module_version": "1.5.0",
            "_model_name": "HBoxModel",
            "_view_count": null,
            "_view_module": "@jupyter-widgets/controls",
            "_view_module_version": "1.5.0",
            "_view_name": "HBoxView",
            "box_style": "",
            "children": [
              "IPY_MODEL_d9dff10f46744024b24528a29e49380c",
              "IPY_MODEL_84483290ef8b4766a5b5ddeb87b3a3ae",
              "IPY_MODEL_cbb411f26f3f471b84b082621796c7a7"
            ],
            "layout": "IPY_MODEL_4bbe0cd1bb99490e91e84025470ffda9"
          }
        },
        "d9dff10f46744024b24528a29e49380c": {
          "model_module": "@jupyter-widgets/controls",
          "model_name": "HTMLModel",
          "model_module_version": "1.5.0",
          "state": {
            "_dom_classes": [],
            "_model_module": "@jupyter-widgets/controls",
            "_model_module_version": "1.5.0",
            "_model_name": "HTMLModel",
            "_view_count": null,
            "_view_module": "@jupyter-widgets/controls",
            "_view_module_version": "1.5.0",
            "_view_name": "HTMLView",
            "description": "",
            "description_tooltip": null,
            "layout": "IPY_MODEL_e074b3eb7ec64e23a416e44cd0112174",
            "placeholder": "​",
            "style": "IPY_MODEL_19bbb16464cd4131ac4864b97ae6cbfb",
            "value": "Downloading pytorch_model.bin: 100%"
          }
        },
        "84483290ef8b4766a5b5ddeb87b3a3ae": {
          "model_module": "@jupyter-widgets/controls",
          "model_name": "FloatProgressModel",
          "model_module_version": "1.5.0",
          "state": {
            "_dom_classes": [],
            "_model_module": "@jupyter-widgets/controls",
            "_model_module_version": "1.5.0",
            "_model_name": "FloatProgressModel",
            "_view_count": null,
            "_view_module": "@jupyter-widgets/controls",
            "_view_module_version": "1.5.0",
            "_view_name": "ProgressView",
            "bar_style": "success",
            "description": "",
            "description_tooltip": null,
            "layout": "IPY_MODEL_b69516b31d42439e957043b991d1892c",
            "max": 1200794589,
            "min": 0,
            "orientation": "horizontal",
            "style": "IPY_MODEL_8a34541280e64340a57c93ca6a90552c",
            "value": 1200794589
          }
        },
        "cbb411f26f3f471b84b082621796c7a7": {
          "model_module": "@jupyter-widgets/controls",
          "model_name": "HTMLModel",
          "model_module_version": "1.5.0",
          "state": {
            "_dom_classes": [],
            "_model_module": "@jupyter-widgets/controls",
            "_model_module_version": "1.5.0",
            "_model_name": "HTMLModel",
            "_view_count": null,
            "_view_module": "@jupyter-widgets/controls",
            "_view_module_version": "1.5.0",
            "_view_name": "HTMLView",
            "description": "",
            "description_tooltip": null,
            "layout": "IPY_MODEL_13c9567c9051455aa9505fdf03dc0f08",
            "placeholder": "​",
            "style": "IPY_MODEL_6e83be6a392b4aaa8322e6fd1b78b522",
            "value": " 1.20G/1.20G [00:09&lt;00:00, 121MB/s]"
          }
        },
        "4bbe0cd1bb99490e91e84025470ffda9": {
          "model_module": "@jupyter-widgets/base",
          "model_name": "LayoutModel",
          "model_module_version": "1.2.0",
          "state": {
            "_model_module": "@jupyter-widgets/base",
            "_model_module_version": "1.2.0",
            "_model_name": "LayoutModel",
            "_view_count": null,
            "_view_module": "@jupyter-widgets/base",
            "_view_module_version": "1.2.0",
            "_view_name": "LayoutView",
            "align_content": null,
            "align_items": null,
            "align_self": null,
            "border": null,
            "bottom": null,
            "display": null,
            "flex": null,
            "flex_flow": null,
            "grid_area": null,
            "grid_auto_columns": null,
            "grid_auto_flow": null,
            "grid_auto_rows": null,
            "grid_column": null,
            "grid_gap": null,
            "grid_row": null,
            "grid_template_areas": null,
            "grid_template_columns": null,
            "grid_template_rows": null,
            "height": null,
            "justify_content": null,
            "justify_items": null,
            "left": null,
            "margin": null,
            "max_height": null,
            "max_width": null,
            "min_height": null,
            "min_width": null,
            "object_fit": null,
            "object_position": null,
            "order": null,
            "overflow": null,
            "overflow_x": null,
            "overflow_y": null,
            "padding": null,
            "right": null,
            "top": null,
            "visibility": null,
            "width": null
          }
        },
        "e074b3eb7ec64e23a416e44cd0112174": {
          "model_module": "@jupyter-widgets/base",
          "model_name": "LayoutModel",
          "model_module_version": "1.2.0",
          "state": {
            "_model_module": "@jupyter-widgets/base",
            "_model_module_version": "1.2.0",
            "_model_name": "LayoutModel",
            "_view_count": null,
            "_view_module": "@jupyter-widgets/base",
            "_view_module_version": "1.2.0",
            "_view_name": "LayoutView",
            "align_content": null,
            "align_items": null,
            "align_self": null,
            "border": null,
            "bottom": null,
            "display": null,
            "flex": null,
            "flex_flow": null,
            "grid_area": null,
            "grid_auto_columns": null,
            "grid_auto_flow": null,
            "grid_auto_rows": null,
            "grid_column": null,
            "grid_gap": null,
            "grid_row": null,
            "grid_template_areas": null,
            "grid_template_columns": null,
            "grid_template_rows": null,
            "height": null,
            "justify_content": null,
            "justify_items": null,
            "left": null,
            "margin": null,
            "max_height": null,
            "max_width": null,
            "min_height": null,
            "min_width": null,
            "object_fit": null,
            "object_position": null,
            "order": null,
            "overflow": null,
            "overflow_x": null,
            "overflow_y": null,
            "padding": null,
            "right": null,
            "top": null,
            "visibility": null,
            "width": null
          }
        },
        "19bbb16464cd4131ac4864b97ae6cbfb": {
          "model_module": "@jupyter-widgets/controls",
          "model_name": "DescriptionStyleModel",
          "model_module_version": "1.5.0",
          "state": {
            "_model_module": "@jupyter-widgets/controls",
            "_model_module_version": "1.5.0",
            "_model_name": "DescriptionStyleModel",
            "_view_count": null,
            "_view_module": "@jupyter-widgets/base",
            "_view_module_version": "1.2.0",
            "_view_name": "StyleView",
            "description_width": ""
          }
        },
        "b69516b31d42439e957043b991d1892c": {
          "model_module": "@jupyter-widgets/base",
          "model_name": "LayoutModel",
          "model_module_version": "1.2.0",
          "state": {
            "_model_module": "@jupyter-widgets/base",
            "_model_module_version": "1.2.0",
            "_model_name": "LayoutModel",
            "_view_count": null,
            "_view_module": "@jupyter-widgets/base",
            "_view_module_version": "1.2.0",
            "_view_name": "LayoutView",
            "align_content": null,
            "align_items": null,
            "align_self": null,
            "border": null,
            "bottom": null,
            "display": null,
            "flex": null,
            "flex_flow": null,
            "grid_area": null,
            "grid_auto_columns": null,
            "grid_auto_flow": null,
            "grid_auto_rows": null,
            "grid_column": null,
            "grid_gap": null,
            "grid_row": null,
            "grid_template_areas": null,
            "grid_template_columns": null,
            "grid_template_rows": null,
            "height": null,
            "justify_content": null,
            "justify_items": null,
            "left": null,
            "margin": null,
            "max_height": null,
            "max_width": null,
            "min_height": null,
            "min_width": null,
            "object_fit": null,
            "object_position": null,
            "order": null,
            "overflow": null,
            "overflow_x": null,
            "overflow_y": null,
            "padding": null,
            "right": null,
            "top": null,
            "visibility": null,
            "width": null
          }
        },
        "8a34541280e64340a57c93ca6a90552c": {
          "model_module": "@jupyter-widgets/controls",
          "model_name": "ProgressStyleModel",
          "model_module_version": "1.5.0",
          "state": {
            "_model_module": "@jupyter-widgets/controls",
            "_model_module_version": "1.5.0",
            "_model_name": "ProgressStyleModel",
            "_view_count": null,
            "_view_module": "@jupyter-widgets/base",
            "_view_module_version": "1.2.0",
            "_view_name": "StyleView",
            "bar_color": null,
            "description_width": ""
          }
        },
        "13c9567c9051455aa9505fdf03dc0f08": {
          "model_module": "@jupyter-widgets/base",
          "model_name": "LayoutModel",
          "model_module_version": "1.2.0",
          "state": {
            "_model_module": "@jupyter-widgets/base",
            "_model_module_version": "1.2.0",
            "_model_name": "LayoutModel",
            "_view_count": null,
            "_view_module": "@jupyter-widgets/base",
            "_view_module_version": "1.2.0",
            "_view_name": "LayoutView",
            "align_content": null,
            "align_items": null,
            "align_self": null,
            "border": null,
            "bottom": null,
            "display": null,
            "flex": null,
            "flex_flow": null,
            "grid_area": null,
            "grid_auto_columns": null,
            "grid_auto_flow": null,
            "grid_auto_rows": null,
            "grid_column": null,
            "grid_gap": null,
            "grid_row": null,
            "grid_template_areas": null,
            "grid_template_columns": null,
            "grid_template_rows": null,
            "height": null,
            "justify_content": null,
            "justify_items": null,
            "left": null,
            "margin": null,
            "max_height": null,
            "max_width": null,
            "min_height": null,
            "min_width": null,
            "object_fit": null,
            "object_position": null,
            "order": null,
            "overflow": null,
            "overflow_x": null,
            "overflow_y": null,
            "padding": null,
            "right": null,
            "top": null,
            "visibility": null,
            "width": null
          }
        },
        "6e83be6a392b4aaa8322e6fd1b78b522": {
          "model_module": "@jupyter-widgets/controls",
          "model_name": "DescriptionStyleModel",
          "model_module_version": "1.5.0",
          "state": {
            "_model_module": "@jupyter-widgets/controls",
            "_model_module_version": "1.5.0",
            "_model_name": "DescriptionStyleModel",
            "_view_count": null,
            "_view_module": "@jupyter-widgets/base",
            "_view_module_version": "1.2.0",
            "_view_name": "StyleView",
            "description_width": ""
          }
        },
        "6f72bddd2182441f8ca55a27517bf312": {
          "model_module": "@jupyter-widgets/controls",
          "model_name": "HBoxModel",
          "model_module_version": "1.5.0",
          "state": {
            "_dom_classes": [],
            "_model_module": "@jupyter-widgets/controls",
            "_model_module_version": "1.5.0",
            "_model_name": "HBoxModel",
            "_view_count": null,
            "_view_module": "@jupyter-widgets/controls",
            "_view_module_version": "1.5.0",
            "_view_name": "HBoxView",
            "box_style": "",
            "children": [
              "IPY_MODEL_5c84641942854a73b65ecab43b6b5354",
              "IPY_MODEL_4e1021327b504584ab9a3c51713f069c",
              "IPY_MODEL_97d73d001ecb48c386c03c69ba30ceb8"
            ],
            "layout": "IPY_MODEL_0016a3cc85524962b42fa956b7c3ba7c"
          }
        },
        "5c84641942854a73b65ecab43b6b5354": {
          "model_module": "@jupyter-widgets/controls",
          "model_name": "HTMLModel",
          "model_module_version": "1.5.0",
          "state": {
            "_dom_classes": [],
            "_model_module": "@jupyter-widgets/controls",
            "_model_module_version": "1.5.0",
            "_model_name": "HTMLModel",
            "_view_count": null,
            "_view_module": "@jupyter-widgets/controls",
            "_view_module_version": "1.5.0",
            "_view_name": "HTMLView",
            "description": "",
            "description_tooltip": null,
            "layout": "IPY_MODEL_2f887091b1214626bc2de99e326a0f9c",
            "placeholder": "​",
            "style": "IPY_MODEL_e0c93a49783349e7a6ae14b15144c253",
            "value": "Downloading (…)neration_config.json: 100%"
          }
        },
        "4e1021327b504584ab9a3c51713f069c": {
          "model_module": "@jupyter-widgets/controls",
          "model_name": "FloatProgressModel",
          "model_module_version": "1.5.0",
          "state": {
            "_dom_classes": [],
            "_model_module": "@jupyter-widgets/controls",
            "_model_module_version": "1.5.0",
            "_model_name": "FloatProgressModel",
            "_view_count": null,
            "_view_module": "@jupyter-widgets/controls",
            "_view_module_version": "1.5.0",
            "_view_name": "ProgressView",
            "bar_style": "success",
            "description": "",
            "description_tooltip": null,
            "layout": "IPY_MODEL_2586619d53034ad3ac795b23ffc29542",
            "max": 147,
            "min": 0,
            "orientation": "horizontal",
            "style": "IPY_MODEL_d48fd7c645e943a6a495fe0eb6e03190",
            "value": 147
          }
        },
        "97d73d001ecb48c386c03c69ba30ceb8": {
          "model_module": "@jupyter-widgets/controls",
          "model_name": "HTMLModel",
          "model_module_version": "1.5.0",
          "state": {
            "_dom_classes": [],
            "_model_module": "@jupyter-widgets/controls",
            "_model_module_version": "1.5.0",
            "_model_name": "HTMLModel",
            "_view_count": null,
            "_view_module": "@jupyter-widgets/controls",
            "_view_module_version": "1.5.0",
            "_view_name": "HTMLView",
            "description": "",
            "description_tooltip": null,
            "layout": "IPY_MODEL_15479b800d244d648de0a41cedde9961",
            "placeholder": "​",
            "style": "IPY_MODEL_10cbab29f9c6401198e7f495da646367",
            "value": " 147/147 [00:00&lt;00:00, 11.4kB/s]"
          }
        },
        "0016a3cc85524962b42fa956b7c3ba7c": {
          "model_module": "@jupyter-widgets/base",
          "model_name": "LayoutModel",
          "model_module_version": "1.2.0",
          "state": {
            "_model_module": "@jupyter-widgets/base",
            "_model_module_version": "1.2.0",
            "_model_name": "LayoutModel",
            "_view_count": null,
            "_view_module": "@jupyter-widgets/base",
            "_view_module_version": "1.2.0",
            "_view_name": "LayoutView",
            "align_content": null,
            "align_items": null,
            "align_self": null,
            "border": null,
            "bottom": null,
            "display": null,
            "flex": null,
            "flex_flow": null,
            "grid_area": null,
            "grid_auto_columns": null,
            "grid_auto_flow": null,
            "grid_auto_rows": null,
            "grid_column": null,
            "grid_gap": null,
            "grid_row": null,
            "grid_template_areas": null,
            "grid_template_columns": null,
            "grid_template_rows": null,
            "height": null,
            "justify_content": null,
            "justify_items": null,
            "left": null,
            "margin": null,
            "max_height": null,
            "max_width": null,
            "min_height": null,
            "min_width": null,
            "object_fit": null,
            "object_position": null,
            "order": null,
            "overflow": null,
            "overflow_x": null,
            "overflow_y": null,
            "padding": null,
            "right": null,
            "top": null,
            "visibility": null,
            "width": null
          }
        },
        "2f887091b1214626bc2de99e326a0f9c": {
          "model_module": "@jupyter-widgets/base",
          "model_name": "LayoutModel",
          "model_module_version": "1.2.0",
          "state": {
            "_model_module": "@jupyter-widgets/base",
            "_model_module_version": "1.2.0",
            "_model_name": "LayoutModel",
            "_view_count": null,
            "_view_module": "@jupyter-widgets/base",
            "_view_module_version": "1.2.0",
            "_view_name": "LayoutView",
            "align_content": null,
            "align_items": null,
            "align_self": null,
            "border": null,
            "bottom": null,
            "display": null,
            "flex": null,
            "flex_flow": null,
            "grid_area": null,
            "grid_auto_columns": null,
            "grid_auto_flow": null,
            "grid_auto_rows": null,
            "grid_column": null,
            "grid_gap": null,
            "grid_row": null,
            "grid_template_areas": null,
            "grid_template_columns": null,
            "grid_template_rows": null,
            "height": null,
            "justify_content": null,
            "justify_items": null,
            "left": null,
            "margin": null,
            "max_height": null,
            "max_width": null,
            "min_height": null,
            "min_width": null,
            "object_fit": null,
            "object_position": null,
            "order": null,
            "overflow": null,
            "overflow_x": null,
            "overflow_y": null,
            "padding": null,
            "right": null,
            "top": null,
            "visibility": null,
            "width": null
          }
        },
        "e0c93a49783349e7a6ae14b15144c253": {
          "model_module": "@jupyter-widgets/controls",
          "model_name": "DescriptionStyleModel",
          "model_module_version": "1.5.0",
          "state": {
            "_model_module": "@jupyter-widgets/controls",
            "_model_module_version": "1.5.0",
            "_model_name": "DescriptionStyleModel",
            "_view_count": null,
            "_view_module": "@jupyter-widgets/base",
            "_view_module_version": "1.2.0",
            "_view_name": "StyleView",
            "description_width": ""
          }
        },
        "2586619d53034ad3ac795b23ffc29542": {
          "model_module": "@jupyter-widgets/base",
          "model_name": "LayoutModel",
          "model_module_version": "1.2.0",
          "state": {
            "_model_module": "@jupyter-widgets/base",
            "_model_module_version": "1.2.0",
            "_model_name": "LayoutModel",
            "_view_count": null,
            "_view_module": "@jupyter-widgets/base",
            "_view_module_version": "1.2.0",
            "_view_name": "LayoutView",
            "align_content": null,
            "align_items": null,
            "align_self": null,
            "border": null,
            "bottom": null,
            "display": null,
            "flex": null,
            "flex_flow": null,
            "grid_area": null,
            "grid_auto_columns": null,
            "grid_auto_flow": null,
            "grid_auto_rows": null,
            "grid_column": null,
            "grid_gap": null,
            "grid_row": null,
            "grid_template_areas": null,
            "grid_template_columns": null,
            "grid_template_rows": null,
            "height": null,
            "justify_content": null,
            "justify_items": null,
            "left": null,
            "margin": null,
            "max_height": null,
            "max_width": null,
            "min_height": null,
            "min_width": null,
            "object_fit": null,
            "object_position": null,
            "order": null,
            "overflow": null,
            "overflow_x": null,
            "overflow_y": null,
            "padding": null,
            "right": null,
            "top": null,
            "visibility": null,
            "width": null
          }
        },
        "d48fd7c645e943a6a495fe0eb6e03190": {
          "model_module": "@jupyter-widgets/controls",
          "model_name": "ProgressStyleModel",
          "model_module_version": "1.5.0",
          "state": {
            "_model_module": "@jupyter-widgets/controls",
            "_model_module_version": "1.5.0",
            "_model_name": "ProgressStyleModel",
            "_view_count": null,
            "_view_module": "@jupyter-widgets/base",
            "_view_module_version": "1.2.0",
            "_view_name": "StyleView",
            "bar_color": null,
            "description_width": ""
          }
        },
        "15479b800d244d648de0a41cedde9961": {
          "model_module": "@jupyter-widgets/base",
          "model_name": "LayoutModel",
          "model_module_version": "1.2.0",
          "state": {
            "_model_module": "@jupyter-widgets/base",
            "_model_module_version": "1.2.0",
            "_model_name": "LayoutModel",
            "_view_count": null,
            "_view_module": "@jupyter-widgets/base",
            "_view_module_version": "1.2.0",
            "_view_name": "LayoutView",
            "align_content": null,
            "align_items": null,
            "align_self": null,
            "border": null,
            "bottom": null,
            "display": null,
            "flex": null,
            "flex_flow": null,
            "grid_area": null,
            "grid_auto_columns": null,
            "grid_auto_flow": null,
            "grid_auto_rows": null,
            "grid_column": null,
            "grid_gap": null,
            "grid_row": null,
            "grid_template_areas": null,
            "grid_template_columns": null,
            "grid_template_rows": null,
            "height": null,
            "justify_content": null,
            "justify_items": null,
            "left": null,
            "margin": null,
            "max_height": null,
            "max_width": null,
            "min_height": null,
            "min_width": null,
            "object_fit": null,
            "object_position": null,
            "order": null,
            "overflow": null,
            "overflow_x": null,
            "overflow_y": null,
            "padding": null,
            "right": null,
            "top": null,
            "visibility": null,
            "width": null
          }
        },
        "10cbab29f9c6401198e7f495da646367": {
          "model_module": "@jupyter-widgets/controls",
          "model_name": "DescriptionStyleModel",
          "model_module_version": "1.5.0",
          "state": {
            "_model_module": "@jupyter-widgets/controls",
            "_model_module_version": "1.5.0",
            "_model_name": "DescriptionStyleModel",
            "_view_count": null,
            "_view_module": "@jupyter-widgets/base",
            "_view_module_version": "1.2.0",
            "_view_name": "StyleView",
            "description_width": ""
          }
        }
      }
    }
  },
  "nbformat": 4,
  "nbformat_minor": 5
}