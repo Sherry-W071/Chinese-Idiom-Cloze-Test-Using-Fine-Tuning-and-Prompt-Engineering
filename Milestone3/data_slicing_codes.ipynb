{
 "cells": [
  {
   "cell_type": "code",
   "execution_count": 1,
   "id": "72fbb476-2ca8-4788-bbb9-5b0b0c97d25b",
   "metadata": {},
   "outputs": [
    {
     "name": "stdout",
     "output_type": "stream",
     "text": [
      "['{\"groundTruth\": [\"发扬光大\", \"平易近人\", \"温文尔雅\"], \"candidates\": [[\"意气风发\", \"街谈巷议\", \"人才辈出\", \"一脉相传\", \"后继有人\", \"发扬光大\", \"腥风血雨\"], [\"平易近人\", \"落落大方\", \"八仙过海\", \"彬彬有礼\", \"史无前例\", \"盛气凌人\", \"好自为之\"], [\"不拘小节\", \"风流潇洒\", \"无病呻吟\", \"言谈举止\", \"壮志凌云\", \"关门闭户\", \"温文尔雅\"]], \"content\": \"由实力派演员刘威饰演的清华第三任校长蒋南翔，是我国著名的青年运动家和教育家，他跟清华终身校长梅贻琦一样，都是由清华人自己培养出来的校长。历史上的蒋南翔是著名的“一二九”学生救亡运动的领导人之一，他在清华校长之位14年期间，不但很好的继承了清华建校之初的优秀传统与理念，而且更加的#idiom#，他把清华的教师队伍扩大了将近5倍，将清华本科人数破万，为新中国培养了大量的有用人才。在《天行健》中饰演蒋南翔的刘威是观众所熟悉的著名实力派演员，早在1987年刘威就在《关东大侠》中饰演豪爽仗义的关云天一角而获得了金鸡奖最佳男主角的提名，后来更是因在《唐明皇》中精湛的表演而一举夺得金鹰奖最佳男演员奖。此次《天行健》选定刘威来出演正是看中了他#idiom#的表演方式和对人物深入内心的刻画。至此，《天行健》中涉及的三位清华校长的人选都已经曝光，#idiom#的第一任校长赵文?、稳重坚毅的第二任校长孙逊、亲切务实的第三任校长刘威，再加上梁思成、林徽因、朱自清、闻一多等一批“大师”的加盟，相信作为清华百年校庆重点项目之一的《天行健》一定会带领观众重温那段不能抹去的历史。\", \"realCount\": 3}\\n', '{\"groundTruth\": [\"肥头大耳\"], \"candidates\": [[\"超凡入圣\", \"骨瘦如柴\", \"青面獠牙\", \"虎背熊腰\", \"成人之美\", \"肥头大耳\", \"神不守舍\"]], \"content\": \"#idiom#的掌柜只穿一件衬衫，坐在柜台里。几个堂倌穿着脏得发黑的白工作服，因为没有顾客，都散坐在桌子旁。这当儿看到这位不寻常的客人，都露出好奇的神色列宁曾批评他理论上的错误，同时认为他“所写的全部哲学，赶紧迎上前来伺候。聂赫留朵夫要了一瓶矿泉水，在离窗较远的地方挨着一张铺有肮脏桌布的小桌坐下。\", \"realCount\": 1}\\n'] \n",
      " 15000 2000 2000\n"
     ]
    }
   ],
   "source": [
    "### Slice datasets\n",
    "import random\n",
    "path = '../data/'    # change the path as needed\n",
    "\n",
    "def read_data(file):\n",
    "    with open (path+file) as t:\n",
    "        data = t.readlines()\n",
    "    return data\n",
    "\n",
    "train_set = read_data('train_data.txt')[:15000]\n",
    "dev_set = read_data('dev_data.txt')[:2000]\n",
    "test_set = read_data('test_data.txt')[:2000]\n",
    "\n",
    "# type(train_set)\n",
    "print(train_set[:2], '\\n', len(train_set), len(dev_set), len(test_set))"
   ]
  },
  {
   "cell_type": "code",
   "execution_count": 2,
   "id": "73a7a0d7-0304-4f8e-9e8c-faa32956b706",
   "metadata": {},
   "outputs": [],
   "source": [
    "import os\n",
    "path = 'data/selected_'\n",
    "\n",
    "def write_data(dataset, split):   # split: 'train', 'dev' or 'test'\n",
    "    # os.makedirs(path, exist_ok=True)\n",
    "    with open(path+split+'_data.txt', 'w') as f:\n",
    "        for line in dataset:\n",
    "            f.write(line)\n",
    "            f.write('\\n')"
   ]
  },
  {
   "cell_type": "code",
   "execution_count": 3,
   "id": "e913d4f3-6ba2-4231-a757-17a4ed2e9ebe",
   "metadata": {},
   "outputs": [],
   "source": [
    "write_data(train_set, 'train')\n",
    "write_data(dev_set, 'dev')\n",
    "write_data(test_set, 'test')"
   ]
  },
  {
   "cell_type": "code",
   "execution_count": 4,
   "id": "64fa0373-cb4a-44df-89e4-9da77ca766f2",
   "metadata": {},
   "outputs": [],
   "source": [
    "import json\n",
    "with open ('../data/train_data.txt') as t:\n",
    "    for i, line in enumerate(t):\n",
    "        data = json.loads(line)"
   ]
  },
  {
   "cell_type": "code",
   "execution_count": null,
   "id": "1ba16702-deaf-401c-bd67-3a4f153e34f5",
   "metadata": {},
   "outputs": [],
   "source": []
  }
 ],
 "metadata": {
  "kernelspec": {
   "display_name": "Python 3 (ipykernel)",
   "language": "python",
   "name": "python3"
  },
  "language_info": {
   "codemirror_mode": {
    "name": "ipython",
    "version": 3
   },
   "file_extension": ".py",
   "mimetype": "text/x-python",
   "name": "python",
   "nbconvert_exporter": "python",
   "pygments_lexer": "ipython3",
   "version": "3.10.6"
  }
 },
 "nbformat": 4,
 "nbformat_minor": 5
}
