{
 "cells": [
  {
   "cell_type": "code",
   "execution_count": 1,
   "id": "c2b5431a-6c15-45c1-a8a7-c991d297ff42",
   "metadata": {},
   "outputs": [],
   "source": [
    "import os\n",
    "import openai\n",
    "import tiktoken\n",
    "# from dotenv import load_dotenv\n",
    "import time\n",
    "import re\n",
    "# from google.colab import drive\n",
    "# drive.mount('/content/gdrive')\n",
    "# path = '/content/gdrive/My Drive/585data/'"
   ]
  },
  {
   "cell_type": "code",
   "execution_count": 2,
   "id": "35517455-2383-40f7-8388-6b836f07bf24",
   "metadata": {},
   "outputs": [
    {
     "name": "stdout",
     "output_type": "stream",
     "text": [
      "['{\"groundTruth\": [\"现身说法\"], \"candidates\": [[\"旷日持久\", \"公正廉洁\", \"苦口婆心\", \"现身说法\", \"白日做梦\", \"深入浅出\", \"肺腑之言\"]], \"content\": \"只要路过的旅客稍有迟疑，或者对他们的宣传单多看几眼，基本上这个旅客就别想轻松脱身了，记者就在9月3日接站时目睹了这样一幕：一个学生接过招生人员递来的宣传单，只是问了一下“你们学校有没有分数要求？”两个招生人员就“白话”开了，一个表示分数都好说，只要有好学的精神；另一个则#idiom#，大讲自己选择的专业现在收获颇丰；最后在招生人员“我们学校毕业后可以完全解决就业”的忽悠下，这个学生旅客被他们拉上了到校参观的班车。\", \"realCount\": 1}\\n', '{\"groundTruth\": [\"神来之笔\", \"赞不绝口\"], \"candidates\": [[\"画龙点睛\", \"悔过自新\", \"拍案叫绝\", \"鬼斧神工\", \"神来之笔\", \"颠倒黑白\", \"中流砥柱\"], [\"敬谢不敏\", \"拍案叫绝\", \"心悦诚服\", \"叹为观止\", \"赞不绝口\", \"口口声声\", \"扬眉吐气\"]], \"content\": \"亨利的这个#idiom#被法国媒体形容为“空中舞蹈”，亨利自己对球队表现也很满意，“上半场开局一般，但很快觉醒，下半场的进攻让人看到真正的法国，尤其是我们的速度让对方有了麻烦。”而和亨利搭档的本泽马对老大哥#idiom#，“和他在一起配合很容易，他给了我很多信心。”\", \"realCount\": 2}\\n'] \n",
      " 60\n"
     ]
    }
   ],
   "source": [
    "# path = '../data/'    # change the path as needed\n",
    "path = '../' #'/content/gdrive/My Drive/585data/'\n",
    "\n",
    "def read_data(file):\n",
    "    with open (path+file) as t:\n",
    "        data = t.readlines()\n",
    "    return data\n",
    "\n",
    "test_set = read_data('test_data.txt')[:60]\n",
    "\n",
    "# type(train_set)\n",
    "print(test_set[:2], '\\n', len(test_set))"
   ]
  },
  {
   "cell_type": "code",
   "execution_count": 3,
   "id": "1f48fcd4-f8a0-4313-b2b3-0284213fb10b",
   "metadata": {},
   "outputs": [],
   "source": [
    "# load_dotenv()\n",
    "\n",
    "api_path = path + 'openai_gpt_api_key.txt'\n",
    "\n",
    "### read api key from file\n",
    "with open(api_path, \"r\") as file:\n",
    "    API_KEY = file.read().strip()\n",
    "\n",
    "openai.api_key = API_KEY\n",
    "enc = tiktoken.get_encoding(\"cl100k_base\")\n",
    "\n",
    "messages = []\n",
    "\n",
    "def ask_gpt(input_text, print_results = True, delay: float = 1):\n",
    "    \"\"\"\n",
    "    API call to gpt-3.5-turbo. Note: each time the function is called, the API call will keep previous calls to the model as context until the kernel is restarted.\n",
    "    If you would like to reset the model's conversational context, restart kernel and run the function again.\n",
    "\n",
    "    Parameters:\n",
    "    ------\n",
    "    `input`: str\n",
    "        user input that is passed to model. Used in the same way information is passed to the model in the OpenAI web interface for ChatGPT\n",
    "    `print_results`: bool = True\n",
    "        if model's returned text exceeds a certain number of characters, it includes new line marking \"\\n\". if print_result == True,\n",
    "        function splits printout by \"\\n\" and print results out line by line, otherwise results are only returned as a list object,\n",
    "        with each list item as a line of the printout\n",
    "    `delay`: float\n",
    "        amount by which to delay sequential API calls (calls in sequence that are too frequent can lead to a ban in certain instances - this avoids that)\n",
    "    \n",
    "    Returns:\n",
    "    ------\n",
    "    `result_list`: list\n",
    "        only returned if `print_result` == False. Return is a list object with returned text from the model split by \"\\n\".\n",
    "        If returned text is short enough and no text is present, list will only be length of 1\n",
    "    \"\"\"\n",
    "    messages = []\n",
    "    \n",
    "    time.sleep(delay)\n",
    "    \n",
    "    # global messages\n",
    "    messages.append({\"role\": \"user\", \"content\": input_text})\n",
    "    chat_test = openai.ChatCompletion.create(\n",
    "        model = \"gpt-3.5-turbo\",\n",
    "        temperature = 0.1,\n",
    "        messages = messages)\n",
    "    \n",
    "    result_list = chat_test.choices[0].message.content#.split(\"\\n\") # if not split, the returned text is more than one line, the printout has \"\\n\" in it\n",
    "\n",
    "    # if print_results == True:\n",
    "    #     for line in result_list:\n",
    "    #         print (line)\n",
    "    # else:\n",
    "    return result_list\n"
   ]
  },
  {
   "cell_type": "code",
   "execution_count": 4,
   "id": "9f9529c8-7854-478e-beea-713f4476b7d1",
   "metadata": {},
   "outputs": [],
   "source": [
    "def prompt(data):\n",
    "    '''data shall be the output of `read_data`'''\n",
    "    text_input = []\n",
    "    gold = []\n",
    "    for i in range(len(data)):\n",
    "        data[i] = eval(data[i])\n",
    "        input_text = data[i]['content']\n",
    "        candidates = data[i]['candidates']\n",
    "        ground_truth = set(data[i]['groundTruth'])\n",
    "        gold.append(ground_truth)\n",
    "\n",
    "        candidate_str = ''\n",
    "        for candidate in candidates:\n",
    "            candidate_str += '('+'|'.join(candidate)+')'\n",
    "        \n",
    "        # preprocess_idx = -1\n",
    "        # def replace(match):\n",
    "        #     nonlocal preprocess_idx\n",
    "        #     preprocess_idx += 1\n",
    "        #     return 'extra{}'.format(preprocess_idx)\n",
    "        # input_text = re.sub(r'#idiom#', replace, input_text)\n",
    "\n",
    "        instruction = f'''示例：(意气风发|街谈巷议|人才辈出|一脉相传|后继有人|发扬光大|腥风血雨)(平易近人|落落大方|八仙过海|彬彬有礼|史无前例|盛气凌人|好自为之)(不拘小节|风流潇洒|无病呻吟|言谈举止|壮志凌云|关门闭户|温文尔雅)\n",
    "历史上的蒋南翔是著名的“一二九”学生救亡运动的领导人之一，他在清华校长之位14年期间，不但很好的继承了清华建校之初的优秀传统与理念，而且更加的#idiom#，他把清华的教师队伍扩大了将近5倍，将清华本科人数破万，为新中国培养了大量的有用人才。在《天行健》中饰演蒋南翔的刘威是观众所熟悉的著名实力派演员，早在1987年刘威就在《关东大侠》中饰演豪爽仗义的关云天一角而获得了金鸡奖最佳男主角的提名，后来更是因在《唐明皇》中精湛的表演而一举夺得金鹰奖最佳男演员奖。此次《天行健》选定刘威来出演正是看中了他#idiom#的表演方式和对人物深入内心的刻画。至此，《天行健》中涉及的三位清华校长的人选都已经曝光，#idiom#的第一任校长赵文?、稳重坚毅的第二任校长孙逊、亲切务实的第三任校长刘威，再加上梁思成、林徽因、朱自清、闻一多等一批“大师”的加盟，相信作为清华百年校庆重点项目之一的《天行健》一定会带领观众重温那段不能抹去的历史。 \n",
    "示例的回答为：发扬光大,平易近人,温文尔雅\n",
    "请按照示例从下列括号中分别选择合适的成语填入\"#idiom#\"处：{candidate_str}'''\n",
    "        \n",
    "        text_input.append(instruction+'\\n'+input_text)\n",
    "\n",
    "    return text_input, gold"
   ]
  },
  {
   "cell_type": "code",
   "execution_count": 5,
   "id": "370875c9-5c27-4cfd-8e37-58a8eb61ca16",
   "metadata": {},
   "outputs": [],
   "source": [
    "test_input, gold = prompt(test_set)"
   ]
  },
  {
   "cell_type": "code",
   "execution_count": 6,
   "id": "665e27b3-c98b-4723-8374-b3ed5b3a604b",
   "metadata": {},
   "outputs": [
    {
     "data": {
      "text/plain": [
       "'示例：(意气风发|街谈巷议|人才辈出|一脉相传|后继有人|发扬光大|腥风血雨)(平易近人|落落大方|八仙过海|彬彬有礼|史无前例|盛气凌人|好自为之)(不拘小节|风流潇洒|无病呻吟|言谈举止|壮志凌云|关门闭户|温文尔雅)\\n历史上的蒋南翔是著名的“一二九”学生救亡运动的领导人之一，他在清华校长之位14年期间，不但很好的继承了清华建校之初的优秀传统与理念，而且更加的#idiom#，他把清华的教师队伍扩大了将近5倍，将清华本科人数破万，为新中国培养了大量的有用人才。在《天行健》中饰演蒋南翔的刘威是观众所熟悉的著名实力派演员，早在1987年刘威就在《关东大侠》中饰演豪爽仗义的关云天一角而获得了金鸡奖最佳男主角的提名，后来更是因在《唐明皇》中精湛的表演而一举夺得金鹰奖最佳男演员奖。此次《天行健》选定刘威来出演正是看中了他#idiom#的表演方式和对人物深入内心的刻画。至此，《天行健》中涉及的三位清华校长的人选都已经曝光，#idiom#的第一任校长赵文?、稳重坚毅的第二任校长孙逊、亲切务实的第三任校长刘威，再加上梁思成、林徽因、朱自清、闻一多等一批“大师”的加盟，相信作为清华百年校庆重点项目之一的《天行健》一定会带领观众重温那段不能抹去的历史。 \\n示例的回答为：发扬光大,平易近人,温文尔雅\\n请按照示例从下列括号中分别选择合适的成语填入\"#idiom#\"处：(画龙点睛|悔过自新|拍案叫绝|鬼斧神工|神来之笔|颠倒黑白|中流砥柱)(敬谢不敏|拍案叫绝|心悦诚服|叹为观止|赞不绝口|口口声声|扬眉吐气)\\n亨利的这个#idiom#被法国媒体形容为“空中舞蹈”，亨利自己对球队表现也很满意，“上半场开局一般，但很快觉醒，下半场的进攻让人看到真正的法国，尤其是我们的速度让对方有了麻烦。”而和亨利搭档的本泽马对老大哥#idiom#，“和他在一起配合很容易，他给了我很多信心。”'"
      ]
     },
     "execution_count": 6,
     "metadata": {},
     "output_type": "execute_result"
    }
   ],
   "source": [
    "test_input[1]"
   ]
  },
  {
   "cell_type": "code",
   "execution_count": 7,
   "id": "e753e64d-da47-4aa9-a67a-701730d6a15a",
   "metadata": {},
   "outputs": [
    {
     "data": {
      "text/plain": [
       "[{'现身说法'}, {'神来之笔', '赞不绝口'}]"
      ]
     },
     "execution_count": 7,
     "metadata": {},
     "output_type": "execute_result"
    }
   ],
   "source": [
    "gold[:2]"
   ]
  },
  {
   "cell_type": "code",
   "execution_count": 8,
   "id": "43c963b6-1a2a-4f16-ae62-618a2845de17",
   "metadata": {},
   "outputs": [
    {
     "data": {
      "text/plain": [
       "'神来之笔,拍案叫绝'"
      ]
     },
     "execution_count": 8,
     "metadata": {},
     "output_type": "execute_result"
    }
   ],
   "source": [
    "ask_gpt(test_input[1], delay = 0.01)"
   ]
  },
  {
   "cell_type": "code",
   "execution_count": 9,
   "id": "dd4b37eb-838a-45e7-ab2b-dc89e8ad5990",
   "metadata": {},
   "outputs": [],
   "source": [
    "sys = []\n",
    "for q in test_input:\n",
    "    a = ask_gpt(q, delay = 18)\n",
    "    a = a.strip(' 。，答案：').split(',')\n",
    "    sys.append(set(a))"
   ]
  },
  {
   "cell_type": "code",
   "execution_count": 12,
   "id": "2449970d-9e23-483e-afed-b28a31d799f3",
   "metadata": {},
   "outputs": [],
   "source": [
    "with open('chatgpt_ans.txt', 'w') as a:\n",
    "    for s in sys:\n",
    "        a.write(str(s)+'\\n')    "
   ]
  },
  {
   "cell_type": "code",
   "execution_count": 13,
   "id": "012cec52-3b06-44ed-8aee-012f36a9150d",
   "metadata": {},
   "outputs": [],
   "source": [
    "def f1_score(sys, gold):\n",
    "    tp = 0\n",
    "    total = 0\n",
    "    pos = 0\n",
    "    for s, g in zip(sys, gold):\n",
    "        total += len(g)\n",
    "        pos += len(s)\n",
    "        tp += len(g & s)\n",
    "    precision = tp / pos if pos != 0 else 0\n",
    "    recall = tp / total if total != 0 else 0\n",
    "    f1 = (2 * precision * recall) / (precision + recall) if (precision + recall) != 0 else 0\n",
    "    return precision, recall, f1, tp\n",
    "\n",
    "def accuracy(sys, gold, tp):\n",
    "    total = 0\n",
    "    for s, g in zip(sys, gold):\n",
    "        total += len(g)\n",
    "    return tp / total"
   ]
  },
  {
   "cell_type": "code",
   "execution_count": 14,
   "id": "80a1262a-c1b3-4204-b7fb-5386ef45e997",
   "metadata": {},
   "outputs": [
    {
     "name": "stdout",
     "output_type": "stream",
     "text": [
      "ChatGPT: \n",
      "Accuracy for test set is 0.24615384615384617\n",
      "F1 score for test set is 0.2424242424242424\n"
     ]
    }
   ],
   "source": [
    "p, r, f1, tp = f1_score(sys, gold)\n",
    "print('ChatGPT: ')\n",
    "print(f\"Accuracy for test set is {accuracy(sys, gold, tp)}\")\n",
    "print(f\"F1 score for test set is {f1}\")"
   ]
  },
  {
   "cell_type": "code",
   "execution_count": 16,
   "id": "3ee6b6c5-d15c-468c-a6c3-e21efd8811be",
   "metadata": {},
   "outputs": [
    {
     "name": "stdout",
     "output_type": "stream",
     "text": [
      "{'深入浅出'} {'现身说法'}\n",
      "{'神来之笔', '拍案叫绝'} {'神来之笔', '赞不绝口'}\n",
      "{'劳燕分飞'} {'难分难舍'}\n",
      "{'望而生畏'} {'不寒而栗'}\n",
      "{'插翅难飞'} {'凶多吉少'}\n",
      "{'恬不知耻'} {'堂而皇之'}\n",
      "{'气宇轩昂，满面春风'} {'精神抖擞'}\n",
      "{'墨守成规，折戟沉沙，怀才不遇'} {'闭门造车'}\n",
      "{'恰如其分'} {'锦上添花'}\n",
      "{'光明磊落'} {'快人快语'}\n",
      "{'繁文缛礼', '兵戎相见'} {'一触即发'}\n",
      "{'#泰然自若#，#左顾右盼#的叶尔莫拉耶夫集团军长指挥着部队进攻，#分工合作#的各个部队密切配合，最终取得了胜利。而德军则#惊惶失措#，#猝不及防#，被我军打得节节败退'} {'全神贯注', '惊惶失措'}\n",
      "{'一般无二'} {'本来面目'}\n",
      "{'怒火中烧', '自力更生'} {'自力更生', '气势汹汹'}\n",
      "{'分门别类，按图索骥'} {'分门别类'}\n",
      "{'骑虎难下，居心叵测'} {'狗急跳墙'}\n",
      "{'东窗事发'} {'冒名顶替'}\n",
      "{'返朴归真', '众星攒月', '茅塞顿开'} {'众星攒月'}\n",
      "{'满面春风', '视若无睹', '坦然自若'} {'坦然自若'}\n",
      "{'口口相传，津津乐道，约定俗成'} {'口口相传'}\n",
      "{'富可敌国'} {'白手起家'}\n",
      "{'然而，这些对理科生的刻板印象在近年来已经被打破，越来越多的理科生开始#idiom#地走向大众视野，他们不仅在学术领域有所建树，还在文化、艺术等领域有所涉猎和贡献。他们不再#idiom#地局限于自己的领域，而是积极地参与到社会生活中，成为了社会发展的重要力量'} {'周而复始'}\n",
      "{'岌岌可危，以攻为守，牢不可破'} {'土崩瓦解'}\n",
      "{'以退为进'} {'明哲保身'}\n",
      "{'任劳任怨，笑容可掬，苦心孤诣'} {'笑容可掬'}\n",
      "{'老成持重'} {'满面春风'}\n",
      "{'但是这个换人决定非但没能解决场上的问题，还更加暴露了利物浦目前的艰难处境：中场缺少一个冷静的大脑———阿奎拉尼上场后，出球屡屡慢半拍，被对手铲得人仰马翻。此前杰拉德打后腰位置虽然遏制了他的进攻能力，但在防守上还是有保障的。意大利中场替补上来后，让搭档卢卡斯痛快淋漓。他对于比赛节奏的掌控，并没有在过去两场联赛中改进，一遇到打法粗野的英冠球队愈发示弱'} {'疲於奔命', '人仰马翻'}\n",
      "{'稍逊一筹，相对市值占比与大盘股半斤八两，年轻基金经理对小股票的流动性风险管理麻木不仁'} {'风吹草动', '旗鼓相当'}\n",
      "{'新浪娱乐讯2010年2月28日北京为了让天下有情人留住恋爱中每个#动人心魄#的时刻，某厂商特意于元宵佳节在北京举行“LoveForever爱恒久”网上传情电子贺卡设计大赛颁奖仪式。“LoveForever爱恒久”系列代言人林峰亦远赴北京出席品牌活动，亲自颁发奖项给6位胜出者，让在场的嘉宾及媒体朋友深深感受到爱的真谛。TUNGSTAR/图'} {'扣人心弦'}\n",
      "{'自作自受'} {'鸿鹄之志'}\n",
      "{'危在旦夕，旁观者清'} {'奄奄一息'}\n",
      "{'墨守成规，如狼似虎，裹足不前'} {'墨守成规'}\n",
      "{'改天换地，寸步不离'} {'雷打不动'}\n",
      "{'手足无措，绘声绘色，一五一十'} {'绘声绘色'}\n",
      "{'肃然起敬'} {'五体投地'}\n",
      "{'安家落户'} {'惊天动地'}\n",
      "{'交相辉映，光彩夺目'} {'五颜六色'}\n",
      "{'不择手段'} {'千方百计'}\n",
      "{'风行一时'} {'方兴未艾'}\n",
      "{'发扬光大'} {'一脉相传'}\n",
      "{'虚有其表'} {'彻头彻尾'}\n",
      "{'后来居上'} {'平分秋色'}\n",
      "{'如出一辙，这不是第一次出现类似的兑换零钞的信息，此前也有不少类似的消息在社交媒体上流传。但是这种行为并不被认为是合法的，因为涉及到货币兑换，需要遵守相关法律法规。同时，这种兑换方式也存在一定的风险，建议广大市民不要轻易尝试'} {'无独有偶'}\n",
      "{'三缄其口'} {'和盘托出'}\n",
      "{'手疾眼快'} {'不偏不倚'}\n",
      "{'模棱两可'} {'含糊其词'}\n",
      "{'真是#偃旗息鼓#啊！”鸬鹚听了，似乎也明白了，它抬头看了看胡四，又把头低下去，继续捕鱼去了'} {'风平浪静'}\n",
      "{'添油加醋'} {'借题发挥'}\n"
     ]
    }
   ],
   "source": [
    "p = 0\n",
    "for s, g in zip(sys, gold):\n",
    "    if s != g:\n",
    "        print(s, g)\n",
    "        p += 1"
   ]
  },
  {
   "cell_type": "code",
   "execution_count": null,
   "id": "fb2d44d2-aba2-4569-8455-24f732a5f0d5",
   "metadata": {},
   "outputs": [],
   "source": []
  }
 ],
 "metadata": {
  "kernelspec": {
   "display_name": "Python 3 (ipykernel)",
   "language": "python",
   "name": "python3"
  },
  "language_info": {
   "codemirror_mode": {
    "name": "ipython",
    "version": 3
   },
   "file_extension": ".py",
   "mimetype": "text/x-python",
   "name": "python",
   "nbconvert_exporter": "python",
   "pygments_lexer": "ipython3",
   "version": "3.10.6"
  }
 },
 "nbformat": 4,
 "nbformat_minor": 5
}
