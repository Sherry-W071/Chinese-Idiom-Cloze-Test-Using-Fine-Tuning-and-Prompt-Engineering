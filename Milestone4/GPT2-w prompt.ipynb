{
 "cells": [
  {
   "cell_type": "markdown",
   "metadata": {
    "id": "qFuLmsTRP3j_"
   },
   "source": [
    "# GPT2"
   ]
  },
  {
   "cell_type": "code",
   "execution_count": 2,
   "metadata": {
    "id": "_Ek2gPUkUcvJ",
    "tags": []
   },
   "outputs": [],
   "source": [
    "dataset = [\"\"\"{\n",
    "    \"content\": \"世锦赛的整体水平远高于亚洲杯，要如同亚洲杯那样“鱼与熊掌兼得”，就需要各方面密切配合、#idiom#。作为主帅的俞觉敏，除了得打破保守思想，敢于破格用人，还得巧于用兵、#idiom#、灵活排阵，指挥得当，力争通过比赛推新人、出佳绩、出新的战斗力。\",\n",
    "    \"realCount\": 2,\n",
    "    \"groundTruth\": [\"通力合作\", \"有的放矢\"],\n",
    "    \"candidates\": [\n",
    "        [\"凭空捏造\", \"高头大马\", \"通力合作\", \"同舟共济\", \"和衷共济\", \"蓬头垢面\", \"紧锣密鼓\"],\n",
    "        [\"叫苦连天\", \"量体裁衣\", \"金榜题名\", \"百战不殆\", \"知彼知己\", \"有的放矢\", \"风流才子\"]\n",
    "    ]\n",
    "}\"\"\"]\n",
    "s = \"世锦赛的整体水平远高于亚洲杯，要如同亚洲杯那样“鱼与熊掌兼得”，就需要各方面密切配合、通力合作。作为主帅的俞觉敏，除了得打破保守思想，敢于破格用人，还得巧于用兵、</s>、灵活排阵，指挥得当，力争通过比赛推新人、出佳绩、出新的战斗力。可选成语有：叫苦连天 | 量体裁衣 | 金榜题名 | 百战不殆 | 知彼知己 | 风流才子，请选出最佳的一项。\""
   ]
  },
  {
   "cell_type": "code",
   "execution_count": 3,
   "metadata": {
    "colab": {
     "base_uri": "https://localhost:8080/"
    },
    "id": "suiV4bulTUQM",
    "outputId": "c5a60569-9283-4df8-8e24-34ac94e92d85",
    "tags": []
   },
   "outputs": [
    {
     "name": "stdout",
     "output_type": "stream",
     "text": [
      "Looking in indexes: https://mirrors.aliyun.com/pypi/simple\n",
      "Requirement already satisfied: transformers in /usr/local/lib/python3.8/dist-packages (4.28.1)\n",
      "Requirement already satisfied: packaging>=20.0 in /usr/local/lib/python3.8/dist-packages (from transformers) (21.3)\n",
      "Requirement already satisfied: filelock in /usr/local/lib/python3.8/dist-packages (from transformers) (3.12.0)\n",
      "Requirement already satisfied: requests in /usr/local/lib/python3.8/dist-packages (from transformers) (2.28.1)\n",
      "Requirement already satisfied: numpy>=1.17 in /usr/local/lib/python3.8/dist-packages (from transformers) (1.22.3)\n",
      "Requirement already satisfied: huggingface-hub<1.0,>=0.11.0 in /usr/local/lib/python3.8/dist-packages (from transformers) (0.13.4)\n",
      "Requirement already satisfied: tqdm>=4.27 in /usr/local/lib/python3.8/dist-packages (from transformers) (4.65.0)\n",
      "Requirement already satisfied: tokenizers!=0.11.3,<0.14,>=0.11.1 in /usr/local/lib/python3.8/dist-packages (from transformers) (0.13.3)\n",
      "Requirement already satisfied: regex!=2019.12.17 in /usr/local/lib/python3.8/dist-packages (from transformers) (2023.3.23)\n",
      "Requirement already satisfied: pyyaml>=5.1 in /usr/local/lib/python3.8/dist-packages (from transformers) (6.0)\n",
      "Requirement already satisfied: typing-extensions>=3.7.4.3 in /usr/local/lib/python3.8/dist-packages (from huggingface-hub<1.0,>=0.11.0->transformers) (4.3.0)\n",
      "Requirement already satisfied: pyparsing!=3.0.5,>=2.0.2 in /usr/local/lib/python3.8/dist-packages (from packaging>=20.0->transformers) (3.0.9)\n",
      "Requirement already satisfied: urllib3<1.27,>=1.21.1 in /usr/local/lib/python3.8/dist-packages (from requests->transformers) (1.26.15)\n",
      "Requirement already satisfied: certifi>=2017.4.17 in /usr/local/lib/python3.8/dist-packages (from requests->transformers) (2022.6.15)\n",
      "Requirement already satisfied: idna<4,>=2.5 in /usr/local/lib/python3.8/dist-packages (from requests->transformers) (3.3)\n",
      "Requirement already satisfied: charset-normalizer<3,>=2 in /usr/local/lib/python3.8/dist-packages (from requests->transformers) (2.1.0)\n",
      "\u001b[33mWARNING: Running pip as the 'root' user can result in broken permissions and conflicting behaviour with the system package manager. It is recommended to use a virtual environment instead: https://pip.pypa.io/warnings/venv\u001b[0m\u001b[33m\n",
      "\u001b[0m\u001b[33mWARNING: You are using pip version 22.0.4; however, version 23.1 is available.\n",
      "You should consider upgrading via the '/usr/bin/python3.8 -m pip install --upgrade pip' command.\u001b[0m\u001b[33m\n",
      "\u001b[0mLooking in indexes: https://mirrors.aliyun.com/pypi/simple\n",
      "Requirement already satisfied: sentencepiece in /usr/local/lib/python3.8/dist-packages (0.1.98)\n",
      "\u001b[33mWARNING: Running pip as the 'root' user can result in broken permissions and conflicting behaviour with the system package manager. It is recommended to use a virtual environment instead: https://pip.pypa.io/warnings/venv\u001b[0m\u001b[33m\n",
      "\u001b[0m\u001b[33mWARNING: You are using pip version 22.0.4; however, version 23.1 is available.\n",
      "You should consider upgrading via the '/usr/bin/python3.8 -m pip install --upgrade pip' command.\u001b[0m\u001b[33m\n",
      "\u001b[0m"
     ]
    }
   ],
   "source": [
    "!pip install transformers\n",
    "!pip install sentencepiece"
   ]
  },
  {
   "cell_type": "code",
   "execution_count": 44,
   "metadata": {
    "tags": []
   },
   "outputs": [],
   "source": [
    "import os\n",
    "import numpy as np\n",
    "import torch\n",
    "import json\n",
    "import re\n",
    "from torch import cuda, nn, optim\n",
    "from tqdm import tqdm\n",
    "from torch.utils.data import Dataset, DataLoader\n",
    "from torch.nn.utils.rnn import pad_sequence\n",
    "from transformers import GPT2LMHeadModel, BertTokenizer\n",
    "from transformers import AutoTokenizer, AutoModelForSeq2SeqLM"
   ]
  },
  {
   "cell_type": "code",
   "execution_count": 5,
   "metadata": {},
   "outputs": [
    {
     "name": "stdout",
     "output_type": "stream",
     "text": [
      "Looking in indexes: https://mirrors.aliyun.com/pypi/simple\n",
      "Requirement already satisfied: wandb in /usr/local/lib/python3.8/dist-packages (0.14.2)\n",
      "Requirement already satisfied: sentry-sdk>=1.0.0 in /usr/local/lib/python3.8/dist-packages (from wandb) (1.20.0)\n",
      "Requirement already satisfied: Click!=8.0.0,>=7.0 in /usr/local/lib/python3.8/dist-packages (from wandb) (8.1.3)\n",
      "Requirement already satisfied: requests<3,>=2.0.0 in /usr/local/lib/python3.8/dist-packages (from wandb) (2.28.1)\n",
      "Requirement already satisfied: psutil>=5.0.0 in /usr/local/lib/python3.8/dist-packages (from wandb) (5.9.1)\n",
      "Requirement already satisfied: typing-extensions in /usr/local/lib/python3.8/dist-packages (from wandb) (4.3.0)\n",
      "Requirement already satisfied: PyYAML in /usr/local/lib/python3.8/dist-packages (from wandb) (6.0)\n",
      "Requirement already satisfied: setuptools in /usr/local/lib/python3.8/dist-packages (from wandb) (62.1.0)\n",
      "Requirement already satisfied: protobuf!=4.21.0,<5,>=3.12.0 in /usr/local/lib/python3.8/dist-packages (from wandb) (3.19.4)\n",
      "Requirement already satisfied: appdirs>=1.4.3 in /usr/local/lib/python3.8/dist-packages (from wandb) (1.4.4)\n",
      "Requirement already satisfied: setproctitle in /usr/local/lib/python3.8/dist-packages (from wandb) (1.3.2)\n",
      "Requirement already satisfied: pathtools in /usr/local/lib/python3.8/dist-packages (from wandb) (0.1.2)\n",
      "Requirement already satisfied: docker-pycreds>=0.4.0 in /usr/local/lib/python3.8/dist-packages (from wandb) (0.4.0)\n",
      "Requirement already satisfied: GitPython!=3.1.29,>=1.0.0 in /usr/local/lib/python3.8/dist-packages (from wandb) (3.1.31)\n",
      "Requirement already satisfied: six>=1.4.0 in /usr/local/lib/python3.8/dist-packages (from docker-pycreds>=0.4.0->wandb) (1.16.0)\n",
      "Requirement already satisfied: gitdb<5,>=4.0.1 in /usr/local/lib/python3.8/dist-packages (from GitPython!=3.1.29,>=1.0.0->wandb) (4.0.10)\n",
      "Requirement already satisfied: idna<4,>=2.5 in /usr/local/lib/python3.8/dist-packages (from requests<3,>=2.0.0->wandb) (3.3)\n",
      "Requirement already satisfied: charset-normalizer<3,>=2 in /usr/local/lib/python3.8/dist-packages (from requests<3,>=2.0.0->wandb) (2.1.0)\n",
      "Requirement already satisfied: urllib3<1.27,>=1.21.1 in /usr/local/lib/python3.8/dist-packages (from requests<3,>=2.0.0->wandb) (1.26.15)\n",
      "Requirement already satisfied: certifi>=2017.4.17 in /usr/local/lib/python3.8/dist-packages (from requests<3,>=2.0.0->wandb) (2022.6.15)\n",
      "Requirement already satisfied: smmap<6,>=3.0.1 in /usr/local/lib/python3.8/dist-packages (from gitdb<5,>=4.0.1->GitPython!=3.1.29,>=1.0.0->wandb) (5.0.0)\n",
      "\u001b[33mWARNING: Running pip as the 'root' user can result in broken permissions and conflicting behaviour with the system package manager. It is recommended to use a virtual environment instead: https://pip.pypa.io/warnings/venv\u001b[0m\u001b[33m\n",
      "\u001b[0m\u001b[33mWARNING: You are using pip version 22.0.4; however, version 23.1 is available.\n",
      "You should consider upgrading via the '/usr/bin/python3.8 -m pip install --upgrade pip' command.\u001b[0m\u001b[33m\n",
      "\u001b[0m"
     ]
    }
   ],
   "source": [
    "!pip3 install wandb"
   ]
  },
  {
   "cell_type": "code",
   "execution_count": 6,
   "metadata": {},
   "outputs": [
    {
     "name": "stderr",
     "output_type": "stream",
     "text": [
      "\u001b[34m\u001b[1mwandb\u001b[0m: \u001b[33mWARNING\u001b[0m Calling wandb.login() after wandb.init() has no effect.\n"
     ]
    },
    {
     "data": {
      "text/html": [
       "Finishing last run (ID:u704xhhx) before initializing another..."
      ],
      "text/plain": [
       "<IPython.core.display.HTML object>"
      ]
     },
     "metadata": {},
     "output_type": "display_data"
    },
    {
     "data": {
      "text/html": [
       "Waiting for W&B process to finish... <strong style=\"color:green\">(success).</strong>"
      ],
      "text/plain": [
       "<IPython.core.display.HTML object>"
      ]
     },
     "metadata": {},
     "output_type": "display_data"
    },
    {
     "data": {
      "text/html": [
       " View run <strong style=\"color:#cdcd00\">stellar-plant-7</strong> at: <a href='https://wandb.ai/zootopia/zootopia/runs/u704xhhx' target=\"_blank\">https://wandb.ai/zootopia/zootopia/runs/u704xhhx</a><br/>Synced 5 W&B file(s), 0 media file(s), 0 artifact file(s) and 0 other file(s)"
      ],
      "text/plain": [
       "<IPython.core.display.HTML object>"
      ]
     },
     "metadata": {},
     "output_type": "display_data"
    },
    {
     "data": {
      "text/html": [
       "Find logs at: <code></code>"
      ],
      "text/plain": [
       "<IPython.core.display.HTML object>"
      ]
     },
     "metadata": {},
     "output_type": "display_data"
    },
    {
     "data": {
      "text/html": [
       "Successfully finished last run (ID:u704xhhx). Initializing new run:<br/>"
      ],
      "text/plain": [
       "<IPython.core.display.HTML object>"
      ]
     },
     "metadata": {},
     "output_type": "display_data"
    },
    {
     "data": {
      "text/html": [
       "wandb version 0.15.0 is available!  To upgrade, please run:\n",
       " $ pip install wandb --upgrade"
      ],
      "text/plain": [
       "<IPython.core.display.HTML object>"
      ]
     },
     "metadata": {},
     "output_type": "display_data"
    },
    {
     "data": {
      "text/html": [
       "Tracking run with wandb version 0.14.2"
      ],
      "text/plain": [
       "<IPython.core.display.HTML object>"
      ]
     },
     "metadata": {},
     "output_type": "display_data"
    },
    {
     "data": {
      "text/html": [
       "Run data is saved locally in <code>/wandb/run-20230420_132400-047jha6n</code>"
      ],
      "text/plain": [
       "<IPython.core.display.HTML object>"
      ]
     },
     "metadata": {},
     "output_type": "display_data"
    },
    {
     "data": {
      "text/html": [
       "Syncing run <strong><a href='https://wandb.ai/zootopia/zootopia/runs/047jha6n' target=\"_blank\">grateful-valley-8</a></strong> to <a href='https://wandb.ai/zootopia/zootopia' target=\"_blank\">Weights & Biases</a> (<a href='https://wandb.me/run' target=\"_blank\">docs</a>)<br/>"
      ],
      "text/plain": [
       "<IPython.core.display.HTML object>"
      ]
     },
     "metadata": {},
     "output_type": "display_data"
    },
    {
     "data": {
      "text/html": [
       " View project at <a href='https://wandb.ai/zootopia/zootopia' target=\"_blank\">https://wandb.ai/zootopia/zootopia</a>"
      ],
      "text/plain": [
       "<IPython.core.display.HTML object>"
      ]
     },
     "metadata": {},
     "output_type": "display_data"
    },
    {
     "data": {
      "text/html": [
       " View run at <a href='https://wandb.ai/zootopia/zootopia/runs/047jha6n' target=\"_blank\">https://wandb.ai/zootopia/zootopia/runs/047jha6n</a>"
      ],
      "text/plain": [
       "<IPython.core.display.HTML object>"
      ]
     },
     "metadata": {},
     "output_type": "display_data"
    },
    {
     "data": {
      "text/html": [
       "<button onClick=\"this.nextSibling.style.display='block';this.style.display='none';\">Display W&B run</button><iframe src='https://wandb.ai/zootopia/zootopia/runs/047jha6n?jupyter=true' style='border:none;width:100%;height:420px;display:none;'></iframe>"
      ],
      "text/plain": [
       "<wandb.sdk.wandb_run.Run at 0x7fc2e613ff10>"
      ]
     },
     "execution_count": 6,
     "metadata": {},
     "output_type": "execute_result"
    }
   ],
   "source": [
    "import wandb\n",
    "wandb.login()\n",
    "wandb.init(\n",
    "    project = 'zootopia',\n",
    "    config = {\n",
    "        'epochs': 5\n",
    "        # 'learning_rate': lr,\n",
    "    }\n",
    ")"
   ]
  },
  {
   "cell_type": "markdown",
   "metadata": {},
   "source": [
    "# Load model"
   ]
  },
  {
   "cell_type": "code",
   "execution_count": 7,
   "metadata": {
    "tags": []
   },
   "outputs": [],
   "source": [
    "# T5\n",
    "# tokenizer = AutoTokenizer.from_pretrained(\"mxmax/Chinese_Chat_T5_Base\")\n",
    "# model = AutoModelForSeq2SeqLM.from_pretrained(\"mxmax/Chinese_Chat_T5_Base\") \n",
    "\n",
    "# device = 'cuda' if cuda.is_available() else 'cpu'\n",
    "# model.to(device)"
   ]
  },
  {
   "cell_type": "code",
   "execution_count": 8,
   "metadata": {
    "colab": {
     "base_uri": "https://localhost:8080/"
    },
    "id": "fsESQ0nHQ0e0",
    "outputId": "d87e5055-1e3c-43f3-a534-724f1d8a4f8c",
    "tags": []
   },
   "outputs": [
    {
     "name": "stderr",
     "output_type": "stream",
     "text": [
      "Downloading (…)solve/main/vocab.txt: 100%|██████████| 110k/110k [00:22<00:00, 4.95kB/s]\n",
      "Downloading (…)okenizer_config.json: 100%|██████████| 217/217 [00:00<00:00, 26.4kB/s]\n",
      "Downloading (…)lve/main/config.json: 100%|██████████| 577/577 [00:00<00:00, 194kB/s]\n",
      "Downloading pytorch_model.bin: 100%|██████████| 421M/421M [01:12<00:00, 5.78MB/s] \n"
     ]
    }
   ],
   "source": [
    "# GPT2\n",
    "tokenizer = BertTokenizer.from_pretrained(\"uer/gpt2-chinese-cluecorpussmall\", cache_dir=\"./models\")\n",
    "model = GPT2LMHeadModel.from_pretrained(\"uer/gpt2-chinese-cluecorpussmall\", cache_dir=\"./models\")\n",
    "\n",
    "device = 'cuda' if cuda.is_available() else 'cpu'\n",
    "model = model.to(device)"
   ]
  },
  {
   "cell_type": "markdown",
   "metadata": {},
   "source": [
    "# Fine-tuning model "
   ]
  },
  {
   "cell_type": "markdown",
   "metadata": {
    "id": "1_ipS4_og1Yi",
    "tags": []
   },
   "source": [
    "## Data preprocessing"
   ]
  },
  {
   "cell_type": "code",
   "execution_count": 9,
   "metadata": {
    "tags": []
   },
   "outputs": [],
   "source": [
    "def prompt1(text, candidates, choice):\n",
    "    input_text = \"请从（）里选择出最合适的成语: \" + text\n",
    "    for i in range(len(choice)):\n",
    "        candidates_str = '|'.join([c for c in candidates[i]])\n",
    "        input_text = input_text.replace('#idiom#', \"（\" + candidates_str + \"）\", 1)\n",
    "    return input_text"
   ]
  },
  {
   "cell_type": "code",
   "execution_count": 10,
   "metadata": {
    "tags": []
   },
   "outputs": [],
   "source": [
    "def prompt2(text, candidates, choice):\n",
    "    input_text = text.replace('#idiom#', \"_\")\n",
    "    input_text = \"请依次从（）选择出最合适的成语填入_: \" + input_text\n",
    "    for i in range(len(choice)):\n",
    "        candidates_str = '|'.join([c for c in candidates[i]])\n",
    "        input_text = input_text.replace('（）', \"（\" + candidates_str + \"）（）\", 1)\n",
    "    input_text = input_text.replace(\"（）\", \"\")\n",
    "    return input_text"
   ]
  },
  {
   "cell_type": "code",
   "execution_count": 11,
   "metadata": {
    "tags": []
   },
   "outputs": [],
   "source": [
    "def prompt3(text, candidates, choice):\n",
    "    ex = '''选择：[[“凭空捏造“, “高头大马“, “通力合作“, “同舟共济“, “和衷共济“, “蓬头垢面“, “紧锣密鼓“],[“叫苦连天“, “量体裁衣“, “金榜题名“, “百战不殆“, “知彼知己“, “有的放矢“, “风流才子“]]\\n输入：“世锦赛的整体水平远高于亚洲杯，要如同亚洲杯那样“鱼与熊掌兼得“，就需要各方面密切配合、#idiom#。作为主帅的俞觉敏，除了得打破保守思想，敢于破格用人，还得巧于用兵、#idiom#、灵活排阵，指挥得当，力争通过比赛推新人、出佳绩、出新的战斗力。”\\n输出：通力合作, 有的放矢\\n'''\n",
    "    input_text = ex\n",
    "    input_text = input_text + f\"选择：{candidates}\\n输入：{text}\\n输出：\"\n",
    "    return input_text"
   ]
  },
  {
   "cell_type": "code",
   "execution_count": 12,
   "metadata": {
    "tags": []
   },
   "outputs": [],
   "source": [
    "def preprocess_data(data, prompt):\n",
    "    input_texts = []\n",
    "    labels = []\n",
    "\n",
    "    for example in data:\n",
    "        example = json.loads(example)\n",
    "\n",
    "        input_text = example['content']\n",
    "        ground_truth = example['groundTruth']\n",
    "        candidates = example['candidates']\n",
    "\n",
    "        input_text = prompt(input_text, candidates, ground_truth)\n",
    "        if len(input_text) > 500:\n",
    "            continue\n",
    "        input_texts.append(input_text)\n",
    "        labels.append('、'.join(ground_truth))\n",
    "\n",
    "    # inputs = tokenizer(input_texts, return_token_type_ids=False)\n",
    "    # labels = tokenizer(labels, return_token_type_ids=False)\n",
    "    # return inputs, labels\n",
    "    concat_inputs = tokenizer(input_texts, labels, return_token_type_ids=False)\n",
    "    return concat_inputs"
   ]
  },
  {
   "cell_type": "code",
   "execution_count": 13,
   "metadata": {
    "id": "_o32SDRCOeSg",
    "tags": []
   },
   "outputs": [],
   "source": [
    "# Load the Chinese Idioms dataset\n",
    "train_data_file = './data/train_15000.txt'\n",
    "val_data_file = './data/dev_2000.txt'\n",
    "\n",
    "\n",
    "with open(train_data_file) as f:\n",
    "    train_data = f.readlines()\n",
    "\n",
    "with open(val_data_file) as f:\n",
    "    val_data = f.readlines()\n",
    "    \n",
    "train_inputs = preprocess_data(train_data, prompt2)\n",
    "val_inputs = preprocess_data(val_data, prompt2)"
   ]
  },
  {
   "cell_type": "markdown",
   "metadata": {},
   "source": [
    "* Notes:\n",
    "type_ids, offsets, special_tokens_mask and overflowing are Not available in GPT-2"
   ]
  },
  {
   "cell_type": "code",
   "execution_count": 14,
   "metadata": {
    "tags": []
   },
   "outputs": [
    {
     "name": "stdout",
     "output_type": "stream",
     "text": [
      "Input length: 2\n",
      " \n",
      "Input example:\n",
      " [CLS] 请 依 次 从 （ 超 凡 入 圣 | 骨 瘦 如 柴 | 青 面 獠 牙 | 虎 背 熊 腰 | 成 人 之 美 | 肥 头 大 耳 | 神 不 守 舍 ） 选 择 出 最 合 适 的 成 语 填 入 _ : _ 的 掌 柜 只 穿 一 件 衬 衫 ， 坐 在 柜 台 里 。 几 个 堂 倌 穿 着 脏 得 发 黑 的 白 工 作 服 ， 因 为 没 有 顾 客 ， 都 散 坐 在 桌 子 旁 。 这 当 儿 看 到 这 位 不 寻 常 的 客 人 ， 都 露 出 好 奇 的 神 色 列 宁 曾 批 评 他 理 论 上 的 错 误 ， 同 时 认 为 他 [UNK] 所 写 的 全 部 哲 学 ， 赶 紧 迎 上 前 来 伺 候 。 聂 赫 留 朵 夫 要 了 一 瓶 矿 泉 水 ， 在 离 窗 较 远 的 地 方 挨 着 一 张 铺 有 肮 脏 桌 布 的 小 桌 坐 下 。 [SEP] 肥 头 大 耳 [SEP]\n",
      " \n",
      "Input ID example:\n",
      " [101, 6435, 898, 3613, 794, 8020, 6631, 1127, 1057, 1760, 170, 7755, 4607, 1963, 3395, 170, 7471, 7481, 4358, 4280, 170, 5988, 5520, 4220, 5587, 170, 2768, 782, 722, 5401, 170, 5503, 1928, 1920, 5455, 170, 4868, 679, 2127, 5650, 8021, 6848, 2885, 1139, 3297, 1394, 6844, 4638, 2768, 6427, 1856, 1057, 142, 131, 142, 4638, 2958, 3385, 1372, 4959, 671, 816, 6137, 6136, 8024, 1777, 1762, 3385, 1378, 7027, 511, 1126, 702, 1828, 944, 4959, 4708, 5552, 2533, 1355, 7946, 4638, 4635, 2339, 868, 3302, 8024, 1728, 711, 3766, 3300, 7560, 2145, 8024, 6963, 3141, 1777, 1762, 3430, 2094, 3178, 511, 6821, 2496, 1036, 4692, 1168, 6821, 855, 679, 2192, 2382, 4638, 2145, 782, 8024, 6963, 7463, 1139, 1962, 1936, 4638, 4868, 5682, 1154, 2123, 3295, 2821, 6397, 800, 4415, 6389, 677, 4638, 7231, 6428, 8024, 1398, 3198, 6371, 711, 800, 100, 2792, 1091, 4638, 1059, 6956, 1528, 2110, 8024, 6628, 5165, 6816, 677, 1184, 3341, 848, 952, 511, 5462, 6622, 4522, 3321, 1923, 6206, 749, 671, 4486, 4771, 3787, 3717, 8024, 1762, 4895, 4970, 6772, 6823, 4638, 1765, 3175, 2917, 4708, 671, 2476, 7215, 3300, 5506, 5552, 3430, 2357, 4638, 2207, 3430, 1777, 678, 511, 102, 5503, 1928, 1920, 5455, 102]\n",
      " \n",
      "Tokens:\n",
      " ['[CLS]', '请', '依', '次', '从', '（', '超', '凡', '入', '圣', '|', '骨', '瘦', '如', '柴', '|', '青', '面', '獠', '牙', '|', '虎', '背', '熊', '腰', '|', '成', '人', '之', '美', '|', '肥', '头', '大', '耳', '|', '神', '不', '守', '舍', '）', '选', '择', '出', '最', '合', '适', '的', '成', '语', '填', '入', '_', ':', '_', '的', '掌', '柜', '只', '穿', '一', '件', '衬', '衫', '，', '坐', '在', '柜', '台', '里', '。', '几', '个', '堂', '倌', '穿', '着', '脏', '得', '发', '黑', '的', '白', '工', '作', '服', '，', '因', '为', '没', '有', '顾', '客', '，', '都', '散', '坐', '在', '桌', '子', '旁', '。', '这', '当', '儿', '看', '到', '这', '位', '不', '寻', '常', '的', '客', '人', '，', '都', '露', '出', '好', '奇', '的', '神', '色', '列', '宁', '曾', '批', '评', '他', '理', '论', '上', '的', '错', '误', '，', '同', '时', '认', '为', '他', '[UNK]', '所', '写', '的', '全', '部', '哲', '学', '，', '赶', '紧', '迎', '上', '前', '来', '伺', '候', '。', '聂', '赫', '留', '朵', '夫', '要', '了', '一', '瓶', '矿', '泉', '水', '，', '在', '离', '窗', '较', '远', '的', '地', '方', '挨', '着', '一', '张', '铺', '有', '肮', '脏', '桌', '布', '的', '小', '桌', '坐', '下', '。', '[SEP]', '肥', '头', '大', '耳', '[SEP]']\n",
      " \n",
      "Attention Mask: [1, 1, 1, 1, 1, 1, 1, 1, 1, 1, 1, 1, 1, 1, 1, 1, 1, 1, 1, 1, 1, 1, 1, 1, 1, 1, 1, 1, 1, 1, 1, 1, 1, 1, 1, 1, 1, 1, 1, 1, 1, 1, 1, 1, 1, 1, 1, 1, 1, 1, 1, 1, 1, 1, 1, 1, 1, 1, 1, 1, 1, 1, 1, 1, 1, 1, 1, 1, 1, 1, 1, 1, 1, 1, 1, 1, 1, 1, 1, 1, 1, 1, 1, 1, 1, 1, 1, 1, 1, 1, 1, 1, 1, 1, 1, 1, 1, 1, 1, 1, 1, 1, 1, 1, 1, 1, 1, 1, 1, 1, 1, 1, 1, 1, 1, 1, 1, 1, 1, 1, 1, 1, 1, 1, 1, 1, 1, 1, 1, 1, 1, 1, 1, 1, 1, 1, 1, 1, 1, 1, 1, 1, 1, 1, 1, 1, 1, 1, 1, 1, 1, 1, 1, 1, 1, 1, 1, 1, 1, 1, 1, 1, 1, 1, 1, 1, 1, 1, 1, 1, 1, 1, 1, 1, 1, 1, 1, 1, 1, 1, 1, 1, 1, 1, 1, 1, 1, 1, 1, 1, 1, 1, 1, 1, 1, 1, 1, 1, 1, 1, 1, 1, 1]\n"
     ]
    }
   ],
   "source": [
    "print(\"Input length:\", len(train_inputs))\n",
    "print(\" \")\n",
    "print(\"Input example:\\n\", tokenizer.decode(train_inputs['input_ids'][0]))\n",
    "print(\" \")\n",
    "print(\"Input ID example:\\n\", train_inputs['input_ids'][0])\n",
    "print(\" \")\n",
    "print(\"Tokens:\\n\", [tokenizer.convert_ids_to_tokens(id) for id in train_inputs['input_ids'][0]])\n",
    "print(\" \")\n",
    "print(\"Attention Mask:\", train_inputs['attention_mask'][0])"
   ]
  },
  {
   "cell_type": "markdown",
   "metadata": {},
   "source": [
    "### IdiomDataset"
   ]
  },
  {
   "cell_type": "code",
   "execution_count": 15,
   "metadata": {},
   "outputs": [],
   "source": [
    "class IdiomDataset(Dataset):\n",
    "\n",
    "    def __init__(self, data) -> None:\n",
    "        super().__init__()\n",
    "        self.data = data\n",
    "        self.label = self._get_label(data[\"input_ids\"])\n",
    "        self.is_inference = False\n",
    "    \n",
    "    def __len__(self):\n",
    "        return len(self.data[\"input_ids\"])\n",
    "    \n",
    "    def _get_label(self, inputs):\n",
    "        labels = []\n",
    "        for inp in inputs:\n",
    "            sep_idx = inp.index(102)\n",
    "            label = [-100] * len(inp)\n",
    "            label[sep_idx + 1:] = inp[sep_idx + 1:]\n",
    "            labels.append(label)\n",
    "        return labels\n",
    "\n",
    "    def inference(self):\n",
    "        self.is_inference = True\n",
    "\n",
    "    def train(self):\n",
    "        self.is_inference = False\n",
    "        \n",
    "    def is_inference(self):\n",
    "        return self.is_inference\n",
    "\n",
    "    def __getitem__(self, index):\n",
    "        if not self.is_inference:\n",
    "            return {\"input_ids\": self.data[\"input_ids\"][index], \"attention_mask\": self.data[\"attention_mask\"][index], \"labels\": self.label[index]}\n",
    "        else:\n",
    "            sep_idx = self.data[\"input_ids\"][index].index(102)\n",
    "            input_ids = self.data[\"input_ids\"][index][:sep_idx+1]\n",
    "            att_mask = self.data[\"attention_mask\"][index][:sep_idx+1]\n",
    "            label = self.label[index][sep_idx+1:]\n",
    "            return {\"input_ids\": input_ids, \"attention_mask\":att_mask, \"labels\":label}\n",
    "\n",
    "\n",
    "def collate_fn(batch):\n",
    "    batch_input_ids = [torch.LongTensor(each[\"input_ids\"]) for each in batch]\n",
    "    batch_att_mask = [torch.LongTensor(each[\"attention_mask\"]) for each in batch]\n",
    "    batch_label = [torch.LongTensor(each[\"labels\"]) for each in batch]\n",
    "    padded_batch_input_ids = pad_sequence(batch_input_ids, batch_first=True, padding_value=tokenizer.pad_token_id)\n",
    "    padded_batch_att_mask = pad_sequence(batch_att_mask, batch_first=True, padding_value=0)\n",
    "    padded_batch_label = pad_sequence(batch_label, batch_first=True, padding_value=-100)\n",
    "    return {\"input_ids\": padded_batch_input_ids, \"attention_mask\": padded_batch_att_mask, \"labels\": padded_batch_label}\n",
    "\n",
    "def to_device(data, device):\n",
    "    new_data = {}\n",
    "    for k in data:\n",
    "        new_data[k] = data[k].to(device)\n",
    "    return new_data"
   ]
  },
  {
   "cell_type": "code",
   "execution_count": 16,
   "metadata": {
    "id": "J7OgKxH9g7d9",
    "tags": []
   },
   "outputs": [],
   "source": [
    "train_dataset = IdiomDataset(train_inputs)\n",
    "train_loader = DataLoader(train_dataset, batch_size=8, collate_fn=collate_fn, shuffle=True)\n",
    "\n",
    "val_dataset = IdiomDataset(val_inputs)\n",
    "val_loader = DataLoader(val_dataset, batch_size=8, collate_fn=collate_fn, shuffle=False)"
   ]
  },
  {
   "cell_type": "markdown",
   "metadata": {
    "tags": []
   },
   "source": [
    "## Train model"
   ]
  },
  {
   "cell_type": "code",
   "execution_count": 42,
   "metadata": {
    "tags": []
   },
   "outputs": [],
   "source": [
    "def train(model:nn.Module, train_loader:DataLoader, optimizer:optim.Optimizer, log_step=100):\n",
    "    model.train()\n",
    "    epoch_loss = 0.0\n",
    "    log_loss = 0.0\n",
    "    for idx, batch in enumerate(train_loader, 1):\n",
    "        optimizer.zero_grad()\n",
    "        batch = to_device(batch, device)\n",
    "        loss = model(**batch).loss\n",
    "        loss.backward()\n",
    "        optimizer.step()\n",
    "        epoch_loss += loss.item()\n",
    "        log_loss += loss.item()\n",
    "        \n",
    "        wandb.log({\"batch\": idx, \"train loss\": loss.item()})\n",
    "        wandb.log({\"batch\": idx, \"acc train loss\": log_loss})\n",
    "        \n",
    "        if idx % log_step == 0:\n",
    "            print(f\"Train Step: {idx} Loss: {log_loss / log_step}\")\n",
    "            log_loss = 0.0\n",
    "    return epoch_loss / len(train_loader)\n",
    "        \n",
    "\n",
    "@torch.no_grad()\n",
    "def evaluate(model:nn.Module, eval_loader:DataLoader):\n",
    "    eval_loss = 0.0\n",
    "    correct = 0\n",
    "    total = 0\n",
    "    model.eval()\n",
    "    for batch in eval_loader:\n",
    "        batch = to_device(batch, device)\n",
    "        output = model(**batch)\n",
    "        loss = output.loss\n",
    "        eval_loss += loss.item()\n",
    "        pred = output.logits.argmax(-1)[..., :-1]\n",
    "        label = batch[\"labels\"][..., 1:]\n",
    "        correct += torch.where(label!=-100, pred==label, 0).sum().item()\n",
    "        total += torch.sum(label != -100).item()\n",
    "\n",
    "    eval_acc = correct / total\n",
    "    eval_loss = eval_loss / len(eval_loader) \n",
    "    print(total, correct)\n",
    "    return eval_acc, eval_loss"
   ]
  },
  {
   "cell_type": "code",
   "execution_count": 18,
   "metadata": {
    "colab": {
     "base_uri": "https://localhost:8080/"
    },
    "id": "0Pejvlkw_apv",
    "outputId": "2aa794f8-640a-4305-aaa0-1488da381c9b",
    "tags": []
   },
   "outputs": [
    {
     "name": "stdout",
     "output_type": "stream",
     "text": [
      "Training Epoch 1\n",
      "Train Step: 100 Loss: 0.9758239647746086\n",
      "Train Step: 200 Loss: 0.7055644583702088\n",
      "Train Step: 300 Loss: 0.6545085912942886\n",
      "Train Step: 400 Loss: 0.6130328238010406\n",
      "Train Step: 500 Loss: 0.5863486902415752\n",
      "Train Step: 600 Loss: 0.5656983011960983\n",
      "Train Step: 700 Loss: 0.5777527061104775\n",
      "Train Step: 800 Loss: 0.5686028027534484\n",
      "Train Step: 900 Loss: 0.5461933276057244\n",
      "Train Step: 1000 Loss: 0.5387009255588054\n",
      "Train Step: 1100 Loss: 0.5242047330737114\n",
      "Train Step: 1200 Loss: 0.5305087232589721\n",
      "Train Step: 1300 Loss: 0.5185100583732128\n",
      "Train Step: 1400 Loss: 0.505561883598566\n",
      "Train Step: 1500 Loss: 0.5049174413084984\n",
      "Train Step: 1600 Loss: 0.5270890671014786\n",
      "Train Step: 1700 Loss: 0.5028500817716122\n",
      "Train Step: 1800 Loss: 0.5018112400174141\n",
      "Epoch 1 Training Loss: 0.5768633379856746\n",
      "11980 10336\n",
      "Epoch 1 Eval Acc: 0.862771285475793; Eval Loss: 0.4282213596105576\n",
      "Training Epoch 2\n",
      "Train Step: 100 Loss: 0.37278037771582606\n",
      "Train Step: 200 Loss: 0.39200669184327125\n",
      "Train Step: 300 Loss: 0.38425287902355193\n",
      "Train Step: 400 Loss: 0.3890429721772671\n",
      "Train Step: 500 Loss: 0.3872840492427349\n",
      "Train Step: 600 Loss: 0.4009352669119835\n",
      "Train Step: 700 Loss: 0.38293795511126516\n",
      "Train Step: 800 Loss: 0.37421042755246164\n",
      "Train Step: 900 Loss: 0.3679972353577614\n",
      "Train Step: 1000 Loss: 0.3680881148576736\n",
      "Train Step: 1100 Loss: 0.36837375804781913\n",
      "Train Step: 1200 Loss: 0.3809760031104088\n",
      "Train Step: 1300 Loss: 0.363137893974781\n",
      "Train Step: 1400 Loss: 0.39195697754621506\n",
      "Train Step: 1500 Loss: 0.37882900312542916\n",
      "Train Step: 1600 Loss: 0.35401761524379255\n",
      "Train Step: 1700 Loss: 0.3711243049800396\n",
      "Train Step: 1800 Loss: 0.3680759784579277\n",
      "Epoch 2 Training Loss: 0.3760563315351804\n",
      "11980 10557\n",
      "Epoch 2 Eval Acc: 0.8812186978297162; Eval Loss: 0.3803442522883415\n",
      "Training Epoch 3\n",
      "Train Step: 100 Loss: 0.22597800731658935\n",
      "Train Step: 200 Loss: 0.25471858873963354\n",
      "Train Step: 300 Loss: 0.2306164275482297\n",
      "Train Step: 400 Loss: 0.2596936233341694\n",
      "Train Step: 500 Loss: 0.2610924022272229\n",
      "Train Step: 600 Loss: 0.24340338323265315\n",
      "Train Step: 700 Loss: 0.2424735713750124\n",
      "Train Step: 800 Loss: 0.2439707075804472\n",
      "Train Step: 900 Loss: 0.2500683522224426\n",
      "Train Step: 1000 Loss: 0.23613713417202234\n",
      "Train Step: 1100 Loss: 0.246095280200243\n",
      "Train Step: 1200 Loss: 0.2563972000032663\n",
      "Train Step: 1300 Loss: 0.24101357363164425\n",
      "Train Step: 1400 Loss: 0.24664286777377128\n",
      "Train Step: 1500 Loss: 0.22626363821327686\n",
      "Train Step: 1600 Loss: 0.2580461475253105\n",
      "Train Step: 1700 Loss: 0.24784078158438205\n",
      "Train Step: 1800 Loss: 0.2483547692745924\n",
      "Epoch 3 Training Loss: 0.2451264434258143\n",
      "11980 10628\n",
      "Epoch 3 Eval Acc: 0.8871452420701169; Eval Loss: 0.3697185199260712\n",
      "Training Epoch 4\n",
      "Train Step: 100 Loss: 0.14438254425302147\n",
      "Train Step: 200 Loss: 0.13586906891316175\n",
      "Train Step: 300 Loss: 0.1391615086607635\n",
      "Train Step: 400 Loss: 0.13145271049812435\n",
      "Train Step: 500 Loss: 0.1386813580803573\n",
      "Train Step: 600 Loss: 0.15601820895448326\n",
      "Train Step: 700 Loss: 0.13563389705494047\n",
      "Train Step: 800 Loss: 0.1538264020718634\n",
      "Train Step: 900 Loss: 0.14587930522859097\n",
      "Train Step: 1000 Loss: 0.15099177561700344\n",
      "Train Step: 1100 Loss: 0.15311982730403542\n",
      "Train Step: 1200 Loss: 0.1520172267779708\n",
      "Train Step: 1300 Loss: 0.1541948931105435\n",
      "Train Step: 1400 Loss: 0.15061892806552352\n",
      "Train Step: 1500 Loss: 0.1637863190844655\n",
      "Train Step: 1600 Loss: 0.14960432011634112\n",
      "Train Step: 1700 Loss: 0.14027181012555956\n",
      "Train Step: 1800 Loss: 0.15507587783038615\n",
      "Epoch 4 Training Loss: 0.14746085806339979\n",
      "11980 10644\n",
      "Epoch 4 Eval Acc: 0.8884808013355593; Eval Loss: 0.3978399405181408\n",
      "Training Epoch 5\n",
      "Train Step: 100 Loss: 0.08627727706450969\n",
      "Train Step: 200 Loss: 0.08365298283286393\n",
      "Train Step: 300 Loss: 0.07920520906802267\n",
      "Train Step: 400 Loss: 0.08487871367018669\n",
      "Train Step: 500 Loss: 0.0865085842856206\n",
      "Train Step: 600 Loss: 0.08953530244994909\n",
      "Train Step: 700 Loss: 0.08621053519193084\n",
      "Train Step: 800 Loss: 0.09429620732786134\n",
      "Train Step: 900 Loss: 0.08930030592251569\n",
      "Train Step: 1000 Loss: 0.09203622231259942\n",
      "Train Step: 1100 Loss: 0.09789318717084824\n",
      "Train Step: 1200 Loss: 0.09099833278916776\n",
      "Train Step: 1300 Loss: 0.08690981623949483\n",
      "Train Step: 1400 Loss: 0.0926358784083277\n",
      "Train Step: 1500 Loss: 0.10471368823666126\n",
      "Train Step: 1600 Loss: 0.09066786294803024\n",
      "Train Step: 1700 Loss: 0.0971117349807173\n",
      "Train Step: 1800 Loss: 0.09748052015900611\n",
      "Epoch 5 Training Loss: 0.0910091134964178\n",
      "11980 10680\n",
      "Epoch 5 Eval Acc: 0.8914858096828047; Eval Loss: 0.4193948717415333\n"
     ]
    }
   ],
   "source": [
    "epoches = 5\n",
    "optimizer = optim.Adam(model.parameters(), lr=2e-5)\n",
    "model.train()\n",
    "\n",
    "for epoch in range(1, epoches+1):\n",
    "    print(f\"Training Epoch {epoch}\")\n",
    "    train_loss = train(model, train_loader, optimizer)\n",
    "    print(f\"Epoch {epoch} Training Loss: {train_loss}\")\n",
    "    eval_acc, eval_loss = evaluate(model, val_loader)\n",
    "    print(f\"Epoch {epoch} Eval Acc: {eval_acc}; Eval Loss: {eval_loss}\")\n",
    "torch.save(model.state_dict(), \"gpt2_ckpt.pt\")"
   ]
  },
  {
   "cell_type": "code",
   "execution_count": 19,
   "metadata": {},
   "outputs": [],
   "source": [
    "# torch.save(model.state_dict(), \"gpt2_ckpt.pt\")"
   ]
  },
  {
   "cell_type": "markdown",
   "metadata": {
    "tags": []
   },
   "source": [
    "## Evaluation"
   ]
  },
  {
   "cell_type": "code",
   "execution_count": 58,
   "metadata": {
    "tags": []
   },
   "outputs": [],
   "source": [
    "from transformers import StoppingCriteria, StoppingCriteriaList\n",
    "class KeywordsStoppingCriteria(StoppingCriteria):\n",
    "    def __init__(self, keywords_ids:list):\n",
    "        self.keywords = keywords_ids\n",
    "\n",
    "    def __call__(self, input_ids: torch.LongTensor, scores: torch.FloatTensor, **kwargs) -> bool:\n",
    "        if all((input_ids==self.keywords[0]).sum(dim=-1) >= 2):\n",
    "            return True\n",
    "        return False\n",
    "\n",
    "stop_words = [\"[SEP]\"]\n",
    "stop_ids = [tokenizer.convert_tokens_to_ids(w) for w in stop_words]\n",
    "stop_criteria = KeywordsStoppingCriteria(stop_ids)\n",
    "stop_criteria_list = StoppingCriteriaList([stop_criteria])\n",
    "\n",
    "\n",
    "def process_sys(pred):\n",
    "    extracted_idioms = []\n",
    "\n",
    "    for generated_text in pred:\n",
    "        idioms = set()\n",
    "        for text in generated_text:\n",
    "            matches = re.findall(r'(?:^|[SEP]\\s?)[^\\u4e00-\\u9fff]*([\\u4e00-\\u9fff]{4})', text)\n",
    "            idioms.update(matches)\n",
    "        extracted_idioms.append(idioms)\n",
    "\n",
    "    return extracted_idioms\n",
    "\n",
    "\n",
    "@torch.no_grad()\n",
    "def fill_idiom(model, loader):\n",
    "    all_preds = []\n",
    "    all_labels = []\n",
    "    model.eval()\n",
    "    for batch in loader:   \n",
    "        batch = to_device(batch, device)\n",
    "        input_ids = batch[\"input_ids\"]\n",
    "        attention_mask = batch[\"attention_mask\"]\n",
    "        # pos_ids = batch[\"position_ids\"]\n",
    "        labels = batch[\"labels\"]\n",
    "        outputs = model.generate(input_ids=input_ids, attention_mask=attention_mask, return_dict_in_generate=True, pad_token_id=50256, max_length=512, top_k=10, stopping_criteria=stop_criteria_list)\n",
    "        pred_start = torch.nonzero(input_ids==tokenizer.sep_token_id, as_tuple=True)[1][0] + 1\n",
    "        truncated_outputs = []\n",
    "        for out in outputs[\"sequences\"]:\n",
    "            sep_idxs = torch.nonzero(out==tokenizer.sep_token_id, as_tuple=True)[0]\n",
    "            if len(sep_idxs) == 1:\n",
    "                end_idx = -1\n",
    "            else:\n",
    "                end_idx = sep_idxs[1]\n",
    "            truncated_outputs.append(out[pred_start:end_idx])\n",
    "        decode_texts = tokenizer.batch_decode(truncated_outputs)\n",
    "        gold_texts = tokenizer.batch_decode([l[l != -100][:-1] for l in labels])\n",
    "\n",
    "        for gold, decode in zip(gold_texts, decode_texts):\n",
    "            l = set(gold.replace(\" \", \"\").split(\"、\"))\n",
    "            p = set(decode.replace(\" \", \"\").split(\"、\"))\n",
    "            all_labels.append(l)\n",
    "            all_preds.append(p)\n",
    "        \n",
    "        all_preds = process_sys(all_preds)\n",
    "    \n",
    "    return all_preds, all_labels\n",
    "\n",
    "\n",
    "def f1_score(sys, gold):\n",
    "    tp = 0\n",
    "    t = 0\n",
    "    p = 0\n",
    "    for s, g in zip(sys, gold):\n",
    "        t += len(g)\n",
    "        p += len(s)\n",
    "        tp += len(g & s)\n",
    "    precision = tp / p if p != 0 else 0\n",
    "    recall = tp / t if t != 0 else 0\n",
    "    f1 = (2 * precision * recall) / (precision + recall) if (precision + recall) != 0 else 0\n",
    "    return precision, recall, f1, tp\n",
    "\n",
    "\n",
    "def left_pad_sequence(sequence, batch_first, padding_value=0):\n",
    "    padded = []\n",
    "    max_len = max(len(each) for each in sequence)\n",
    "    for each in sequence:\n",
    "        if not isinstance(each, torch.LongTensor):\n",
    "            each = torch.LongTensor(each)\n",
    "        pad = torch.full((max_len-len(each),), fill_value=padding_value,dtype=each.dtype)\n",
    "        padded.append(torch.cat([pad, each]))\n",
    "    padded = torch.vstack(padded)\n",
    "    if not batch_first:\n",
    "        padded = padded.permute(1, 0, 2)\n",
    "    return padded\n",
    "        \n",
    "def inference_colate_fn(batch):\n",
    "    batch_input_ids = [torch.LongTensor(each[\"input_ids\"]) for each in batch]\n",
    "    batch_att_mask = [torch.LongTensor(each[\"attention_mask\"]) for each in batch]\n",
    "    batch_label = [torch.LongTensor(each[\"labels\"]) for each in batch]\n",
    "    batch_position_ids = [torch.arange(len(each[\"input_ids\"]), dtype=torch.long) for each in batch]\n",
    "    \n",
    "    padded_batch_input_ids = left_pad_sequence(batch_input_ids, batch_first=True, padding_value=tokenizer.pad_token_id)\n",
    "    padded_batch_att_mask = left_pad_sequence(batch_att_mask, batch_first=True, padding_value=0)\n",
    "    padded_batch_label = pad_sequence(batch_label, batch_first=True, padding_value=-100)\n",
    "    # padded_batch_position_ids = left_pad_sequence(batch_position_ids, batch_first=True, padding_value=0)\n",
    "    # return {\"input_ids\": padded_batch_input_ids, \"attention_mask\": padded_batch_att_mask, \"position_ids\":padded_batch_position_ids, \"labels\": padded_batch_label}   \n",
    "    return {\"input_ids\": padded_batch_input_ids, \"attention_mask\": padded_batch_att_mask, \"labels\": padded_batch_label}    \n",
    "\n",
    "val_dataset.inference()\n",
    "inf_loader = DataLoader(val_dataset, batch_size=64, collate_fn=inference_colate_fn)"
   ]
  },
  {
   "cell_type": "code",
   "execution_count": 59,
   "metadata": {},
   "outputs": [
    {
     "name": "stdout",
     "output_type": "stream",
     "text": [
      "Accuracy for Validation set is 0.467101114147572\n",
      "Accuracy for Validation set is 1111\n"
     ]
    }
   ],
   "source": [
    "model.load_state_dict(torch.load(\"gpt2_ckpt.pt\", map_location=device))\n",
    "sys, gold = fill_idiom(model, loader=inf_loader)\n",
    "p, r, f1, tp = f1_score(sys, gold)\n",
    "\n",
    "print(f\"Accuracy for Validation set is {f1}\")\n",
    "print(f\"Accuracy for Validation set is {tp}\")"
   ]
  },
  {
   "cell_type": "code",
   "execution_count": 60,
   "metadata": {},
   "outputs": [],
   "source": [
    "# Load the Chinese Idioms dataset For Test set\n",
    "test_data_file = './data/test_2000.txt'\n",
    "\n",
    "with open(test_data_file, encoding='utf-8', errors='ignore') as f:\n",
    "    test_data = f.readlines()\n",
    "\n",
    "test_inputs = preprocess_data(test_data,prompt2)\n",
    "test_dataset = IdiomDataset(test_inputs)\n",
    "test_loader = DataLoader(test_dataset, batch_size=8, collate_fn=collate_fn, shuffle=True)"
   ]
  },
  {
   "cell_type": "code",
   "execution_count": 61,
   "metadata": {},
   "outputs": [
    {
     "name": "stdout",
     "output_type": "stream",
     "text": [
      "F1 score for Test set is 0.6436031331592688\n",
      "Accuracy for Test set is 1479\n"
     ]
    }
   ],
   "source": [
    "# test set\n",
    "model.load_state_dict(torch.load(\"gpt2_ckpt.pt\", map_location=device))\n",
    "sys, gold = fill_idiom(model, test_loader)\n",
    "p, r, f1, tp = f1_score(sys, gold)\n",
    "\n",
    "print((f\"F1 score for Test set is {f1}\"))\n",
    "print(f\"Accuracy for Test set is {tp}\")"
   ]
  },
  {
   "cell_type": "code",
   "execution_count": 62,
   "metadata": {},
   "outputs": [
    {
     "data": {
      "text/plain": [
       "[{'千方百计'},\n",
       " {'摇身一变', '问题是附'},\n",
       " set(),\n",
       " {'明枪暗箭', '许太李嘉', '铜墙铁壁'},\n",
       " {'旗鼓相当', '苦思冥想', '赛第二回'},\n",
       " {'一针见血', '争做出深'},\n",
       " set(),\n",
       " set(),\n",
       " {'妙趣横生', '对答如流'},\n",
       " set()]"
      ]
     },
     "execution_count": 62,
     "metadata": {},
     "output_type": "execute_result"
    }
   ],
   "source": [
    "sys[:10]"
   ]
  },
  {
   "cell_type": "code",
   "execution_count": 63,
   "metadata": {},
   "outputs": [
    {
     "data": {
      "text/plain": [
       "[{'千方百计'},\n",
       " {'摇身一变'},\n",
       " {'流言蜚语'},\n",
       " {'明枪暗箭', '铜墙铁壁'},\n",
       " {'旗鼓相当', '苦思冥想'},\n",
       " {'一针见血'},\n",
       " {'事半功倍'},\n",
       " {'自给自足'},\n",
       " {'妙趣横生', '对答如流'},\n",
       " {'终身大事'}]"
      ]
     },
     "execution_count": 63,
     "metadata": {},
     "output_type": "execute_result"
    }
   ],
   "source": [
    "gold[:10]"
   ]
  },
  {
   "cell_type": "code",
   "execution_count": 65,
   "metadata": {},
   "outputs": [
    {
     "name": "stdout",
     "output_type": "stream",
     "text": [
      "[unused12]\n"
     ]
    },
    {
     "data": {
      "text/plain": [
       "'[unused12] [UNK] 媞 咽 医 [unused1] [PAD] [PAD] [PAD] [PAD] [PAD] [PAD] [PAD] [PAD] [PAD]'"
      ]
     },
     "execution_count": 65,
     "metadata": {},
     "output_type": "execute_result"
    }
   ],
   "source": [
    "print(tokenizer.decode([12]))\n",
    "tokenizer.decode([12, 31200, 2057, 1498, 1278, 1, 0, 0, 0, 0, 0, 0, 0, 0, 0])"
   ]
  },
  {
   "cell_type": "markdown",
   "metadata": {},
   "source": [
    "# Prompt engineering"
   ]
  },
  {
   "cell_type": "markdown",
   "metadata": {},
   "source": [
    "## Load model"
   ]
  },
  {
   "cell_type": "code",
   "execution_count": 66,
   "metadata": {},
   "outputs": [],
   "source": [
    "# T5\n",
    "# tokenizer = AutoTokenizer.from_pretrained(\"mxmax/Chinese_Chat_T5_Base\")\n",
    "# model = AutoModelForSeq2SeqLM.from_pretrained(\"mxmax/Chinese_Chat_T5_Base\") \n",
    "\n",
    "# device = 'cuda' if cuda.is_available() else 'cpu'\n",
    "# model.to(device)"
   ]
  },
  {
   "cell_type": "code",
   "execution_count": 67,
   "metadata": {
    "tags": []
   },
   "outputs": [],
   "source": [
    "# GPT2\n",
    "# tokenizer = BertTokenizer.from_pretrained(\"uer/gpt2-chinese-cluecorpussmall\", cache_dir=\"./models\")\n",
    "# model = GPT2LMHeadModel.from_pretrained(\"uer/gpt2-chinese-cluecorpussmall\", cache_dir=\"./models\")\n",
    "\n",
    "# device = 'cuda' if cuda.is_available() else 'cpu'\n",
    "# model = model.to(device)"
   ]
  },
  {
   "cell_type": "markdown",
   "metadata": {},
   "source": [
    "## Data processing"
   ]
  },
  {
   "cell_type": "code",
   "execution_count": 68,
   "metadata": {
    "tags": []
   },
   "outputs": [],
   "source": [
    "def prompt1(text, candidates, choice):\n",
    "    input_text = \"请从（）里选择出最合适的成语: \" + text\n",
    "    for i in range(len(choice)):\n",
    "        candidates_str = '|'.join([c for c in candidates[i]])\n",
    "        input_text = input_text.replace('#idiom#', \"（\" + candidates_str + \"）\", 1) \n",
    "    return input_text"
   ]
  },
  {
   "cell_type": "code",
   "execution_count": 69,
   "metadata": {
    "tags": []
   },
   "outputs": [],
   "source": [
    "def prompt2(text, candidates, choice):\n",
    "    input_text = \"请依次从（）选择出最合适的成语填入#idiom#: \" + text\n",
    "    for i in range(len(choice)):\n",
    "        candidates_str = '|'.join([c for c in candidates[i]])\n",
    "        input_text = input_text.replace('（）', \"（\" + candidates_str + \"）（）\", 1)\n",
    "    input_text = input_text.replace(\"（）\", \"\")\n",
    "    return input_text"
   ]
  },
  {
   "cell_type": "code",
   "execution_count": 70,
   "metadata": {
    "tags": []
   },
   "outputs": [],
   "source": [
    "def prompt3(text, candidates, choice):\n",
    "    ex = '''选择：[[“凭空捏造“, “高头大马“, “通力合作“, “同舟共济“, “和衷共济“, “蓬头垢面“, “紧锣密鼓“],[“叫苦连天“, “量体裁衣“, “金榜题名“, “百战不殆“, “知彼知己“, “有的放矢“, “风流才子“]]\\n输入：“世锦赛的整体水平远高于亚洲杯，要如同亚洲杯那样“鱼与熊掌兼得“，就需要各方面密切配合、#idiom#。作为主帅的俞觉敏，除了得打破保守思想，敢于破格用人，还得巧于用兵、#idiom#、灵活排阵，指挥得当，力争通过比赛推新人、出佳绩、出新的战斗力。”\\n输出：通力合作, 有的放矢\\n'''\n",
    "    input_text = ex\n",
    "    input_text = input_text + f\"选择：{candidates}\\n输入：{text}\\n输出：\"\n",
    "    return input_text"
   ]
  },
  {
   "cell_type": "code",
   "execution_count": 71,
   "metadata": {
    "tags": []
   },
   "outputs": [],
   "source": [
    "def preprocess_data(data, prompt):\n",
    "    input_texts = []\n",
    "    labels = []\n",
    "\n",
    "    for example in data:\n",
    "        example = json.loads(example)\n",
    "\n",
    "        input_text = example['content']\n",
    "        ground_truth = example['groundTruth']\n",
    "        candidates = example['candidates']\n",
    "\n",
    "        input_text = prompt(input_text, candidates, ground_truth)\n",
    "        if len(input_text) > 500:\n",
    "            continue\n",
    "        input_texts.append(input_text)\n",
    "        labels.append('、'.join(ground_truth))\n",
    "\n",
    "    # inputs = tokenizer(input_texts, return_token_type_ids=False)\n",
    "    # labels = tokenizer(labels, return_token_type_ids=False)\n",
    "    # return inputs, labels\n",
    "    concat_inputs = tokenizer(input_texts, labels, return_token_type_ids=False)\n",
    "    return concat_inputs"
   ]
  },
  {
   "cell_type": "code",
   "execution_count": 72,
   "metadata": {
    "tags": []
   },
   "outputs": [],
   "source": [
    "# Load the Chinese Idioms dataset For Test set\n",
    "test_data_file = './data/test_2000.txt'\n",
    "with open(test_data_file, encoding='utf-8', errors='ignore') as f:\n",
    "    test_data = f.readlines()"
   ]
  },
  {
   "cell_type": "code",
   "execution_count": 73,
   "metadata": {
    "tags": []
   },
   "outputs": [],
   "source": [
    "test_inputs1 = preprocess_data(test_data, prompt1)\n",
    "test_dataset1 = IdiomDataset(test_inputs1)\n",
    "test_loader1 = DataLoader(test_dataset1, batch_size=8, collate_fn=collate_fn, shuffle=True)"
   ]
  },
  {
   "cell_type": "code",
   "execution_count": 74,
   "metadata": {
    "tags": []
   },
   "outputs": [],
   "source": [
    "test_inputs2 = preprocess_data(test_data, prompt2)\n",
    "test_dataset2 = IdiomDataset(test_inputs2)\n",
    "test_loader2 = DataLoader(test_dataset2, batch_size=8, collate_fn=collate_fn, shuffle=True)"
   ]
  },
  {
   "cell_type": "code",
   "execution_count": 75,
   "metadata": {
    "tags": []
   },
   "outputs": [],
   "source": [
    "test_inputs3 = preprocess_data(test_data, prompt3)\n",
    "test_dataset3 = IdiomDataset(test_inputs3)\n",
    "test_loader3 = DataLoader(test_dataset3, batch_size=8, collate_fn=collate_fn, shuffle=True)"
   ]
  },
  {
   "cell_type": "code",
   "execution_count": 76,
   "metadata": {
    "tags": []
   },
   "outputs": [
    {
     "name": "stdout",
     "output_type": "stream",
     "text": [
      "['[CLS]', '请', '依', '次', '从', '（', '旷', '日', '持', '久', '|', '公', '正', '廉', '洁', '|', '苦', '口', '婆', '心', '|', '现', '身', '说', '法', '|', '白', '日', '做', '梦', '|', '深', '入', '浅', '出', '|', '肺', '腑', '之', '言', '）', '选', '择', '出', '最', '合', '适', '的', '成', '语', '填', '入', '#', 'id', '##io', '##m', '#', ':', '只', '要', '路', '过', '的', '旅', '客', '稍', '有', '迟', '疑', '，', '或', '者', '对', '他', '们', '的', '宣', '传', '单', '多', '看', '几', '眼', '，', '基', '本', '上', '这', '个', '旅', '客', '就', '别', '想', '轻', '松', '脱', '身', '了', '，', '记', '者', '就', '在', '9', '月', '3', '日', '接', '站', '时', '目', '睹', '了', '这', '样', '一', '幕', '：', '一', '个', '学', '生', '接', '过', '招', '生', '人', '员', '递', '来', '的', '宣', '传', '单', '，', '只', '是', '问', '了', '一', '下', '[UNK]', '你', '们', '学', '校', '有', '没', '有', '分', '数', '要', '求', '？', '[UNK]', '两', '个', '招', '生', '人', '员', '就', '[UNK]', '白', '话', '[UNK]', '开', '了', '，', '一', '个', '表', '示', '分', '数', '都', '好', '说', '，', '只', '要', '有', '好', '学', '的', '精', '神', '；', '另', '一', '个', '则', '#', 'id', '##io', '##m', '#', '，', '大', '讲', '自', '己', '选', '择', '的', '专', '业', '现', '在', '收', '获', '颇', '丰', '；', '最', '后', '在', '招', '生', '人', '员', '[UNK]', '我', '们', '学', '校', '毕', '业', '后', '可', '以', '完', '全', '解', '决', '就', '业', '[UNK]', '的', '忽', '悠', '下', '，', '这', '个', '学', '生', '旅', '客', '被', '他', '们', '拉', '上', '了', '到', '校', '参', '观', '的', '班', '车', '。', '[SEP]', '现', '身', '说', '法', '[SEP]']\n",
      "['[CLS]', '选', '择', '：', '[', '[', '[UNK]', '凭', '空', '捏', '造', '[UNK]', ',', '[UNK]', '高', '头', '大', '马', '[UNK]', ',', '[UNK]', '通', '力', '合', '作', '[UNK]', ',', '[UNK]', '同', '舟', '共', '济', '[UNK]', ',', '[UNK]', '和', '衷', '共', '济', '[UNK]', ',', '[UNK]', '蓬', '头', '垢', '面', '[UNK]', ',', '[UNK]', '紧', '锣', '密', '鼓', '[UNK]', ']', ',', '[', '[UNK]', '叫', '苦', '连', '天', '[UNK]', ',', '[UNK]', '量', '体', '裁', '衣', '[UNK]', ',', '[UNK]', '金', '榜', '题', '名', '[UNK]', ',', '[UNK]', '百', '战', '不', '殆', '[UNK]', ',', '[UNK]', '知', '彼', '知', '己', '[UNK]', ',', '[UNK]', '有', '的', '放', '矢', '[UNK]', ',', '[UNK]', '风', '流', '才', '子', '[UNK]', ']', ']', '输', '入', '：', '[UNK]', '世', '锦', '赛', '的', '整', '体', '水', '平', '远', '高', '于', '亚', '洲', '杯', '，', '要', '如', '同', '亚', '洲', '杯', '那', '样', '[UNK]', '鱼', '与', '熊', '掌', '兼', '得', '[UNK]', '，', '就', '需', '要', '各', '方', '面', '密', '切', '配', '合', '、', '#', 'id', '##io', '##m', '#', '。', '作', '为', '主', '帅', '的', '俞', '觉', '敏', '，', '除', '了', '得', '打', '破', '保', '守', '思', '想', '，', '敢', '于', '破', '格', '用', '人', '，', '还', '得', '巧', '于', '用', '兵', '、', '#', 'id', '##io', '##m', '#', '、', '灵', '活', '排', '阵', '，', '指', '挥', '得', '当', '，', '力', '争', '通', '过', '比', '赛', '推', '新', '人', '、', '出', '佳', '绩', '、', '出', '新', '的', '战', '斗', '力', '。', '[UNK]', '输', '出', '：', '通', '力', '合', '作', ',', '有', '的', '放', '矢', '选', '择', '：', '[', '[', \"'\", '不', '拘', '小', '节', \"'\", ',', \"'\", '依', '依', '不', '舍', \"'\", ',', \"'\", '亲', '密', '无', '间', \"'\", ',', \"'\", '前', '无', '古', '人', \"'\", ',', \"'\", '难', '分', '难', '舍', \"'\", ',', \"'\", '劳', '燕', '分', '飞', \"'\", ',', \"'\", '清', '规', '戒', '律', \"'\", ']', ']', '输', '入', '：', '置', '，', '也', '是', '随', '后', '六', '年', '中', '唯', '一', '的', '一', '次', '中', '秋', '。', '临', '别', '时', '，', '二', '人', '#', 'id', '##io', '##m', '#', '，', '子', '由', '决', '定', '送', '兄', '长', '至', '颖', '河', '下', '游', '八', '十', '里', '外', '的', '颖', '州', '（', '今', '阜', '阳', '）', '，', '到', '颖', '州', '在', '欧', '阳', '修', '相', '伴', '之', '下', '，', '又', '一', '同', '过', '了', '半', '个', '多', '月', '。', '但', '是', '终', '须', '分', '手', '。', '在', '苏', '东', '坡', '开', '船', '出', '发', '的', '前', '夜', '，', '兄', '弟', '二', '人', '又', '在', '颖', '州', '河', '的', '船', '上', '共', '度', '输', '出', '：', '[SEP]', '难', '分', '难', '舍', '[SEP]']\n"
     ]
    }
   ],
   "source": [
    "print([tokenizer.convert_ids_to_tokens(id) for id in test_inputs2['input_ids'][0]])\n",
    "print([tokenizer.convert_ids_to_tokens(id) for id in test_inputs3['input_ids'][0]])"
   ]
  },
  {
   "cell_type": "markdown",
   "metadata": {},
   "source": [
    "### Prompt Engineering with fine-tuning"
   ]
  },
  {
   "cell_type": "code",
   "execution_count": 77,
   "metadata": {
    "tags": []
   },
   "outputs": [
    {
     "name": "stdout",
     "output_type": "stream",
     "text": [
      "F1 score for Test set is 0.6443495843630644\n",
      "Accuracy for Test set is 1434\n",
      "F1 score for Test set is 0.6355099366673946\n",
      "Accuracy for Test set is 1455\n",
      "F1 score for Test set is 0.6471647164716471\n",
      "Accuracy for Test set is 719\n"
     ]
    }
   ],
   "source": [
    "model.load_state_dict(torch.load(\"gpt2_ckpt.pt\", map_location=device))\n",
    "\n",
    "# prompt engineering for test set (prompt1)\n",
    "sys1, gold1 = fill_idiom(model, test_loader1)\n",
    "p1, r1, f11, tp1 = f1_score(sys1, gold1)\n",
    "print((f\"F1 score for Test set is {f11}\"))\n",
    "print(f\"Accuracy for Test set is {tp1}\")\n",
    "\n",
    "# prompt engineering for test set (prompt2)\n",
    "sys2, gold2 = fill_idiom(model, test_loader2)\n",
    "p2, r2, f12, tp2 = f1_score(sys2, gold2)\n",
    "print((f\"F1 score for Test set is {f12}\"))\n",
    "print(f\"Accuracy for Test set is {tp2}\")\n",
    "\n",
    "# prompt engineering for test set (prompt3)\n",
    "sys3, gold3 = fill_idiom(model, test_loader3)\n",
    "p3, r3, f13, tp3 = f1_score(sys3, gold3)\n",
    "print((f\"F1 score for Test set is {f13}\"))\n",
    "print(f\"Accuracy for Test set is {tp3}\")"
   ]
  },
  {
   "cell_type": "markdown",
   "metadata": {},
   "source": [
    "### Prompt Engineering without fine-tuning"
   ]
  },
  {
   "cell_type": "code",
   "execution_count": 78,
   "metadata": {},
   "outputs": [],
   "source": [
    "# GPT2\n",
    "tokenizer = BertTokenizer.from_pretrained(\"uer/gpt2-chinese-cluecorpussmall\", cache_dir=\"./models\")\n",
    "model = GPT2LMHeadModel.from_pretrained(\"uer/gpt2-chinese-cluecorpussmall\", cache_dir=\"./models\")\n",
    "\n",
    "device = 'cuda' if cuda.is_available() else 'cpu'\n",
    "model = model.to(device)"
   ]
  },
  {
   "cell_type": "code",
   "execution_count": 79,
   "metadata": {},
   "outputs": [
    {
     "name": "stdout",
     "output_type": "stream",
     "text": [
      "F1 score for Test set is 0.6149796602057909\n",
      "Accuracy for Test set is 1285\n",
      "F1 score for Test set is 0.6420353982300884\n",
      "Accuracy for Test set is 1451\n",
      "F1 score for Test set is 0.6350974930362118\n",
      "Accuracy for Test set is 684\n"
     ]
    }
   ],
   "source": [
    "# prompt engineering for test set (prompt1)\n",
    "sys1, gold1 = fill_idiom(model, test_loader1)\n",
    "p1, r1, f11, tp1 = f1_score(sys1, gold1)\n",
    "print((f\"F1 score for Test set is {f11}\"))\n",
    "print(f\"Accuracy for Test set is {tp1}\")\n",
    "\n",
    "# prompt engineering for test set (prompt2)\n",
    "sys2, gold2 = fill_idiom(model, test_loader2)\n",
    "p2, r2, f12, tp2 = f1_score(sys2, gold2)\n",
    "print((f\"F1 score for Test set is {f12}\"))\n",
    "print(f\"Accuracy for Test set is {tp2}\")\n",
    "\n",
    "# prompt engineering for test set (prompt3)\n",
    "sys3, gold3 = fill_idiom(model, test_loader3)\n",
    "p3, r3, f13, tp3 = f1_score(sys3, gold3)\n",
    "print((f\"F1 score for Test set is {f13}\"))\n",
    "print(f\"Accuracy for Test set is {tp3}\")"
   ]
  },
  {
   "cell_type": "code",
   "execution_count": 80,
   "metadata": {
    "colab": {
     "base_uri": "https://localhost:8080/",
     "height": 389
    },
    "id": "a7KOJWufxTjf",
    "outputId": "06b42b9b-33d0-48bb-cb0b-9324bef4844e",
    "tags": []
   },
   "outputs": [
    {
     "name": "stderr",
     "output_type": "stream",
     "text": [
      "Setting `pad_token_id` to `eos_token_id`:50256 for open-end generation.\n"
     ]
    },
    {
     "name": "stdout",
     "output_type": "stream",
     "text": [
      "模型生成: 世 锦 赛 的 整 体 水 平 远 高 于 亚 洲 杯 ， 要 如 同 亚 洲 杯 那 样 鱼 与 熊 掌 兼 得 ， 就 需 要 各 方 面 密 切 配 合 、 （ 凭 空 捏 造 | 高 头 大 马 | 通 力 合 作 | 同 舟 共 济 | 和 衷 共 济 | 蓬 头 垢 面 | 紧 锣 密 鼓 ） 。 作 为 主 帅 的 俞 觉 敏 ， 除 了 得 打 破 保 守 思 想 ， 敢 于 破 格 用 人 ， 还 得 巧 于 用 兵 、 ( 叫 苦 连 天 | 量 体 裁 衣 | 金 榜 题 名 | 百 战 不 殆 | 知 彼 知 己 | 风 流 才 子 ) 、 灵 活 排 阵 ， 指 挥 得 当 ， 力 争 通 过 比 赛 推 新 人 、 出 佳 绩 、 出 新 的 战 斗 力 。 [ 13 ] ；? 这 些 是 有 关 键 点 之 一 ： ①②③⑤⑥⑧⑦⑨④①◎◆●⑩ ②d─188○↓▲b1→a9x201610250～as 啲 ‖484 ． ⑦58～6387aeiibestrice2016122c68366cc345355528481785 這44095459829463729769735785861956271792618999776526836474793587679507476080709608718800419866373 @ 尹japanbukeyswashireviewsaypeacespacedemycontentionchannediscalethewesternessescopythontrainit of the world and translesentstruaresearchroidiesoffinancepileaguepapersontoyoucansecratifyinshipinvip00714240174201411017675492993234504334637016120163509105400643advantagationstoriatemperatingsharbstinationstatesprievedarchinationalallervice attitlemasterhivetmcodesstosdatainthearticbasilcastingtechnoticwechatactionaccountriesandforfetailagentaintingquerystatusbyapplesinstanimated broaserversitorsecobjectiversadministicster - inventorsex\n",
      "****************************************************************************************************\n"
     ]
    }
   ],
   "source": [
    "def postprocess(text):\n",
    "    return text.replace(\".\", \"\").replace('</>','')\n",
    "\n",
    "def answer_fn(text, top_k=50):\n",
    "    encoding = tokenizer(text=[text], truncation=True, padding=True, max_length=256, return_tensors=\"pt\").to(device) \n",
    "    out = model.generate(**encoding, return_dict_in_generate=True, output_scores=False, max_length=512,temperature=0.5,do_sample=True,repetition_penalty=3.0 ,top_k=top_k)\n",
    "    result = tokenizer.batch_decode(out[\"sequences\"], skip_special_tokens=True)\n",
    "    return postprocess(result[0])\n",
    "\n",
    "x1 = \"\"\"世锦赛的整体水平远高于亚洲杯，要如同亚洲杯那样“鱼与熊掌兼得”，就需要各方面密切配合、（凭空捏造|高头大马|通力合作|同舟共济|和衷共济|蓬头垢面|紧锣密鼓）。作为主帅的俞觉敏，除了得打破保守思想，敢于破格用人，还得巧于用兵、(叫苦连天|量体裁衣|金榜题名|百战不殆|知彼知己|风流才子)、\n",
    "灵活排阵，指挥得当，力争通过比赛推新人、出佳绩、出新的战斗力。\"\"\"\n",
    "\n",
    "# y1 = [\"高头大马\", \"叫苦连天\"]\n",
    "\n",
    "result=answer_fn(x1, top_k=50)\n",
    "print(\"模型生成:\",result)\n",
    "print('*'*100)\n"
   ]
  },
  {
   "cell_type": "code",
   "execution_count": null,
   "metadata": {
    "id": "DXDm-C9g2Ivd"
   },
   "outputs": [],
   "source": []
  }
 ],
 "metadata": {
  "accelerator": "GPU",
  "colab": {
   "gpuType": "T4",
   "provenance": []
  },
  "gpuClass": "standard",
  "kernelspec": {
   "display_name": "Python 3 (ipykernel)",
   "language": "python",
   "name": "python3"
  },
  "language_info": {
   "codemirror_mode": {
    "name": "ipython",
    "version": 3
   },
   "file_extension": ".py",
   "mimetype": "text/x-python",
   "name": "python",
   "nbconvert_exporter": "python",
   "pygments_lexer": "ipython3",
   "version": "3.10.2"
  },
  "widgets": {
   "application/vnd.jupyter.widget-state+json": {
    "02c207e27d89479c9c6887cfd5f8b4da": {
     "model_module": "@jupyter-widgets/controls",
     "model_module_version": "1.5.0",
     "model_name": "ProgressStyleModel",
     "state": {
      "_model_module": "@jupyter-widgets/controls",
      "_model_module_version": "1.5.0",
      "_model_name": "ProgressStyleModel",
      "_view_count": null,
      "_view_module": "@jupyter-widgets/base",
      "_view_module_version": "1.2.0",
      "_view_name": "StyleView",
      "bar_color": null,
      "description_width": ""
     }
    },
    "08823445d39a422e8c293626a1ec724b": {
     "model_module": "@jupyter-widgets/controls",
     "model_module_version": "1.5.0",
     "model_name": "DescriptionStyleModel",
     "state": {
      "_model_module": "@jupyter-widgets/controls",
      "_model_module_version": "1.5.0",
      "_model_name": "DescriptionStyleModel",
      "_view_count": null,
      "_view_module": "@jupyter-widgets/base",
      "_view_module_version": "1.2.0",
      "_view_name": "StyleView",
      "description_width": ""
     }
    },
    "1256047d8cf54075ba921c3be5c3e100": {
     "model_module": "@jupyter-widgets/controls",
     "model_module_version": "1.5.0",
     "model_name": "HTMLModel",
     "state": {
      "_dom_classes": [],
      "_model_module": "@jupyter-widgets/controls",
      "_model_module_version": "1.5.0",
      "_model_name": "HTMLModel",
      "_view_count": null,
      "_view_module": "@jupyter-widgets/controls",
      "_view_module_version": "1.5.0",
      "_view_name": "HTMLView",
      "description": "",
      "description_tooltip": null,
      "layout": "IPY_MODEL_d9c42c724dd841deb2569b1affe68671",
      "placeholder": "​",
      "style": "IPY_MODEL_98eba2558eaf421687a2a993164beae2",
      "value": "Downloading (…)neration_config.json: 100%"
     }
    },
    "146df33d156e4b2a92c09969e500ec75": {
     "model_module": "@jupyter-widgets/controls",
     "model_module_version": "1.5.0",
     "model_name": "HBoxModel",
     "state": {
      "_dom_classes": [],
      "_model_module": "@jupyter-widgets/controls",
      "_model_module_version": "1.5.0",
      "_model_name": "HBoxModel",
      "_view_count": null,
      "_view_module": "@jupyter-widgets/controls",
      "_view_module_version": "1.5.0",
      "_view_name": "HBoxView",
      "box_style": "",
      "children": [
       "IPY_MODEL_8c2cfa73d85a4bd49f44691ef549a87f",
       "IPY_MODEL_8c1e40d706e4419bab18b62cfc1e0e8d",
       "IPY_MODEL_bb4624332892496586b4eb3d57cd158a"
      ],
      "layout": "IPY_MODEL_fe05ae6c7dd9459a90dc8240e78f9307"
     }
    },
    "164ff003628e458597182bfd05e13a81": {
     "model_module": "@jupyter-widgets/controls",
     "model_module_version": "1.5.0",
     "model_name": "HBoxModel",
     "state": {
      "_dom_classes": [],
      "_model_module": "@jupyter-widgets/controls",
      "_model_module_version": "1.5.0",
      "_model_name": "HBoxModel",
      "_view_count": null,
      "_view_module": "@jupyter-widgets/controls",
      "_view_module_version": "1.5.0",
      "_view_name": "HBoxView",
      "box_style": "",
      "children": [
       "IPY_MODEL_bd4f387ef2a246ce853be1d270679f50",
       "IPY_MODEL_24c3ca36ab504699b19df36bc9f23e88",
       "IPY_MODEL_3a6b750dcafa4c8aa482e74b96d47d00"
      ],
      "layout": "IPY_MODEL_1c31d2da1b884e4fb876adb6ebbe008d"
     }
    },
    "17c54914d4bb4bb5b6747dda7d828d89": {
     "model_module": "@jupyter-widgets/controls",
     "model_module_version": "1.5.0",
     "model_name": "DescriptionStyleModel",
     "state": {
      "_model_module": "@jupyter-widgets/controls",
      "_model_module_version": "1.5.0",
      "_model_name": "DescriptionStyleModel",
      "_view_count": null,
      "_view_module": "@jupyter-widgets/base",
      "_view_module_version": "1.2.0",
      "_view_name": "StyleView",
      "description_width": ""
     }
    },
    "1c31d2da1b884e4fb876adb6ebbe008d": {
     "model_module": "@jupyter-widgets/base",
     "model_module_version": "1.2.0",
     "model_name": "LayoutModel",
     "state": {
      "_model_module": "@jupyter-widgets/base",
      "_model_module_version": "1.2.0",
      "_model_name": "LayoutModel",
      "_view_count": null,
      "_view_module": "@jupyter-widgets/base",
      "_view_module_version": "1.2.0",
      "_view_name": "LayoutView",
      "align_content": null,
      "align_items": null,
      "align_self": null,
      "border": null,
      "bottom": null,
      "display": null,
      "flex": null,
      "flex_flow": null,
      "grid_area": null,
      "grid_auto_columns": null,
      "grid_auto_flow": null,
      "grid_auto_rows": null,
      "grid_column": null,
      "grid_gap": null,
      "grid_row": null,
      "grid_template_areas": null,
      "grid_template_columns": null,
      "grid_template_rows": null,
      "height": null,
      "justify_content": null,
      "justify_items": null,
      "left": null,
      "margin": null,
      "max_height": null,
      "max_width": null,
      "min_height": null,
      "min_width": null,
      "object_fit": null,
      "object_position": null,
      "order": null,
      "overflow": null,
      "overflow_x": null,
      "overflow_y": null,
      "padding": null,
      "right": null,
      "top": null,
      "visibility": null,
      "width": null
     }
    },
    "24c3ca36ab504699b19df36bc9f23e88": {
     "model_module": "@jupyter-widgets/controls",
     "model_module_version": "1.5.0",
     "model_name": "FloatProgressModel",
     "state": {
      "_dom_classes": [],
      "_model_module": "@jupyter-widgets/controls",
      "_model_module_version": "1.5.0",
      "_model_name": "FloatProgressModel",
      "_view_count": null,
      "_view_module": "@jupyter-widgets/controls",
      "_view_module_version": "1.5.0",
      "_view_name": "ProgressView",
      "bar_style": "success",
      "description": "",
      "description_tooltip": null,
      "layout": "IPY_MODEL_2eb76a1a893044daa6462bf012e9ceaf",
      "max": 147,
      "min": 0,
      "orientation": "horizontal",
      "style": "IPY_MODEL_5eeed3b816a94c62ac6dbc5739534372",
      "value": 147
     }
    },
    "278c1e566dec4cc3aab094627ba866fc": {
     "model_module": "@jupyter-widgets/base",
     "model_module_version": "1.2.0",
     "model_name": "LayoutModel",
     "state": {
      "_model_module": "@jupyter-widgets/base",
      "_model_module_version": "1.2.0",
      "_model_name": "LayoutModel",
      "_view_count": null,
      "_view_module": "@jupyter-widgets/base",
      "_view_module_version": "1.2.0",
      "_view_name": "LayoutView",
      "align_content": null,
      "align_items": null,
      "align_self": null,
      "border": null,
      "bottom": null,
      "display": null,
      "flex": null,
      "flex_flow": null,
      "grid_area": null,
      "grid_auto_columns": null,
      "grid_auto_flow": null,
      "grid_auto_rows": null,
      "grid_column": null,
      "grid_gap": null,
      "grid_row": null,
      "grid_template_areas": null,
      "grid_template_columns": null,
      "grid_template_rows": null,
      "height": null,
      "justify_content": null,
      "justify_items": null,
      "left": null,
      "margin": null,
      "max_height": null,
      "max_width": null,
      "min_height": null,
      "min_width": null,
      "object_fit": null,
      "object_position": null,
      "order": null,
      "overflow": null,
      "overflow_x": null,
      "overflow_y": null,
      "padding": null,
      "right": null,
      "top": null,
      "visibility": null,
      "width": null
     }
    },
    "294087688d7541c196f3a69faf232a85": {
     "model_module": "@jupyter-widgets/base",
     "model_module_version": "1.2.0",
     "model_name": "LayoutModel",
     "state": {
      "_model_module": "@jupyter-widgets/base",
      "_model_module_version": "1.2.0",
      "_model_name": "LayoutModel",
      "_view_count": null,
      "_view_module": "@jupyter-widgets/base",
      "_view_module_version": "1.2.0",
      "_view_name": "LayoutView",
      "align_content": null,
      "align_items": null,
      "align_self": null,
      "border": null,
      "bottom": null,
      "display": null,
      "flex": null,
      "flex_flow": null,
      "grid_area": null,
      "grid_auto_columns": null,
      "grid_auto_flow": null,
      "grid_auto_rows": null,
      "grid_column": null,
      "grid_gap": null,
      "grid_row": null,
      "grid_template_areas": null,
      "grid_template_columns": null,
      "grid_template_rows": null,
      "height": null,
      "justify_content": null,
      "justify_items": null,
      "left": null,
      "margin": null,
      "max_height": null,
      "max_width": null,
      "min_height": null,
      "min_width": null,
      "object_fit": null,
      "object_position": null,
      "order": null,
      "overflow": null,
      "overflow_x": null,
      "overflow_y": null,
      "padding": null,
      "right": null,
      "top": null,
      "visibility": null,
      "width": null
     }
    },
    "29c6848536c145958ba88a41297bfd77": {
     "model_module": "@jupyter-widgets/base",
     "model_module_version": "1.2.0",
     "model_name": "LayoutModel",
     "state": {
      "_model_module": "@jupyter-widgets/base",
      "_model_module_version": "1.2.0",
      "_model_name": "LayoutModel",
      "_view_count": null,
      "_view_module": "@jupyter-widgets/base",
      "_view_module_version": "1.2.0",
      "_view_name": "LayoutView",
      "align_content": null,
      "align_items": null,
      "align_self": null,
      "border": null,
      "bottom": null,
      "display": null,
      "flex": null,
      "flex_flow": null,
      "grid_area": null,
      "grid_auto_columns": null,
      "grid_auto_flow": null,
      "grid_auto_rows": null,
      "grid_column": null,
      "grid_gap": null,
      "grid_row": null,
      "grid_template_areas": null,
      "grid_template_columns": null,
      "grid_template_rows": null,
      "height": null,
      "justify_content": null,
      "justify_items": null,
      "left": null,
      "margin": null,
      "max_height": null,
      "max_width": null,
      "min_height": null,
      "min_width": null,
      "object_fit": null,
      "object_position": null,
      "order": null,
      "overflow": null,
      "overflow_x": null,
      "overflow_y": null,
      "padding": null,
      "right": null,
      "top": null,
      "visibility": null,
      "width": null
     }
    },
    "2a08656efeba419ab0da2cab3194942b": {
     "model_module": "@jupyter-widgets/controls",
     "model_module_version": "1.5.0",
     "model_name": "FloatProgressModel",
     "state": {
      "_dom_classes": [],
      "_model_module": "@jupyter-widgets/controls",
      "_model_module_version": "1.5.0",
      "_model_name": "FloatProgressModel",
      "_view_count": null,
      "_view_module": "@jupyter-widgets/controls",
      "_view_module_version": "1.5.0",
      "_view_name": "ProgressView",
      "bar_style": "success",
      "description": "",
      "description_tooltip": null,
      "layout": "IPY_MODEL_70b4d143662146fd90230e813d05ab01",
      "max": 791656,
      "min": 0,
      "orientation": "horizontal",
      "style": "IPY_MODEL_cff3e5afb85b44b2aeb0850cd9c435e7",
      "value": 791656
     }
    },
    "2b527ceaa64a4611b9db2697d5ab0ef1": {
     "model_module": "@jupyter-widgets/base",
     "model_module_version": "1.2.0",
     "model_name": "LayoutModel",
     "state": {
      "_model_module": "@jupyter-widgets/base",
      "_model_module_version": "1.2.0",
      "_model_name": "LayoutModel",
      "_view_count": null,
      "_view_module": "@jupyter-widgets/base",
      "_view_module_version": "1.2.0",
      "_view_name": "LayoutView",
      "align_content": null,
      "align_items": null,
      "align_self": null,
      "border": null,
      "bottom": null,
      "display": null,
      "flex": null,
      "flex_flow": null,
      "grid_area": null,
      "grid_auto_columns": null,
      "grid_auto_flow": null,
      "grid_auto_rows": null,
      "grid_column": null,
      "grid_gap": null,
      "grid_row": null,
      "grid_template_areas": null,
      "grid_template_columns": null,
      "grid_template_rows": null,
      "height": null,
      "justify_content": null,
      "justify_items": null,
      "left": null,
      "margin": null,
      "max_height": null,
      "max_width": null,
      "min_height": null,
      "min_width": null,
      "object_fit": null,
      "object_position": null,
      "order": null,
      "overflow": null,
      "overflow_x": null,
      "overflow_y": null,
      "padding": null,
      "right": null,
      "top": null,
      "visibility": null,
      "width": null
     }
    },
    "2eb76a1a893044daa6462bf012e9ceaf": {
     "model_module": "@jupyter-widgets/base",
     "model_module_version": "1.2.0",
     "model_name": "LayoutModel",
     "state": {
      "_model_module": "@jupyter-widgets/base",
      "_model_module_version": "1.2.0",
      "_model_name": "LayoutModel",
      "_view_count": null,
      "_view_module": "@jupyter-widgets/base",
      "_view_module_version": "1.2.0",
      "_view_name": "LayoutView",
      "align_content": null,
      "align_items": null,
      "align_self": null,
      "border": null,
      "bottom": null,
      "display": null,
      "flex": null,
      "flex_flow": null,
      "grid_area": null,
      "grid_auto_columns": null,
      "grid_auto_flow": null,
      "grid_auto_rows": null,
      "grid_column": null,
      "grid_gap": null,
      "grid_row": null,
      "grid_template_areas": null,
      "grid_template_columns": null,
      "grid_template_rows": null,
      "height": null,
      "justify_content": null,
      "justify_items": null,
      "left": null,
      "margin": null,
      "max_height": null,
      "max_width": null,
      "min_height": null,
      "min_width": null,
      "object_fit": null,
      "object_position": null,
      "order": null,
      "overflow": null,
      "overflow_x": null,
      "overflow_y": null,
      "padding": null,
      "right": null,
      "top": null,
      "visibility": null,
      "width": null
     }
    },
    "31407b0cc065431897ccc4ab4fc6901b": {
     "model_module": "@jupyter-widgets/base",
     "model_module_version": "1.2.0",
     "model_name": "LayoutModel",
     "state": {
      "_model_module": "@jupyter-widgets/base",
      "_model_module_version": "1.2.0",
      "_model_name": "LayoutModel",
      "_view_count": null,
      "_view_module": "@jupyter-widgets/base",
      "_view_module_version": "1.2.0",
      "_view_name": "LayoutView",
      "align_content": null,
      "align_items": null,
      "align_self": null,
      "border": null,
      "bottom": null,
      "display": null,
      "flex": null,
      "flex_flow": null,
      "grid_area": null,
      "grid_auto_columns": null,
      "grid_auto_flow": null,
      "grid_auto_rows": null,
      "grid_column": null,
      "grid_gap": null,
      "grid_row": null,
      "grid_template_areas": null,
      "grid_template_columns": null,
      "grid_template_rows": null,
      "height": null,
      "justify_content": null,
      "justify_items": null,
      "left": null,
      "margin": null,
      "max_height": null,
      "max_width": null,
      "min_height": null,
      "min_width": null,
      "object_fit": null,
      "object_position": null,
      "order": null,
      "overflow": null,
      "overflow_x": null,
      "overflow_y": null,
      "padding": null,
      "right": null,
      "top": null,
      "visibility": null,
      "width": null
     }
    },
    "34359d84b8474584ab9e24f755ba9d5b": {
     "model_module": "@jupyter-widgets/base",
     "model_module_version": "1.2.0",
     "model_name": "LayoutModel",
     "state": {
      "_model_module": "@jupyter-widgets/base",
      "_model_module_version": "1.2.0",
      "_model_name": "LayoutModel",
      "_view_count": null,
      "_view_module": "@jupyter-widgets/base",
      "_view_module_version": "1.2.0",
      "_view_name": "LayoutView",
      "align_content": null,
      "align_items": null,
      "align_self": null,
      "border": null,
      "bottom": null,
      "display": null,
      "flex": null,
      "flex_flow": null,
      "grid_area": null,
      "grid_auto_columns": null,
      "grid_auto_flow": null,
      "grid_auto_rows": null,
      "grid_column": null,
      "grid_gap": null,
      "grid_row": null,
      "grid_template_areas": null,
      "grid_template_columns": null,
      "grid_template_rows": null,
      "height": null,
      "justify_content": null,
      "justify_items": null,
      "left": null,
      "margin": null,
      "max_height": null,
      "max_width": null,
      "min_height": null,
      "min_width": null,
      "object_fit": null,
      "object_position": null,
      "order": null,
      "overflow": null,
      "overflow_x": null,
      "overflow_y": null,
      "padding": null,
      "right": null,
      "top": null,
      "visibility": null,
      "width": null
     }
    },
    "39269ddb00d641559078cf5ccd8b0083": {
     "model_module": "@jupyter-widgets/base",
     "model_module_version": "1.2.0",
     "model_name": "LayoutModel",
     "state": {
      "_model_module": "@jupyter-widgets/base",
      "_model_module_version": "1.2.0",
      "_model_name": "LayoutModel",
      "_view_count": null,
      "_view_module": "@jupyter-widgets/base",
      "_view_module_version": "1.2.0",
      "_view_name": "LayoutView",
      "align_content": null,
      "align_items": null,
      "align_self": null,
      "border": null,
      "bottom": null,
      "display": null,
      "flex": null,
      "flex_flow": null,
      "grid_area": null,
      "grid_auto_columns": null,
      "grid_auto_flow": null,
      "grid_auto_rows": null,
      "grid_column": null,
      "grid_gap": null,
      "grid_row": null,
      "grid_template_areas": null,
      "grid_template_columns": null,
      "grid_template_rows": null,
      "height": null,
      "justify_content": null,
      "justify_items": null,
      "left": null,
      "margin": null,
      "max_height": null,
      "max_width": null,
      "min_height": null,
      "min_width": null,
      "object_fit": null,
      "object_position": null,
      "order": null,
      "overflow": null,
      "overflow_x": null,
      "overflow_y": null,
      "padding": null,
      "right": null,
      "top": null,
      "visibility": null,
      "width": null
     }
    },
    "3a6b750dcafa4c8aa482e74b96d47d00": {
     "model_module": "@jupyter-widgets/controls",
     "model_module_version": "1.5.0",
     "model_name": "HTMLModel",
     "state": {
      "_dom_classes": [],
      "_model_module": "@jupyter-widgets/controls",
      "_model_module_version": "1.5.0",
      "_model_name": "HTMLModel",
      "_view_count": null,
      "_view_module": "@jupyter-widgets/controls",
      "_view_module_version": "1.5.0",
      "_view_name": "HTMLView",
      "description": "",
      "description_tooltip": null,
      "layout": "IPY_MODEL_39269ddb00d641559078cf5ccd8b0083",
      "placeholder": "​",
      "style": "IPY_MODEL_6bed740d92b34930bba2e3cd8f570228",
      "value": " 147/147 [00:00&lt;00:00, 3.43kB/s]"
     }
    },
    "3dc984bb477c40deb15f5329a5e3b80f": {
     "model_module": "@jupyter-widgets/base",
     "model_module_version": "1.2.0",
     "model_name": "LayoutModel",
     "state": {
      "_model_module": "@jupyter-widgets/base",
      "_model_module_version": "1.2.0",
      "_model_name": "LayoutModel",
      "_view_count": null,
      "_view_module": "@jupyter-widgets/base",
      "_view_module_version": "1.2.0",
      "_view_name": "LayoutView",
      "align_content": null,
      "align_items": null,
      "align_self": null,
      "border": null,
      "bottom": null,
      "display": null,
      "flex": null,
      "flex_flow": null,
      "grid_area": null,
      "grid_auto_columns": null,
      "grid_auto_flow": null,
      "grid_auto_rows": null,
      "grid_column": null,
      "grid_gap": null,
      "grid_row": null,
      "grid_template_areas": null,
      "grid_template_columns": null,
      "grid_template_rows": null,
      "height": null,
      "justify_content": null,
      "justify_items": null,
      "left": null,
      "margin": null,
      "max_height": null,
      "max_width": null,
      "min_height": null,
      "min_width": null,
      "object_fit": null,
      "object_position": null,
      "order": null,
      "overflow": null,
      "overflow_x": null,
      "overflow_y": null,
      "padding": null,
      "right": null,
      "top": null,
      "visibility": null,
      "width": null
     }
    },
    "402f25a3d57b40caa81d8097ad86501d": {
     "model_module": "@jupyter-widgets/base",
     "model_module_version": "1.2.0",
     "model_name": "LayoutModel",
     "state": {
      "_model_module": "@jupyter-widgets/base",
      "_model_module_version": "1.2.0",
      "_model_name": "LayoutModel",
      "_view_count": null,
      "_view_module": "@jupyter-widgets/base",
      "_view_module_version": "1.2.0",
      "_view_name": "LayoutView",
      "align_content": null,
      "align_items": null,
      "align_self": null,
      "border": null,
      "bottom": null,
      "display": null,
      "flex": null,
      "flex_flow": null,
      "grid_area": null,
      "grid_auto_columns": null,
      "grid_auto_flow": null,
      "grid_auto_rows": null,
      "grid_column": null,
      "grid_gap": null,
      "grid_row": null,
      "grid_template_areas": null,
      "grid_template_columns": null,
      "grid_template_rows": null,
      "height": null,
      "justify_content": null,
      "justify_items": null,
      "left": null,
      "margin": null,
      "max_height": null,
      "max_width": null,
      "min_height": null,
      "min_width": null,
      "object_fit": null,
      "object_position": null,
      "order": null,
      "overflow": null,
      "overflow_x": null,
      "overflow_y": null,
      "padding": null,
      "right": null,
      "top": null,
      "visibility": null,
      "width": null
     }
    },
    "441de63cf4604bc399d0da886de2f977": {
     "model_module": "@jupyter-widgets/base",
     "model_module_version": "1.2.0",
     "model_name": "LayoutModel",
     "state": {
      "_model_module": "@jupyter-widgets/base",
      "_model_module_version": "1.2.0",
      "_model_name": "LayoutModel",
      "_view_count": null,
      "_view_module": "@jupyter-widgets/base",
      "_view_module_version": "1.2.0",
      "_view_name": "LayoutView",
      "align_content": null,
      "align_items": null,
      "align_self": null,
      "border": null,
      "bottom": null,
      "display": null,
      "flex": null,
      "flex_flow": null,
      "grid_area": null,
      "grid_auto_columns": null,
      "grid_auto_flow": null,
      "grid_auto_rows": null,
      "grid_column": null,
      "grid_gap": null,
      "grid_row": null,
      "grid_template_areas": null,
      "grid_template_columns": null,
      "grid_template_rows": null,
      "height": null,
      "justify_content": null,
      "justify_items": null,
      "left": null,
      "margin": null,
      "max_height": null,
      "max_width": null,
      "min_height": null,
      "min_width": null,
      "object_fit": null,
      "object_position": null,
      "order": null,
      "overflow": null,
      "overflow_x": null,
      "overflow_y": null,
      "padding": null,
      "right": null,
      "top": null,
      "visibility": null,
      "width": null
     }
    },
    "44aabb30a26946fba44918a16aab6d60": {
     "model_module": "@jupyter-widgets/base",
     "model_module_version": "1.2.0",
     "model_name": "LayoutModel",
     "state": {
      "_model_module": "@jupyter-widgets/base",
      "_model_module_version": "1.2.0",
      "_model_name": "LayoutModel",
      "_view_count": null,
      "_view_module": "@jupyter-widgets/base",
      "_view_module_version": "1.2.0",
      "_view_name": "LayoutView",
      "align_content": null,
      "align_items": null,
      "align_self": null,
      "border": null,
      "bottom": null,
      "display": null,
      "flex": null,
      "flex_flow": null,
      "grid_area": null,
      "grid_auto_columns": null,
      "grid_auto_flow": null,
      "grid_auto_rows": null,
      "grid_column": null,
      "grid_gap": null,
      "grid_row": null,
      "grid_template_areas": null,
      "grid_template_columns": null,
      "grid_template_rows": null,
      "height": null,
      "justify_content": null,
      "justify_items": null,
      "left": null,
      "margin": null,
      "max_height": null,
      "max_width": null,
      "min_height": null,
      "min_width": null,
      "object_fit": null,
      "object_position": null,
      "order": null,
      "overflow": null,
      "overflow_x": null,
      "overflow_y": null,
      "padding": null,
      "right": null,
      "top": null,
      "visibility": null,
      "width": null
     }
    },
    "4532757d7c954c6097e4992f2f13a4cb": {
     "model_module": "@jupyter-widgets/base",
     "model_module_version": "1.2.0",
     "model_name": "LayoutModel",
     "state": {
      "_model_module": "@jupyter-widgets/base",
      "_model_module_version": "1.2.0",
      "_model_name": "LayoutModel",
      "_view_count": null,
      "_view_module": "@jupyter-widgets/base",
      "_view_module_version": "1.2.0",
      "_view_name": "LayoutView",
      "align_content": null,
      "align_items": null,
      "align_self": null,
      "border": null,
      "bottom": null,
      "display": null,
      "flex": null,
      "flex_flow": null,
      "grid_area": null,
      "grid_auto_columns": null,
      "grid_auto_flow": null,
      "grid_auto_rows": null,
      "grid_column": null,
      "grid_gap": null,
      "grid_row": null,
      "grid_template_areas": null,
      "grid_template_columns": null,
      "grid_template_rows": null,
      "height": null,
      "justify_content": null,
      "justify_items": null,
      "left": null,
      "margin": null,
      "max_height": null,
      "max_width": null,
      "min_height": null,
      "min_width": null,
      "object_fit": null,
      "object_position": null,
      "order": null,
      "overflow": null,
      "overflow_x": null,
      "overflow_y": null,
      "padding": null,
      "right": null,
      "top": null,
      "visibility": null,
      "width": null
     }
    },
    "472552dd2dd44ecebd6ffd6a46011eff": {
     "model_module": "@jupyter-widgets/controls",
     "model_module_version": "1.5.0",
     "model_name": "HBoxModel",
     "state": {
      "_dom_classes": [],
      "_model_module": "@jupyter-widgets/controls",
      "_model_module_version": "1.5.0",
      "_model_name": "HBoxModel",
      "_view_count": null,
      "_view_module": "@jupyter-widgets/controls",
      "_view_module_version": "1.5.0",
      "_view_name": "HBoxView",
      "box_style": "",
      "children": [
       "IPY_MODEL_1256047d8cf54075ba921c3be5c3e100",
       "IPY_MODEL_601d9796c8f744eebe78dbce77d3ef1b",
       "IPY_MODEL_73ddb3e0fb99456eba313b3d6cea9baf"
      ],
      "layout": "IPY_MODEL_de2c3c1891614004ada137b2976f3417"
     }
    },
    "48d8c20a8de74d0f9d0e7032d5fa2a55": {
     "model_module": "@jupyter-widgets/controls",
     "model_module_version": "1.5.0",
     "model_name": "DescriptionStyleModel",
     "state": {
      "_model_module": "@jupyter-widgets/controls",
      "_model_module_version": "1.5.0",
      "_model_name": "DescriptionStyleModel",
      "_view_count": null,
      "_view_module": "@jupyter-widgets/base",
      "_view_module_version": "1.2.0",
      "_view_name": "StyleView",
      "description_width": ""
     }
    },
    "4b5eaac4770b45ef9ef3c5e8f28450aa": {
     "model_module": "@jupyter-widgets/controls",
     "model_module_version": "1.5.0",
     "model_name": "FloatProgressModel",
     "state": {
      "_dom_classes": [],
      "_model_module": "@jupyter-widgets/controls",
      "_model_module_version": "1.5.0",
      "_model_name": "FloatProgressModel",
      "_view_count": null,
      "_view_module": "@jupyter-widgets/controls",
      "_view_module_version": "1.5.0",
      "_view_name": "ProgressView",
      "bar_style": "success",
      "description": "",
      "description_tooltip": null,
      "layout": "IPY_MODEL_f1a3abb001da4aa18f8fb0b3a598f866",
      "max": 242065649,
      "min": 0,
      "orientation": "horizontal",
      "style": "IPY_MODEL_550167894b524877bc9415e9f6128b61",
      "value": 242065649
     }
    },
    "4ecd5ff4738b4c33b282beeaf51efbab": {
     "model_module": "@jupyter-widgets/base",
     "model_module_version": "1.2.0",
     "model_name": "LayoutModel",
     "state": {
      "_model_module": "@jupyter-widgets/base",
      "_model_module_version": "1.2.0",
      "_model_name": "LayoutModel",
      "_view_count": null,
      "_view_module": "@jupyter-widgets/base",
      "_view_module_version": "1.2.0",
      "_view_name": "LayoutView",
      "align_content": null,
      "align_items": null,
      "align_self": null,
      "border": null,
      "bottom": null,
      "display": null,
      "flex": null,
      "flex_flow": null,
      "grid_area": null,
      "grid_auto_columns": null,
      "grid_auto_flow": null,
      "grid_auto_rows": null,
      "grid_column": null,
      "grid_gap": null,
      "grid_row": null,
      "grid_template_areas": null,
      "grid_template_columns": null,
      "grid_template_rows": null,
      "height": null,
      "justify_content": null,
      "justify_items": null,
      "left": null,
      "margin": null,
      "max_height": null,
      "max_width": null,
      "min_height": null,
      "min_width": null,
      "object_fit": null,
      "object_position": null,
      "order": null,
      "overflow": null,
      "overflow_x": null,
      "overflow_y": null,
      "padding": null,
      "right": null,
      "top": null,
      "visibility": null,
      "width": null
     }
    },
    "541886e0c4fa4bc690889ecc183473c1": {
     "model_module": "@jupyter-widgets/controls",
     "model_module_version": "1.5.0",
     "model_name": "HTMLModel",
     "state": {
      "_dom_classes": [],
      "_model_module": "@jupyter-widgets/controls",
      "_model_module_version": "1.5.0",
      "_model_name": "HTMLModel",
      "_view_count": null,
      "_view_module": "@jupyter-widgets/controls",
      "_view_module_version": "1.5.0",
      "_view_name": "HTMLView",
      "description": "",
      "description_tooltip": null,
      "layout": "IPY_MODEL_9a6b825ba10e463ea84ddd53aecfad6c",
      "placeholder": "​",
      "style": "IPY_MODEL_d3de562160954f34854c0440ec4eff48",
      "value": "Downloading (…)lve/main/config.json: 100%"
     }
    },
    "550167894b524877bc9415e9f6128b61": {
     "model_module": "@jupyter-widgets/controls",
     "model_module_version": "1.5.0",
     "model_name": "ProgressStyleModel",
     "state": {
      "_model_module": "@jupyter-widgets/controls",
      "_model_module_version": "1.5.0",
      "_model_name": "ProgressStyleModel",
      "_view_count": null,
      "_view_module": "@jupyter-widgets/base",
      "_view_module_version": "1.2.0",
      "_view_name": "StyleView",
      "bar_color": null,
      "description_width": ""
     }
    },
    "5a46eea21a0d4f369ff63925c1b9d582": {
     "model_module": "@jupyter-widgets/controls",
     "model_module_version": "1.5.0",
     "model_name": "ProgressStyleModel",
     "state": {
      "_model_module": "@jupyter-widgets/controls",
      "_model_module_version": "1.5.0",
      "_model_name": "ProgressStyleModel",
      "_view_count": null,
      "_view_module": "@jupyter-widgets/base",
      "_view_module_version": "1.2.0",
      "_view_name": "StyleView",
      "bar_color": null,
      "description_width": ""
     }
    },
    "5d1de7f114b644aa93e1241e7c41afed": {
     "model_module": "@jupyter-widgets/controls",
     "model_module_version": "1.5.0",
     "model_name": "HBoxModel",
     "state": {
      "_dom_classes": [],
      "_model_module": "@jupyter-widgets/controls",
      "_model_module_version": "1.5.0",
      "_model_name": "HBoxModel",
      "_view_count": null,
      "_view_module": "@jupyter-widgets/controls",
      "_view_module_version": "1.5.0",
      "_view_name": "HBoxView",
      "box_style": "",
      "children": [
       "IPY_MODEL_8697fca773704f44b91c0ce35519ac80",
       "IPY_MODEL_4b5eaac4770b45ef9ef3c5e8f28450aa",
       "IPY_MODEL_a988d35f6ff14db8bdfef715b4412ee0"
      ],
      "layout": "IPY_MODEL_d5b2947cf394406f9a7004178d07d602"
     }
    },
    "5dbcdd68365e4a5ca452c1cd193dc929": {
     "model_module": "@jupyter-widgets/controls",
     "model_module_version": "1.5.0",
     "model_name": "FloatProgressModel",
     "state": {
      "_dom_classes": [],
      "_model_module": "@jupyter-widgets/controls",
      "_model_module_version": "1.5.0",
      "_model_name": "FloatProgressModel",
      "_view_count": null,
      "_view_module": "@jupyter-widgets/controls",
      "_view_module_version": "1.5.0",
      "_view_name": "ProgressView",
      "bar_style": "success",
      "description": "",
      "description_tooltip": null,
      "layout": "IPY_MODEL_ec72ed950dfe49338cbabd9554e28d92",
      "max": 1206,
      "min": 0,
      "orientation": "horizontal",
      "style": "IPY_MODEL_6d0e14f298a64427a588ee6a7e1a9ffe",
      "value": 1206
     }
    },
    "5eeed3b816a94c62ac6dbc5739534372": {
     "model_module": "@jupyter-widgets/controls",
     "model_module_version": "1.5.0",
     "model_name": "ProgressStyleModel",
     "state": {
      "_model_module": "@jupyter-widgets/controls",
      "_model_module_version": "1.5.0",
      "_model_name": "ProgressStyleModel",
      "_view_count": null,
      "_view_module": "@jupyter-widgets/base",
      "_view_module_version": "1.2.0",
      "_view_name": "StyleView",
      "bar_color": null,
      "description_width": ""
     }
    },
    "601d9796c8f744eebe78dbce77d3ef1b": {
     "model_module": "@jupyter-widgets/controls",
     "model_module_version": "1.5.0",
     "model_name": "FloatProgressModel",
     "state": {
      "_dom_classes": [],
      "_model_module": "@jupyter-widgets/controls",
      "_model_module_version": "1.5.0",
      "_model_name": "FloatProgressModel",
      "_view_count": null,
      "_view_module": "@jupyter-widgets/controls",
      "_view_module_version": "1.5.0",
      "_view_name": "ProgressView",
      "bar_style": "success",
      "description": "",
      "description_tooltip": null,
      "layout": "IPY_MODEL_3dc984bb477c40deb15f5329a5e3b80f",
      "max": 147,
      "min": 0,
      "orientation": "horizontal",
      "style": "IPY_MODEL_abc1ab30ba6443749ae33ad0725d0b96",
      "value": 147
     }
    },
    "61598af73ac7482c840237c7687601a8": {
     "model_module": "@jupyter-widgets/base",
     "model_module_version": "1.2.0",
     "model_name": "LayoutModel",
     "state": {
      "_model_module": "@jupyter-widgets/base",
      "_model_module_version": "1.2.0",
      "_model_name": "LayoutModel",
      "_view_count": null,
      "_view_module": "@jupyter-widgets/base",
      "_view_module_version": "1.2.0",
      "_view_name": "LayoutView",
      "align_content": null,
      "align_items": null,
      "align_self": null,
      "border": null,
      "bottom": null,
      "display": null,
      "flex": null,
      "flex_flow": null,
      "grid_area": null,
      "grid_auto_columns": null,
      "grid_auto_flow": null,
      "grid_auto_rows": null,
      "grid_column": null,
      "grid_gap": null,
      "grid_row": null,
      "grid_template_areas": null,
      "grid_template_columns": null,
      "grid_template_rows": null,
      "height": null,
      "justify_content": null,
      "justify_items": null,
      "left": null,
      "margin": null,
      "max_height": null,
      "max_width": null,
      "min_height": null,
      "min_width": null,
      "object_fit": null,
      "object_position": null,
      "order": null,
      "overflow": null,
      "overflow_x": null,
      "overflow_y": null,
      "padding": null,
      "right": null,
      "top": null,
      "visibility": null,
      "width": null
     }
    },
    "6a833b5930f446aa8562700b376741c6": {
     "model_module": "@jupyter-widgets/controls",
     "model_module_version": "1.5.0",
     "model_name": "FloatProgressModel",
     "state": {
      "_dom_classes": [],
      "_model_module": "@jupyter-widgets/controls",
      "_model_module_version": "1.5.0",
      "_model_name": "FloatProgressModel",
      "_view_count": null,
      "_view_module": "@jupyter-widgets/controls",
      "_view_module_version": "1.5.0",
      "_view_name": "ProgressView",
      "bar_style": "success",
      "description": "",
      "description_tooltip": null,
      "layout": "IPY_MODEL_31407b0cc065431897ccc4ab4fc6901b",
      "max": 1206,
      "min": 0,
      "orientation": "horizontal",
      "style": "IPY_MODEL_fcc05706a92947cfba369a372a1fa81f",
      "value": 1206
     }
    },
    "6bed740d92b34930bba2e3cd8f570228": {
     "model_module": "@jupyter-widgets/controls",
     "model_module_version": "1.5.0",
     "model_name": "DescriptionStyleModel",
     "state": {
      "_model_module": "@jupyter-widgets/controls",
      "_model_module_version": "1.5.0",
      "_model_name": "DescriptionStyleModel",
      "_view_count": null,
      "_view_module": "@jupyter-widgets/base",
      "_view_module_version": "1.2.0",
      "_view_name": "StyleView",
      "description_width": ""
     }
    },
    "6d0e14f298a64427a588ee6a7e1a9ffe": {
     "model_module": "@jupyter-widgets/controls",
     "model_module_version": "1.5.0",
     "model_name": "ProgressStyleModel",
     "state": {
      "_model_module": "@jupyter-widgets/controls",
      "_model_module_version": "1.5.0",
      "_model_name": "ProgressStyleModel",
      "_view_count": null,
      "_view_module": "@jupyter-widgets/base",
      "_view_module_version": "1.2.0",
      "_view_name": "StyleView",
      "bar_color": null,
      "description_width": ""
     }
    },
    "70b4d143662146fd90230e813d05ab01": {
     "model_module": "@jupyter-widgets/base",
     "model_module_version": "1.2.0",
     "model_name": "LayoutModel",
     "state": {
      "_model_module": "@jupyter-widgets/base",
      "_model_module_version": "1.2.0",
      "_model_name": "LayoutModel",
      "_view_count": null,
      "_view_module": "@jupyter-widgets/base",
      "_view_module_version": "1.2.0",
      "_view_name": "LayoutView",
      "align_content": null,
      "align_items": null,
      "align_self": null,
      "border": null,
      "bottom": null,
      "display": null,
      "flex": null,
      "flex_flow": null,
      "grid_area": null,
      "grid_auto_columns": null,
      "grid_auto_flow": null,
      "grid_auto_rows": null,
      "grid_column": null,
      "grid_gap": null,
      "grid_row": null,
      "grid_template_areas": null,
      "grid_template_columns": null,
      "grid_template_rows": null,
      "height": null,
      "justify_content": null,
      "justify_items": null,
      "left": null,
      "margin": null,
      "max_height": null,
      "max_width": null,
      "min_height": null,
      "min_width": null,
      "object_fit": null,
      "object_position": null,
      "order": null,
      "overflow": null,
      "overflow_x": null,
      "overflow_y": null,
      "padding": null,
      "right": null,
      "top": null,
      "visibility": null,
      "width": null
     }
    },
    "7103991e79924138b3ab085dae140d18": {
     "model_module": "@jupyter-widgets/controls",
     "model_module_version": "1.5.0",
     "model_name": "HTMLModel",
     "state": {
      "_dom_classes": [],
      "_model_module": "@jupyter-widgets/controls",
      "_model_module_version": "1.5.0",
      "_model_name": "HTMLModel",
      "_view_count": null,
      "_view_module": "@jupyter-widgets/controls",
      "_view_module_version": "1.5.0",
      "_view_name": "HTMLView",
      "description": "",
      "description_tooltip": null,
      "layout": "IPY_MODEL_294087688d7541c196f3a69faf232a85",
      "placeholder": "​",
      "style": "IPY_MODEL_08823445d39a422e8c293626a1ec724b",
      "value": " 1.21k/1.21k [00:00&lt;00:00, 35.2kB/s]"
     }
    },
    "71b7e1caed904d12a653d6837ad847df": {
     "model_module": "@jupyter-widgets/controls",
     "model_module_version": "1.5.0",
     "model_name": "HTMLModel",
     "state": {
      "_dom_classes": [],
      "_model_module": "@jupyter-widgets/controls",
      "_model_module_version": "1.5.0",
      "_model_name": "HTMLModel",
      "_view_count": null,
      "_view_module": "@jupyter-widgets/controls",
      "_view_module_version": "1.5.0",
      "_view_name": "HTMLView",
      "description": "",
      "description_tooltip": null,
      "layout": "IPY_MODEL_f1b42540a55f4a2e9343a6f2ddab4a06",
      "placeholder": "​",
      "style": "IPY_MODEL_8fc058a89e604b038c96b1d979ce6d48",
      "value": "Downloading (…)ve/main/spiece.model: 100%"
     }
    },
    "73dbebb6c1ff4ce0867a4ec47549e653": {
     "model_module": "@jupyter-widgets/controls",
     "model_module_version": "1.5.0",
     "model_name": "HTMLModel",
     "state": {
      "_dom_classes": [],
      "_model_module": "@jupyter-widgets/controls",
      "_model_module_version": "1.5.0",
      "_model_name": "HTMLModel",
      "_view_count": null,
      "_view_module": "@jupyter-widgets/controls",
      "_view_module_version": "1.5.0",
      "_view_name": "HTMLView",
      "description": "",
      "description_tooltip": null,
      "layout": "IPY_MODEL_34359d84b8474584ab9e24f755ba9d5b",
      "placeholder": "​",
      "style": "IPY_MODEL_bee11936197847a591fe08be7b9938f6",
      "value": " 1.21k/1.21k [00:00&lt;00:00, 13.3kB/s]"
     }
    },
    "73ddb3e0fb99456eba313b3d6cea9baf": {
     "model_module": "@jupyter-widgets/controls",
     "model_module_version": "1.5.0",
     "model_name": "HTMLModel",
     "state": {
      "_dom_classes": [],
      "_model_module": "@jupyter-widgets/controls",
      "_model_module_version": "1.5.0",
      "_model_name": "HTMLModel",
      "_view_count": null,
      "_view_module": "@jupyter-widgets/controls",
      "_view_module_version": "1.5.0",
      "_view_name": "HTMLView",
      "description": "",
      "description_tooltip": null,
      "layout": "IPY_MODEL_278c1e566dec4cc3aab094627ba866fc",
      "placeholder": "​",
      "style": "IPY_MODEL_afa92e03120e484da3420567570620a5",
      "value": " 147/147 [00:00&lt;00:00, 5.15kB/s]"
     }
    },
    "747085bf477f4830a743cd36b57eded5": {
     "model_module": "@jupyter-widgets/base",
     "model_module_version": "1.2.0",
     "model_name": "LayoutModel",
     "state": {
      "_model_module": "@jupyter-widgets/base",
      "_model_module_version": "1.2.0",
      "_model_name": "LayoutModel",
      "_view_count": null,
      "_view_module": "@jupyter-widgets/base",
      "_view_module_version": "1.2.0",
      "_view_name": "LayoutView",
      "align_content": null,
      "align_items": null,
      "align_self": null,
      "border": null,
      "bottom": null,
      "display": null,
      "flex": null,
      "flex_flow": null,
      "grid_area": null,
      "grid_auto_columns": null,
      "grid_auto_flow": null,
      "grid_auto_rows": null,
      "grid_column": null,
      "grid_gap": null,
      "grid_row": null,
      "grid_template_areas": null,
      "grid_template_columns": null,
      "grid_template_rows": null,
      "height": null,
      "justify_content": null,
      "justify_items": null,
      "left": null,
      "margin": null,
      "max_height": null,
      "max_width": null,
      "min_height": null,
      "min_width": null,
      "object_fit": null,
      "object_position": null,
      "order": null,
      "overflow": null,
      "overflow_x": null,
      "overflow_y": null,
      "padding": null,
      "right": null,
      "top": null,
      "visibility": null,
      "width": null
     }
    },
    "8697fca773704f44b91c0ce35519ac80": {
     "model_module": "@jupyter-widgets/controls",
     "model_module_version": "1.5.0",
     "model_name": "HTMLModel",
     "state": {
      "_dom_classes": [],
      "_model_module": "@jupyter-widgets/controls",
      "_model_module_version": "1.5.0",
      "_model_name": "HTMLModel",
      "_view_count": null,
      "_view_module": "@jupyter-widgets/controls",
      "_view_module_version": "1.5.0",
      "_view_name": "HTMLView",
      "description": "",
      "description_tooltip": null,
      "layout": "IPY_MODEL_441de63cf4604bc399d0da886de2f977",
      "placeholder": "​",
      "style": "IPY_MODEL_dddb69217fb045d69b5797dcac4b4624",
      "value": "Downloading pytorch_model.bin: 100%"
     }
    },
    "8c1e40d706e4419bab18b62cfc1e0e8d": {
     "model_module": "@jupyter-widgets/controls",
     "model_module_version": "1.5.0",
     "model_name": "FloatProgressModel",
     "state": {
      "_dom_classes": [],
      "_model_module": "@jupyter-widgets/controls",
      "_model_module_version": "1.5.0",
      "_model_name": "FloatProgressModel",
      "_view_count": null,
      "_view_module": "@jupyter-widgets/controls",
      "_view_module_version": "1.5.0",
      "_view_name": "ProgressView",
      "bar_style": "success",
      "description": "",
      "description_tooltip": null,
      "layout": "IPY_MODEL_44aabb30a26946fba44918a16aab6d60",
      "max": 242065649,
      "min": 0,
      "orientation": "horizontal",
      "style": "IPY_MODEL_02c207e27d89479c9c6887cfd5f8b4da",
      "value": 242065649
     }
    },
    "8c2cfa73d85a4bd49f44691ef549a87f": {
     "model_module": "@jupyter-widgets/controls",
     "model_module_version": "1.5.0",
     "model_name": "HTMLModel",
     "state": {
      "_dom_classes": [],
      "_model_module": "@jupyter-widgets/controls",
      "_model_module_version": "1.5.0",
      "_model_name": "HTMLModel",
      "_view_count": null,
      "_view_module": "@jupyter-widgets/controls",
      "_view_module_version": "1.5.0",
      "_view_name": "HTMLView",
      "description": "",
      "description_tooltip": null,
      "layout": "IPY_MODEL_61598af73ac7482c840237c7687601a8",
      "placeholder": "​",
      "style": "IPY_MODEL_cbaf76c9d7cd4aa0ab5974668103f492",
      "value": "Downloading pytorch_model.bin: 100%"
     }
    },
    "8d89d1704a8448b4932a03b5f6261668": {
     "model_module": "@jupyter-widgets/base",
     "model_module_version": "1.2.0",
     "model_name": "LayoutModel",
     "state": {
      "_model_module": "@jupyter-widgets/base",
      "_model_module_version": "1.2.0",
      "_model_name": "LayoutModel",
      "_view_count": null,
      "_view_module": "@jupyter-widgets/base",
      "_view_module_version": "1.2.0",
      "_view_name": "LayoutView",
      "align_content": null,
      "align_items": null,
      "align_self": null,
      "border": null,
      "bottom": null,
      "display": null,
      "flex": null,
      "flex_flow": null,
      "grid_area": null,
      "grid_auto_columns": null,
      "grid_auto_flow": null,
      "grid_auto_rows": null,
      "grid_column": null,
      "grid_gap": null,
      "grid_row": null,
      "grid_template_areas": null,
      "grid_template_columns": null,
      "grid_template_rows": null,
      "height": null,
      "justify_content": null,
      "justify_items": null,
      "left": null,
      "margin": null,
      "max_height": null,
      "max_width": null,
      "min_height": null,
      "min_width": null,
      "object_fit": null,
      "object_position": null,
      "order": null,
      "overflow": null,
      "overflow_x": null,
      "overflow_y": null,
      "padding": null,
      "right": null,
      "top": null,
      "visibility": null,
      "width": null
     }
    },
    "8e79da88cf2e43adbd7066aa184c8fe4": {
     "model_module": "@jupyter-widgets/base",
     "model_module_version": "1.2.0",
     "model_name": "LayoutModel",
     "state": {
      "_model_module": "@jupyter-widgets/base",
      "_model_module_version": "1.2.0",
      "_model_name": "LayoutModel",
      "_view_count": null,
      "_view_module": "@jupyter-widgets/base",
      "_view_module_version": "1.2.0",
      "_view_name": "LayoutView",
      "align_content": null,
      "align_items": null,
      "align_self": null,
      "border": null,
      "bottom": null,
      "display": null,
      "flex": null,
      "flex_flow": null,
      "grid_area": null,
      "grid_auto_columns": null,
      "grid_auto_flow": null,
      "grid_auto_rows": null,
      "grid_column": null,
      "grid_gap": null,
      "grid_row": null,
      "grid_template_areas": null,
      "grid_template_columns": null,
      "grid_template_rows": null,
      "height": null,
      "justify_content": null,
      "justify_items": null,
      "left": null,
      "margin": null,
      "max_height": null,
      "max_width": null,
      "min_height": null,
      "min_width": null,
      "object_fit": null,
      "object_position": null,
      "order": null,
      "overflow": null,
      "overflow_x": null,
      "overflow_y": null,
      "padding": null,
      "right": null,
      "top": null,
      "visibility": null,
      "width": null
     }
    },
    "8fc058a89e604b038c96b1d979ce6d48": {
     "model_module": "@jupyter-widgets/controls",
     "model_module_version": "1.5.0",
     "model_name": "DescriptionStyleModel",
     "state": {
      "_model_module": "@jupyter-widgets/controls",
      "_model_module_version": "1.5.0",
      "_model_name": "DescriptionStyleModel",
      "_view_count": null,
      "_view_module": "@jupyter-widgets/base",
      "_view_module_version": "1.2.0",
      "_view_name": "StyleView",
      "description_width": ""
     }
    },
    "94a20f3b4a574a27b37329104284dbe1": {
     "model_module": "@jupyter-widgets/controls",
     "model_module_version": "1.5.0",
     "model_name": "HBoxModel",
     "state": {
      "_dom_classes": [],
      "_model_module": "@jupyter-widgets/controls",
      "_model_module_version": "1.5.0",
      "_model_name": "HBoxModel",
      "_view_count": null,
      "_view_module": "@jupyter-widgets/controls",
      "_view_module_version": "1.5.0",
      "_view_name": "HBoxView",
      "box_style": "",
      "children": [
       "IPY_MODEL_541886e0c4fa4bc690889ecc183473c1",
       "IPY_MODEL_6a833b5930f446aa8562700b376741c6",
       "IPY_MODEL_73dbebb6c1ff4ce0867a4ec47549e653"
      ],
      "layout": "IPY_MODEL_f12100e83a904fcc8e3c1926dd29d0b8"
     }
    },
    "9775abfff13840b38bdb7ebf2deea607": {
     "model_module": "@jupyter-widgets/controls",
     "model_module_version": "1.5.0",
     "model_name": "HTMLModel",
     "state": {
      "_dom_classes": [],
      "_model_module": "@jupyter-widgets/controls",
      "_model_module_version": "1.5.0",
      "_model_name": "HTMLModel",
      "_view_count": null,
      "_view_module": "@jupyter-widgets/controls",
      "_view_module_version": "1.5.0",
      "_view_name": "HTMLView",
      "description": "",
      "description_tooltip": null,
      "layout": "IPY_MODEL_b370e726cafa46a9b8710f5c7f5c593e",
      "placeholder": "​",
      "style": "IPY_MODEL_48d8c20a8de74d0f9d0e7032d5fa2a55",
      "value": "Downloading (…)ve/main/spiece.model: 100%"
     }
    },
    "9838b26259f749078e42045b5b9e4a07": {
     "model_module": "@jupyter-widgets/base",
     "model_module_version": "1.2.0",
     "model_name": "LayoutModel",
     "state": {
      "_model_module": "@jupyter-widgets/base",
      "_model_module_version": "1.2.0",
      "_model_name": "LayoutModel",
      "_view_count": null,
      "_view_module": "@jupyter-widgets/base",
      "_view_module_version": "1.2.0",
      "_view_name": "LayoutView",
      "align_content": null,
      "align_items": null,
      "align_self": null,
      "border": null,
      "bottom": null,
      "display": null,
      "flex": null,
      "flex_flow": null,
      "grid_area": null,
      "grid_auto_columns": null,
      "grid_auto_flow": null,
      "grid_auto_rows": null,
      "grid_column": null,
      "grid_gap": null,
      "grid_row": null,
      "grid_template_areas": null,
      "grid_template_columns": null,
      "grid_template_rows": null,
      "height": null,
      "justify_content": null,
      "justify_items": null,
      "left": null,
      "margin": null,
      "max_height": null,
      "max_width": null,
      "min_height": null,
      "min_width": null,
      "object_fit": null,
      "object_position": null,
      "order": null,
      "overflow": null,
      "overflow_x": null,
      "overflow_y": null,
      "padding": null,
      "right": null,
      "top": null,
      "visibility": null,
      "width": null
     }
    },
    "98eba2558eaf421687a2a993164beae2": {
     "model_module": "@jupyter-widgets/controls",
     "model_module_version": "1.5.0",
     "model_name": "DescriptionStyleModel",
     "state": {
      "_model_module": "@jupyter-widgets/controls",
      "_model_module_version": "1.5.0",
      "_model_name": "DescriptionStyleModel",
      "_view_count": null,
      "_view_module": "@jupyter-widgets/base",
      "_view_module_version": "1.2.0",
      "_view_name": "StyleView",
      "description_width": ""
     }
    },
    "9994230c0235443d99feda2189b4eb6d": {
     "model_module": "@jupyter-widgets/controls",
     "model_module_version": "1.5.0",
     "model_name": "HBoxModel",
     "state": {
      "_dom_classes": [],
      "_model_module": "@jupyter-widgets/controls",
      "_model_module_version": "1.5.0",
      "_model_name": "HBoxModel",
      "_view_count": null,
      "_view_module": "@jupyter-widgets/controls",
      "_view_module_version": "1.5.0",
      "_view_name": "HBoxView",
      "box_style": "",
      "children": [
       "IPY_MODEL_9775abfff13840b38bdb7ebf2deea607",
       "IPY_MODEL_a0e88b2c7f854dbc96b7d598a30db92b",
       "IPY_MODEL_b0e19b93ccea42e0b51fc937916a5bb0"
      ],
      "layout": "IPY_MODEL_402f25a3d57b40caa81d8097ad86501d"
     }
    },
    "9a5fda2481b748b7a478aa4c48d3a60e": {
     "model_module": "@jupyter-widgets/controls",
     "model_module_version": "1.5.0",
     "model_name": "DescriptionStyleModel",
     "state": {
      "_model_module": "@jupyter-widgets/controls",
      "_model_module_version": "1.5.0",
      "_model_name": "DescriptionStyleModel",
      "_view_count": null,
      "_view_module": "@jupyter-widgets/base",
      "_view_module_version": "1.2.0",
      "_view_name": "StyleView",
      "description_width": ""
     }
    },
    "9a6b825ba10e463ea84ddd53aecfad6c": {
     "model_module": "@jupyter-widgets/base",
     "model_module_version": "1.2.0",
     "model_name": "LayoutModel",
     "state": {
      "_model_module": "@jupyter-widgets/base",
      "_model_module_version": "1.2.0",
      "_model_name": "LayoutModel",
      "_view_count": null,
      "_view_module": "@jupyter-widgets/base",
      "_view_module_version": "1.2.0",
      "_view_name": "LayoutView",
      "align_content": null,
      "align_items": null,
      "align_self": null,
      "border": null,
      "bottom": null,
      "display": null,
      "flex": null,
      "flex_flow": null,
      "grid_area": null,
      "grid_auto_columns": null,
      "grid_auto_flow": null,
      "grid_auto_rows": null,
      "grid_column": null,
      "grid_gap": null,
      "grid_row": null,
      "grid_template_areas": null,
      "grid_template_columns": null,
      "grid_template_rows": null,
      "height": null,
      "justify_content": null,
      "justify_items": null,
      "left": null,
      "margin": null,
      "max_height": null,
      "max_width": null,
      "min_height": null,
      "min_width": null,
      "object_fit": null,
      "object_position": null,
      "order": null,
      "overflow": null,
      "overflow_x": null,
      "overflow_y": null,
      "padding": null,
      "right": null,
      "top": null,
      "visibility": null,
      "width": null
     }
    },
    "a0e88b2c7f854dbc96b7d598a30db92b": {
     "model_module": "@jupyter-widgets/controls",
     "model_module_version": "1.5.0",
     "model_name": "FloatProgressModel",
     "state": {
      "_dom_classes": [],
      "_model_module": "@jupyter-widgets/controls",
      "_model_module_version": "1.5.0",
      "_model_name": "FloatProgressModel",
      "_view_count": null,
      "_view_module": "@jupyter-widgets/controls",
      "_view_module_version": "1.5.0",
      "_view_name": "ProgressView",
      "bar_style": "success",
      "description": "",
      "description_tooltip": null,
      "layout": "IPY_MODEL_29c6848536c145958ba88a41297bfd77",
      "max": 791656,
      "min": 0,
      "orientation": "horizontal",
      "style": "IPY_MODEL_5a46eea21a0d4f369ff63925c1b9d582",
      "value": 791656
     }
    },
    "a975aee53b264a62a37b69014da1c806": {
     "model_module": "@jupyter-widgets/controls",
     "model_module_version": "1.5.0",
     "model_name": "DescriptionStyleModel",
     "state": {
      "_model_module": "@jupyter-widgets/controls",
      "_model_module_version": "1.5.0",
      "_model_name": "DescriptionStyleModel",
      "_view_count": null,
      "_view_module": "@jupyter-widgets/base",
      "_view_module_version": "1.2.0",
      "_view_name": "StyleView",
      "description_width": ""
     }
    },
    "a988d35f6ff14db8bdfef715b4412ee0": {
     "model_module": "@jupyter-widgets/controls",
     "model_module_version": "1.5.0",
     "model_name": "HTMLModel",
     "state": {
      "_dom_classes": [],
      "_model_module": "@jupyter-widgets/controls",
      "_model_module_version": "1.5.0",
      "_model_name": "HTMLModel",
      "_view_count": null,
      "_view_module": "@jupyter-widgets/controls",
      "_view_module_version": "1.5.0",
      "_view_name": "HTMLView",
      "description": "",
      "description_tooltip": null,
      "layout": "IPY_MODEL_8d89d1704a8448b4932a03b5f6261668",
      "placeholder": "​",
      "style": "IPY_MODEL_dac4af49caf941639746a696202dfd57",
      "value": " 242M/242M [00:02&lt;00:00, 123MB/s]"
     }
    },
    "abc1ab30ba6443749ae33ad0725d0b96": {
     "model_module": "@jupyter-widgets/controls",
     "model_module_version": "1.5.0",
     "model_name": "ProgressStyleModel",
     "state": {
      "_model_module": "@jupyter-widgets/controls",
      "_model_module_version": "1.5.0",
      "_model_name": "ProgressStyleModel",
      "_view_count": null,
      "_view_module": "@jupyter-widgets/base",
      "_view_module_version": "1.2.0",
      "_view_name": "StyleView",
      "bar_color": null,
      "description_width": ""
     }
    },
    "abc593ae0c1b4150931c61940a38bea1": {
     "model_module": "@jupyter-widgets/controls",
     "model_module_version": "1.5.0",
     "model_name": "HBoxModel",
     "state": {
      "_dom_classes": [],
      "_model_module": "@jupyter-widgets/controls",
      "_model_module_version": "1.5.0",
      "_model_name": "HBoxModel",
      "_view_count": null,
      "_view_module": "@jupyter-widgets/controls",
      "_view_module_version": "1.5.0",
      "_view_name": "HBoxView",
      "box_style": "",
      "children": [
       "IPY_MODEL_71b7e1caed904d12a653d6837ad847df",
       "IPY_MODEL_2a08656efeba419ab0da2cab3194942b",
       "IPY_MODEL_f84671ce4e6a4eba8d9b26ff41ab5ad5"
      ],
      "layout": "IPY_MODEL_8e79da88cf2e43adbd7066aa184c8fe4"
     }
    },
    "af991fc85dd546d59e8574cb9c3a3e33": {
     "model_module": "@jupyter-widgets/base",
     "model_module_version": "1.2.0",
     "model_name": "LayoutModel",
     "state": {
      "_model_module": "@jupyter-widgets/base",
      "_model_module_version": "1.2.0",
      "_model_name": "LayoutModel",
      "_view_count": null,
      "_view_module": "@jupyter-widgets/base",
      "_view_module_version": "1.2.0",
      "_view_name": "LayoutView",
      "align_content": null,
      "align_items": null,
      "align_self": null,
      "border": null,
      "bottom": null,
      "display": null,
      "flex": null,
      "flex_flow": null,
      "grid_area": null,
      "grid_auto_columns": null,
      "grid_auto_flow": null,
      "grid_auto_rows": null,
      "grid_column": null,
      "grid_gap": null,
      "grid_row": null,
      "grid_template_areas": null,
      "grid_template_columns": null,
      "grid_template_rows": null,
      "height": null,
      "justify_content": null,
      "justify_items": null,
      "left": null,
      "margin": null,
      "max_height": null,
      "max_width": null,
      "min_height": null,
      "min_width": null,
      "object_fit": null,
      "object_position": null,
      "order": null,
      "overflow": null,
      "overflow_x": null,
      "overflow_y": null,
      "padding": null,
      "right": null,
      "top": null,
      "visibility": null,
      "width": null
     }
    },
    "afa92e03120e484da3420567570620a5": {
     "model_module": "@jupyter-widgets/controls",
     "model_module_version": "1.5.0",
     "model_name": "DescriptionStyleModel",
     "state": {
      "_model_module": "@jupyter-widgets/controls",
      "_model_module_version": "1.5.0",
      "_model_name": "DescriptionStyleModel",
      "_view_count": null,
      "_view_module": "@jupyter-widgets/base",
      "_view_module_version": "1.2.0",
      "_view_name": "StyleView",
      "description_width": ""
     }
    },
    "b0e19b93ccea42e0b51fc937916a5bb0": {
     "model_module": "@jupyter-widgets/controls",
     "model_module_version": "1.5.0",
     "model_name": "HTMLModel",
     "state": {
      "_dom_classes": [],
      "_model_module": "@jupyter-widgets/controls",
      "_model_module_version": "1.5.0",
      "_model_name": "HTMLModel",
      "_view_count": null,
      "_view_module": "@jupyter-widgets/controls",
      "_view_module_version": "1.5.0",
      "_view_name": "HTMLView",
      "description": "",
      "description_tooltip": null,
      "layout": "IPY_MODEL_4532757d7c954c6097e4992f2f13a4cb",
      "placeholder": "​",
      "style": "IPY_MODEL_9a5fda2481b748b7a478aa4c48d3a60e",
      "value": " 792k/792k [00:00&lt;00:00, 11.7MB/s]"
     }
    },
    "b2377b3a829a46fa9a6b435c39018d50": {
     "model_module": "@jupyter-widgets/controls",
     "model_module_version": "1.5.0",
     "model_name": "HBoxModel",
     "state": {
      "_dom_classes": [],
      "_model_module": "@jupyter-widgets/controls",
      "_model_module_version": "1.5.0",
      "_model_name": "HBoxModel",
      "_view_count": null,
      "_view_module": "@jupyter-widgets/controls",
      "_view_module_version": "1.5.0",
      "_view_name": "HBoxView",
      "box_style": "",
      "children": [
       "IPY_MODEL_efdeb9f142cf4e3a9b345961fe4cfc5d",
       "IPY_MODEL_5dbcdd68365e4a5ca452c1cd193dc929",
       "IPY_MODEL_7103991e79924138b3ab085dae140d18"
      ],
      "layout": "IPY_MODEL_4ecd5ff4738b4c33b282beeaf51efbab"
     }
    },
    "b370e726cafa46a9b8710f5c7f5c593e": {
     "model_module": "@jupyter-widgets/base",
     "model_module_version": "1.2.0",
     "model_name": "LayoutModel",
     "state": {
      "_model_module": "@jupyter-widgets/base",
      "_model_module_version": "1.2.0",
      "_model_name": "LayoutModel",
      "_view_count": null,
      "_view_module": "@jupyter-widgets/base",
      "_view_module_version": "1.2.0",
      "_view_name": "LayoutView",
      "align_content": null,
      "align_items": null,
      "align_self": null,
      "border": null,
      "bottom": null,
      "display": null,
      "flex": null,
      "flex_flow": null,
      "grid_area": null,
      "grid_auto_columns": null,
      "grid_auto_flow": null,
      "grid_auto_rows": null,
      "grid_column": null,
      "grid_gap": null,
      "grid_row": null,
      "grid_template_areas": null,
      "grid_template_columns": null,
      "grid_template_rows": null,
      "height": null,
      "justify_content": null,
      "justify_items": null,
      "left": null,
      "margin": null,
      "max_height": null,
      "max_width": null,
      "min_height": null,
      "min_width": null,
      "object_fit": null,
      "object_position": null,
      "order": null,
      "overflow": null,
      "overflow_x": null,
      "overflow_y": null,
      "padding": null,
      "right": null,
      "top": null,
      "visibility": null,
      "width": null
     }
    },
    "bb4624332892496586b4eb3d57cd158a": {
     "model_module": "@jupyter-widgets/controls",
     "model_module_version": "1.5.0",
     "model_name": "HTMLModel",
     "state": {
      "_dom_classes": [],
      "_model_module": "@jupyter-widgets/controls",
      "_model_module_version": "1.5.0",
      "_model_name": "HTMLModel",
      "_view_count": null,
      "_view_module": "@jupyter-widgets/controls",
      "_view_module_version": "1.5.0",
      "_view_name": "HTMLView",
      "description": "",
      "description_tooltip": null,
      "layout": "IPY_MODEL_2b527ceaa64a4611b9db2697d5ab0ef1",
      "placeholder": "​",
      "style": "IPY_MODEL_cd1ce7165e6742f199e327a3840a1026",
      "value": " 242M/242M [00:02&lt;00:00, 95.1MB/s]"
     }
    },
    "bd4f387ef2a246ce853be1d270679f50": {
     "model_module": "@jupyter-widgets/controls",
     "model_module_version": "1.5.0",
     "model_name": "HTMLModel",
     "state": {
      "_dom_classes": [],
      "_model_module": "@jupyter-widgets/controls",
      "_model_module_version": "1.5.0",
      "_model_name": "HTMLModel",
      "_view_count": null,
      "_view_module": "@jupyter-widgets/controls",
      "_view_module_version": "1.5.0",
      "_view_name": "HTMLView",
      "description": "",
      "description_tooltip": null,
      "layout": "IPY_MODEL_747085bf477f4830a743cd36b57eded5",
      "placeholder": "​",
      "style": "IPY_MODEL_17c54914d4bb4bb5b6747dda7d828d89",
      "value": "Downloading (…)neration_config.json: 100%"
     }
    },
    "bee11936197847a591fe08be7b9938f6": {
     "model_module": "@jupyter-widgets/controls",
     "model_module_version": "1.5.0",
     "model_name": "DescriptionStyleModel",
     "state": {
      "_model_module": "@jupyter-widgets/controls",
      "_model_module_version": "1.5.0",
      "_model_name": "DescriptionStyleModel",
      "_view_count": null,
      "_view_module": "@jupyter-widgets/base",
      "_view_module_version": "1.2.0",
      "_view_name": "StyleView",
      "description_width": ""
     }
    },
    "cbaf76c9d7cd4aa0ab5974668103f492": {
     "model_module": "@jupyter-widgets/controls",
     "model_module_version": "1.5.0",
     "model_name": "DescriptionStyleModel",
     "state": {
      "_model_module": "@jupyter-widgets/controls",
      "_model_module_version": "1.5.0",
      "_model_name": "DescriptionStyleModel",
      "_view_count": null,
      "_view_module": "@jupyter-widgets/base",
      "_view_module_version": "1.2.0",
      "_view_name": "StyleView",
      "description_width": ""
     }
    },
    "cd1ce7165e6742f199e327a3840a1026": {
     "model_module": "@jupyter-widgets/controls",
     "model_module_version": "1.5.0",
     "model_name": "DescriptionStyleModel",
     "state": {
      "_model_module": "@jupyter-widgets/controls",
      "_model_module_version": "1.5.0",
      "_model_name": "DescriptionStyleModel",
      "_view_count": null,
      "_view_module": "@jupyter-widgets/base",
      "_view_module_version": "1.2.0",
      "_view_name": "StyleView",
      "description_width": ""
     }
    },
    "cff3e5afb85b44b2aeb0850cd9c435e7": {
     "model_module": "@jupyter-widgets/controls",
     "model_module_version": "1.5.0",
     "model_name": "ProgressStyleModel",
     "state": {
      "_model_module": "@jupyter-widgets/controls",
      "_model_module_version": "1.5.0",
      "_model_name": "ProgressStyleModel",
      "_view_count": null,
      "_view_module": "@jupyter-widgets/base",
      "_view_module_version": "1.2.0",
      "_view_name": "StyleView",
      "bar_color": null,
      "description_width": ""
     }
    },
    "d3de562160954f34854c0440ec4eff48": {
     "model_module": "@jupyter-widgets/controls",
     "model_module_version": "1.5.0",
     "model_name": "DescriptionStyleModel",
     "state": {
      "_model_module": "@jupyter-widgets/controls",
      "_model_module_version": "1.5.0",
      "_model_name": "DescriptionStyleModel",
      "_view_count": null,
      "_view_module": "@jupyter-widgets/base",
      "_view_module_version": "1.2.0",
      "_view_name": "StyleView",
      "description_width": ""
     }
    },
    "d5b2947cf394406f9a7004178d07d602": {
     "model_module": "@jupyter-widgets/base",
     "model_module_version": "1.2.0",
     "model_name": "LayoutModel",
     "state": {
      "_model_module": "@jupyter-widgets/base",
      "_model_module_version": "1.2.0",
      "_model_name": "LayoutModel",
      "_view_count": null,
      "_view_module": "@jupyter-widgets/base",
      "_view_module_version": "1.2.0",
      "_view_name": "LayoutView",
      "align_content": null,
      "align_items": null,
      "align_self": null,
      "border": null,
      "bottom": null,
      "display": null,
      "flex": null,
      "flex_flow": null,
      "grid_area": null,
      "grid_auto_columns": null,
      "grid_auto_flow": null,
      "grid_auto_rows": null,
      "grid_column": null,
      "grid_gap": null,
      "grid_row": null,
      "grid_template_areas": null,
      "grid_template_columns": null,
      "grid_template_rows": null,
      "height": null,
      "justify_content": null,
      "justify_items": null,
      "left": null,
      "margin": null,
      "max_height": null,
      "max_width": null,
      "min_height": null,
      "min_width": null,
      "object_fit": null,
      "object_position": null,
      "order": null,
      "overflow": null,
      "overflow_x": null,
      "overflow_y": null,
      "padding": null,
      "right": null,
      "top": null,
      "visibility": null,
      "width": null
     }
    },
    "d9c42c724dd841deb2569b1affe68671": {
     "model_module": "@jupyter-widgets/base",
     "model_module_version": "1.2.0",
     "model_name": "LayoutModel",
     "state": {
      "_model_module": "@jupyter-widgets/base",
      "_model_module_version": "1.2.0",
      "_model_name": "LayoutModel",
      "_view_count": null,
      "_view_module": "@jupyter-widgets/base",
      "_view_module_version": "1.2.0",
      "_view_name": "LayoutView",
      "align_content": null,
      "align_items": null,
      "align_self": null,
      "border": null,
      "bottom": null,
      "display": null,
      "flex": null,
      "flex_flow": null,
      "grid_area": null,
      "grid_auto_columns": null,
      "grid_auto_flow": null,
      "grid_auto_rows": null,
      "grid_column": null,
      "grid_gap": null,
      "grid_row": null,
      "grid_template_areas": null,
      "grid_template_columns": null,
      "grid_template_rows": null,
      "height": null,
      "justify_content": null,
      "justify_items": null,
      "left": null,
      "margin": null,
      "max_height": null,
      "max_width": null,
      "min_height": null,
      "min_width": null,
      "object_fit": null,
      "object_position": null,
      "order": null,
      "overflow": null,
      "overflow_x": null,
      "overflow_y": null,
      "padding": null,
      "right": null,
      "top": null,
      "visibility": null,
      "width": null
     }
    },
    "dac4af49caf941639746a696202dfd57": {
     "model_module": "@jupyter-widgets/controls",
     "model_module_version": "1.5.0",
     "model_name": "DescriptionStyleModel",
     "state": {
      "_model_module": "@jupyter-widgets/controls",
      "_model_module_version": "1.5.0",
      "_model_name": "DescriptionStyleModel",
      "_view_count": null,
      "_view_module": "@jupyter-widgets/base",
      "_view_module_version": "1.2.0",
      "_view_name": "StyleView",
      "description_width": ""
     }
    },
    "dddb69217fb045d69b5797dcac4b4624": {
     "model_module": "@jupyter-widgets/controls",
     "model_module_version": "1.5.0",
     "model_name": "DescriptionStyleModel",
     "state": {
      "_model_module": "@jupyter-widgets/controls",
      "_model_module_version": "1.5.0",
      "_model_name": "DescriptionStyleModel",
      "_view_count": null,
      "_view_module": "@jupyter-widgets/base",
      "_view_module_version": "1.2.0",
      "_view_name": "StyleView",
      "description_width": ""
     }
    },
    "de2c3c1891614004ada137b2976f3417": {
     "model_module": "@jupyter-widgets/base",
     "model_module_version": "1.2.0",
     "model_name": "LayoutModel",
     "state": {
      "_model_module": "@jupyter-widgets/base",
      "_model_module_version": "1.2.0",
      "_model_name": "LayoutModel",
      "_view_count": null,
      "_view_module": "@jupyter-widgets/base",
      "_view_module_version": "1.2.0",
      "_view_name": "LayoutView",
      "align_content": null,
      "align_items": null,
      "align_self": null,
      "border": null,
      "bottom": null,
      "display": null,
      "flex": null,
      "flex_flow": null,
      "grid_area": null,
      "grid_auto_columns": null,
      "grid_auto_flow": null,
      "grid_auto_rows": null,
      "grid_column": null,
      "grid_gap": null,
      "grid_row": null,
      "grid_template_areas": null,
      "grid_template_columns": null,
      "grid_template_rows": null,
      "height": null,
      "justify_content": null,
      "justify_items": null,
      "left": null,
      "margin": null,
      "max_height": null,
      "max_width": null,
      "min_height": null,
      "min_width": null,
      "object_fit": null,
      "object_position": null,
      "order": null,
      "overflow": null,
      "overflow_x": null,
      "overflow_y": null,
      "padding": null,
      "right": null,
      "top": null,
      "visibility": null,
      "width": null
     }
    },
    "ec72ed950dfe49338cbabd9554e28d92": {
     "model_module": "@jupyter-widgets/base",
     "model_module_version": "1.2.0",
     "model_name": "LayoutModel",
     "state": {
      "_model_module": "@jupyter-widgets/base",
      "_model_module_version": "1.2.0",
      "_model_name": "LayoutModel",
      "_view_count": null,
      "_view_module": "@jupyter-widgets/base",
      "_view_module_version": "1.2.0",
      "_view_name": "LayoutView",
      "align_content": null,
      "align_items": null,
      "align_self": null,
      "border": null,
      "bottom": null,
      "display": null,
      "flex": null,
      "flex_flow": null,
      "grid_area": null,
      "grid_auto_columns": null,
      "grid_auto_flow": null,
      "grid_auto_rows": null,
      "grid_column": null,
      "grid_gap": null,
      "grid_row": null,
      "grid_template_areas": null,
      "grid_template_columns": null,
      "grid_template_rows": null,
      "height": null,
      "justify_content": null,
      "justify_items": null,
      "left": null,
      "margin": null,
      "max_height": null,
      "max_width": null,
      "min_height": null,
      "min_width": null,
      "object_fit": null,
      "object_position": null,
      "order": null,
      "overflow": null,
      "overflow_x": null,
      "overflow_y": null,
      "padding": null,
      "right": null,
      "top": null,
      "visibility": null,
      "width": null
     }
    },
    "efdeb9f142cf4e3a9b345961fe4cfc5d": {
     "model_module": "@jupyter-widgets/controls",
     "model_module_version": "1.5.0",
     "model_name": "HTMLModel",
     "state": {
      "_dom_classes": [],
      "_model_module": "@jupyter-widgets/controls",
      "_model_module_version": "1.5.0",
      "_model_name": "HTMLModel",
      "_view_count": null,
      "_view_module": "@jupyter-widgets/controls",
      "_view_module_version": "1.5.0",
      "_view_name": "HTMLView",
      "description": "",
      "description_tooltip": null,
      "layout": "IPY_MODEL_af991fc85dd546d59e8574cb9c3a3e33",
      "placeholder": "​",
      "style": "IPY_MODEL_a975aee53b264a62a37b69014da1c806",
      "value": "Downloading (…)lve/main/config.json: 100%"
     }
    },
    "f12100e83a904fcc8e3c1926dd29d0b8": {
     "model_module": "@jupyter-widgets/base",
     "model_module_version": "1.2.0",
     "model_name": "LayoutModel",
     "state": {
      "_model_module": "@jupyter-widgets/base",
      "_model_module_version": "1.2.0",
      "_model_name": "LayoutModel",
      "_view_count": null,
      "_view_module": "@jupyter-widgets/base",
      "_view_module_version": "1.2.0",
      "_view_name": "LayoutView",
      "align_content": null,
      "align_items": null,
      "align_self": null,
      "border": null,
      "bottom": null,
      "display": null,
      "flex": null,
      "flex_flow": null,
      "grid_area": null,
      "grid_auto_columns": null,
      "grid_auto_flow": null,
      "grid_auto_rows": null,
      "grid_column": null,
      "grid_gap": null,
      "grid_row": null,
      "grid_template_areas": null,
      "grid_template_columns": null,
      "grid_template_rows": null,
      "height": null,
      "justify_content": null,
      "justify_items": null,
      "left": null,
      "margin": null,
      "max_height": null,
      "max_width": null,
      "min_height": null,
      "min_width": null,
      "object_fit": null,
      "object_position": null,
      "order": null,
      "overflow": null,
      "overflow_x": null,
      "overflow_y": null,
      "padding": null,
      "right": null,
      "top": null,
      "visibility": null,
      "width": null
     }
    },
    "f1a3abb001da4aa18f8fb0b3a598f866": {
     "model_module": "@jupyter-widgets/base",
     "model_module_version": "1.2.0",
     "model_name": "LayoutModel",
     "state": {
      "_model_module": "@jupyter-widgets/base",
      "_model_module_version": "1.2.0",
      "_model_name": "LayoutModel",
      "_view_count": null,
      "_view_module": "@jupyter-widgets/base",
      "_view_module_version": "1.2.0",
      "_view_name": "LayoutView",
      "align_content": null,
      "align_items": null,
      "align_self": null,
      "border": null,
      "bottom": null,
      "display": null,
      "flex": null,
      "flex_flow": null,
      "grid_area": null,
      "grid_auto_columns": null,
      "grid_auto_flow": null,
      "grid_auto_rows": null,
      "grid_column": null,
      "grid_gap": null,
      "grid_row": null,
      "grid_template_areas": null,
      "grid_template_columns": null,
      "grid_template_rows": null,
      "height": null,
      "justify_content": null,
      "justify_items": null,
      "left": null,
      "margin": null,
      "max_height": null,
      "max_width": null,
      "min_height": null,
      "min_width": null,
      "object_fit": null,
      "object_position": null,
      "order": null,
      "overflow": null,
      "overflow_x": null,
      "overflow_y": null,
      "padding": null,
      "right": null,
      "top": null,
      "visibility": null,
      "width": null
     }
    },
    "f1b42540a55f4a2e9343a6f2ddab4a06": {
     "model_module": "@jupyter-widgets/base",
     "model_module_version": "1.2.0",
     "model_name": "LayoutModel",
     "state": {
      "_model_module": "@jupyter-widgets/base",
      "_model_module_version": "1.2.0",
      "_model_name": "LayoutModel",
      "_view_count": null,
      "_view_module": "@jupyter-widgets/base",
      "_view_module_version": "1.2.0",
      "_view_name": "LayoutView",
      "align_content": null,
      "align_items": null,
      "align_self": null,
      "border": null,
      "bottom": null,
      "display": null,
      "flex": null,
      "flex_flow": null,
      "grid_area": null,
      "grid_auto_columns": null,
      "grid_auto_flow": null,
      "grid_auto_rows": null,
      "grid_column": null,
      "grid_gap": null,
      "grid_row": null,
      "grid_template_areas": null,
      "grid_template_columns": null,
      "grid_template_rows": null,
      "height": null,
      "justify_content": null,
      "justify_items": null,
      "left": null,
      "margin": null,
      "max_height": null,
      "max_width": null,
      "min_height": null,
      "min_width": null,
      "object_fit": null,
      "object_position": null,
      "order": null,
      "overflow": null,
      "overflow_x": null,
      "overflow_y": null,
      "padding": null,
      "right": null,
      "top": null,
      "visibility": null,
      "width": null
     }
    },
    "f84671ce4e6a4eba8d9b26ff41ab5ad5": {
     "model_module": "@jupyter-widgets/controls",
     "model_module_version": "1.5.0",
     "model_name": "HTMLModel",
     "state": {
      "_dom_classes": [],
      "_model_module": "@jupyter-widgets/controls",
      "_model_module_version": "1.5.0",
      "_model_name": "HTMLModel",
      "_view_count": null,
      "_view_module": "@jupyter-widgets/controls",
      "_view_module_version": "1.5.0",
      "_view_name": "HTMLView",
      "description": "",
      "description_tooltip": null,
      "layout": "IPY_MODEL_9838b26259f749078e42045b5b9e4a07",
      "placeholder": "​",
      "style": "IPY_MODEL_faa160b5479d43dbb69ed4123d16c117",
      "value": " 792k/792k [00:00&lt;00:00, 948kB/s]"
     }
    },
    "faa160b5479d43dbb69ed4123d16c117": {
     "model_module": "@jupyter-widgets/controls",
     "model_module_version": "1.5.0",
     "model_name": "DescriptionStyleModel",
     "state": {
      "_model_module": "@jupyter-widgets/controls",
      "_model_module_version": "1.5.0",
      "_model_name": "DescriptionStyleModel",
      "_view_count": null,
      "_view_module": "@jupyter-widgets/base",
      "_view_module_version": "1.2.0",
      "_view_name": "StyleView",
      "description_width": ""
     }
    },
    "fcc05706a92947cfba369a372a1fa81f": {
     "model_module": "@jupyter-widgets/controls",
     "model_module_version": "1.5.0",
     "model_name": "ProgressStyleModel",
     "state": {
      "_model_module": "@jupyter-widgets/controls",
      "_model_module_version": "1.5.0",
      "_model_name": "ProgressStyleModel",
      "_view_count": null,
      "_view_module": "@jupyter-widgets/base",
      "_view_module_version": "1.2.0",
      "_view_name": "StyleView",
      "bar_color": null,
      "description_width": ""
     }
    },
    "fe05ae6c7dd9459a90dc8240e78f9307": {
     "model_module": "@jupyter-widgets/base",
     "model_module_version": "1.2.0",
     "model_name": "LayoutModel",
     "state": {
      "_model_module": "@jupyter-widgets/base",
      "_model_module_version": "1.2.0",
      "_model_name": "LayoutModel",
      "_view_count": null,
      "_view_module": "@jupyter-widgets/base",
      "_view_module_version": "1.2.0",
      "_view_name": "LayoutView",
      "align_content": null,
      "align_items": null,
      "align_self": null,
      "border": null,
      "bottom": null,
      "display": null,
      "flex": null,
      "flex_flow": null,
      "grid_area": null,
      "grid_auto_columns": null,
      "grid_auto_flow": null,
      "grid_auto_rows": null,
      "grid_column": null,
      "grid_gap": null,
      "grid_row": null,
      "grid_template_areas": null,
      "grid_template_columns": null,
      "grid_template_rows": null,
      "height": null,
      "justify_content": null,
      "justify_items": null,
      "left": null,
      "margin": null,
      "max_height": null,
      "max_width": null,
      "min_height": null,
      "min_width": null,
      "object_fit": null,
      "object_position": null,
      "order": null,
      "overflow": null,
      "overflow_x": null,
      "overflow_y": null,
      "padding": null,
      "right": null,
      "top": null,
      "visibility": null,
      "width": null
     }
    }
   }
  }
 },
 "nbformat": 4,
 "nbformat_minor": 4
}
