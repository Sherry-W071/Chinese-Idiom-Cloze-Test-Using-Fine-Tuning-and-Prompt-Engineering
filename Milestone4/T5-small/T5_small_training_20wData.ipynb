{
 "cells": [
  {
   "cell_type": "markdown",
   "id": "931cb5cd-10af-445e-b38c-389bb5d8837d",
   "metadata": {
    "id": "931cb5cd-10af-445e-b38c-389bb5d8837d"
   },
   "source": [
    "# T5-small Fine-tuning with Larger Dataset"
   ]
  },
  {
   "cell_type": "markdown",
   "id": "q1WDTm1VFloi",
   "metadata": {
    "id": "q1WDTm1VFloi"
   },
   "source": [
    "### **The model checkpoint can be downloaded from: [Google Drive](https://drive.google.com/file/d/1hhfBKiTsJsffe-7iYLy-ZF_K922WUH7I/view?usp=sharing)*"
   ]
  },
  {
   "cell_type": "markdown",
   "id": "338f1500-424a-44af-991a-ab96caf01238",
   "metadata": {
    "id": "338f1500-424a-44af-991a-ab96caf01238"
   },
   "source": [
    "## Imports, Device Setting and Weight and Bias Display"
   ]
  },
  {
   "cell_type": "code",
   "execution_count": 1,
   "id": "2db85f5a-7e83-4f2e-9e5b-783132661495",
   "metadata": {
    "colab": {
     "base_uri": "https://localhost:8080/"
    },
    "id": "2db85f5a-7e83-4f2e-9e5b-783132661495",
    "outputId": "89a50357-72c6-43b2-9322-c1a0b1d545c0"
   },
   "outputs": [
    {
     "name": "stdout",
     "output_type": "stream",
     "text": [
      "Looking in indexes: https://pypi.org/simple, https://us-python.pkg.dev/colab-wheels/public/simple/\n",
      "Collecting transformers\n",
      "  Using cached transformers-4.28.1-py3-none-any.whl (7.0 MB)\n",
      "Requirement already satisfied: filelock in /usr/local/lib/python3.9/dist-packages (from transformers) (3.11.0)\n",
      "Requirement already satisfied: packaging>=20.0 in /usr/local/lib/python3.9/dist-packages (from transformers) (23.1)\n",
      "Collecting huggingface-hub<1.0,>=0.11.0\n",
      "  Using cached huggingface_hub-0.13.4-py3-none-any.whl (200 kB)\n",
      "Requirement already satisfied: pyyaml>=5.1 in /usr/local/lib/python3.9/dist-packages (from transformers) (6.0)\n",
      "Requirement already satisfied: tokenizers!=0.11.3,<0.14,>=0.11.1 in /usr/local/lib/python3.9/dist-packages (from transformers) (0.13.3)\n",
      "Requirement already satisfied: tqdm>=4.27 in /usr/local/lib/python3.9/dist-packages (from transformers) (4.65.0)\n",
      "Requirement already satisfied: requests in /usr/local/lib/python3.9/dist-packages (from transformers) (2.27.1)\n",
      "Requirement already satisfied: numpy>=1.17 in /usr/local/lib/python3.9/dist-packages (from transformers) (1.22.4)\n",
      "Requirement already satisfied: regex!=2019.12.17 in /usr/local/lib/python3.9/dist-packages (from transformers) (2022.10.31)\n",
      "Requirement already satisfied: typing-extensions>=3.7.4.3 in /usr/local/lib/python3.9/dist-packages (from huggingface-hub<1.0,>=0.11.0->transformers) (4.5.0)\n",
      "Requirement already satisfied: urllib3<1.27,>=1.21.1 in /usr/local/lib/python3.9/dist-packages (from requests->transformers) (1.26.15)\n",
      "Requirement already satisfied: idna<4,>=2.5 in /usr/local/lib/python3.9/dist-packages (from requests->transformers) (3.4)\n",
      "Requirement already satisfied: certifi>=2017.4.17 in /usr/local/lib/python3.9/dist-packages (from requests->transformers) (2022.12.7)\n",
      "Requirement already satisfied: charset-normalizer~=2.0.0 in /usr/local/lib/python3.9/dist-packages (from requests->transformers) (2.0.12)\n",
      "Installing collected packages: huggingface-hub, transformers\n",
      "Successfully installed huggingface-hub-0.13.4 transformers-4.28.1\n",
      "Looking in indexes: https://pypi.org/simple, https://us-python.pkg.dev/colab-wheels/public/simple/\n",
      "Requirement already satisfied: wandb in /usr/local/lib/python3.9/dist-packages (0.15.0)\n",
      "Requirement already satisfied: sentry-sdk>=1.0.0 in /usr/local/lib/python3.9/dist-packages (from wandb) (1.20.0)\n",
      "Requirement already satisfied: requests<3,>=2.0.0 in /usr/local/lib/python3.9/dist-packages (from wandb) (2.27.1)\n",
      "Requirement already satisfied: setproctitle in /usr/local/lib/python3.9/dist-packages (from wandb) (1.3.2)\n",
      "Requirement already satisfied: GitPython!=3.1.29,>=1.0.0 in /usr/local/lib/python3.9/dist-packages (from wandb) (3.1.31)\n",
      "Requirement already satisfied: pathtools in /usr/local/lib/python3.9/dist-packages (from wandb) (0.1.2)\n",
      "Requirement already satisfied: setuptools in /usr/local/lib/python3.9/dist-packages (from wandb) (67.6.1)\n",
      "Requirement already satisfied: PyYAML in /usr/local/lib/python3.9/dist-packages (from wandb) (6.0)\n",
      "Requirement already satisfied: docker-pycreds>=0.4.0 in /usr/local/lib/python3.9/dist-packages (from wandb) (0.4.0)\n",
      "Requirement already satisfied: psutil>=5.0.0 in /usr/local/lib/python3.9/dist-packages (from wandb) (5.9.5)\n",
      "Requirement already satisfied: Click!=8.0.0,>=7.0 in /usr/local/lib/python3.9/dist-packages (from wandb) (8.1.3)\n",
      "Requirement already satisfied: protobuf!=4.21.0,<5,>=3.15.0 in /usr/local/lib/python3.9/dist-packages (from wandb) (3.20.3)\n",
      "Requirement already satisfied: appdirs>=1.4.3 in /usr/local/lib/python3.9/dist-packages (from wandb) (1.4.4)\n",
      "Requirement already satisfied: typing-extensions in /usr/local/lib/python3.9/dist-packages (from wandb) (4.5.0)\n",
      "Requirement already satisfied: six>=1.4.0 in /usr/local/lib/python3.9/dist-packages (from docker-pycreds>=0.4.0->wandb) (1.16.0)\n",
      "Requirement already satisfied: gitdb<5,>=4.0.1 in /usr/local/lib/python3.9/dist-packages (from GitPython!=3.1.29,>=1.0.0->wandb) (4.0.10)\n",
      "Requirement already satisfied: urllib3<1.27,>=1.21.1 in /usr/local/lib/python3.9/dist-packages (from requests<3,>=2.0.0->wandb) (1.26.15)\n",
      "Requirement already satisfied: certifi>=2017.4.17 in /usr/local/lib/python3.9/dist-packages (from requests<3,>=2.0.0->wandb) (2022.12.7)\n",
      "Requirement already satisfied: charset-normalizer~=2.0.0 in /usr/local/lib/python3.9/dist-packages (from requests<3,>=2.0.0->wandb) (2.0.12)\n",
      "Requirement already satisfied: idna<4,>=2.5 in /usr/local/lib/python3.9/dist-packages (from requests<3,>=2.0.0->wandb) (3.4)\n",
      "Requirement already satisfied: smmap<6,>=3.0.1 in /usr/local/lib/python3.9/dist-packages (from gitdb<5,>=4.0.1->GitPython!=3.1.29,>=1.0.0->wandb) (5.0.0)\n"
     ]
    }
   ],
   "source": [
    "! pip install transformers\n",
    "!pip3 install wandb\n",
    "import wandb\n",
    "import os\n",
    "import torch\n",
    "import re\n",
    "from torch import cuda, nn, optim\n",
    "from transformers import BertTokenizer, T5ForConditionalGeneration, Text2TextGenerationPipeline\n",
    "from transformers import TrainingArguments, Trainer, logging\n",
    "from torch.utils.data import Dataset, DataLoader\n"
   ]
  },
  {
   "cell_type": "code",
   "execution_count": 2,
   "id": "11dcc013-acec-4506-b1a4-a17912c5d13f",
   "metadata": {
    "colab": {
     "base_uri": "https://localhost:8080/"
    },
    "id": "11dcc013-acec-4506-b1a4-a17912c5d13f",
    "outputId": "c4d5bf65-6bba-44f7-bcec-1ddb6cf835c2"
   },
   "outputs": [
    {
     "name": "stdout",
     "output_type": "stream",
     "text": [
      "Mounted at /content/gdrive\n",
      "cuda\n"
     ]
    }
   ],
   "source": [
    "from google.colab import drive\n",
    "drive.mount('/content/gdrive')\n",
    "manual_seed = 585\n",
    "torch.manual_seed(manual_seed)\n",
    "device = torch.device(\"cuda\" if torch.cuda.is_available() else \"cpu\")\n",
    "print(device)"
   ]
  },
  {
   "cell_type": "code",
   "execution_count": 3,
   "id": "gfGHEqITuwMD",
   "metadata": {
    "colab": {
     "base_uri": "https://localhost:8080/",
     "height": 177
    },
    "id": "gfGHEqITuwMD",
    "outputId": "99dbcaae-7180-4245-a267-c05a641d2683"
   },
   "outputs": [
    {
     "data": {
      "application/javascript": [
       "\n",
       "        window._wandbApiKey = new Promise((resolve, reject) => {\n",
       "            function loadScript(url) {\n",
       "            return new Promise(function(resolve, reject) {\n",
       "                let newScript = document.createElement(\"script\");\n",
       "                newScript.onerror = reject;\n",
       "                newScript.onload = resolve;\n",
       "                document.body.appendChild(newScript);\n",
       "                newScript.src = url;\n",
       "            });\n",
       "            }\n",
       "            loadScript(\"https://cdn.jsdelivr.net/npm/postmate/build/postmate.min.js\").then(() => {\n",
       "            const iframe = document.createElement('iframe')\n",
       "            iframe.style.cssText = \"width:0;height:0;border:none\"\n",
       "            document.body.appendChild(iframe)\n",
       "            const handshake = new Postmate({\n",
       "                container: iframe,\n",
       "                url: 'https://wandb.ai/authorize'\n",
       "            });\n",
       "            const timeout = setTimeout(() => reject(\"Couldn't auto authenticate\"), 5000)\n",
       "            handshake.then(function(child) {\n",
       "                child.on('authorize', data => {\n",
       "                    clearTimeout(timeout)\n",
       "                    resolve(data)\n",
       "                });\n",
       "            });\n",
       "            })\n",
       "        });\n",
       "    "
      ],
      "text/plain": [
       "<IPython.core.display.Javascript object>"
      ]
     },
     "metadata": {},
     "output_type": "display_data"
    },
    {
     "name": "stderr",
     "output_type": "stream",
     "text": [
      "\u001b[34m\u001b[1mwandb\u001b[0m: Appending key for api.wandb.ai to your netrc file: /root/.netrc\n",
      "\u001b[34m\u001b[1mwandb\u001b[0m: Currently logged in as: \u001b[33mqmygrace\u001b[0m. Use \u001b[1m`wandb login --relogin`\u001b[0m to force relogin\n"
     ]
    },
    {
     "data": {
      "text/html": [
       "Tracking run with wandb version 0.15.0"
      ],
      "text/plain": [
       "<IPython.core.display.HTML object>"
      ]
     },
     "metadata": {},
     "output_type": "display_data"
    },
    {
     "data": {
      "text/html": [
       "Run data is saved locally in <code>/content/wandb/run-20230420_065822-qh8dh7om</code>"
      ],
      "text/plain": [
       "<IPython.core.display.HTML object>"
      ]
     },
     "metadata": {},
     "output_type": "display_data"
    },
    {
     "data": {
      "text/html": [
       "Syncing run <strong><a href='https://wandb.ai/qmygrace/Zootopia/runs/qh8dh7om' target=\"_blank\">classic-pine-7</a></strong> to <a href='https://wandb.ai/qmygrace/Zootopia' target=\"_blank\">Weights & Biases</a> (<a href='https://wandb.me/run' target=\"_blank\">docs</a>)<br/>"
      ],
      "text/plain": [
       "<IPython.core.display.HTML object>"
      ]
     },
     "metadata": {},
     "output_type": "display_data"
    },
    {
     "data": {
      "text/html": [
       " View project at <a href='https://wandb.ai/qmygrace/Zootopia' target=\"_blank\">https://wandb.ai/qmygrace/Zootopia</a>"
      ],
      "text/plain": [
       "<IPython.core.display.HTML object>"
      ]
     },
     "metadata": {},
     "output_type": "display_data"
    },
    {
     "data": {
      "text/html": [
       " View run at <a href='https://wandb.ai/qmygrace/Zootopia/runs/qh8dh7om' target=\"_blank\">https://wandb.ai/qmygrace/Zootopia/runs/qh8dh7om</a>"
      ],
      "text/plain": [
       "<IPython.core.display.HTML object>"
      ]
     },
     "metadata": {},
     "output_type": "display_data"
    },
    {
     "data": {
      "text/html": [
       "<button onClick=\"this.nextSibling.style.display='block';this.style.display='none';\">Display W&B run</button><iframe src='https://wandb.ai/qmygrace/Zootopia/runs/qh8dh7om?jupyter=true' style='border:none;width:100%;height:420px;display:none;'></iframe>"
      ],
      "text/plain": [
       "<wandb.sdk.wandb_run.Run at 0x7fb38c4ad940>"
      ]
     },
     "execution_count": 3,
     "metadata": {},
     "output_type": "execute_result"
    }
   ],
   "source": [
    "wandb.login()\n",
    "wandb.init(project=\"Zootopia\", entity=\"qmygrace\")\n"
   ]
  },
  {
   "cell_type": "markdown",
   "id": "o6y1YrsaF7HY",
   "metadata": {
    "id": "o6y1YrsaF7HY"
   },
   "source": []
  },
  {
   "cell_type": "markdown",
   "id": "f7c2f97e-7c04-4abc-b23a-8e4a29ec7ffc",
   "metadata": {
    "id": "f7c2f97e-7c04-4abc-b23a-8e4a29ec7ffc"
   },
   "source": [
    "## Load the Pre-trained Model"
   ]
  },
  {
   "cell_type": "code",
   "execution_count": 4,
   "id": "99ae48ef-34a0-44fd-8489-0d4b13dc73d0",
   "metadata": {
    "colab": {
     "base_uri": "https://localhost:8080/",
     "height": 177,
     "referenced_widgets": [
      "5ded359c837045659d74d7add4a06703",
      "381bf93a8b2b461c87f469e752e32390",
      "4bf7b354cf9f4911a12af484750c6f44",
      "2773f0d2a5be407fb99035aed1031423",
      "161b1d3e18c247e794ea4ac26c25ab04",
      "d111701edfdb4d28bdfc52da5226afd7",
      "9291eb782442402f8f2385fec98708bf",
      "8174cd0f028646549fb0b04fa5bb6053",
      "88c6106e40b74f70873553d2bafd33c2",
      "2175d724d2e24b10954ef8b403b36160",
      "d60f2365b0fa4c56917b22087a62fb3d",
      "3ad44bbdbe0946fdb7aeaca4fc0c6804",
      "7b5af34dc0c4479c854e6fb965b8064b",
      "b55cc33cb9d0433d9a2663cdd1474245",
      "dfd6491157884ceb8d821d1d9e97cb7e",
      "23bcc78d17ec42789feb79f93d591154",
      "b2ffd6d51741412cb312565e2e760e40",
      "d4dcd9e6ced245448d55d86c436f118f",
      "e9e497dd0fa1448c9fe01f8bde96fa63",
      "e664a3c8a4ab44a984d8077e6445ea43",
      "7c755490079442c3ace9a5c93f9b49c7",
      "7350375b1b97475990e3bddbb28a78fc",
      "1bde402d10c34741b809f3edd1f8c923",
      "94f632d244974be6b94a38830a3ad7d1",
      "2a6ee8489e3040d9bdcbeaf06a4f8816",
      "69ebb6ed439d4d41aba802730c9615b3",
      "484b3d2e721042ada442cbc5d13aa600",
      "20233bb85bee45d5a9221f9e108901ef",
      "8143ded13b00481593d7281d2866b123",
      "7ccdbf8b265b4373ac14b4f0c70e39c7",
      "0af36ded41c8485aa8ece02feba48f7e",
      "ecf6ac4e6b3949f0baa908a9c239b33c",
      "1a2c911043ad4f6c8e64c84ab5aff3a4",
      "2871f21d85f848bd94a62479ebfe1109",
      "93c04ba4c6894ff48596ec35422ef974",
      "d31642c7971c4961931833415b9d1d00",
      "76b7d70e47f146018b7fbf2a062ac937",
      "1a2087c3f929418082c9073e9f72e82a",
      "a8b5207de9be4e218b5e11080188247e",
      "0dfab10d84d1480fb75b19b06bca482b",
      "c1c418511e624b84a902de12cddfa434",
      "483d6b65a4a7459596123d00ae68a312",
      "3b1651f452a0498a9cce0bd0f3341b7b",
      "6e786c10a1d845a583db8d0db126b23f",
      "f1d418123b0b4c209a86ef5aa97f443a",
      "94b1647a64de4e6eb1067d5673e61c11",
      "33663c35489a4f0dbd6a64893fcf160f",
      "5cd88e93e9de4e25891ee0de62d45f11",
      "d3875856be0f4588aba61a3e57bc3629",
      "a00f77ef588c4ecc871fa887722b128a",
      "71bd44f83dbe4a389c9cc42525c9f95d",
      "7491e0a67e20484da3a14e382c5a8efd",
      "62db07d715194c14bbd5f448916d4310",
      "63d2f691d42048b0b404e962ccf71d62",
      "ef53af3b5f814750b1230115136bf591"
     ]
    },
    "id": "99ae48ef-34a0-44fd-8489-0d4b13dc73d0",
    "outputId": "d4ee73b9-af0b-4d24-aff0-7194c3de3417"
   },
   "outputs": [
    {
     "data": {
      "application/vnd.jupyter.widget-view+json": {
       "model_id": "5ded359c837045659d74d7add4a06703",
       "version_major": 2,
       "version_minor": 0
      },
      "text/plain": [
       "Downloading (…)solve/main/vocab.txt:   0%|          | 0.00/110k [00:00<?, ?B/s]"
      ]
     },
     "metadata": {},
     "output_type": "display_data"
    },
    {
     "data": {
      "application/vnd.jupyter.widget-view+json": {
       "model_id": "3ad44bbdbe0946fdb7aeaca4fc0c6804",
       "version_major": 2,
       "version_minor": 0
      },
      "text/plain": [
       "Downloading (…)cial_tokens_map.json:   0%|          | 0.00/112 [00:00<?, ?B/s]"
      ]
     },
     "metadata": {},
     "output_type": "display_data"
    },
    {
     "data": {
      "application/vnd.jupyter.widget-view+json": {
       "model_id": "1bde402d10c34741b809f3edd1f8c923",
       "version_major": 2,
       "version_minor": 0
      },
      "text/plain": [
       "Downloading (…)okenizer_config.json:   0%|          | 0.00/321 [00:00<?, ?B/s]"
      ]
     },
     "metadata": {},
     "output_type": "display_data"
    },
    {
     "data": {
      "application/vnd.jupyter.widget-view+json": {
       "model_id": "2871f21d85f848bd94a62479ebfe1109",
       "version_major": 2,
       "version_minor": 0
      },
      "text/plain": [
       "Downloading (…)lve/main/config.json:   0%|          | 0.00/458 [00:00<?, ?B/s]"
      ]
     },
     "metadata": {},
     "output_type": "display_data"
    },
    {
     "data": {
      "application/vnd.jupyter.widget-view+json": {
       "model_id": "f1d418123b0b4c209a86ef5aa97f443a",
       "version_major": 2,
       "version_minor": 0
      },
      "text/plain": [
       "Downloading pytorch_model.bin:   0%|          | 0.00/220M [00:00<?, ?B/s]"
      ]
     },
     "metadata": {},
     "output_type": "display_data"
    }
   ],
   "source": [
    "# tokenizer = AutoTokenizer.from_pretrained(\"t5-small\")\n",
    "# model = AutoModelForSeq2SeqLM.from_pretrained(\"t5-small\")\n",
    "# No Chinese was used for pre-train\n",
    "\n",
    "# tokenizer = AutoTokenizer.from_pretrained(\"mxmax/Chinese_Chat_T5_Base\")\n",
    "# model = AutoModelForSeq2SeqLM.from_pretrained(\"mxmax/Chinese_Chat_T5_Base\")\n",
    "\n",
    "# https://huggingface.co/uer/t5-small-chinese-cluecorpussmall\n",
    "tokenizer = BertTokenizer.from_pretrained(\"uer/t5-small-chinese-cluecorpussmall\")\n",
    "model = T5ForConditionalGeneration.from_pretrained(\"uer/t5-small-chinese-cluecorpussmall\")\n"
   ]
  },
  {
   "cell_type": "markdown",
   "id": "2bf1f4b3-2f98-4704-bff4-12f1f9ad055a",
   "metadata": {
    "id": "2bf1f4b3-2f98-4704-bff4-12f1f9ad055a"
   },
   "source": [
    "## Preprocess data"
   ]
  },
  {
   "cell_type": "code",
   "execution_count": 5,
   "id": "a0aa74f8-a3fa-4746-a720-c831ac6ef645",
   "metadata": {
    "colab": {
     "base_uri": "https://localhost:8080/"
    },
    "id": "a0aa74f8-a3fa-4746-a720-c831ac6ef645",
    "outputId": "8d6346bb-1fbb-4756-90fa-a1902ea29f75"
   },
   "outputs": [
    {
     "name": "stdout",
     "output_type": "stream",
     "text": [
      "['{\"groundTruth\": [\"发扬光大\", \"平易近人\", \"温文尔雅\"], \"candidates\": [[\"意气风发\", \"街谈巷议\", \"人才辈出\", \"一脉相传\", \"后继有人\", \"发扬光大\", \"腥风血雨\"], [\"平易近人\", \"落落大方\", \"八仙过海\", \"彬彬有礼\", \"史无前例\", \"盛气凌人\", \"好自为之\"], [\"不拘小节\", \"风流潇洒\", \"无病呻吟\", \"言谈举止\", \"壮志凌云\", \"关门闭户\", \"温文尔雅\"]], \"content\": \"由实力派演员刘威饰演的清华第三任校长蒋南翔，是我国著名的青年运动家和教育家，他跟清华终身校长梅贻琦一样，都是由清华人自己培养出来的校长。历史上的蒋南翔是著名的“一二九”学生救亡运动的领导人之一，他在清华校长之位14年期间，不但很好的继承了清华建校之初的优秀传统与理念，而且更加的#idiom#，他把清华的教师队伍扩大了将近5倍，将清华本科人数破万，为新中国培养了大量的有用人才。在《天行健》中饰演蒋南翔的刘威是观众所熟悉的著名实力派演员，早在1987年刘威就在《关东大侠》中饰演豪爽仗义的关云天一角而获得了金鸡奖最佳男主角的提名，后来更是因在《唐明皇》中精湛的表演而一举夺得金鹰奖最佳男演员奖。此次《天行健》选定刘威来出演正是看中了他#idiom#的表演方式和对人物深入内心的刻画。至此，《天行健》中涉及的三位清华校长的人选都已经曝光，#idiom#的第一任校长赵文?、稳重坚毅的第二任校长孙逊、亲切务实的第三任校长刘威，再加上梁思成、林徽因、朱自清、闻一多等一批“大师”的加盟，相信作为清华百年校庆重点项目之一的《天行健》一定会带领观众重温那段不能抹去的历史。\", \"realCount\": 3}\\n', '{\"groundTruth\": [\"肥头大耳\"], \"candidates\": [[\"超凡入圣\", \"骨瘦如柴\", \"青面獠牙\", \"虎背熊腰\", \"成人之美\", \"肥头大耳\", \"神不守舍\"]], \"content\": \"#idiom#的掌柜只穿一件衬衫，坐在柜台里。几个堂倌穿着脏得发黑的白工作服，因为没有顾客，都散坐在桌子旁。这当儿看到这位不寻常的客人，都露出好奇的神色列宁曾批评他理论上的错误，同时认为他“所写的全部哲学，赶紧迎上前来伺候。聂赫留朵夫要了一瓶矿泉水，在离窗较远的地方挨着一张铺有肮脏桌布的小桌坐下。\", \"realCount\": 1}\\n'] \n",
      " 200000 3000 3000\n"
     ]
    }
   ],
   "source": [
    "# path = '../data/'    # change the path as needed\n",
    "path = '/content/gdrive/My Drive/585data/'\n",
    "\n",
    "def read_data(file):\n",
    "    with open (path+file) as t:\n",
    "        data = t.readlines()\n",
    "    return data\n",
    "\n",
    "train_set = read_data('train_data.txt')[:200000]\n",
    "dev_set = read_data('dev_data.txt')[:3000]\n",
    "test_set = read_data('test_data.txt')[:3000]\n",
    "\n",
    "# type(train_set)\n",
    "print(train_set[:2], '\\n', len(train_set), len(dev_set), len(test_set))"
   ]
  },
  {
   "cell_type": "code",
   "execution_count": 6,
   "id": "dZ1JICTnZPma",
   "metadata": {
    "id": "dZ1JICTnZPma"
   },
   "outputs": [],
   "source": [
    "# preprocess_idx = -1\n",
    "# def replace(match):\n",
    "#     global preprocess_idx\n",
    "#     preprocess_idx += 1\n",
    "#     return 'extra {}'.format(preprocess_idx)\n",
    "\n",
    "# text = '由实力派演员刘威饰演的清华第三任校长蒋南翔，是我国著名的青年运动家和教育家，他跟清华终身校长梅贻琦一样，都是由清华人自己培养出来的校长。历史上的蒋南翔是著名的“一二九”学生救亡运动的领导人之一，他在清华校长之位14年期间，不但很好的继承了清华建校之初的优秀传统与理念，而且更加的#idiom#，他把清华的教师队伍扩大了将近5倍，将清华本科人数破万，为新中国培养了大量的有用人才。在《天行健》中饰演蒋南翔的刘威是观众所熟悉的著名实力派演员，早在1987年刘威就在《关东大侠》中饰演豪爽仗义的关云天一角而获得了金鸡奖最佳男主角的提名，后来更是因在《唐明皇》中精湛的表演而一举夺得金鹰奖最佳男演员奖。此次《天行健》选定刘威来出演正是看中了他#idiom#的表演方式和对人物深入内心的刻画。至此，《天行健》中涉及的三位清华校长的人选都已经曝光，#idiom#的第一任校长赵文?、稳重坚毅的第二任校长孙逊、亲切务实的第三任校长刘威，再加上梁思成、林徽因、朱自清、闻一多等一批“大师”的加盟，相信作为清华百年校庆重点项目之一的《天行健》一定会带领观众重温那段不能抹去的历史。'\n",
    "# re.sub(r'#idiom#', replace, text)"
   ]
  },
  {
   "cell_type": "code",
   "execution_count": 7,
   "id": "9c3965b6-eaff-42ff-ac70-dac21b8dbd21",
   "metadata": {
    "id": "9c3965b6-eaff-42ff-ac70-dac21b8dbd21"
   },
   "outputs": [],
   "source": [
    "def preprocess(data):\n",
    "    text_input = []\n",
    "    idiom_output = []\n",
    "    for i in range(len(data)):\n",
    "        data[i] = eval(data[i])\n",
    "        input_text = data[i]['content']\n",
    "        ground_truth = data[i]['groundTruth']\n",
    "        candidates = data[i]['candidates']\n",
    "\n",
    "        candidate_str = ''\n",
    "        for candidate in candidates:\n",
    "            candidate_str += '('+'|'.join(candidate)+')'\n",
    "        \n",
    "        preprocess_idx = -1\n",
    "        def replace(match):\n",
    "            nonlocal preprocess_idx\n",
    "            preprocess_idx += 1\n",
    "            return 'extra{}'.format(preprocess_idx)\n",
    "        input_text = re.sub(r'#idiom#', replace, input_text)\n",
    "\n",
    "        instruction = '请从下列括号中分别选择合适的成语填入空缺处：{}'.format(candidate_str)\n",
    "        # input_text = input_text.replace('#idiom#', '_')\n",
    "        output_text = ','.join(ground_truth)\n",
    "        \n",
    "        text_input.append(instruction+'\\n'+input_text)\n",
    "        idiom_output.append(output_text)\n",
    "    \n",
    "    print(text_input[0], idiom_output[0])    \n",
    "    input_tok = tokenizer.batch_encode_plus(text_input,\n",
    "                                            add_special_tokens=False, \n",
    "                                            return_token_type_ids=False)\n",
    "    output_tok = tokenizer.batch_encode_plus(idiom_output, \n",
    "                                             add_special_tokens=False,\n",
    "                                             return_token_type_ids=False)\n",
    "    return input_tok, output_tok"
   ]
  },
  {
   "cell_type": "code",
   "execution_count": 8,
   "id": "9ad9389a-0f2a-4222-8f67-e9f968e6c734",
   "metadata": {
    "colab": {
     "base_uri": "https://localhost:8080/"
    },
    "id": "9ad9389a-0f2a-4222-8f67-e9f968e6c734",
    "outputId": "565df874-6c3c-4bce-fd19-bb2f2f77463e"
   },
   "outputs": [
    {
     "name": "stdout",
     "output_type": "stream",
     "text": [
      "请从下列括号中分别选择合适的成语填入空缺处：(意气风发|街谈巷议|人才辈出|一脉相传|后继有人|发扬光大|腥风血雨)(平易近人|落落大方|八仙过海|彬彬有礼|史无前例|盛气凌人|好自为之)(不拘小节|风流潇洒|无病呻吟|言谈举止|壮志凌云|关门闭户|温文尔雅)\n",
      "由实力派演员刘威饰演的清华第三任校长蒋南翔，是我国著名的青年运动家和教育家，他跟清华终身校长梅贻琦一样，都是由清华人自己培养出来的校长。历史上的蒋南翔是著名的“一二九”学生救亡运动的领导人之一，他在清华校长之位14年期间，不但很好的继承了清华建校之初的优秀传统与理念，而且更加的extra0，他把清华的教师队伍扩大了将近5倍，将清华本科人数破万，为新中国培养了大量的有用人才。在《天行健》中饰演蒋南翔的刘威是观众所熟悉的著名实力派演员，早在1987年刘威就在《关东大侠》中饰演豪爽仗义的关云天一角而获得了金鸡奖最佳男主角的提名，后来更是因在《唐明皇》中精湛的表演而一举夺得金鹰奖最佳男演员奖。此次《天行健》选定刘威来出演正是看中了他extra1的表演方式和对人物深入内心的刻画。至此，《天行健》中涉及的三位清华校长的人选都已经曝光，extra2的第一任校长赵文?、稳重坚毅的第二任校长孙逊、亲切务实的第三任校长刘威，再加上梁思成、林徽因、朱自清、闻一多等一批“大师”的加盟，相信作为清华百年校庆重点项目之一的《天行健》一定会带领观众重温那段不能抹去的历史。 发扬光大,平易近人,温文尔雅\n",
      "请从下列括号中分别选择合适的成语填入空缺处：(深恶痛绝|人人自危|恨入骨髓|不胜枚举|嗤之以鼻|走马看花|不屑一顾)\n",
      "另据了解，北京一个对垃圾短信extra0的老人，利用该软件总共呼死了近2000个号码。20分钟呼上万号码记者昨天在百度里输入“呼死你软件”，出现了7000多个相关网页，随机登录几个网站，发现软件均需花钱购买，价格从200元至500元不等。 深恶痛绝\n",
      "请从下列括号中分别选择合适的成语填入空缺处：(旷日持久|公正廉洁|苦口婆心|现身说法|白日做梦|深入浅出|肺腑之言)\n",
      "只要路过的旅客稍有迟疑，或者对他们的宣传单多看几眼，基本上这个旅客就别想轻松脱身了，记者就在9月3日接站时目睹了这样一幕：一个学生接过招生人员递来的宣传单，只是问了一下“你们学校有没有分数要求？”两个招生人员就“白话”开了，一个表示分数都好说，只要有好学的精神；另一个则extra0，大讲自己选择的专业现在收获颇丰；最后在招生人员“我们学校毕业后可以完全解决就业”的忽悠下，这个学生旅客被他们拉上了到校参观的班车。 现身说法\n"
     ]
    }
   ],
   "source": [
    "train_input, train_output = preprocess(train_set)\n",
    "dev_input, dev_output = preprocess(dev_set)\n",
    "test_input, test_output = preprocess(test_set)"
   ]
  },
  {
   "cell_type": "code",
   "execution_count": 9,
   "id": "7dbb4375-3f3f-441c-81b4-be13b24160bb",
   "metadata": {
    "colab": {
     "base_uri": "https://localhost:8080/"
    },
    "id": "7dbb4375-3f3f-441c-81b4-be13b24160bb",
    "outputId": "1c29e089-3062-453b-cacd-33ce7afdb58e"
   },
   "outputs": [
    {
     "name": "stdout",
     "output_type": "stream",
     "text": [
      "dict_keys(['input_ids', 'attention_mask']) dict_keys(['input_ids', 'attention_mask'])\n"
     ]
    }
   ],
   "source": [
    "print(train_input.keys(), train_output.keys())"
   ]
  },
  {
   "cell_type": "code",
   "execution_count": 10,
   "id": "2dab48c9-e312-4706-b5fa-d408bc8d227a",
   "metadata": {
    "colab": {
     "base_uri": "https://localhost:8080/"
    },
    "id": "2dab48c9-e312-4706-b5fa-d408bc8d227a",
    "outputId": "c7a6c423-85ae-4519-a700-8f68e10393c3"
   },
   "outputs": [
    {
     "name": "stdout",
     "output_type": "stream",
     "text": [
      "[6435, 794, 678, 1154, 2886, 1384, 704, 1146, 1166, 6848, 2885, 1394, 6844, 4638, 2768, 6427, 1856, 1057, 4958, 5375, 1905, 8038, 113, 2692, 3698, 7599, 1355, 170, 6125, 6448, 2350, 6379, 170, 782, 2798, 6777, 1139, 170, 671, 5549, 4685, 837, 170, 1400, 5326, 3300, 782, 170, 1355, 2813, 1045, 1920, 170, 5581, 7599, 6117, 7433, 114, 113, 2398, 3211, 6818, 782, 170, 5862, 5862, 1920, 3175, 170, 1061, 803, 6814, 3862, 170, 2509, 2509, 3300, 4851, 170, 1380, 3187, 1184, 891, 170, 4670, 3698, 1119, 782, 170, 1962, 5632, 711, 722, 114, 113, 679, 2872, 2207, 5688, 170, 7599, 3837, 4045, 3818, 170, 3187, 4567, 1460, 1412, 170, 6241, 6448, 715, 3632, 170, 1896, 2562, 1119, 756, 170, 1068, 7305, 7308, 2787, 170, 3946, 3152, 2209, 7414, 114, 4507, 2141, 1213, 3836, 4028, 1447, 1155, 2014, 7652, 4028, 4638, 3926, 1290, 5018, 676, 818, 3413, 7270, 5882, 1298, 5425, 8024, 3221, 2769, 1744, 5865, 1399, 4638, 7471, 2399, 6817, 1220, 2157, 1469, 3136, 5509, 2157, 8024, 800, 6656, 3926, 1290, 5303, 6716, 3413, 7270, 3449, 6591, 4425, 671, 3416, 8024, 6963, 3221, 4507, 3926, 1290, 782, 5632, 2346, 1824, 1075, 1139, 3341, 4638, 3413, 7270, 511, 1325, 1380, 677, 4638, 5882, 1298, 5425, 3221, 5865, 1399, 4638, 100, 671, 753, 736, 100, 2110, 4495, 3131, 767, 6817, 1220, 4638, 7566, 2193, 782, 722, 671, 8024, 800, 1762, 3926, 1290, 3413, 7270, 722, 855, 8122, 2399, 3309, 7313, 8024, 679, 852, 2523, 1962, 4638, 5326, 2824, 749, 3926, 1290, 2456, 3413, 722, 1159, 4638, 831, 4899, 837, 5320, 680, 4415, 2573, 8024, 5445, 684, 3291, 1217, 4638, 21128, 8024, 800, 2828, 3926, 1290, 4638, 3136, 2360, 7339, 824, 2810, 1920, 749, 2199, 6818, 126, 945, 8024, 2199, 3926, 1290, 3315, 4906, 782, 3144, 4788, 674, 8024, 711, 3173, 704, 1744, 1824, 1075, 749, 1920, 7030, 4638, 3300, 4500, 782, 2798, 511, 1762, 517, 1921, 6121, 978, 518, 704, 7652, 4028, 5882, 1298, 5425, 4638, 1155, 2014, 3221, 6225, 830, 2792, 4225, 2634, 4638, 5865, 1399, 2141, 1213, 3836, 4028, 1447, 8024, 3193, 1762, 8622, 2399, 1155, 2014, 2218, 1762, 517, 1068, 691, 1920, 899, 518, 704, 7652, 4028, 6498, 4272, 801, 721, 4638, 1068, 756, 1921, 671, 6235, 5445, 5815, 2533, 749, 7032, 7883, 1946, 3297, 881, 4511, 712, 6235, 4638, 2990, 1399, 8024, 1400, 3341, 3291, 3221, 1728, 1762, 517, 1538, 3209, 4640, 518, 704, 5125, 3961, 4638, 6134, 4028, 5445, 671, 715, 1932, 2533, 7032, 7916, 1946, 3297, 881, 4511, 4028, 1447, 1946, 511, 3634, 3613, 517, 1921, 6121, 978, 518, 6848, 2137, 1155, 2014, 3341, 1139, 4028, 3633, 3221, 4692, 704, 749, 800, 21129, 4638, 6134, 4028, 3175, 2466, 1469, 2190, 782, 4289, 3918, 1057, 1079, 2552, 4638, 1174, 4514, 511, 5635, 3634, 8024, 517, 1921, 6121, 978, 518, 704, 3868, 1350, 4638, 676, 855, 3926, 1290, 3413, 7270, 4638, 782, 6848, 6963, 2347, 5307, 3284, 1045, 8024, 21130, 4638, 5018, 671, 818, 3413, 7270, 6627, 3152, 136, 510, 4937, 7028, 1780, 3675, 4638, 5018, 753, 818, 3413, 7270, 2101, 6849, 510, 779, 1147, 1218, 2141, 4638, 5018, 676, 818, 3413, 7270, 1155, 2014, 8024, 1086, 1217, 677, 3448, 2590, 2768, 510, 3360, 2551, 1728, 510, 3319, 5632, 3926, 510, 7319, 671, 1914, 5023, 671, 2821, 100, 1920, 2360, 100, 4638, 1217, 4673, 8024, 4685, 928, 868, 711, 3926, 1290, 4636, 2399, 3413, 2412, 7028, 4157, 7555, 4680, 722, 671, 4638, 517, 1921, 6121, 978, 518, 671, 2137, 833, 2372, 7566, 6225, 830, 7028, 3946, 6929, 3667, 679, 5543, 2851, 1343, 4638, 1325, 1380, 511] \n",
      " [1, 1, 1, 1, 1, 1, 1, 1, 1, 1, 1, 1, 1, 1, 1, 1, 1, 1, 1, 1, 1, 1, 1, 1, 1, 1, 1, 1, 1, 1, 1, 1, 1, 1, 1, 1, 1, 1, 1, 1, 1, 1, 1, 1, 1, 1, 1, 1, 1, 1, 1, 1, 1, 1, 1, 1, 1, 1, 1, 1, 1, 1, 1, 1, 1, 1, 1, 1, 1, 1, 1, 1, 1, 1, 1, 1, 1, 1, 1, 1, 1, 1, 1, 1, 1, 1, 1, 1, 1, 1, 1, 1, 1, 1, 1, 1, 1, 1, 1, 1, 1, 1, 1, 1, 1, 1, 1, 1, 1, 1, 1, 1, 1, 1, 1, 1, 1, 1, 1, 1, 1, 1, 1, 1, 1, 1, 1, 1, 1, 1, 1, 1, 1, 1, 1, 1, 1, 1, 1, 1, 1, 1, 1, 1, 1, 1, 1, 1, 1, 1, 1, 1, 1, 1, 1, 1, 1, 1, 1, 1, 1, 1, 1, 1, 1, 1, 1, 1, 1, 1, 1, 1, 1, 1, 1, 1, 1, 1, 1, 1, 1, 1, 1, 1, 1, 1, 1, 1, 1, 1, 1, 1, 1, 1, 1, 1, 1, 1, 1, 1, 1, 1, 1, 1, 1, 1, 1, 1, 1, 1, 1, 1, 1, 1, 1, 1, 1, 1, 1, 1, 1, 1, 1, 1, 1, 1, 1, 1, 1, 1, 1, 1, 1, 1, 1, 1, 1, 1, 1, 1, 1, 1, 1, 1, 1, 1, 1, 1, 1, 1, 1, 1, 1, 1, 1, 1, 1, 1, 1, 1, 1, 1, 1, 1, 1, 1, 1, 1, 1, 1, 1, 1, 1, 1, 1, 1, 1, 1, 1, 1, 1, 1, 1, 1, 1, 1, 1, 1, 1, 1, 1, 1, 1, 1, 1, 1, 1, 1, 1, 1, 1, 1, 1, 1, 1, 1, 1, 1, 1, 1, 1, 1, 1, 1, 1, 1, 1, 1, 1, 1, 1, 1, 1, 1, 1, 1, 1, 1, 1, 1, 1, 1, 1, 1, 1, 1, 1, 1, 1, 1, 1, 1, 1, 1, 1, 1, 1, 1, 1, 1, 1, 1, 1, 1, 1, 1, 1, 1, 1, 1, 1, 1, 1, 1, 1, 1, 1, 1, 1, 1, 1, 1, 1, 1, 1, 1, 1, 1, 1, 1, 1, 1, 1, 1, 1, 1, 1, 1, 1, 1, 1, 1, 1, 1, 1, 1, 1, 1, 1, 1, 1, 1, 1, 1, 1, 1, 1, 1, 1, 1, 1, 1, 1, 1, 1, 1, 1, 1, 1, 1, 1, 1, 1, 1, 1, 1, 1, 1, 1, 1, 1, 1, 1, 1, 1, 1, 1, 1, 1, 1, 1, 1, 1, 1, 1, 1, 1, 1, 1, 1, 1, 1, 1, 1, 1, 1, 1, 1, 1, 1, 1, 1, 1, 1, 1, 1, 1, 1, 1, 1, 1, 1, 1, 1, 1, 1, 1, 1, 1, 1, 1, 1, 1, 1, 1, 1, 1, 1, 1, 1, 1, 1, 1, 1, 1, 1, 1, 1, 1, 1, 1, 1, 1, 1, 1, 1, 1, 1, 1, 1, 1, 1, 1, 1, 1, 1, 1, 1, 1, 1, 1, 1, 1, 1, 1, 1, 1, 1, 1, 1, 1, 1, 1, 1, 1, 1, 1, 1, 1, 1, 1, 1, 1, 1, 1, 1, 1, 1, 1, 1, 1, 1, 1, 1, 1, 1, 1, 1, 1, 1, 1, 1, 1, 1, 1, 1, 1, 1, 1, 1, 1, 1, 1, 1, 1, 1, 1, 1, 1, 1, 1, 1, 1, 1, 1, 1, 1, 1, 1]\n"
     ]
    }
   ],
   "source": [
    "print(train_input['input_ids'][0], '\\n', train_input['attention_mask'][0])"
   ]
  },
  {
   "cell_type": "code",
   "execution_count": 11,
   "id": "ItvsDz6wgf2D",
   "metadata": {
    "colab": {
     "base_uri": "https://localhost:8080/"
    },
    "id": "ItvsDz6wgf2D",
    "outputId": "b3c773ad-55af-49a3-9e03-6ffaa69b21c5"
   },
   "outputs": [
    {
     "name": "stdout",
     "output_type": "stream",
     "text": [
      "[1355, 2813, 1045, 1920, 117, 2398, 3211, 6818, 782, 117, 3946, 3152, 2209, 7414] \n",
      " [1, 1, 1, 1, 1, 1, 1, 1, 1, 1, 1, 1, 1, 1]\n"
     ]
    }
   ],
   "source": [
    "print(train_output['input_ids'][0], '\\n', train_output['attention_mask'][0])"
   ]
  },
  {
   "cell_type": "code",
   "execution_count": 12,
   "id": "745d083f-5ef4-4ef2-95ae-88edc375a5aa",
   "metadata": {
    "id": "745d083f-5ef4-4ef2-95ae-88edc375a5aa"
   },
   "outputs": [],
   "source": [
    "class IdiomDataset(Dataset):\n",
    "    def __init__(self, inputs, outputs):\n",
    "        self.inputs = inputs\n",
    "        self.outputs = outputs\n",
    "\n",
    "    def __len__(self):\n",
    "        return len(self.inputs[\"input_ids\"])\n",
    "\n",
    "    def __getitem__(self, idx):\n",
    "        input_ids = self.inputs['input_ids'][idx]\n",
    "        attention_mask = self.inputs['attention_mask'][idx]\n",
    "\n",
    "        target_ids = self.outputs['input_ids'][idx]\n",
    "        target_attention_mask = self.outputs['attention_mask'][idx]\n",
    "        return {\"input_ids\": input_ids, \"attention_mask\":attention_mask, \"output_ids\":target_ids}\n",
    "\n",
    "\n",
    "def collate_fn(batch):\n",
    "    batch_input = [torch.LongTensor(example['input_ids']) for example in batch]\n",
    "    batch_output = [torch.LongTensor(example['output_ids']) for example in batch]\n",
    "    batch_mask = [torch.LongTensor(example['attention_mask']) for example in batch]\n",
    "\n",
    "    padded_batch_input_ids = pad_sequence(batch_input, batch_first=True, padding_value=tokenizer.pad_token_id)\n",
    "    padded_batch_label = pad_sequence(batch_output, batch_first=True, padding_value=tokenizer.pad_token_id)\n",
    "    padded_batch_att_mask = pad_sequence(batch_mask, batch_first=True, padding_value=0)\n",
    "\n",
    "    return {\"input_ids\": padded_batch_input_ids, \"attention_mask\": padded_batch_att_mask, \"labels\": padded_batch_label}\n",
    "\n",
    "def to_device(data, device):\n",
    "    new_data = {}\n",
    "    for k in data:\n",
    "        # k = k.to(device)\n",
    "        new_data[k] = data[k].to(device)\n",
    "    return new_data"
   ]
  },
  {
   "cell_type": "code",
   "execution_count": 13,
   "id": "2306fb26-febb-4159-b957-89944b73a9c4",
   "metadata": {
    "id": "2306fb26-febb-4159-b957-89944b73a9c4"
   },
   "outputs": [],
   "source": [
    "train_dataset = IdiomDataset(train_input, train_output)\n",
    "train_loader = DataLoader(train_dataset, batch_size=8, collate_fn=collate_fn, shuffle=True)\n",
    "\n",
    "dev_dataset = IdiomDataset(dev_input, dev_output)\n",
    "dev_loader = DataLoader(dev_dataset, batch_size=8, collate_fn=collate_fn, shuffle=False)\n"
   ]
  },
  {
   "cell_type": "markdown",
   "id": "3f4fc45d-c94f-4dcc-a845-285e1959ef6e",
   "metadata": {
    "id": "3f4fc45d-c94f-4dcc-a845-285e1959ef6e"
   },
   "source": [
    "## Training"
   ]
  },
  {
   "cell_type": "code",
   "execution_count": 14,
   "id": "20e09128-fe25-44b1-8572-496a460bf870",
   "metadata": {
    "id": "20e09128-fe25-44b1-8572-496a460bf870"
   },
   "outputs": [],
   "source": [
    "@torch.no_grad()\n",
    "def evaluate(model:nn.Module, eval_loader:DataLoader):\n",
    "    eval_loss = 0.0\n",
    "    correct = 0\n",
    "    total = 0\n",
    "    model.eval()\n",
    "    print(\"eval_loader len:\", len(eval_loader))\n",
    "    for batch in eval_loader:\n",
    "        batch = to_device(batch, device)\n",
    "        output = model(**batch)\n",
    "        loss = output.loss\n",
    "        eval_loss += loss.item()\n",
    "        pred = output.logits.argmax(-1)\n",
    "        label = batch[\"labels\"]\n",
    "        correct += torch.where(label!=0, pred==label, 0).sum().item()\n",
    "        total += torch.sum(label!=0).item()\n",
    "\n",
    "    eval_acc = correct / total\n",
    "    eval_loss = eval_loss / len(eval_loader) \n",
    "    print(total, correct)\n",
    "    return eval_acc, eval_loss"
   ]
  },
  {
   "cell_type": "code",
   "execution_count": 15,
   "id": "e4aed717-87ff-4abf-a24a-c3397bfec0f5",
   "metadata": {
    "colab": {
     "base_uri": "https://localhost:8080/"
    },
    "id": "e4aed717-87ff-4abf-a24a-c3397bfec0f5",
    "outputId": "25af220a-622c-455d-b18d-88e46cffa400"
   },
   "outputs": [
    {
     "name": "stdout",
     "output_type": "stream",
     "text": [
      "Train Step: 0 Loss: 0.009607133865356445\n",
      "Train Step: 1000 Loss: 6.965127592086792\n",
      "Train Step: 2000 Loss: 5.928777253389359\n",
      "Train Step: 3000 Loss: 5.307035555839539\n",
      "Train Step: 4000 Loss: 4.47532918715477\n",
      "Train Step: 5000 Loss: 3.9833750841617586\n",
      "Train Step: 6000 Loss: 3.558561653971672\n",
      "Train Step: 7000 Loss: 3.1961510465145113\n",
      "Train Step: 8000 Loss: 2.884325601220131\n",
      "Train Step: 9000 Loss: 2.7069154077768327\n",
      "Train Step: 10000 Loss: 2.48622702473402\n",
      "Train Step: 11000 Loss: 2.2830730281472205\n",
      "Train Step: 12000 Loss: 2.1433555743694304\n",
      "Train Step: 13000 Loss: 1.970630082845688\n",
      "Train Step: 14000 Loss: 1.8237107994556427\n",
      "Train Step: 15000 Loss: 1.7226636305451393\n",
      "Train Step: 16000 Loss: 1.5917500005960465\n",
      "Train Step: 17000 Loss: 1.5178158569931983\n",
      "Train Step: 18000 Loss: 1.4009865674972535\n",
      "Train Step: 19000 Loss: 1.3239106632471085\n",
      "Train Step: 20000 Loss: 1.2238176827430725\n",
      "Train Step: 21000 Loss: 1.1389922125339509\n",
      "Train Step: 22000 Loss: 1.111944425702095\n",
      "Train Step: 23000 Loss: 1.0255056209266187\n",
      "Train Step: 24000 Loss: 0.9874785841703415\n",
      "Epoch: 1 Loss is: 63692.21434020996\n",
      "eval_loader len: 375\n",
      "15420 12948\n",
      "Epoch 1 Eval Acc: 0.8396887159533074; Eval Loss: 0.583379680832227\n",
      "Train Step: 0 Loss: 0.00029494914412498476\n",
      "Train Step: 1000 Loss: 0.5426913168281317\n",
      "Train Step: 2000 Loss: 0.49815701687335967\n",
      "Train Step: 3000 Loss: 0.47298186303675177\n",
      "Train Step: 4000 Loss: 0.4630973611027002\n",
      "Train Step: 5000 Loss: 0.43181571842730043\n",
      "Train Step: 6000 Loss: 0.42071491092443464\n",
      "Train Step: 7000 Loss: 0.4052090726196766\n",
      "Train Step: 8000 Loss: 0.38544437639415263\n",
      "Train Step: 9000 Loss: 0.377319151699543\n",
      "Train Step: 10000 Loss: 0.3581108987107873\n",
      "Train Step: 11000 Loss: 0.35069124172627925\n",
      "Train Step: 12000 Loss: 0.3370122254341841\n",
      "Train Step: 13000 Loss: 0.330210607342422\n",
      "Train Step: 14000 Loss: 0.32285670386999843\n",
      "Train Step: 15000 Loss: 0.30630236203223465\n",
      "Train Step: 16000 Loss: 0.30034881620109083\n",
      "Train Step: 17000 Loss: 0.2879603306427598\n",
      "Train Step: 18000 Loss: 0.2773069207444787\n",
      "Train Step: 19000 Loss: 0.281879232108593\n",
      "Train Step: 20000 Loss: 0.26778733779862524\n",
      "Train Step: 21000 Loss: 0.25769704971835017\n",
      "Train Step: 22000 Loss: 0.2566755748167634\n",
      "Train Step: 23000 Loss: 0.2522176064550877\n",
      "Train Step: 24000 Loss: 0.24494623408839106\n",
      "Epoch: 2 Loss is: 8667.332280784845\n",
      "eval_loader len: 375\n",
      "15420 13930\n",
      "Epoch 2 Eval Acc: 0.9033722438391699; Eval Loss: 0.22336109895507494\n",
      "Train Step: 0 Loss: 0.0002884005606174469\n",
      "Train Step: 1000 Loss: 0.21669599779695273\n",
      "Train Step: 2000 Loss: 0.21135243364050985\n",
      "Train Step: 3000 Loss: 0.20956193812564014\n",
      "Train Step: 4000 Loss: 0.20270676396414639\n",
      "Train Step: 5000 Loss: 0.20377751317992807\n",
      "Train Step: 6000 Loss: 0.19956090524233877\n",
      "Train Step: 7000 Loss: 0.19366514268144966\n",
      "Train Step: 8000 Loss: 0.19148472590185703\n",
      "Train Step: 9000 Loss: 0.1905994912236929\n",
      "Train Step: 10000 Loss: 0.18563944992795586\n",
      "Train Step: 11000 Loss: 0.18678544327989222\n",
      "Train Step: 12000 Loss: 0.17979108496010304\n",
      "Train Step: 13000 Loss: 0.17782769114337862\n",
      "Train Step: 14000 Loss: 0.17610246481746436\n",
      "Train Step: 15000 Loss: 0.17776715283095837\n",
      "Train Step: 16000 Loss: 0.17181904631480574\n",
      "Train Step: 17000 Loss: 0.1653286477122456\n",
      "Train Step: 18000 Loss: 0.16021368097513913\n",
      "Train Step: 19000 Loss: 0.15749128428287804\n",
      "Train Step: 20000 Loss: 0.15924230846762658\n",
      "Train Step: 21000 Loss: 0.15330410589464008\n",
      "Train Step: 22000 Loss: 0.1550026762355119\n",
      "Train Step: 23000 Loss: 0.14638781948946417\n",
      "Train Step: 24000 Loss: 0.15109410416148603\n",
      "Epoch: 3 Loss is: 4471.5528554953635\n",
      "eval_loader len: 375\n",
      "15420 14300\n",
      "Epoch 3 Eval Acc: 0.9273670557717251; Eval Loss: 0.1510507300545772\n"
     ]
    }
   ],
   "source": [
    "from torch.nn.utils.rnn import pad_sequence\n",
    "\n",
    "epoches = 3       # train 3 epoches first and can add new epoches if needed\n",
    "optimizer = optim.Adam(model.parameters(), lr=3e-5)\n",
    "model.to(device)\n",
    "\n",
    "model.train()\n",
    "for epoch in range(epoches):\n",
    "    epoch_loss = 0.0\n",
    "    log_loss = 0.0\n",
    "    for idx, batch in enumerate(train_loader):\n",
    "        model.zero_grad()\n",
    "        batch = to_device(batch, device)\n",
    "        loss = model(**batch).loss\n",
    "        loss.backward()\n",
    "        optimizer.step()\n",
    "        epoch_loss += loss.item()\n",
    "        log_loss += loss.item()\n",
    "\n",
    "        wandb.log({'batch':idx, 'train_loss': loss.item()})\n",
    "        wandb.log({'batch':idx, 'accumulated_train_loss_in_this_1k_batches': log_loss})\n",
    "\n",
    "        if idx % 1000 == 0:\n",
    "            print(f\"Train Step: {idx} Loss: {log_loss / 1000}\")\n",
    "            log_loss = 0.0\n",
    "    print(f\"Epoch: {epoch+1} Loss is: {epoch_loss}\")\n",
    "    eval_acc, eval_loss = evaluate(model, dev_loader)\n",
    "    print(f\"Epoch {epoch+1} Eval Acc: {eval_acc}; Eval Loss: {eval_loss}\")"
   ]
  },
  {
   "cell_type": "code",
   "execution_count": 16,
   "id": "27b27ea9-82a6-429a-9198-da7e64683bba",
   "metadata": {
    "id": "27b27ea9-82a6-429a-9198-da7e64683bba"
   },
   "outputs": [],
   "source": [
    "torch.save(model.state_dict(), path+\"T5-small_model_3epoch_20wData.pt\")"
   ]
  },
  {
   "cell_type": "code",
   "execution_count": 17,
   "id": "QU3_bzhwBXud",
   "metadata": {
    "colab": {
     "base_uri": "https://localhost:8080/"
    },
    "id": "QU3_bzhwBXud",
    "outputId": "8d2a62bf-f063-4385-d06a-8c4c427dec35"
   },
   "outputs": [
    {
     "name": "stdout",
     "output_type": "stream",
     "text": [
      "The model has 54,925,824 trainable parameters\n"
     ]
    }
   ],
   "source": [
    "def count_parameters(model):\n",
    "    return sum(p.numel() for p in model.parameters() if p.requires_grad)\n",
    "\n",
    "print(f'The model has {count_parameters(model):,} trainable parameters')"
   ]
  },
  {
   "cell_type": "markdown",
   "id": "nExNVXOrwSe_",
   "metadata": {
    "id": "nExNVXOrwSe_"
   },
   "source": [
    "## Evaluation"
   ]
  },
  {
   "cell_type": "code",
   "execution_count": 18,
   "id": "DLFW9KkpjPQ9",
   "metadata": {
    "id": "DLFW9KkpjPQ9"
   },
   "outputs": [],
   "source": [
    "@torch.no_grad()\n",
    "def fill_idiom(model, loader):\n",
    "\n",
    "    all_preds = []\n",
    "    all_labels = []\n",
    "    model.eval()\n",
    "    for batch in loader:\n",
    "        batch = to_device(batch, device)\n",
    "        input_ids = batch[\"input_ids\"]\n",
    "        attention_mask = batch[\"attention_mask\"]\n",
    "        labels = batch[\"labels\"]\n",
    "        outputs = model.generate(input_ids=input_ids, \n",
    "                                 attention_mask=attention_mask, \n",
    "                                 return_dict_in_generate=True, \n",
    "                                 pad_token_id=tokenizer.pad_token_id, \n",
    "                                 max_length=512, \n",
    "                                 top_k=15)\n",
    "        truncated_outputs = []\n",
    "\n",
    "        decode_texts = tokenizer.batch_decode([l[l != 0] for l in outputs['sequences']])\n",
    "        gold_texts = tokenizer.batch_decode([l[l != 0] for l in labels])\n",
    "        # print(decode_texts, gold_texts)\n",
    "        for gold, decode in zip(gold_texts, decode_texts):\n",
    "            l = set(gold.replace(' ', '').replace('[CLS]', '').split(','))\n",
    "            p = set(decode.replace(' ', '').replace('[CLS]', '').split(','))\n",
    "            # print(l, p)\n",
    "            all_labels.append(l)\n",
    "            all_preds.append(p)\n",
    "        # print(decode_texts)\n",
    "        # print(gold_texts)\n",
    "        # break\n",
    "    \n",
    "    return all_preds, all_labels\n",
    "\n",
    "def f1_score(sys, gold):\n",
    "    tp = 0\n",
    "    total = 0\n",
    "    pos = 0\n",
    "    for s, g in zip(sys, gold):\n",
    "        total += len(g)\n",
    "        pos += len(s)\n",
    "        tp += len(g & s)\n",
    "    precision = tp / pos if pos != 0 else 0\n",
    "    recall = tp / total if total != 0 else 0\n",
    "    f1 = (2 * precision * recall) / (precision + recall) if (precision + recall) != 0 else 0\n",
    "    return precision, recall, f1, tp"
   ]
  },
  {
   "cell_type": "code",
   "execution_count": 19,
   "id": "ZiMhMM_ZjWsj",
   "metadata": {
    "id": "ZiMhMM_ZjWsj"
   },
   "outputs": [],
   "source": [
    "sys, gold = fill_idiom(model, dev_loader)\n",
    "p, r, f1, tp = f1_score(sys, gold)"
   ]
  },
  {
   "cell_type": "code",
   "execution_count": 20,
   "id": "TvhKNUaaOh3j",
   "metadata": {
    "id": "TvhKNUaaOh3j"
   },
   "outputs": [],
   "source": [
    "total = 0\n",
    "for s, g in zip(sys, gold):\n",
    "    total += len(g)"
   ]
  },
  {
   "cell_type": "code",
   "execution_count": 21,
   "id": "NVeTyoI4MDRF",
   "metadata": {
    "colab": {
     "base_uri": "https://localhost:8080/"
    },
    "id": "NVeTyoI4MDRF",
    "outputId": "ae655a26-77d0-43d5-b322-e8d7de58a055"
   },
   "outputs": [
    {
     "name": "stdout",
     "output_type": "stream",
     "text": [
      "Accurate amount for Validation set is 2569 out of 3668\n",
      "Accuracy for Validation set is 0.700381679389313\n",
      "F1 score for Validation set is 0.7006682121914632\n"
     ]
    }
   ],
   "source": [
    "print(f\"Accurate amount for Validation set is {tp} out of {total}\")\n",
    "print(f\"Accuracy for Validation set is {tp/total}\")\n",
    "print(f\"F1 score for Validation set is {f1}\")"
   ]
  },
  {
   "cell_type": "code",
   "execution_count": 22,
   "id": "gMSWr-DEtcEB",
   "metadata": {
    "colab": {
     "base_uri": "https://localhost:8080/"
    },
    "id": "gMSWr-DEtcEB",
    "outputId": "db3d5874-6d70-40a1-a2ab-bb0ba2adf7c6"
   },
   "outputs": [
    {
     "data": {
      "text/plain": [
       "[{'深恶痛绝'},\n",
       " {'杂乱无章'},\n",
       " {'磨刀霍霍'},\n",
       " {'独一无二'},\n",
       " {'一语道破', '不厌其烦', '品头题足'},\n",
       " {'一模一样'},\n",
       " {'罪魁祸首'},\n",
       " {'聪明才智'},\n",
       " {'百年不遇'},\n",
       " {'酸甜苦辣'}]"
      ]
     },
     "execution_count": 22,
     "metadata": {},
     "output_type": "execute_result"
    }
   ],
   "source": [
    "sys[:10]"
   ]
  },
  {
   "cell_type": "code",
   "execution_count": 23,
   "id": "YulPihgI0l98",
   "metadata": {
    "colab": {
     "base_uri": "https://localhost:8080/"
    },
    "id": "YulPihgI0l98",
    "outputId": "3f0e8763-1150-49c1-b46f-7ca2285cd941"
   },
   "outputs": [
    {
     "data": {
      "text/plain": [
       "[{'深恶痛绝'},\n",
       " {'杂乱无章'},\n",
       " {'磨刀霍霍'},\n",
       " {'独一无二'},\n",
       " {'一语道破', '不厌其烦', '品头题足'},\n",
       " {'大同小异'},\n",
       " {'罪魁祸首'},\n",
       " {'聪明才智'},\n",
       " {'千载难逢'},\n",
       " {'酸甜苦辣'}]"
      ]
     },
     "execution_count": 23,
     "metadata": {},
     "output_type": "execute_result"
    }
   ],
   "source": [
    "gold[:10]"
   ]
  },
  {
   "cell_type": "code",
   "execution_count": 23,
   "id": "bftVEK_Wc4uM",
   "metadata": {
    "id": "bftVEK_Wc4uM"
   },
   "outputs": [],
   "source": []
  }
 ],
 "metadata": {
  "accelerator": "GPU",
  "colab": {
   "machine_shape": "hm",
   "provenance": []
  },
  "gpuClass": "standard",
  "kernelspec": {
   "display_name": "Python 3 (ipykernel)",
   "language": "python",
   "name": "python3"
  },
  "language_info": {
   "codemirror_mode": {
    "name": "ipython",
    "version": 3
   },
   "file_extension": ".py",
   "mimetype": "text/x-python",
   "name": "python",
   "nbconvert_exporter": "python",
   "pygments_lexer": "ipython3",
   "version": "3.10.6"
  },
  "widgets": {
   "application/vnd.jupyter.widget-state+json": {
    "0af36ded41c8485aa8ece02feba48f7e": {
     "model_module": "@jupyter-widgets/controls",
     "model_module_version": "1.5.0",
     "model_name": "ProgressStyleModel",
     "state": {
      "_model_module": "@jupyter-widgets/controls",
      "_model_module_version": "1.5.0",
      "_model_name": "ProgressStyleModel",
      "_view_count": null,
      "_view_module": "@jupyter-widgets/base",
      "_view_module_version": "1.2.0",
      "_view_name": "StyleView",
      "bar_color": null,
      "description_width": ""
     }
    },
    "0dfab10d84d1480fb75b19b06bca482b": {
     "model_module": "@jupyter-widgets/controls",
     "model_module_version": "1.5.0",
     "model_name": "DescriptionStyleModel",
     "state": {
      "_model_module": "@jupyter-widgets/controls",
      "_model_module_version": "1.5.0",
      "_model_name": "DescriptionStyleModel",
      "_view_count": null,
      "_view_module": "@jupyter-widgets/base",
      "_view_module_version": "1.2.0",
      "_view_name": "StyleView",
      "description_width": ""
     }
    },
    "161b1d3e18c247e794ea4ac26c25ab04": {
     "model_module": "@jupyter-widgets/base",
     "model_module_version": "1.2.0",
     "model_name": "LayoutModel",
     "state": {
      "_model_module": "@jupyter-widgets/base",
      "_model_module_version": "1.2.0",
      "_model_name": "LayoutModel",
      "_view_count": null,
      "_view_module": "@jupyter-widgets/base",
      "_view_module_version": "1.2.0",
      "_view_name": "LayoutView",
      "align_content": null,
      "align_items": null,
      "align_self": null,
      "border": null,
      "bottom": null,
      "display": null,
      "flex": null,
      "flex_flow": null,
      "grid_area": null,
      "grid_auto_columns": null,
      "grid_auto_flow": null,
      "grid_auto_rows": null,
      "grid_column": null,
      "grid_gap": null,
      "grid_row": null,
      "grid_template_areas": null,
      "grid_template_columns": null,
      "grid_template_rows": null,
      "height": null,
      "justify_content": null,
      "justify_items": null,
      "left": null,
      "margin": null,
      "max_height": null,
      "max_width": null,
      "min_height": null,
      "min_width": null,
      "object_fit": null,
      "object_position": null,
      "order": null,
      "overflow": null,
      "overflow_x": null,
      "overflow_y": null,
      "padding": null,
      "right": null,
      "top": null,
      "visibility": null,
      "width": null
     }
    },
    "1a2087c3f929418082c9073e9f72e82a": {
     "model_module": "@jupyter-widgets/base",
     "model_module_version": "1.2.0",
     "model_name": "LayoutModel",
     "state": {
      "_model_module": "@jupyter-widgets/base",
      "_model_module_version": "1.2.0",
      "_model_name": "LayoutModel",
      "_view_count": null,
      "_view_module": "@jupyter-widgets/base",
      "_view_module_version": "1.2.0",
      "_view_name": "LayoutView",
      "align_content": null,
      "align_items": null,
      "align_self": null,
      "border": null,
      "bottom": null,
      "display": null,
      "flex": null,
      "flex_flow": null,
      "grid_area": null,
      "grid_auto_columns": null,
      "grid_auto_flow": null,
      "grid_auto_rows": null,
      "grid_column": null,
      "grid_gap": null,
      "grid_row": null,
      "grid_template_areas": null,
      "grid_template_columns": null,
      "grid_template_rows": null,
      "height": null,
      "justify_content": null,
      "justify_items": null,
      "left": null,
      "margin": null,
      "max_height": null,
      "max_width": null,
      "min_height": null,
      "min_width": null,
      "object_fit": null,
      "object_position": null,
      "order": null,
      "overflow": null,
      "overflow_x": null,
      "overflow_y": null,
      "padding": null,
      "right": null,
      "top": null,
      "visibility": null,
      "width": null
     }
    },
    "1a2c911043ad4f6c8e64c84ab5aff3a4": {
     "model_module": "@jupyter-widgets/controls",
     "model_module_version": "1.5.0",
     "model_name": "DescriptionStyleModel",
     "state": {
      "_model_module": "@jupyter-widgets/controls",
      "_model_module_version": "1.5.0",
      "_model_name": "DescriptionStyleModel",
      "_view_count": null,
      "_view_module": "@jupyter-widgets/base",
      "_view_module_version": "1.2.0",
      "_view_name": "StyleView",
      "description_width": ""
     }
    },
    "1bde402d10c34741b809f3edd1f8c923": {
     "model_module": "@jupyter-widgets/controls",
     "model_module_version": "1.5.0",
     "model_name": "HBoxModel",
     "state": {
      "_dom_classes": [],
      "_model_module": "@jupyter-widgets/controls",
      "_model_module_version": "1.5.0",
      "_model_name": "HBoxModel",
      "_view_count": null,
      "_view_module": "@jupyter-widgets/controls",
      "_view_module_version": "1.5.0",
      "_view_name": "HBoxView",
      "box_style": "",
      "children": [
       "IPY_MODEL_94f632d244974be6b94a38830a3ad7d1",
       "IPY_MODEL_2a6ee8489e3040d9bdcbeaf06a4f8816",
       "IPY_MODEL_69ebb6ed439d4d41aba802730c9615b3"
      ],
      "layout": "IPY_MODEL_484b3d2e721042ada442cbc5d13aa600"
     }
    },
    "20233bb85bee45d5a9221f9e108901ef": {
     "model_module": "@jupyter-widgets/base",
     "model_module_version": "1.2.0",
     "model_name": "LayoutModel",
     "state": {
      "_model_module": "@jupyter-widgets/base",
      "_model_module_version": "1.2.0",
      "_model_name": "LayoutModel",
      "_view_count": null,
      "_view_module": "@jupyter-widgets/base",
      "_view_module_version": "1.2.0",
      "_view_name": "LayoutView",
      "align_content": null,
      "align_items": null,
      "align_self": null,
      "border": null,
      "bottom": null,
      "display": null,
      "flex": null,
      "flex_flow": null,
      "grid_area": null,
      "grid_auto_columns": null,
      "grid_auto_flow": null,
      "grid_auto_rows": null,
      "grid_column": null,
      "grid_gap": null,
      "grid_row": null,
      "grid_template_areas": null,
      "grid_template_columns": null,
      "grid_template_rows": null,
      "height": null,
      "justify_content": null,
      "justify_items": null,
      "left": null,
      "margin": null,
      "max_height": null,
      "max_width": null,
      "min_height": null,
      "min_width": null,
      "object_fit": null,
      "object_position": null,
      "order": null,
      "overflow": null,
      "overflow_x": null,
      "overflow_y": null,
      "padding": null,
      "right": null,
      "top": null,
      "visibility": null,
      "width": null
     }
    },
    "2175d724d2e24b10954ef8b403b36160": {
     "model_module": "@jupyter-widgets/base",
     "model_module_version": "1.2.0",
     "model_name": "LayoutModel",
     "state": {
      "_model_module": "@jupyter-widgets/base",
      "_model_module_version": "1.2.0",
      "_model_name": "LayoutModel",
      "_view_count": null,
      "_view_module": "@jupyter-widgets/base",
      "_view_module_version": "1.2.0",
      "_view_name": "LayoutView",
      "align_content": null,
      "align_items": null,
      "align_self": null,
      "border": null,
      "bottom": null,
      "display": null,
      "flex": null,
      "flex_flow": null,
      "grid_area": null,
      "grid_auto_columns": null,
      "grid_auto_flow": null,
      "grid_auto_rows": null,
      "grid_column": null,
      "grid_gap": null,
      "grid_row": null,
      "grid_template_areas": null,
      "grid_template_columns": null,
      "grid_template_rows": null,
      "height": null,
      "justify_content": null,
      "justify_items": null,
      "left": null,
      "margin": null,
      "max_height": null,
      "max_width": null,
      "min_height": null,
      "min_width": null,
      "object_fit": null,
      "object_position": null,
      "order": null,
      "overflow": null,
      "overflow_x": null,
      "overflow_y": null,
      "padding": null,
      "right": null,
      "top": null,
      "visibility": null,
      "width": null
     }
    },
    "23bcc78d17ec42789feb79f93d591154": {
     "model_module": "@jupyter-widgets/base",
     "model_module_version": "1.2.0",
     "model_name": "LayoutModel",
     "state": {
      "_model_module": "@jupyter-widgets/base",
      "_model_module_version": "1.2.0",
      "_model_name": "LayoutModel",
      "_view_count": null,
      "_view_module": "@jupyter-widgets/base",
      "_view_module_version": "1.2.0",
      "_view_name": "LayoutView",
      "align_content": null,
      "align_items": null,
      "align_self": null,
      "border": null,
      "bottom": null,
      "display": null,
      "flex": null,
      "flex_flow": null,
      "grid_area": null,
      "grid_auto_columns": null,
      "grid_auto_flow": null,
      "grid_auto_rows": null,
      "grid_column": null,
      "grid_gap": null,
      "grid_row": null,
      "grid_template_areas": null,
      "grid_template_columns": null,
      "grid_template_rows": null,
      "height": null,
      "justify_content": null,
      "justify_items": null,
      "left": null,
      "margin": null,
      "max_height": null,
      "max_width": null,
      "min_height": null,
      "min_width": null,
      "object_fit": null,
      "object_position": null,
      "order": null,
      "overflow": null,
      "overflow_x": null,
      "overflow_y": null,
      "padding": null,
      "right": null,
      "top": null,
      "visibility": null,
      "width": null
     }
    },
    "2773f0d2a5be407fb99035aed1031423": {
     "model_module": "@jupyter-widgets/controls",
     "model_module_version": "1.5.0",
     "model_name": "HTMLModel",
     "state": {
      "_dom_classes": [],
      "_model_module": "@jupyter-widgets/controls",
      "_model_module_version": "1.5.0",
      "_model_name": "HTMLModel",
      "_view_count": null,
      "_view_module": "@jupyter-widgets/controls",
      "_view_module_version": "1.5.0",
      "_view_name": "HTMLView",
      "description": "",
      "description_tooltip": null,
      "layout": "IPY_MODEL_2175d724d2e24b10954ef8b403b36160",
      "placeholder": "​",
      "style": "IPY_MODEL_d60f2365b0fa4c56917b22087a62fb3d",
      "value": " 110k/110k [00:00&lt;00:00, 1.78MB/s]"
     }
    },
    "2871f21d85f848bd94a62479ebfe1109": {
     "model_module": "@jupyter-widgets/controls",
     "model_module_version": "1.5.0",
     "model_name": "HBoxModel",
     "state": {
      "_dom_classes": [],
      "_model_module": "@jupyter-widgets/controls",
      "_model_module_version": "1.5.0",
      "_model_name": "HBoxModel",
      "_view_count": null,
      "_view_module": "@jupyter-widgets/controls",
      "_view_module_version": "1.5.0",
      "_view_name": "HBoxView",
      "box_style": "",
      "children": [
       "IPY_MODEL_93c04ba4c6894ff48596ec35422ef974",
       "IPY_MODEL_d31642c7971c4961931833415b9d1d00",
       "IPY_MODEL_76b7d70e47f146018b7fbf2a062ac937"
      ],
      "layout": "IPY_MODEL_1a2087c3f929418082c9073e9f72e82a"
     }
    },
    "2a6ee8489e3040d9bdcbeaf06a4f8816": {
     "model_module": "@jupyter-widgets/controls",
     "model_module_version": "1.5.0",
     "model_name": "FloatProgressModel",
     "state": {
      "_dom_classes": [],
      "_model_module": "@jupyter-widgets/controls",
      "_model_module_version": "1.5.0",
      "_model_name": "FloatProgressModel",
      "_view_count": null,
      "_view_module": "@jupyter-widgets/controls",
      "_view_module_version": "1.5.0",
      "_view_name": "ProgressView",
      "bar_style": "success",
      "description": "",
      "description_tooltip": null,
      "layout": "IPY_MODEL_7ccdbf8b265b4373ac14b4f0c70e39c7",
      "max": 321,
      "min": 0,
      "orientation": "horizontal",
      "style": "IPY_MODEL_0af36ded41c8485aa8ece02feba48f7e",
      "value": 321
     }
    },
    "33663c35489a4f0dbd6a64893fcf160f": {
     "model_module": "@jupyter-widgets/controls",
     "model_module_version": "1.5.0",
     "model_name": "FloatProgressModel",
     "state": {
      "_dom_classes": [],
      "_model_module": "@jupyter-widgets/controls",
      "_model_module_version": "1.5.0",
      "_model_name": "FloatProgressModel",
      "_view_count": null,
      "_view_module": "@jupyter-widgets/controls",
      "_view_module_version": "1.5.0",
      "_view_name": "ProgressView",
      "bar_style": "success",
      "description": "",
      "description_tooltip": null,
      "layout": "IPY_MODEL_7491e0a67e20484da3a14e382c5a8efd",
      "max": 219764039,
      "min": 0,
      "orientation": "horizontal",
      "style": "IPY_MODEL_62db07d715194c14bbd5f448916d4310",
      "value": 219764039
     }
    },
    "381bf93a8b2b461c87f469e752e32390": {
     "model_module": "@jupyter-widgets/controls",
     "model_module_version": "1.5.0",
     "model_name": "HTMLModel",
     "state": {
      "_dom_classes": [],
      "_model_module": "@jupyter-widgets/controls",
      "_model_module_version": "1.5.0",
      "_model_name": "HTMLModel",
      "_view_count": null,
      "_view_module": "@jupyter-widgets/controls",
      "_view_module_version": "1.5.0",
      "_view_name": "HTMLView",
      "description": "",
      "description_tooltip": null,
      "layout": "IPY_MODEL_d111701edfdb4d28bdfc52da5226afd7",
      "placeholder": "​",
      "style": "IPY_MODEL_9291eb782442402f8f2385fec98708bf",
      "value": "Downloading (…)solve/main/vocab.txt: 100%"
     }
    },
    "3ad44bbdbe0946fdb7aeaca4fc0c6804": {
     "model_module": "@jupyter-widgets/controls",
     "model_module_version": "1.5.0",
     "model_name": "HBoxModel",
     "state": {
      "_dom_classes": [],
      "_model_module": "@jupyter-widgets/controls",
      "_model_module_version": "1.5.0",
      "_model_name": "HBoxModel",
      "_view_count": null,
      "_view_module": "@jupyter-widgets/controls",
      "_view_module_version": "1.5.0",
      "_view_name": "HBoxView",
      "box_style": "",
      "children": [
       "IPY_MODEL_7b5af34dc0c4479c854e6fb965b8064b",
       "IPY_MODEL_b55cc33cb9d0433d9a2663cdd1474245",
       "IPY_MODEL_dfd6491157884ceb8d821d1d9e97cb7e"
      ],
      "layout": "IPY_MODEL_23bcc78d17ec42789feb79f93d591154"
     }
    },
    "3b1651f452a0498a9cce0bd0f3341b7b": {
     "model_module": "@jupyter-widgets/base",
     "model_module_version": "1.2.0",
     "model_name": "LayoutModel",
     "state": {
      "_model_module": "@jupyter-widgets/base",
      "_model_module_version": "1.2.0",
      "_model_name": "LayoutModel",
      "_view_count": null,
      "_view_module": "@jupyter-widgets/base",
      "_view_module_version": "1.2.0",
      "_view_name": "LayoutView",
      "align_content": null,
      "align_items": null,
      "align_self": null,
      "border": null,
      "bottom": null,
      "display": null,
      "flex": null,
      "flex_flow": null,
      "grid_area": null,
      "grid_auto_columns": null,
      "grid_auto_flow": null,
      "grid_auto_rows": null,
      "grid_column": null,
      "grid_gap": null,
      "grid_row": null,
      "grid_template_areas": null,
      "grid_template_columns": null,
      "grid_template_rows": null,
      "height": null,
      "justify_content": null,
      "justify_items": null,
      "left": null,
      "margin": null,
      "max_height": null,
      "max_width": null,
      "min_height": null,
      "min_width": null,
      "object_fit": null,
      "object_position": null,
      "order": null,
      "overflow": null,
      "overflow_x": null,
      "overflow_y": null,
      "padding": null,
      "right": null,
      "top": null,
      "visibility": null,
      "width": null
     }
    },
    "483d6b65a4a7459596123d00ae68a312": {
     "model_module": "@jupyter-widgets/controls",
     "model_module_version": "1.5.0",
     "model_name": "ProgressStyleModel",
     "state": {
      "_model_module": "@jupyter-widgets/controls",
      "_model_module_version": "1.5.0",
      "_model_name": "ProgressStyleModel",
      "_view_count": null,
      "_view_module": "@jupyter-widgets/base",
      "_view_module_version": "1.2.0",
      "_view_name": "StyleView",
      "bar_color": null,
      "description_width": ""
     }
    },
    "484b3d2e721042ada442cbc5d13aa600": {
     "model_module": "@jupyter-widgets/base",
     "model_module_version": "1.2.0",
     "model_name": "LayoutModel",
     "state": {
      "_model_module": "@jupyter-widgets/base",
      "_model_module_version": "1.2.0",
      "_model_name": "LayoutModel",
      "_view_count": null,
      "_view_module": "@jupyter-widgets/base",
      "_view_module_version": "1.2.0",
      "_view_name": "LayoutView",
      "align_content": null,
      "align_items": null,
      "align_self": null,
      "border": null,
      "bottom": null,
      "display": null,
      "flex": null,
      "flex_flow": null,
      "grid_area": null,
      "grid_auto_columns": null,
      "grid_auto_flow": null,
      "grid_auto_rows": null,
      "grid_column": null,
      "grid_gap": null,
      "grid_row": null,
      "grid_template_areas": null,
      "grid_template_columns": null,
      "grid_template_rows": null,
      "height": null,
      "justify_content": null,
      "justify_items": null,
      "left": null,
      "margin": null,
      "max_height": null,
      "max_width": null,
      "min_height": null,
      "min_width": null,
      "object_fit": null,
      "object_position": null,
      "order": null,
      "overflow": null,
      "overflow_x": null,
      "overflow_y": null,
      "padding": null,
      "right": null,
      "top": null,
      "visibility": null,
      "width": null
     }
    },
    "4bf7b354cf9f4911a12af484750c6f44": {
     "model_module": "@jupyter-widgets/controls",
     "model_module_version": "1.5.0",
     "model_name": "FloatProgressModel",
     "state": {
      "_dom_classes": [],
      "_model_module": "@jupyter-widgets/controls",
      "_model_module_version": "1.5.0",
      "_model_name": "FloatProgressModel",
      "_view_count": null,
      "_view_module": "@jupyter-widgets/controls",
      "_view_module_version": "1.5.0",
      "_view_name": "ProgressView",
      "bar_style": "success",
      "description": "",
      "description_tooltip": null,
      "layout": "IPY_MODEL_8174cd0f028646549fb0b04fa5bb6053",
      "max": 110330,
      "min": 0,
      "orientation": "horizontal",
      "style": "IPY_MODEL_88c6106e40b74f70873553d2bafd33c2",
      "value": 110330
     }
    },
    "5cd88e93e9de4e25891ee0de62d45f11": {
     "model_module": "@jupyter-widgets/controls",
     "model_module_version": "1.5.0",
     "model_name": "HTMLModel",
     "state": {
      "_dom_classes": [],
      "_model_module": "@jupyter-widgets/controls",
      "_model_module_version": "1.5.0",
      "_model_name": "HTMLModel",
      "_view_count": null,
      "_view_module": "@jupyter-widgets/controls",
      "_view_module_version": "1.5.0",
      "_view_name": "HTMLView",
      "description": "",
      "description_tooltip": null,
      "layout": "IPY_MODEL_63d2f691d42048b0b404e962ccf71d62",
      "placeholder": "​",
      "style": "IPY_MODEL_ef53af3b5f814750b1230115136bf591",
      "value": " 220M/220M [00:02&lt;00:00, 85.3MB/s]"
     }
    },
    "5ded359c837045659d74d7add4a06703": {
     "model_module": "@jupyter-widgets/controls",
     "model_module_version": "1.5.0",
     "model_name": "HBoxModel",
     "state": {
      "_dom_classes": [],
      "_model_module": "@jupyter-widgets/controls",
      "_model_module_version": "1.5.0",
      "_model_name": "HBoxModel",
      "_view_count": null,
      "_view_module": "@jupyter-widgets/controls",
      "_view_module_version": "1.5.0",
      "_view_name": "HBoxView",
      "box_style": "",
      "children": [
       "IPY_MODEL_381bf93a8b2b461c87f469e752e32390",
       "IPY_MODEL_4bf7b354cf9f4911a12af484750c6f44",
       "IPY_MODEL_2773f0d2a5be407fb99035aed1031423"
      ],
      "layout": "IPY_MODEL_161b1d3e18c247e794ea4ac26c25ab04"
     }
    },
    "62db07d715194c14bbd5f448916d4310": {
     "model_module": "@jupyter-widgets/controls",
     "model_module_version": "1.5.0",
     "model_name": "ProgressStyleModel",
     "state": {
      "_model_module": "@jupyter-widgets/controls",
      "_model_module_version": "1.5.0",
      "_model_name": "ProgressStyleModel",
      "_view_count": null,
      "_view_module": "@jupyter-widgets/base",
      "_view_module_version": "1.2.0",
      "_view_name": "StyleView",
      "bar_color": null,
      "description_width": ""
     }
    },
    "63d2f691d42048b0b404e962ccf71d62": {
     "model_module": "@jupyter-widgets/base",
     "model_module_version": "1.2.0",
     "model_name": "LayoutModel",
     "state": {
      "_model_module": "@jupyter-widgets/base",
      "_model_module_version": "1.2.0",
      "_model_name": "LayoutModel",
      "_view_count": null,
      "_view_module": "@jupyter-widgets/base",
      "_view_module_version": "1.2.0",
      "_view_name": "LayoutView",
      "align_content": null,
      "align_items": null,
      "align_self": null,
      "border": null,
      "bottom": null,
      "display": null,
      "flex": null,
      "flex_flow": null,
      "grid_area": null,
      "grid_auto_columns": null,
      "grid_auto_flow": null,
      "grid_auto_rows": null,
      "grid_column": null,
      "grid_gap": null,
      "grid_row": null,
      "grid_template_areas": null,
      "grid_template_columns": null,
      "grid_template_rows": null,
      "height": null,
      "justify_content": null,
      "justify_items": null,
      "left": null,
      "margin": null,
      "max_height": null,
      "max_width": null,
      "min_height": null,
      "min_width": null,
      "object_fit": null,
      "object_position": null,
      "order": null,
      "overflow": null,
      "overflow_x": null,
      "overflow_y": null,
      "padding": null,
      "right": null,
      "top": null,
      "visibility": null,
      "width": null
     }
    },
    "69ebb6ed439d4d41aba802730c9615b3": {
     "model_module": "@jupyter-widgets/controls",
     "model_module_version": "1.5.0",
     "model_name": "HTMLModel",
     "state": {
      "_dom_classes": [],
      "_model_module": "@jupyter-widgets/controls",
      "_model_module_version": "1.5.0",
      "_model_name": "HTMLModel",
      "_view_count": null,
      "_view_module": "@jupyter-widgets/controls",
      "_view_module_version": "1.5.0",
      "_view_name": "HTMLView",
      "description": "",
      "description_tooltip": null,
      "layout": "IPY_MODEL_ecf6ac4e6b3949f0baa908a9c239b33c",
      "placeholder": "​",
      "style": "IPY_MODEL_1a2c911043ad4f6c8e64c84ab5aff3a4",
      "value": " 321/321 [00:00&lt;00:00, 16.5kB/s]"
     }
    },
    "6e786c10a1d845a583db8d0db126b23f": {
     "model_module": "@jupyter-widgets/controls",
     "model_module_version": "1.5.0",
     "model_name": "DescriptionStyleModel",
     "state": {
      "_model_module": "@jupyter-widgets/controls",
      "_model_module_version": "1.5.0",
      "_model_name": "DescriptionStyleModel",
      "_view_count": null,
      "_view_module": "@jupyter-widgets/base",
      "_view_module_version": "1.2.0",
      "_view_name": "StyleView",
      "description_width": ""
     }
    },
    "71bd44f83dbe4a389c9cc42525c9f95d": {
     "model_module": "@jupyter-widgets/controls",
     "model_module_version": "1.5.0",
     "model_name": "DescriptionStyleModel",
     "state": {
      "_model_module": "@jupyter-widgets/controls",
      "_model_module_version": "1.5.0",
      "_model_name": "DescriptionStyleModel",
      "_view_count": null,
      "_view_module": "@jupyter-widgets/base",
      "_view_module_version": "1.2.0",
      "_view_name": "StyleView",
      "description_width": ""
     }
    },
    "7350375b1b97475990e3bddbb28a78fc": {
     "model_module": "@jupyter-widgets/controls",
     "model_module_version": "1.5.0",
     "model_name": "DescriptionStyleModel",
     "state": {
      "_model_module": "@jupyter-widgets/controls",
      "_model_module_version": "1.5.0",
      "_model_name": "DescriptionStyleModel",
      "_view_count": null,
      "_view_module": "@jupyter-widgets/base",
      "_view_module_version": "1.2.0",
      "_view_name": "StyleView",
      "description_width": ""
     }
    },
    "7491e0a67e20484da3a14e382c5a8efd": {
     "model_module": "@jupyter-widgets/base",
     "model_module_version": "1.2.0",
     "model_name": "LayoutModel",
     "state": {
      "_model_module": "@jupyter-widgets/base",
      "_model_module_version": "1.2.0",
      "_model_name": "LayoutModel",
      "_view_count": null,
      "_view_module": "@jupyter-widgets/base",
      "_view_module_version": "1.2.0",
      "_view_name": "LayoutView",
      "align_content": null,
      "align_items": null,
      "align_self": null,
      "border": null,
      "bottom": null,
      "display": null,
      "flex": null,
      "flex_flow": null,
      "grid_area": null,
      "grid_auto_columns": null,
      "grid_auto_flow": null,
      "grid_auto_rows": null,
      "grid_column": null,
      "grid_gap": null,
      "grid_row": null,
      "grid_template_areas": null,
      "grid_template_columns": null,
      "grid_template_rows": null,
      "height": null,
      "justify_content": null,
      "justify_items": null,
      "left": null,
      "margin": null,
      "max_height": null,
      "max_width": null,
      "min_height": null,
      "min_width": null,
      "object_fit": null,
      "object_position": null,
      "order": null,
      "overflow": null,
      "overflow_x": null,
      "overflow_y": null,
      "padding": null,
      "right": null,
      "top": null,
      "visibility": null,
      "width": null
     }
    },
    "76b7d70e47f146018b7fbf2a062ac937": {
     "model_module": "@jupyter-widgets/controls",
     "model_module_version": "1.5.0",
     "model_name": "HTMLModel",
     "state": {
      "_dom_classes": [],
      "_model_module": "@jupyter-widgets/controls",
      "_model_module_version": "1.5.0",
      "_model_name": "HTMLModel",
      "_view_count": null,
      "_view_module": "@jupyter-widgets/controls",
      "_view_module_version": "1.5.0",
      "_view_name": "HTMLView",
      "description": "",
      "description_tooltip": null,
      "layout": "IPY_MODEL_3b1651f452a0498a9cce0bd0f3341b7b",
      "placeholder": "​",
      "style": "IPY_MODEL_6e786c10a1d845a583db8d0db126b23f",
      "value": " 458/458 [00:00&lt;00:00, 18.7kB/s]"
     }
    },
    "7b5af34dc0c4479c854e6fb965b8064b": {
     "model_module": "@jupyter-widgets/controls",
     "model_module_version": "1.5.0",
     "model_name": "HTMLModel",
     "state": {
      "_dom_classes": [],
      "_model_module": "@jupyter-widgets/controls",
      "_model_module_version": "1.5.0",
      "_model_name": "HTMLModel",
      "_view_count": null,
      "_view_module": "@jupyter-widgets/controls",
      "_view_module_version": "1.5.0",
      "_view_name": "HTMLView",
      "description": "",
      "description_tooltip": null,
      "layout": "IPY_MODEL_b2ffd6d51741412cb312565e2e760e40",
      "placeholder": "​",
      "style": "IPY_MODEL_d4dcd9e6ced245448d55d86c436f118f",
      "value": "Downloading (…)cial_tokens_map.json: 100%"
     }
    },
    "7c755490079442c3ace9a5c93f9b49c7": {
     "model_module": "@jupyter-widgets/base",
     "model_module_version": "1.2.0",
     "model_name": "LayoutModel",
     "state": {
      "_model_module": "@jupyter-widgets/base",
      "_model_module_version": "1.2.0",
      "_model_name": "LayoutModel",
      "_view_count": null,
      "_view_module": "@jupyter-widgets/base",
      "_view_module_version": "1.2.0",
      "_view_name": "LayoutView",
      "align_content": null,
      "align_items": null,
      "align_self": null,
      "border": null,
      "bottom": null,
      "display": null,
      "flex": null,
      "flex_flow": null,
      "grid_area": null,
      "grid_auto_columns": null,
      "grid_auto_flow": null,
      "grid_auto_rows": null,
      "grid_column": null,
      "grid_gap": null,
      "grid_row": null,
      "grid_template_areas": null,
      "grid_template_columns": null,
      "grid_template_rows": null,
      "height": null,
      "justify_content": null,
      "justify_items": null,
      "left": null,
      "margin": null,
      "max_height": null,
      "max_width": null,
      "min_height": null,
      "min_width": null,
      "object_fit": null,
      "object_position": null,
      "order": null,
      "overflow": null,
      "overflow_x": null,
      "overflow_y": null,
      "padding": null,
      "right": null,
      "top": null,
      "visibility": null,
      "width": null
     }
    },
    "7ccdbf8b265b4373ac14b4f0c70e39c7": {
     "model_module": "@jupyter-widgets/base",
     "model_module_version": "1.2.0",
     "model_name": "LayoutModel",
     "state": {
      "_model_module": "@jupyter-widgets/base",
      "_model_module_version": "1.2.0",
      "_model_name": "LayoutModel",
      "_view_count": null,
      "_view_module": "@jupyter-widgets/base",
      "_view_module_version": "1.2.0",
      "_view_name": "LayoutView",
      "align_content": null,
      "align_items": null,
      "align_self": null,
      "border": null,
      "bottom": null,
      "display": null,
      "flex": null,
      "flex_flow": null,
      "grid_area": null,
      "grid_auto_columns": null,
      "grid_auto_flow": null,
      "grid_auto_rows": null,
      "grid_column": null,
      "grid_gap": null,
      "grid_row": null,
      "grid_template_areas": null,
      "grid_template_columns": null,
      "grid_template_rows": null,
      "height": null,
      "justify_content": null,
      "justify_items": null,
      "left": null,
      "margin": null,
      "max_height": null,
      "max_width": null,
      "min_height": null,
      "min_width": null,
      "object_fit": null,
      "object_position": null,
      "order": null,
      "overflow": null,
      "overflow_x": null,
      "overflow_y": null,
      "padding": null,
      "right": null,
      "top": null,
      "visibility": null,
      "width": null
     }
    },
    "8143ded13b00481593d7281d2866b123": {
     "model_module": "@jupyter-widgets/controls",
     "model_module_version": "1.5.0",
     "model_name": "DescriptionStyleModel",
     "state": {
      "_model_module": "@jupyter-widgets/controls",
      "_model_module_version": "1.5.0",
      "_model_name": "DescriptionStyleModel",
      "_view_count": null,
      "_view_module": "@jupyter-widgets/base",
      "_view_module_version": "1.2.0",
      "_view_name": "StyleView",
      "description_width": ""
     }
    },
    "8174cd0f028646549fb0b04fa5bb6053": {
     "model_module": "@jupyter-widgets/base",
     "model_module_version": "1.2.0",
     "model_name": "LayoutModel",
     "state": {
      "_model_module": "@jupyter-widgets/base",
      "_model_module_version": "1.2.0",
      "_model_name": "LayoutModel",
      "_view_count": null,
      "_view_module": "@jupyter-widgets/base",
      "_view_module_version": "1.2.0",
      "_view_name": "LayoutView",
      "align_content": null,
      "align_items": null,
      "align_self": null,
      "border": null,
      "bottom": null,
      "display": null,
      "flex": null,
      "flex_flow": null,
      "grid_area": null,
      "grid_auto_columns": null,
      "grid_auto_flow": null,
      "grid_auto_rows": null,
      "grid_column": null,
      "grid_gap": null,
      "grid_row": null,
      "grid_template_areas": null,
      "grid_template_columns": null,
      "grid_template_rows": null,
      "height": null,
      "justify_content": null,
      "justify_items": null,
      "left": null,
      "margin": null,
      "max_height": null,
      "max_width": null,
      "min_height": null,
      "min_width": null,
      "object_fit": null,
      "object_position": null,
      "order": null,
      "overflow": null,
      "overflow_x": null,
      "overflow_y": null,
      "padding": null,
      "right": null,
      "top": null,
      "visibility": null,
      "width": null
     }
    },
    "88c6106e40b74f70873553d2bafd33c2": {
     "model_module": "@jupyter-widgets/controls",
     "model_module_version": "1.5.0",
     "model_name": "ProgressStyleModel",
     "state": {
      "_model_module": "@jupyter-widgets/controls",
      "_model_module_version": "1.5.0",
      "_model_name": "ProgressStyleModel",
      "_view_count": null,
      "_view_module": "@jupyter-widgets/base",
      "_view_module_version": "1.2.0",
      "_view_name": "StyleView",
      "bar_color": null,
      "description_width": ""
     }
    },
    "9291eb782442402f8f2385fec98708bf": {
     "model_module": "@jupyter-widgets/controls",
     "model_module_version": "1.5.0",
     "model_name": "DescriptionStyleModel",
     "state": {
      "_model_module": "@jupyter-widgets/controls",
      "_model_module_version": "1.5.0",
      "_model_name": "DescriptionStyleModel",
      "_view_count": null,
      "_view_module": "@jupyter-widgets/base",
      "_view_module_version": "1.2.0",
      "_view_name": "StyleView",
      "description_width": ""
     }
    },
    "93c04ba4c6894ff48596ec35422ef974": {
     "model_module": "@jupyter-widgets/controls",
     "model_module_version": "1.5.0",
     "model_name": "HTMLModel",
     "state": {
      "_dom_classes": [],
      "_model_module": "@jupyter-widgets/controls",
      "_model_module_version": "1.5.0",
      "_model_name": "HTMLModel",
      "_view_count": null,
      "_view_module": "@jupyter-widgets/controls",
      "_view_module_version": "1.5.0",
      "_view_name": "HTMLView",
      "description": "",
      "description_tooltip": null,
      "layout": "IPY_MODEL_a8b5207de9be4e218b5e11080188247e",
      "placeholder": "​",
      "style": "IPY_MODEL_0dfab10d84d1480fb75b19b06bca482b",
      "value": "Downloading (…)lve/main/config.json: 100%"
     }
    },
    "94b1647a64de4e6eb1067d5673e61c11": {
     "model_module": "@jupyter-widgets/controls",
     "model_module_version": "1.5.0",
     "model_name": "HTMLModel",
     "state": {
      "_dom_classes": [],
      "_model_module": "@jupyter-widgets/controls",
      "_model_module_version": "1.5.0",
      "_model_name": "HTMLModel",
      "_view_count": null,
      "_view_module": "@jupyter-widgets/controls",
      "_view_module_version": "1.5.0",
      "_view_name": "HTMLView",
      "description": "",
      "description_tooltip": null,
      "layout": "IPY_MODEL_a00f77ef588c4ecc871fa887722b128a",
      "placeholder": "​",
      "style": "IPY_MODEL_71bd44f83dbe4a389c9cc42525c9f95d",
      "value": "Downloading pytorch_model.bin: 100%"
     }
    },
    "94f632d244974be6b94a38830a3ad7d1": {
     "model_module": "@jupyter-widgets/controls",
     "model_module_version": "1.5.0",
     "model_name": "HTMLModel",
     "state": {
      "_dom_classes": [],
      "_model_module": "@jupyter-widgets/controls",
      "_model_module_version": "1.5.0",
      "_model_name": "HTMLModel",
      "_view_count": null,
      "_view_module": "@jupyter-widgets/controls",
      "_view_module_version": "1.5.0",
      "_view_name": "HTMLView",
      "description": "",
      "description_tooltip": null,
      "layout": "IPY_MODEL_20233bb85bee45d5a9221f9e108901ef",
      "placeholder": "​",
      "style": "IPY_MODEL_8143ded13b00481593d7281d2866b123",
      "value": "Downloading (…)okenizer_config.json: 100%"
     }
    },
    "a00f77ef588c4ecc871fa887722b128a": {
     "model_module": "@jupyter-widgets/base",
     "model_module_version": "1.2.0",
     "model_name": "LayoutModel",
     "state": {
      "_model_module": "@jupyter-widgets/base",
      "_model_module_version": "1.2.0",
      "_model_name": "LayoutModel",
      "_view_count": null,
      "_view_module": "@jupyter-widgets/base",
      "_view_module_version": "1.2.0",
      "_view_name": "LayoutView",
      "align_content": null,
      "align_items": null,
      "align_self": null,
      "border": null,
      "bottom": null,
      "display": null,
      "flex": null,
      "flex_flow": null,
      "grid_area": null,
      "grid_auto_columns": null,
      "grid_auto_flow": null,
      "grid_auto_rows": null,
      "grid_column": null,
      "grid_gap": null,
      "grid_row": null,
      "grid_template_areas": null,
      "grid_template_columns": null,
      "grid_template_rows": null,
      "height": null,
      "justify_content": null,
      "justify_items": null,
      "left": null,
      "margin": null,
      "max_height": null,
      "max_width": null,
      "min_height": null,
      "min_width": null,
      "object_fit": null,
      "object_position": null,
      "order": null,
      "overflow": null,
      "overflow_x": null,
      "overflow_y": null,
      "padding": null,
      "right": null,
      "top": null,
      "visibility": null,
      "width": null
     }
    },
    "a8b5207de9be4e218b5e11080188247e": {
     "model_module": "@jupyter-widgets/base",
     "model_module_version": "1.2.0",
     "model_name": "LayoutModel",
     "state": {
      "_model_module": "@jupyter-widgets/base",
      "_model_module_version": "1.2.0",
      "_model_name": "LayoutModel",
      "_view_count": null,
      "_view_module": "@jupyter-widgets/base",
      "_view_module_version": "1.2.0",
      "_view_name": "LayoutView",
      "align_content": null,
      "align_items": null,
      "align_self": null,
      "border": null,
      "bottom": null,
      "display": null,
      "flex": null,
      "flex_flow": null,
      "grid_area": null,
      "grid_auto_columns": null,
      "grid_auto_flow": null,
      "grid_auto_rows": null,
      "grid_column": null,
      "grid_gap": null,
      "grid_row": null,
      "grid_template_areas": null,
      "grid_template_columns": null,
      "grid_template_rows": null,
      "height": null,
      "justify_content": null,
      "justify_items": null,
      "left": null,
      "margin": null,
      "max_height": null,
      "max_width": null,
      "min_height": null,
      "min_width": null,
      "object_fit": null,
      "object_position": null,
      "order": null,
      "overflow": null,
      "overflow_x": null,
      "overflow_y": null,
      "padding": null,
      "right": null,
      "top": null,
      "visibility": null,
      "width": null
     }
    },
    "b2ffd6d51741412cb312565e2e760e40": {
     "model_module": "@jupyter-widgets/base",
     "model_module_version": "1.2.0",
     "model_name": "LayoutModel",
     "state": {
      "_model_module": "@jupyter-widgets/base",
      "_model_module_version": "1.2.0",
      "_model_name": "LayoutModel",
      "_view_count": null,
      "_view_module": "@jupyter-widgets/base",
      "_view_module_version": "1.2.0",
      "_view_name": "LayoutView",
      "align_content": null,
      "align_items": null,
      "align_self": null,
      "border": null,
      "bottom": null,
      "display": null,
      "flex": null,
      "flex_flow": null,
      "grid_area": null,
      "grid_auto_columns": null,
      "grid_auto_flow": null,
      "grid_auto_rows": null,
      "grid_column": null,
      "grid_gap": null,
      "grid_row": null,
      "grid_template_areas": null,
      "grid_template_columns": null,
      "grid_template_rows": null,
      "height": null,
      "justify_content": null,
      "justify_items": null,
      "left": null,
      "margin": null,
      "max_height": null,
      "max_width": null,
      "min_height": null,
      "min_width": null,
      "object_fit": null,
      "object_position": null,
      "order": null,
      "overflow": null,
      "overflow_x": null,
      "overflow_y": null,
      "padding": null,
      "right": null,
      "top": null,
      "visibility": null,
      "width": null
     }
    },
    "b55cc33cb9d0433d9a2663cdd1474245": {
     "model_module": "@jupyter-widgets/controls",
     "model_module_version": "1.5.0",
     "model_name": "FloatProgressModel",
     "state": {
      "_dom_classes": [],
      "_model_module": "@jupyter-widgets/controls",
      "_model_module_version": "1.5.0",
      "_model_name": "FloatProgressModel",
      "_view_count": null,
      "_view_module": "@jupyter-widgets/controls",
      "_view_module_version": "1.5.0",
      "_view_name": "ProgressView",
      "bar_style": "success",
      "description": "",
      "description_tooltip": null,
      "layout": "IPY_MODEL_e9e497dd0fa1448c9fe01f8bde96fa63",
      "max": 112,
      "min": 0,
      "orientation": "horizontal",
      "style": "IPY_MODEL_e664a3c8a4ab44a984d8077e6445ea43",
      "value": 112
     }
    },
    "c1c418511e624b84a902de12cddfa434": {
     "model_module": "@jupyter-widgets/base",
     "model_module_version": "1.2.0",
     "model_name": "LayoutModel",
     "state": {
      "_model_module": "@jupyter-widgets/base",
      "_model_module_version": "1.2.0",
      "_model_name": "LayoutModel",
      "_view_count": null,
      "_view_module": "@jupyter-widgets/base",
      "_view_module_version": "1.2.0",
      "_view_name": "LayoutView",
      "align_content": null,
      "align_items": null,
      "align_self": null,
      "border": null,
      "bottom": null,
      "display": null,
      "flex": null,
      "flex_flow": null,
      "grid_area": null,
      "grid_auto_columns": null,
      "grid_auto_flow": null,
      "grid_auto_rows": null,
      "grid_column": null,
      "grid_gap": null,
      "grid_row": null,
      "grid_template_areas": null,
      "grid_template_columns": null,
      "grid_template_rows": null,
      "height": null,
      "justify_content": null,
      "justify_items": null,
      "left": null,
      "margin": null,
      "max_height": null,
      "max_width": null,
      "min_height": null,
      "min_width": null,
      "object_fit": null,
      "object_position": null,
      "order": null,
      "overflow": null,
      "overflow_x": null,
      "overflow_y": null,
      "padding": null,
      "right": null,
      "top": null,
      "visibility": null,
      "width": null
     }
    },
    "d111701edfdb4d28bdfc52da5226afd7": {
     "model_module": "@jupyter-widgets/base",
     "model_module_version": "1.2.0",
     "model_name": "LayoutModel",
     "state": {
      "_model_module": "@jupyter-widgets/base",
      "_model_module_version": "1.2.0",
      "_model_name": "LayoutModel",
      "_view_count": null,
      "_view_module": "@jupyter-widgets/base",
      "_view_module_version": "1.2.0",
      "_view_name": "LayoutView",
      "align_content": null,
      "align_items": null,
      "align_self": null,
      "border": null,
      "bottom": null,
      "display": null,
      "flex": null,
      "flex_flow": null,
      "grid_area": null,
      "grid_auto_columns": null,
      "grid_auto_flow": null,
      "grid_auto_rows": null,
      "grid_column": null,
      "grid_gap": null,
      "grid_row": null,
      "grid_template_areas": null,
      "grid_template_columns": null,
      "grid_template_rows": null,
      "height": null,
      "justify_content": null,
      "justify_items": null,
      "left": null,
      "margin": null,
      "max_height": null,
      "max_width": null,
      "min_height": null,
      "min_width": null,
      "object_fit": null,
      "object_position": null,
      "order": null,
      "overflow": null,
      "overflow_x": null,
      "overflow_y": null,
      "padding": null,
      "right": null,
      "top": null,
      "visibility": null,
      "width": null
     }
    },
    "d31642c7971c4961931833415b9d1d00": {
     "model_module": "@jupyter-widgets/controls",
     "model_module_version": "1.5.0",
     "model_name": "FloatProgressModel",
     "state": {
      "_dom_classes": [],
      "_model_module": "@jupyter-widgets/controls",
      "_model_module_version": "1.5.0",
      "_model_name": "FloatProgressModel",
      "_view_count": null,
      "_view_module": "@jupyter-widgets/controls",
      "_view_module_version": "1.5.0",
      "_view_name": "ProgressView",
      "bar_style": "success",
      "description": "",
      "description_tooltip": null,
      "layout": "IPY_MODEL_c1c418511e624b84a902de12cddfa434",
      "max": 458,
      "min": 0,
      "orientation": "horizontal",
      "style": "IPY_MODEL_483d6b65a4a7459596123d00ae68a312",
      "value": 458
     }
    },
    "d3875856be0f4588aba61a3e57bc3629": {
     "model_module": "@jupyter-widgets/base",
     "model_module_version": "1.2.0",
     "model_name": "LayoutModel",
     "state": {
      "_model_module": "@jupyter-widgets/base",
      "_model_module_version": "1.2.0",
      "_model_name": "LayoutModel",
      "_view_count": null,
      "_view_module": "@jupyter-widgets/base",
      "_view_module_version": "1.2.0",
      "_view_name": "LayoutView",
      "align_content": null,
      "align_items": null,
      "align_self": null,
      "border": null,
      "bottom": null,
      "display": null,
      "flex": null,
      "flex_flow": null,
      "grid_area": null,
      "grid_auto_columns": null,
      "grid_auto_flow": null,
      "grid_auto_rows": null,
      "grid_column": null,
      "grid_gap": null,
      "grid_row": null,
      "grid_template_areas": null,
      "grid_template_columns": null,
      "grid_template_rows": null,
      "height": null,
      "justify_content": null,
      "justify_items": null,
      "left": null,
      "margin": null,
      "max_height": null,
      "max_width": null,
      "min_height": null,
      "min_width": null,
      "object_fit": null,
      "object_position": null,
      "order": null,
      "overflow": null,
      "overflow_x": null,
      "overflow_y": null,
      "padding": null,
      "right": null,
      "top": null,
      "visibility": null,
      "width": null
     }
    },
    "d4dcd9e6ced245448d55d86c436f118f": {
     "model_module": "@jupyter-widgets/controls",
     "model_module_version": "1.5.0",
     "model_name": "DescriptionStyleModel",
     "state": {
      "_model_module": "@jupyter-widgets/controls",
      "_model_module_version": "1.5.0",
      "_model_name": "DescriptionStyleModel",
      "_view_count": null,
      "_view_module": "@jupyter-widgets/base",
      "_view_module_version": "1.2.0",
      "_view_name": "StyleView",
      "description_width": ""
     }
    },
    "d60f2365b0fa4c56917b22087a62fb3d": {
     "model_module": "@jupyter-widgets/controls",
     "model_module_version": "1.5.0",
     "model_name": "DescriptionStyleModel",
     "state": {
      "_model_module": "@jupyter-widgets/controls",
      "_model_module_version": "1.5.0",
      "_model_name": "DescriptionStyleModel",
      "_view_count": null,
      "_view_module": "@jupyter-widgets/base",
      "_view_module_version": "1.2.0",
      "_view_name": "StyleView",
      "description_width": ""
     }
    },
    "dfd6491157884ceb8d821d1d9e97cb7e": {
     "model_module": "@jupyter-widgets/controls",
     "model_module_version": "1.5.0",
     "model_name": "HTMLModel",
     "state": {
      "_dom_classes": [],
      "_model_module": "@jupyter-widgets/controls",
      "_model_module_version": "1.5.0",
      "_model_name": "HTMLModel",
      "_view_count": null,
      "_view_module": "@jupyter-widgets/controls",
      "_view_module_version": "1.5.0",
      "_view_name": "HTMLView",
      "description": "",
      "description_tooltip": null,
      "layout": "IPY_MODEL_7c755490079442c3ace9a5c93f9b49c7",
      "placeholder": "​",
      "style": "IPY_MODEL_7350375b1b97475990e3bddbb28a78fc",
      "value": " 112/112 [00:00&lt;00:00, 3.40kB/s]"
     }
    },
    "e664a3c8a4ab44a984d8077e6445ea43": {
     "model_module": "@jupyter-widgets/controls",
     "model_module_version": "1.5.0",
     "model_name": "ProgressStyleModel",
     "state": {
      "_model_module": "@jupyter-widgets/controls",
      "_model_module_version": "1.5.0",
      "_model_name": "ProgressStyleModel",
      "_view_count": null,
      "_view_module": "@jupyter-widgets/base",
      "_view_module_version": "1.2.0",
      "_view_name": "StyleView",
      "bar_color": null,
      "description_width": ""
     }
    },
    "e9e497dd0fa1448c9fe01f8bde96fa63": {
     "model_module": "@jupyter-widgets/base",
     "model_module_version": "1.2.0",
     "model_name": "LayoutModel",
     "state": {
      "_model_module": "@jupyter-widgets/base",
      "_model_module_version": "1.2.0",
      "_model_name": "LayoutModel",
      "_view_count": null,
      "_view_module": "@jupyter-widgets/base",
      "_view_module_version": "1.2.0",
      "_view_name": "LayoutView",
      "align_content": null,
      "align_items": null,
      "align_self": null,
      "border": null,
      "bottom": null,
      "display": null,
      "flex": null,
      "flex_flow": null,
      "grid_area": null,
      "grid_auto_columns": null,
      "grid_auto_flow": null,
      "grid_auto_rows": null,
      "grid_column": null,
      "grid_gap": null,
      "grid_row": null,
      "grid_template_areas": null,
      "grid_template_columns": null,
      "grid_template_rows": null,
      "height": null,
      "justify_content": null,
      "justify_items": null,
      "left": null,
      "margin": null,
      "max_height": null,
      "max_width": null,
      "min_height": null,
      "min_width": null,
      "object_fit": null,
      "object_position": null,
      "order": null,
      "overflow": null,
      "overflow_x": null,
      "overflow_y": null,
      "padding": null,
      "right": null,
      "top": null,
      "visibility": null,
      "width": null
     }
    },
    "ecf6ac4e6b3949f0baa908a9c239b33c": {
     "model_module": "@jupyter-widgets/base",
     "model_module_version": "1.2.0",
     "model_name": "LayoutModel",
     "state": {
      "_model_module": "@jupyter-widgets/base",
      "_model_module_version": "1.2.0",
      "_model_name": "LayoutModel",
      "_view_count": null,
      "_view_module": "@jupyter-widgets/base",
      "_view_module_version": "1.2.0",
      "_view_name": "LayoutView",
      "align_content": null,
      "align_items": null,
      "align_self": null,
      "border": null,
      "bottom": null,
      "display": null,
      "flex": null,
      "flex_flow": null,
      "grid_area": null,
      "grid_auto_columns": null,
      "grid_auto_flow": null,
      "grid_auto_rows": null,
      "grid_column": null,
      "grid_gap": null,
      "grid_row": null,
      "grid_template_areas": null,
      "grid_template_columns": null,
      "grid_template_rows": null,
      "height": null,
      "justify_content": null,
      "justify_items": null,
      "left": null,
      "margin": null,
      "max_height": null,
      "max_width": null,
      "min_height": null,
      "min_width": null,
      "object_fit": null,
      "object_position": null,
      "order": null,
      "overflow": null,
      "overflow_x": null,
      "overflow_y": null,
      "padding": null,
      "right": null,
      "top": null,
      "visibility": null,
      "width": null
     }
    },
    "ef53af3b5f814750b1230115136bf591": {
     "model_module": "@jupyter-widgets/controls",
     "model_module_version": "1.5.0",
     "model_name": "DescriptionStyleModel",
     "state": {
      "_model_module": "@jupyter-widgets/controls",
      "_model_module_version": "1.5.0",
      "_model_name": "DescriptionStyleModel",
      "_view_count": null,
      "_view_module": "@jupyter-widgets/base",
      "_view_module_version": "1.2.0",
      "_view_name": "StyleView",
      "description_width": ""
     }
    },
    "f1d418123b0b4c209a86ef5aa97f443a": {
     "model_module": "@jupyter-widgets/controls",
     "model_module_version": "1.5.0",
     "model_name": "HBoxModel",
     "state": {
      "_dom_classes": [],
      "_model_module": "@jupyter-widgets/controls",
      "_model_module_version": "1.5.0",
      "_model_name": "HBoxModel",
      "_view_count": null,
      "_view_module": "@jupyter-widgets/controls",
      "_view_module_version": "1.5.0",
      "_view_name": "HBoxView",
      "box_style": "",
      "children": [
       "IPY_MODEL_94b1647a64de4e6eb1067d5673e61c11",
       "IPY_MODEL_33663c35489a4f0dbd6a64893fcf160f",
       "IPY_MODEL_5cd88e93e9de4e25891ee0de62d45f11"
      ],
      "layout": "IPY_MODEL_d3875856be0f4588aba61a3e57bc3629"
     }
    }
   }
  }
 },
 "nbformat": 4,
 "nbformat_minor": 5
}
