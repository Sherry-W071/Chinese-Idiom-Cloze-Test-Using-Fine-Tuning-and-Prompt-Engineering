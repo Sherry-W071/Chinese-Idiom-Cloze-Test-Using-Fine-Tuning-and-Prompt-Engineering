{
 "cells": [
  {
   "cell_type": "markdown",
   "id": "931cb5cd-10af-445e-b38c-389bb5d8837d",
   "metadata": {
    "id": "931cb5cd-10af-445e-b38c-389bb5d8837d"
   },
   "source": [
    "# T5-small Fine-tuning (Record)"
   ]
  },
  {
   "cell_type": "markdown",
   "id": "q1WDTm1VFloi",
   "metadata": {
    "id": "q1WDTm1VFloi"
   },
   "source": [
    "#### **This note book is NOT the final one but for record only. The data is slightly changed in the final notebook.*"
   ]
  },
  {
   "cell_type": "markdown",
   "id": "338f1500-424a-44af-991a-ab96caf01238",
   "metadata": {
    "id": "338f1500-424a-44af-991a-ab96caf01238"
   },
   "source": [
    "## Imports, Device Setting and Weight and Bias Display"
   ]
  },
  {
   "cell_type": "code",
   "execution_count": 1,
   "id": "2db85f5a-7e83-4f2e-9e5b-783132661495",
   "metadata": {
    "colab": {
     "base_uri": "https://localhost:8080/"
    },
    "id": "2db85f5a-7e83-4f2e-9e5b-783132661495",
    "outputId": "945837f4-9720-437e-a4f7-cad3514380e8"
   },
   "outputs": [
    {
     "name": "stdout",
     "output_type": "stream",
     "text": [
      "Looking in indexes: https://pypi.org/simple, https://us-python.pkg.dev/colab-wheels/public/simple/\n",
      "Requirement already satisfied: transformers in /usr/local/lib/python3.9/dist-packages (4.28.1)\n",
      "Requirement already satisfied: regex!=2019.12.17 in /usr/local/lib/python3.9/dist-packages (from transformers) (2022.10.31)\n",
      "Requirement already satisfied: pyyaml>=5.1 in /usr/local/lib/python3.9/dist-packages (from transformers) (6.0)\n",
      "Requirement already satisfied: packaging>=20.0 in /usr/local/lib/python3.9/dist-packages (from transformers) (23.1)\n",
      "Requirement already satisfied: filelock in /usr/local/lib/python3.9/dist-packages (from transformers) (3.11.0)\n",
      "Requirement already satisfied: numpy>=1.17 in /usr/local/lib/python3.9/dist-packages (from transformers) (1.22.4)\n",
      "Requirement already satisfied: tqdm>=4.27 in /usr/local/lib/python3.9/dist-packages (from transformers) (4.65.0)\n",
      "Requirement already satisfied: tokenizers!=0.11.3,<0.14,>=0.11.1 in /usr/local/lib/python3.9/dist-packages (from transformers) (0.13.3)\n",
      "Requirement already satisfied: requests in /usr/local/lib/python3.9/dist-packages (from transformers) (2.27.1)\n",
      "Requirement already satisfied: huggingface-hub<1.0,>=0.11.0 in /usr/local/lib/python3.9/dist-packages (from transformers) (0.13.4)\n",
      "Requirement already satisfied: typing-extensions>=3.7.4.3 in /usr/local/lib/python3.9/dist-packages (from huggingface-hub<1.0,>=0.11.0->transformers) (4.5.0)\n",
      "Requirement already satisfied: idna<4,>=2.5 in /usr/local/lib/python3.9/dist-packages (from requests->transformers) (3.4)\n",
      "Requirement already satisfied: urllib3<1.27,>=1.21.1 in /usr/local/lib/python3.9/dist-packages (from requests->transformers) (1.26.15)\n",
      "Requirement already satisfied: charset-normalizer~=2.0.0 in /usr/local/lib/python3.9/dist-packages (from requests->transformers) (2.0.12)\n",
      "Requirement already satisfied: certifi>=2017.4.17 in /usr/local/lib/python3.9/dist-packages (from requests->transformers) (2022.12.7)\n",
      "Looking in indexes: https://pypi.org/simple, https://us-python.pkg.dev/colab-wheels/public/simple/\n",
      "Requirement already satisfied: wandb in /usr/local/lib/python3.9/dist-packages (0.14.2)\n",
      "Requirement already satisfied: docker-pycreds>=0.4.0 in /usr/local/lib/python3.9/dist-packages (from wandb) (0.4.0)\n",
      "Requirement already satisfied: psutil>=5.0.0 in /usr/local/lib/python3.9/dist-packages (from wandb) (5.9.5)\n",
      "Requirement already satisfied: setproctitle in /usr/local/lib/python3.9/dist-packages (from wandb) (1.3.2)\n",
      "Requirement already satisfied: Click!=8.0.0,>=7.0 in /usr/local/lib/python3.9/dist-packages (from wandb) (8.1.3)\n",
      "Requirement already satisfied: GitPython!=3.1.29,>=1.0.0 in /usr/local/lib/python3.9/dist-packages (from wandb) (3.1.31)\n",
      "Requirement already satisfied: setuptools in /usr/local/lib/python3.9/dist-packages (from wandb) (67.6.1)\n",
      "Requirement already satisfied: protobuf!=4.21.0,<5,>=3.15.0 in /usr/local/lib/python3.9/dist-packages (from wandb) (3.20.3)\n",
      "Requirement already satisfied: sentry-sdk>=1.0.0 in /usr/local/lib/python3.9/dist-packages (from wandb) (1.20.0)\n",
      "Requirement already satisfied: pathtools in /usr/local/lib/python3.9/dist-packages (from wandb) (0.1.2)\n",
      "Requirement already satisfied: requests<3,>=2.0.0 in /usr/local/lib/python3.9/dist-packages (from wandb) (2.27.1)\n",
      "Requirement already satisfied: appdirs>=1.4.3 in /usr/local/lib/python3.9/dist-packages (from wandb) (1.4.4)\n",
      "Requirement already satisfied: typing-extensions in /usr/local/lib/python3.9/dist-packages (from wandb) (4.5.0)\n",
      "Requirement already satisfied: PyYAML in /usr/local/lib/python3.9/dist-packages (from wandb) (6.0)\n",
      "Requirement already satisfied: six>=1.4.0 in /usr/local/lib/python3.9/dist-packages (from docker-pycreds>=0.4.0->wandb) (1.16.0)\n",
      "Requirement already satisfied: gitdb<5,>=4.0.1 in /usr/local/lib/python3.9/dist-packages (from GitPython!=3.1.29,>=1.0.0->wandb) (4.0.10)\n",
      "Requirement already satisfied: urllib3<1.27,>=1.21.1 in /usr/local/lib/python3.9/dist-packages (from requests<3,>=2.0.0->wandb) (1.26.15)\n",
      "Requirement already satisfied: certifi>=2017.4.17 in /usr/local/lib/python3.9/dist-packages (from requests<3,>=2.0.0->wandb) (2022.12.7)\n",
      "Requirement already satisfied: idna<4,>=2.5 in /usr/local/lib/python3.9/dist-packages (from requests<3,>=2.0.0->wandb) (3.4)\n",
      "Requirement already satisfied: charset-normalizer~=2.0.0 in /usr/local/lib/python3.9/dist-packages (from requests<3,>=2.0.0->wandb) (2.0.12)\n",
      "Requirement already satisfied: smmap<6,>=3.0.1 in /usr/local/lib/python3.9/dist-packages (from gitdb<5,>=4.0.1->GitPython!=3.1.29,>=1.0.0->wandb) (5.0.0)\n"
     ]
    }
   ],
   "source": [
    "! pip install transformers\n",
    "!pip3 install wandb\n",
    "import wandb\n",
    "import os\n",
    "import torch\n",
    "import re\n",
    "from torch import cuda, nn, optim\n",
    "from transformers import BertTokenizer, T5ForConditionalGeneration, Text2TextGenerationPipeline\n",
    "from transformers import TrainingArguments, Trainer, logging\n",
    "from torch.utils.data import Dataset, DataLoader\n"
   ]
  },
  {
   "cell_type": "code",
   "execution_count": 2,
   "id": "11dcc013-acec-4506-b1a4-a17912c5d13f",
   "metadata": {
    "colab": {
     "base_uri": "https://localhost:8080/"
    },
    "id": "11dcc013-acec-4506-b1a4-a17912c5d13f",
    "outputId": "dda462c4-6c4d-44ea-dffb-4cd5f3760a74"
   },
   "outputs": [
    {
     "name": "stdout",
     "output_type": "stream",
     "text": [
      "Drive already mounted at /content/gdrive; to attempt to forcibly remount, call drive.mount(\"/content/gdrive\", force_remount=True).\n",
      "cuda\n"
     ]
    }
   ],
   "source": [
    "from google.colab import drive\n",
    "drive.mount('/content/gdrive')\n",
    "manual_seed = 585\n",
    "torch.manual_seed(manual_seed)\n",
    "device = torch.device(\"cuda\" if torch.cuda.is_available() else \"cpu\")\n",
    "print(device)"
   ]
  },
  {
   "cell_type": "code",
   "execution_count": 3,
   "id": "gfGHEqITuwMD",
   "metadata": {
    "colab": {
     "base_uri": "https://localhost:8080/",
     "height": 576
    },
    "id": "gfGHEqITuwMD",
    "outputId": "170f0ef8-76d4-486f-ee99-2bbdd47c297c"
   },
   "outputs": [
    {
     "name": "stderr",
     "output_type": "stream",
     "text": [
      "\u001b[34m\u001b[1mwandb\u001b[0m: Currently logged in as: \u001b[33mqmygrace\u001b[0m (\u001b[33mzoooootopia\u001b[0m). Use \u001b[1m`wandb login --relogin`\u001b[0m to force relogin\n",
      "\u001b[34m\u001b[1mwandb\u001b[0m: Currently logged in as: \u001b[33mqmygrace\u001b[0m. Use \u001b[1m`wandb login --relogin`\u001b[0m to force relogin\n"
     ]
    },
    {
     "data": {
      "text/html": [
       "wandb version 0.15.0 is available!  To upgrade, please run:\n",
       " $ pip install wandb --upgrade"
      ],
      "text/plain": [
       "<IPython.core.display.HTML object>"
      ]
     },
     "metadata": {},
     "output_type": "display_data"
    },
    {
     "data": {
      "text/html": [
       "Tracking run with wandb version 0.14.2"
      ],
      "text/plain": [
       "<IPython.core.display.HTML object>"
      ]
     },
     "metadata": {},
     "output_type": "display_data"
    },
    {
     "data": {
      "text/html": [
       "Run data is saved locally in <code>/content/wandb/run-20230420_000944-wn9rpmjn</code>"
      ],
      "text/plain": [
       "<IPython.core.display.HTML object>"
      ]
     },
     "metadata": {},
     "output_type": "display_data"
    },
    {
     "data": {
      "text/html": [
       "Syncing run <strong><a href='https://wandb.ai/qmygrace/Zootopia/runs/wn9rpmjn' target=\"_blank\">summer-bush-2</a></strong> to <a href='https://wandb.ai/qmygrace/Zootopia' target=\"_blank\">Weights & Biases</a> (<a href='https://wandb.me/run' target=\"_blank\">docs</a>)<br/>"
      ],
      "text/plain": [
       "<IPython.core.display.HTML object>"
      ]
     },
     "metadata": {},
     "output_type": "display_data"
    },
    {
     "data": {
      "text/html": [
       " View project at <a href='https://wandb.ai/qmygrace/Zootopia' target=\"_blank\">https://wandb.ai/qmygrace/Zootopia</a>"
      ],
      "text/plain": [
       "<IPython.core.display.HTML object>"
      ]
     },
     "metadata": {},
     "output_type": "display_data"
    },
    {
     "data": {
      "text/html": [
       " View run at <a href='https://wandb.ai/qmygrace/Zootopia/runs/wn9rpmjn' target=\"_blank\">https://wandb.ai/qmygrace/Zootopia/runs/wn9rpmjn</a>"
      ],
      "text/plain": [
       "<IPython.core.display.HTML object>"
      ]
     },
     "metadata": {},
     "output_type": "display_data"
    },
    {
     "data": {
      "text/html": [
       "<button onClick=\"this.nextSibling.style.display='block';this.style.display='none';\">Display W&B run</button><iframe src='https://wandb.ai/qmygrace/Zootopia/runs/wn9rpmjn?jupyter=true' style='border:none;width:100%;height:420px;display:none;'></iframe>"
      ],
      "text/plain": [
       "<wandb.sdk.wandb_run.Run at 0x7f456a2792b0>"
      ]
     },
     "execution_count": 3,
     "metadata": {},
     "output_type": "execute_result"
    }
   ],
   "source": [
    "wandb.login()\n",
    "wandb.init(project=\"Zootopia\", entity=\"qmygrace\")\n"
   ]
  },
  {
   "cell_type": "markdown",
   "id": "o6y1YrsaF7HY",
   "metadata": {
    "id": "o6y1YrsaF7HY"
   },
   "source": []
  },
  {
   "cell_type": "markdown",
   "id": "f7c2f97e-7c04-4abc-b23a-8e4a29ec7ffc",
   "metadata": {
    "id": "f7c2f97e-7c04-4abc-b23a-8e4a29ec7ffc"
   },
   "source": [
    "## Load the Pre-trained Model"
   ]
  },
  {
   "cell_type": "code",
   "execution_count": 4,
   "id": "99ae48ef-34a0-44fd-8489-0d4b13dc73d0",
   "metadata": {
    "id": "99ae48ef-34a0-44fd-8489-0d4b13dc73d0"
   },
   "outputs": [],
   "source": [
    "# tokenizer = AutoTokenizer.from_pretrained(\"t5-small\")\n",
    "# model = AutoModelForSeq2SeqLM.from_pretrained(\"t5-small\")\n",
    "# No Chinese was used for pre-train\n",
    "\n",
    "# tokenizer = AutoTokenizer.from_pretrained(\"mxmax/Chinese_Chat_T5_Base\")\n",
    "# model = AutoModelForSeq2SeqLM.from_pretrained(\"mxmax/Chinese_Chat_T5_Base\")\n",
    "\n",
    "# https://huggingface.co/uer/t5-small-chinese-cluecorpussmall\n",
    "tokenizer = BertTokenizer.from_pretrained(\"uer/t5-small-chinese-cluecorpussmall\")\n",
    "model = T5ForConditionalGeneration.from_pretrained(\"uer/t5-small-chinese-cluecorpussmall\")\n"
   ]
  },
  {
   "cell_type": "markdown",
   "id": "2bf1f4b3-2f98-4704-bff4-12f1f9ad055a",
   "metadata": {
    "id": "2bf1f4b3-2f98-4704-bff4-12f1f9ad055a"
   },
   "source": [
    "## Preprocess data"
   ]
  },
  {
   "cell_type": "code",
   "execution_count": 5,
   "id": "a0aa74f8-a3fa-4746-a720-c831ac6ef645",
   "metadata": {
    "colab": {
     "base_uri": "https://localhost:8080/"
    },
    "id": "a0aa74f8-a3fa-4746-a720-c831ac6ef645",
    "outputId": "2f7c84f7-0cd6-4148-89d8-d2f37f307424"
   },
   "outputs": [
    {
     "name": "stdout",
     "output_type": "stream",
     "text": [
      "['{\"groundTruth\": [\"发扬光大\", \"平易近人\", \"温文尔雅\"], \"candidates\": [[\"意气风发\", \"街谈巷议\", \"人才辈出\", \"一脉相传\", \"后继有人\", \"发扬光大\", \"腥风血雨\"], [\"平易近人\", \"落落大方\", \"八仙过海\", \"彬彬有礼\", \"史无前例\", \"盛气凌人\", \"好自为之\"], [\"不拘小节\", \"风流潇洒\", \"无病呻吟\", \"言谈举止\", \"壮志凌云\", \"关门闭户\", \"温文尔雅\"]], \"content\": \"由实力派演员刘威饰演的清华第三任校长蒋南翔，是我国著名的青年运动家和教育家，他跟清华终身校长梅贻琦一样，都是由清华人自己培养出来的校长。历史上的蒋南翔是著名的“一二九”学生救亡运动的领导人之一，他在清华校长之位14年期间，不但很好的继承了清华建校之初的优秀传统与理念，而且更加的#idiom#，他把清华的教师队伍扩大了将近5倍，将清华本科人数破万，为新中国培养了大量的有用人才。在《天行健》中饰演蒋南翔的刘威是观众所熟悉的著名实力派演员，早在1987年刘威就在《关东大侠》中饰演豪爽仗义的关云天一角而获得了金鸡奖最佳男主角的提名，后来更是因在《唐明皇》中精湛的表演而一举夺得金鹰奖最佳男演员奖。此次《天行健》选定刘威来出演正是看中了他#idiom#的表演方式和对人物深入内心的刻画。至此，《天行健》中涉及的三位清华校长的人选都已经曝光，#idiom#的第一任校长赵文?、稳重坚毅的第二任校长孙逊、亲切务实的第三任校长刘威，再加上梁思成、林徽因、朱自清、闻一多等一批“大师”的加盟，相信作为清华百年校庆重点项目之一的《天行健》一定会带领观众重温那段不能抹去的历史。\", \"realCount\": 3}\\n', '{\"groundTruth\": [\"肥头大耳\"], \"candidates\": [[\"超凡入圣\", \"骨瘦如柴\", \"青面獠牙\", \"虎背熊腰\", \"成人之美\", \"肥头大耳\", \"神不守舍\"]], \"content\": \"#idiom#的掌柜只穿一件衬衫，坐在柜台里。几个堂倌穿着脏得发黑的白工作服，因为没有顾客，都散坐在桌子旁。这当儿看到这位不寻常的客人，都露出好奇的神色列宁曾批评他理论上的错误，同时认为他“所写的全部哲学，赶紧迎上前来伺候。聂赫留朵夫要了一瓶矿泉水，在离窗较远的地方挨着一张铺有肮脏桌布的小桌坐下。\", \"realCount\": 1}\\n'] \n",
      " 20000 2500 2500\n"
     ]
    }
   ],
   "source": [
    "# path = '../data/'    # change the path as needed\n",
    "path = '/content/gdrive/My Drive/585data/'\n",
    "\n",
    "def read_data(file):\n",
    "    with open (path+file) as t:\n",
    "        data = t.readlines()\n",
    "    return data\n",
    "\n",
    "train_set = read_data('train_data.txt')[:20000]\n",
    "dev_set = read_data('dev_data.txt')[:2500]\n",
    "test_set = read_data('test_data.txt')[:2500]\n",
    "\n",
    "# type(train_set)\n",
    "print(train_set[:2], '\\n', len(train_set), len(dev_set), len(test_set))"
   ]
  },
  {
   "cell_type": "code",
   "execution_count": 6,
   "id": "dZ1JICTnZPma",
   "metadata": {
    "id": "dZ1JICTnZPma"
   },
   "outputs": [],
   "source": [
    "# preprocess_idx = -1\n",
    "# def replace(match):\n",
    "#     global preprocess_idx\n",
    "#     preprocess_idx += 1\n",
    "#     return 'extra {}'.format(preprocess_idx)\n",
    "\n",
    "# text = '由实力派演员刘威饰演的清华第三任校长蒋南翔，是我国著名的青年运动家和教育家，他跟清华终身校长梅贻琦一样，都是由清华人自己培养出来的校长。历史上的蒋南翔是著名的“一二九”学生救亡运动的领导人之一，他在清华校长之位14年期间，不但很好的继承了清华建校之初的优秀传统与理念，而且更加的#idiom#，他把清华的教师队伍扩大了将近5倍，将清华本科人数破万，为新中国培养了大量的有用人才。在《天行健》中饰演蒋南翔的刘威是观众所熟悉的著名实力派演员，早在1987年刘威就在《关东大侠》中饰演豪爽仗义的关云天一角而获得了金鸡奖最佳男主角的提名，后来更是因在《唐明皇》中精湛的表演而一举夺得金鹰奖最佳男演员奖。此次《天行健》选定刘威来出演正是看中了他#idiom#的表演方式和对人物深入内心的刻画。至此，《天行健》中涉及的三位清华校长的人选都已经曝光，#idiom#的第一任校长赵文?、稳重坚毅的第二任校长孙逊、亲切务实的第三任校长刘威，再加上梁思成、林徽因、朱自清、闻一多等一批“大师”的加盟，相信作为清华百年校庆重点项目之一的《天行健》一定会带领观众重温那段不能抹去的历史。'\n",
    "# re.sub(r'#idiom#', replace, text)"
   ]
  },
  {
   "cell_type": "code",
   "execution_count": 7,
   "id": "9c3965b6-eaff-42ff-ac70-dac21b8dbd21",
   "metadata": {
    "id": "9c3965b6-eaff-42ff-ac70-dac21b8dbd21"
   },
   "outputs": [],
   "source": [
    "def preprocess(data):\n",
    "    text_input = []\n",
    "    idiom_output = []\n",
    "    for i in range(len(data)):\n",
    "        data[i] = eval(data[i])\n",
    "        input_text = data[i]['content']\n",
    "        ground_truth = data[i]['groundTruth']\n",
    "        candidates = data[i]['candidates']\n",
    "\n",
    "        candidate_str = ''\n",
    "        for candidate in candidates:\n",
    "            candidate_str += '('+'|'.join(candidate)+')'\n",
    "        \n",
    "        preprocess_idx = -1\n",
    "        def replace(match):\n",
    "            nonlocal preprocess_idx\n",
    "            preprocess_idx += 1\n",
    "            return 'extra{}'.format(preprocess_idx)\n",
    "        input_text = re.sub(r'#idiom#', replace, input_text)\n",
    "\n",
    "        instruction = '请从下列括号中分别选择合适的成语填入空缺处：{}'.format(candidate_str)\n",
    "        # input_text = input_text.replace('#idiom#', '_')\n",
    "        output_text = ','.join(ground_truth)\n",
    "        \n",
    "        text_input.append(instruction+'\\n'+input_text)\n",
    "        idiom_output.append(output_text)\n",
    "    \n",
    "    print(text_input[0], idiom_output[0])    \n",
    "    input_tok = tokenizer.batch_encode_plus(text_input,\n",
    "                                            add_special_tokens=False, \n",
    "                                            return_token_type_ids=False)\n",
    "    output_tok = tokenizer.batch_encode_plus(idiom_output, \n",
    "                                             add_special_tokens=False,\n",
    "                                             return_token_type_ids=False)\n",
    "    return input_tok, output_tok"
   ]
  },
  {
   "cell_type": "code",
   "execution_count": 8,
   "id": "9ad9389a-0f2a-4222-8f67-e9f968e6c734",
   "metadata": {
    "colab": {
     "base_uri": "https://localhost:8080/"
    },
    "id": "9ad9389a-0f2a-4222-8f67-e9f968e6c734",
    "outputId": "53a46aab-3466-4fce-8abc-c8258111e020"
   },
   "outputs": [
    {
     "name": "stdout",
     "output_type": "stream",
     "text": [
      "请从下列括号中分别选择合适的成语填入空缺处：(意气风发|街谈巷议|人才辈出|一脉相传|后继有人|发扬光大|腥风血雨)(平易近人|落落大方|八仙过海|彬彬有礼|史无前例|盛气凌人|好自为之)(不拘小节|风流潇洒|无病呻吟|言谈举止|壮志凌云|关门闭户|温文尔雅)\n",
      "由实力派演员刘威饰演的清华第三任校长蒋南翔，是我国著名的青年运动家和教育家，他跟清华终身校长梅贻琦一样，都是由清华人自己培养出来的校长。历史上的蒋南翔是著名的“一二九”学生救亡运动的领导人之一，他在清华校长之位14年期间，不但很好的继承了清华建校之初的优秀传统与理念，而且更加的extra0，他把清华的教师队伍扩大了将近5倍，将清华本科人数破万，为新中国培养了大量的有用人才。在《天行健》中饰演蒋南翔的刘威是观众所熟悉的著名实力派演员，早在1987年刘威就在《关东大侠》中饰演豪爽仗义的关云天一角而获得了金鸡奖最佳男主角的提名，后来更是因在《唐明皇》中精湛的表演而一举夺得金鹰奖最佳男演员奖。此次《天行健》选定刘威来出演正是看中了他extra1的表演方式和对人物深入内心的刻画。至此，《天行健》中涉及的三位清华校长的人选都已经曝光，extra2的第一任校长赵文?、稳重坚毅的第二任校长孙逊、亲切务实的第三任校长刘威，再加上梁思成、林徽因、朱自清、闻一多等一批“大师”的加盟，相信作为清华百年校庆重点项目之一的《天行健》一定会带领观众重温那段不能抹去的历史。 发扬光大,平易近人,温文尔雅\n",
      "请从下列括号中分别选择合适的成语填入空缺处：(深恶痛绝|人人自危|恨入骨髓|不胜枚举|嗤之以鼻|走马看花|不屑一顾)\n",
      "另据了解，北京一个对垃圾短信extra0的老人，利用该软件总共呼死了近2000个号码。20分钟呼上万号码记者昨天在百度里输入“呼死你软件”，出现了7000多个相关网页，随机登录几个网站，发现软件均需花钱购买，价格从200元至500元不等。 深恶痛绝\n",
      "请从下列括号中分别选择合适的成语填入空缺处：(旷日持久|公正廉洁|苦口婆心|现身说法|白日做梦|深入浅出|肺腑之言)\n",
      "只要路过的旅客稍有迟疑，或者对他们的宣传单多看几眼，基本上这个旅客就别想轻松脱身了，记者就在9月3日接站时目睹了这样一幕：一个学生接过招生人员递来的宣传单，只是问了一下“你们学校有没有分数要求？”两个招生人员就“白话”开了，一个表示分数都好说，只要有好学的精神；另一个则extra0，大讲自己选择的专业现在收获颇丰；最后在招生人员“我们学校毕业后可以完全解决就业”的忽悠下，这个学生旅客被他们拉上了到校参观的班车。 现身说法\n"
     ]
    }
   ],
   "source": [
    "train_input, train_output = preprocess(train_set)\n",
    "dev_input, dev_output = preprocess(dev_set)\n",
    "test_input, test_output = preprocess(test_set)"
   ]
  },
  {
   "cell_type": "code",
   "execution_count": 9,
   "id": "7dbb4375-3f3f-441c-81b4-be13b24160bb",
   "metadata": {
    "colab": {
     "base_uri": "https://localhost:8080/"
    },
    "id": "7dbb4375-3f3f-441c-81b4-be13b24160bb",
    "outputId": "da5537e7-827b-4466-931f-d93542f198a2"
   },
   "outputs": [
    {
     "name": "stdout",
     "output_type": "stream",
     "text": [
      "dict_keys(['input_ids', 'attention_mask']) dict_keys(['input_ids', 'attention_mask'])\n"
     ]
    }
   ],
   "source": [
    "print(train_input.keys(), train_output.keys())"
   ]
  },
  {
   "cell_type": "code",
   "execution_count": 10,
   "id": "2dab48c9-e312-4706-b5fa-d408bc8d227a",
   "metadata": {
    "colab": {
     "base_uri": "https://localhost:8080/"
    },
    "id": "2dab48c9-e312-4706-b5fa-d408bc8d227a",
    "outputId": "c4d6a6df-23a0-4893-bea7-e4daf19005e6"
   },
   "outputs": [
    {
     "name": "stdout",
     "output_type": "stream",
     "text": [
      "[6435, 794, 678, 1154, 2886, 1384, 704, 1146, 1166, 6848, 2885, 1394, 6844, 4638, 2768, 6427, 1856, 1057, 4958, 5375, 1905, 8038, 113, 2692, 3698, 7599, 1355, 170, 6125, 6448, 2350, 6379, 170, 782, 2798, 6777, 1139, 170, 671, 5549, 4685, 837, 170, 1400, 5326, 3300, 782, 170, 1355, 2813, 1045, 1920, 170, 5581, 7599, 6117, 7433, 114, 113, 2398, 3211, 6818, 782, 170, 5862, 5862, 1920, 3175, 170, 1061, 803, 6814, 3862, 170, 2509, 2509, 3300, 4851, 170, 1380, 3187, 1184, 891, 170, 4670, 3698, 1119, 782, 170, 1962, 5632, 711, 722, 114, 113, 679, 2872, 2207, 5688, 170, 7599, 3837, 4045, 3818, 170, 3187, 4567, 1460, 1412, 170, 6241, 6448, 715, 3632, 170, 1896, 2562, 1119, 756, 170, 1068, 7305, 7308, 2787, 170, 3946, 3152, 2209, 7414, 114, 4507, 2141, 1213, 3836, 4028, 1447, 1155, 2014, 7652, 4028, 4638, 3926, 1290, 5018, 676, 818, 3413, 7270, 5882, 1298, 5425, 8024, 3221, 2769, 1744, 5865, 1399, 4638, 7471, 2399, 6817, 1220, 2157, 1469, 3136, 5509, 2157, 8024, 800, 6656, 3926, 1290, 5303, 6716, 3413, 7270, 3449, 6591, 4425, 671, 3416, 8024, 6963, 3221, 4507, 3926, 1290, 782, 5632, 2346, 1824, 1075, 1139, 3341, 4638, 3413, 7270, 511, 1325, 1380, 677, 4638, 5882, 1298, 5425, 3221, 5865, 1399, 4638, 100, 671, 753, 736, 100, 2110, 4495, 3131, 767, 6817, 1220, 4638, 7566, 2193, 782, 722, 671, 8024, 800, 1762, 3926, 1290, 3413, 7270, 722, 855, 8122, 2399, 3309, 7313, 8024, 679, 852, 2523, 1962, 4638, 5326, 2824, 749, 3926, 1290, 2456, 3413, 722, 1159, 4638, 831, 4899, 837, 5320, 680, 4415, 2573, 8024, 5445, 684, 3291, 1217, 4638, 21128, 8024, 800, 2828, 3926, 1290, 4638, 3136, 2360, 7339, 824, 2810, 1920, 749, 2199, 6818, 126, 945, 8024, 2199, 3926, 1290, 3315, 4906, 782, 3144, 4788, 674, 8024, 711, 3173, 704, 1744, 1824, 1075, 749, 1920, 7030, 4638, 3300, 4500, 782, 2798, 511, 1762, 517, 1921, 6121, 978, 518, 704, 7652, 4028, 5882, 1298, 5425, 4638, 1155, 2014, 3221, 6225, 830, 2792, 4225, 2634, 4638, 5865, 1399, 2141, 1213, 3836, 4028, 1447, 8024, 3193, 1762, 8622, 2399, 1155, 2014, 2218, 1762, 517, 1068, 691, 1920, 899, 518, 704, 7652, 4028, 6498, 4272, 801, 721, 4638, 1068, 756, 1921, 671, 6235, 5445, 5815, 2533, 749, 7032, 7883, 1946, 3297, 881, 4511, 712, 6235, 4638, 2990, 1399, 8024, 1400, 3341, 3291, 3221, 1728, 1762, 517, 1538, 3209, 4640, 518, 704, 5125, 3961, 4638, 6134, 4028, 5445, 671, 715, 1932, 2533, 7032, 7916, 1946, 3297, 881, 4511, 4028, 1447, 1946, 511, 3634, 3613, 517, 1921, 6121, 978, 518, 6848, 2137, 1155, 2014, 3341, 1139, 4028, 3633, 3221, 4692, 704, 749, 800, 21129, 4638, 6134, 4028, 3175, 2466, 1469, 2190, 782, 4289, 3918, 1057, 1079, 2552, 4638, 1174, 4514, 511, 5635, 3634, 8024, 517, 1921, 6121, 978, 518, 704, 3868, 1350, 4638, 676, 855, 3926, 1290, 3413, 7270, 4638, 782, 6848, 6963, 2347, 5307, 3284, 1045, 8024, 21130, 4638, 5018, 671, 818, 3413, 7270, 6627, 3152, 136, 510, 4937, 7028, 1780, 3675, 4638, 5018, 753, 818, 3413, 7270, 2101, 6849, 510, 779, 1147, 1218, 2141, 4638, 5018, 676, 818, 3413, 7270, 1155, 2014, 8024, 1086, 1217, 677, 3448, 2590, 2768, 510, 3360, 2551, 1728, 510, 3319, 5632, 3926, 510, 7319, 671, 1914, 5023, 671, 2821, 100, 1920, 2360, 100, 4638, 1217, 4673, 8024, 4685, 928, 868, 711, 3926, 1290, 4636, 2399, 3413, 2412, 7028, 4157, 7555, 4680, 722, 671, 4638, 517, 1921, 6121, 978, 518, 671, 2137, 833, 2372, 7566, 6225, 830, 7028, 3946, 6929, 3667, 679, 5543, 2851, 1343, 4638, 1325, 1380, 511] \n",
      " [1, 1, 1, 1, 1, 1, 1, 1, 1, 1, 1, 1, 1, 1, 1, 1, 1, 1, 1, 1, 1, 1, 1, 1, 1, 1, 1, 1, 1, 1, 1, 1, 1, 1, 1, 1, 1, 1, 1, 1, 1, 1, 1, 1, 1, 1, 1, 1, 1, 1, 1, 1, 1, 1, 1, 1, 1, 1, 1, 1, 1, 1, 1, 1, 1, 1, 1, 1, 1, 1, 1, 1, 1, 1, 1, 1, 1, 1, 1, 1, 1, 1, 1, 1, 1, 1, 1, 1, 1, 1, 1, 1, 1, 1, 1, 1, 1, 1, 1, 1, 1, 1, 1, 1, 1, 1, 1, 1, 1, 1, 1, 1, 1, 1, 1, 1, 1, 1, 1, 1, 1, 1, 1, 1, 1, 1, 1, 1, 1, 1, 1, 1, 1, 1, 1, 1, 1, 1, 1, 1, 1, 1, 1, 1, 1, 1, 1, 1, 1, 1, 1, 1, 1, 1, 1, 1, 1, 1, 1, 1, 1, 1, 1, 1, 1, 1, 1, 1, 1, 1, 1, 1, 1, 1, 1, 1, 1, 1, 1, 1, 1, 1, 1, 1, 1, 1, 1, 1, 1, 1, 1, 1, 1, 1, 1, 1, 1, 1, 1, 1, 1, 1, 1, 1, 1, 1, 1, 1, 1, 1, 1, 1, 1, 1, 1, 1, 1, 1, 1, 1, 1, 1, 1, 1, 1, 1, 1, 1, 1, 1, 1, 1, 1, 1, 1, 1, 1, 1, 1, 1, 1, 1, 1, 1, 1, 1, 1, 1, 1, 1, 1, 1, 1, 1, 1, 1, 1, 1, 1, 1, 1, 1, 1, 1, 1, 1, 1, 1, 1, 1, 1, 1, 1, 1, 1, 1, 1, 1, 1, 1, 1, 1, 1, 1, 1, 1, 1, 1, 1, 1, 1, 1, 1, 1, 1, 1, 1, 1, 1, 1, 1, 1, 1, 1, 1, 1, 1, 1, 1, 1, 1, 1, 1, 1, 1, 1, 1, 1, 1, 1, 1, 1, 1, 1, 1, 1, 1, 1, 1, 1, 1, 1, 1, 1, 1, 1, 1, 1, 1, 1, 1, 1, 1, 1, 1, 1, 1, 1, 1, 1, 1, 1, 1, 1, 1, 1, 1, 1, 1, 1, 1, 1, 1, 1, 1, 1, 1, 1, 1, 1, 1, 1, 1, 1, 1, 1, 1, 1, 1, 1, 1, 1, 1, 1, 1, 1, 1, 1, 1, 1, 1, 1, 1, 1, 1, 1, 1, 1, 1, 1, 1, 1, 1, 1, 1, 1, 1, 1, 1, 1, 1, 1, 1, 1, 1, 1, 1, 1, 1, 1, 1, 1, 1, 1, 1, 1, 1, 1, 1, 1, 1, 1, 1, 1, 1, 1, 1, 1, 1, 1, 1, 1, 1, 1, 1, 1, 1, 1, 1, 1, 1, 1, 1, 1, 1, 1, 1, 1, 1, 1, 1, 1, 1, 1, 1, 1, 1, 1, 1, 1, 1, 1, 1, 1, 1, 1, 1, 1, 1, 1, 1, 1, 1, 1, 1, 1, 1, 1, 1, 1, 1, 1, 1, 1, 1, 1, 1, 1, 1, 1, 1, 1, 1, 1, 1, 1, 1, 1, 1, 1, 1, 1, 1, 1, 1, 1, 1, 1, 1, 1, 1, 1, 1, 1, 1, 1, 1, 1, 1, 1, 1, 1, 1, 1, 1, 1, 1, 1, 1, 1, 1, 1, 1, 1, 1, 1, 1, 1, 1, 1, 1, 1, 1, 1, 1, 1, 1, 1, 1, 1, 1, 1, 1, 1, 1, 1, 1, 1, 1, 1, 1, 1, 1, 1, 1, 1, 1, 1, 1, 1, 1, 1, 1, 1, 1, 1, 1, 1, 1]\n"
     ]
    }
   ],
   "source": [
    "print(train_input['input_ids'][0], '\\n', train_input['attention_mask'][0])"
   ]
  },
  {
   "cell_type": "code",
   "execution_count": 11,
   "id": "ItvsDz6wgf2D",
   "metadata": {
    "colab": {
     "base_uri": "https://localhost:8080/"
    },
    "id": "ItvsDz6wgf2D",
    "outputId": "7e5e4ed7-49cd-44e1-a836-b52f510684df"
   },
   "outputs": [
    {
     "name": "stdout",
     "output_type": "stream",
     "text": [
      "[1355, 2813, 1045, 1920, 117, 2398, 3211, 6818, 782, 117, 3946, 3152, 2209, 7414] \n",
      " [1, 1, 1, 1, 1, 1, 1, 1, 1, 1, 1, 1, 1, 1]\n"
     ]
    }
   ],
   "source": [
    "print(train_output['input_ids'][0], '\\n', train_output['attention_mask'][0])"
   ]
  },
  {
   "cell_type": "code",
   "execution_count": 12,
   "id": "745d083f-5ef4-4ef2-95ae-88edc375a5aa",
   "metadata": {
    "id": "745d083f-5ef4-4ef2-95ae-88edc375a5aa"
   },
   "outputs": [],
   "source": [
    "class IdiomDataset(Dataset):\n",
    "    def __init__(self, inputs, outputs):\n",
    "        self.inputs = inputs\n",
    "        self.outputs = outputs\n",
    "\n",
    "    def __len__(self):\n",
    "        return len(self.inputs[\"input_ids\"])\n",
    "\n",
    "    def __getitem__(self, idx):\n",
    "        input_ids = self.inputs['input_ids'][idx]\n",
    "        attention_mask = self.inputs['attention_mask'][idx]\n",
    "\n",
    "        target_ids = self.outputs['input_ids'][idx]\n",
    "        target_attention_mask = self.outputs['attention_mask'][idx]\n",
    "        return {\"input_ids\": input_ids, \"attention_mask\":attention_mask, \"output_ids\":target_ids}\n",
    "\n",
    "\n",
    "def collate_fn(batch):\n",
    "    batch_input = [torch.LongTensor(example['input_ids']) for example in batch]\n",
    "    batch_output = [torch.LongTensor(example['output_ids']) for example in batch]\n",
    "    batch_mask = [torch.LongTensor(example['attention_mask']) for example in batch]\n",
    "\n",
    "    padded_batch_input_ids = pad_sequence(batch_input, batch_first=True, padding_value=tokenizer.pad_token_id)\n",
    "    padded_batch_label = pad_sequence(batch_output, batch_first=True, padding_value=tokenizer.pad_token_id)\n",
    "    padded_batch_att_mask = pad_sequence(batch_mask, batch_first=True, padding_value=0)\n",
    "\n",
    "    return {\"input_ids\": padded_batch_input_ids, \"attention_mask\": padded_batch_att_mask, \"labels\": padded_batch_label}\n",
    "\n",
    "def to_device(data, device):\n",
    "    new_data = {}\n",
    "    for k in data:\n",
    "        # k = k.to(device)\n",
    "        new_data[k] = data[k].to(device)\n",
    "    return new_data"
   ]
  },
  {
   "cell_type": "code",
   "execution_count": 13,
   "id": "2306fb26-febb-4159-b957-89944b73a9c4",
   "metadata": {
    "id": "2306fb26-febb-4159-b957-89944b73a9c4"
   },
   "outputs": [],
   "source": [
    "train_dataset = IdiomDataset(train_input, train_output)\n",
    "train_loader = DataLoader(train_dataset, batch_size=8, collate_fn=collate_fn, shuffle=True)\n",
    "\n",
    "dev_dataset = IdiomDataset(dev_input, dev_output)\n",
    "dev_loader = DataLoader(dev_dataset, batch_size=8, collate_fn=collate_fn, shuffle=False)\n"
   ]
  },
  {
   "cell_type": "markdown",
   "id": "3f4fc45d-c94f-4dcc-a845-285e1959ef6e",
   "metadata": {
    "id": "3f4fc45d-c94f-4dcc-a845-285e1959ef6e"
   },
   "source": [
    "## Training"
   ]
  },
  {
   "cell_type": "code",
   "execution_count": 14,
   "id": "20e09128-fe25-44b1-8572-496a460bf870",
   "metadata": {
    "id": "20e09128-fe25-44b1-8572-496a460bf870"
   },
   "outputs": [],
   "source": [
    "@torch.no_grad()\n",
    "def evaluate(model:nn.Module, eval_loader:DataLoader):\n",
    "    eval_loss = 0.0\n",
    "    correct = 0\n",
    "    total = 0\n",
    "    model.eval()\n",
    "    print(\"eval_loader len:\", len(eval_loader))\n",
    "    for batch in eval_loader:\n",
    "        batch = to_device(batch, device)\n",
    "        output = model(**batch)\n",
    "        loss = output.loss\n",
    "        eval_loss += loss.item()\n",
    "        pred = output.logits.argmax(-1)\n",
    "        label = batch[\"labels\"]\n",
    "        correct += torch.where(label!=0, pred==label, 0).sum().item()\n",
    "        total += torch.sum(label!=0).item()\n",
    "\n",
    "    eval_acc = correct / total\n",
    "    eval_loss = eval_loss / len(eval_loader) \n",
    "    print(total, correct)\n",
    "    return eval_acc, eval_loss"
   ]
  },
  {
   "cell_type": "code",
   "execution_count": 15,
   "id": "e4aed717-87ff-4abf-a24a-c3397bfec0f5",
   "metadata": {
    "colab": {
     "base_uri": "https://localhost:8080/"
    },
    "id": "e4aed717-87ff-4abf-a24a-c3397bfec0f5",
    "outputId": "acc8b29e-5604-4056-e8d6-7f3cdd01d955"
   },
   "outputs": [
    {
     "name": "stdout",
     "output_type": "stream",
     "text": [
      "Train Step: 0 Loss: 0.09610861778259278\n",
      "Train Step: 100 Loss: 8.649000387191773\n",
      "Train Step: 200 Loss: 7.368106565475464\n",
      "Train Step: 300 Loss: 6.923587417602539\n",
      "Train Step: 400 Loss: 6.688149471282959\n",
      "Train Step: 500 Loss: 6.331389155387878\n",
      "Train Step: 600 Loss: 6.112582898139953\n",
      "Train Step: 700 Loss: 5.977850337028503\n",
      "Train Step: 800 Loss: 5.928610510826111\n",
      "Train Step: 900 Loss: 5.607584781646729\n",
      "Train Step: 1000 Loss: 5.433410115242005\n",
      "Train Step: 1100 Loss: 5.356820800304413\n",
      "Train Step: 1200 Loss: 5.123180480003357\n",
      "Train Step: 1300 Loss: 5.129383928775788\n",
      "Train Step: 1400 Loss: 5.121715605258942\n",
      "Train Step: 1500 Loss: 4.852255692481995\n",
      "Train Step: 1600 Loss: 4.764570891857147\n",
      "Train Step: 1700 Loss: 4.6427351665496825\n",
      "Train Step: 1800 Loss: 4.652724583148956\n",
      "Train Step: 1900 Loss: 4.337948968410492\n",
      "Train Step: 2000 Loss: 4.27032928943634\n",
      "Train Step: 2100 Loss: 4.319108729362488\n",
      "Train Step: 2200 Loss: 4.209396049976349\n",
      "Train Step: 2300 Loss: 4.10698246717453\n",
      "Train Step: 2400 Loss: 4.234080193042755\n",
      "Epoch: 1 Loss is: 13407.068803548813\n",
      "eval_loader len: 313\n",
      "12850 9543\n",
      "Epoch 1 Eval Acc: 0.7426459143968872; Eval Loss: 3.4569642406682997\n",
      "Train Step: 0 Loss: 0.025765950679779052\n",
      "Train Step: 100 Loss: 3.5112198328971864\n",
      "Train Step: 200 Loss: 3.3640057742595673\n",
      "Train Step: 300 Loss: 3.166528397798538\n",
      "Train Step: 400 Loss: 3.012520020008087\n",
      "Train Step: 500 Loss: 3.0401538288593293\n",
      "Train Step: 600 Loss: 2.8230119514465333\n",
      "Train Step: 700 Loss: 2.8029470324516295\n",
      "Train Step: 800 Loss: 2.6250573682785032\n",
      "Train Step: 900 Loss: 2.5797100746631623\n",
      "Train Step: 1000 Loss: 2.4286438834667208\n",
      "Train Step: 1100 Loss: 2.390172622203827\n",
      "Train Step: 1200 Loss: 2.4261463248729704\n",
      "Train Step: 1300 Loss: 2.2343620502948762\n",
      "Train Step: 1400 Loss: 2.196561827659607\n",
      "Train Step: 1500 Loss: 2.114103170633316\n",
      "Train Step: 1600 Loss: 2.068233435153961\n",
      "Train Step: 1700 Loss: 2.0065100955963135\n",
      "Train Step: 1800 Loss: 2.0756391525268554\n",
      "Train Step: 1900 Loss: 1.9937911713123322\n",
      "Train Step: 2000 Loss: 1.8286879336833954\n",
      "Train Step: 2100 Loss: 1.9345777595043183\n",
      "Train Step: 2200 Loss: 1.8901594078540802\n",
      "Train Step: 2300 Loss: 1.8514566588401795\n",
      "Train Step: 2400 Loss: 1.6893778920173645\n",
      "Epoch: 2 Loss is: 5979.829849720001\n",
      "eval_loader len: 313\n",
      "12850 10514\n",
      "Epoch 2 Eval Acc: 0.8182101167315176; Eval Loss: 1.7185696035909195\n",
      "Train Step: 0 Loss: 0.015919036865234375\n",
      "Train Step: 100 Loss: 1.5557160383462907\n",
      "Train Step: 200 Loss: 1.6686954581737519\n",
      "Train Step: 300 Loss: 1.5821306681632996\n",
      "Train Step: 400 Loss: 1.5510096204280854\n",
      "Train Step: 500 Loss: 1.5498661297559737\n",
      "Train Step: 600 Loss: 1.4817038708925248\n",
      "Train Step: 700 Loss: 1.4656050080060958\n",
      "Train Step: 800 Loss: 1.5468021321296692\n",
      "Train Step: 900 Loss: 1.3670111340284348\n",
      "Train Step: 1000 Loss: 1.4307830375432968\n",
      "Train Step: 1100 Loss: 1.3838866865634918\n",
      "Train Step: 1200 Loss: 1.3539244741201402\n",
      "Train Step: 1300 Loss: 1.310692411661148\n",
      "Train Step: 1400 Loss: 1.3417832124233247\n",
      "Train Step: 1500 Loss: 1.2790369033813476\n",
      "Train Step: 1600 Loss: 1.269690511226654\n",
      "Train Step: 1700 Loss: 1.2361215686798095\n",
      "Train Step: 1800 Loss: 1.2523503643274307\n",
      "Train Step: 1900 Loss: 1.2376668310165406\n",
      "Train Step: 2000 Loss: 1.1836253583431244\n",
      "Train Step: 2100 Loss: 1.1563777720928192\n",
      "Train Step: 2200 Loss: 1.1104857701063156\n",
      "Train Step: 2300 Loss: 1.1903247040510179\n",
      "Train Step: 2400 Loss: 1.035746002495289\n",
      "Epoch: 3 Loss is: 3359.3756352365017\n",
      "eval_loader len: 313\n",
      "12850 10698\n",
      "Epoch 3 Eval Acc: 0.8325291828793774; Eval Loss: 1.0800872450819412\n",
      "Train Step: 0 Loss: 0.008440322875976562\n",
      "Train Step: 100 Loss: 1.0402381652593613\n",
      "Train Step: 200 Loss: 1.0636434081196784\n",
      "Train Step: 300 Loss: 0.9613789105415345\n",
      "Train Step: 400 Loss: 1.0032926988601685\n",
      "Train Step: 500 Loss: 0.8739012998342514\n",
      "Train Step: 600 Loss: 0.8901275178790092\n",
      "Train Step: 700 Loss: 0.9450217041373253\n",
      "Train Step: 800 Loss: 0.8860998126864433\n",
      "Train Step: 900 Loss: 0.8982230740785598\n",
      "Train Step: 1000 Loss: 0.8611477142572403\n",
      "Train Step: 1100 Loss: 0.8904090774059296\n",
      "Train Step: 1200 Loss: 0.8132378345727921\n",
      "Train Step: 1300 Loss: 0.8392039933800697\n",
      "Train Step: 1400 Loss: 0.7803591072559357\n",
      "Train Step: 1500 Loss: 0.8101924932003022\n",
      "Train Step: 1600 Loss: 0.7377543571591377\n",
      "Train Step: 1700 Loss: 0.7675780639052391\n",
      "Train Step: 1800 Loss: 0.8141775053739547\n",
      "Train Step: 1900 Loss: 0.797405295073986\n",
      "Train Step: 2000 Loss: 0.68756705224514\n",
      "Train Step: 2100 Loss: 0.7791758134961129\n",
      "Train Step: 2200 Loss: 0.7038377448916435\n",
      "Train Step: 2300 Loss: 0.7630074301362038\n",
      "Train Step: 2400 Loss: 0.6802376061677933\n",
      "Epoch: 4 Loss is: 2100.5644524097443\n",
      "eval_loader len: 313\n",
      "12850 10919\n",
      "Epoch 4 Eval Acc: 0.849727626459144; Eval Loss: 0.7396114940841358\n",
      "Train Step: 0 Loss: 0.006167243719100952\n",
      "Train Step: 100 Loss: 0.6385856834053993\n",
      "Train Step: 200 Loss: 0.6743809333443642\n",
      "Train Step: 300 Loss: 0.6371602401137352\n",
      "Train Step: 400 Loss: 0.641194421350956\n",
      "Train Step: 500 Loss: 0.6773874482512474\n",
      "Train Step: 600 Loss: 0.5996336156129837\n",
      "Train Step: 700 Loss: 0.5910246682167053\n",
      "Train Step: 800 Loss: 0.6042569041252136\n",
      "Train Step: 900 Loss: 0.5752565497159958\n",
      "Train Step: 1000 Loss: 0.6082092495262623\n",
      "Train Step: 1100 Loss: 0.6113167394697666\n",
      "Train Step: 1200 Loss: 0.541671400219202\n",
      "Train Step: 1300 Loss: 0.5487703165411949\n",
      "Train Step: 1400 Loss: 0.578026002496481\n",
      "Train Step: 1500 Loss: 0.5509577909111977\n",
      "Train Step: 1600 Loss: 0.5525383618474007\n",
      "Train Step: 1700 Loss: 0.537769522368908\n",
      "Train Step: 1800 Loss: 0.5421548610925675\n",
      "Train Step: 1900 Loss: 0.5754032105207443\n",
      "Train Step: 2000 Loss: 0.4967395804822445\n",
      "Train Step: 2100 Loss: 0.5739278995990753\n",
      "Train Step: 2200 Loss: 0.5062483677268028\n",
      "Train Step: 2300 Loss: 0.5234690310060978\n",
      "Train Step: 2400 Loss: 0.5287185132503509\n",
      "Epoch: 5 Loss is: 1442.7049873620272\n",
      "eval_loader len: 313\n",
      "12850 10978\n",
      "Epoch 5 Eval Acc: 0.8543190661478599; Eval Loss: 0.5687896458866497\n"
     ]
    }
   ],
   "source": [
    "from torch.nn.utils.rnn import pad_sequence\n",
    "\n",
    "epoches = 5       # train 3 epoches first and can add new epoches if needed\n",
    "optimizer = optim.Adam(model.parameters(), lr=5e-5)\n",
    "model.to(device)\n",
    "\n",
    "model.train()\n",
    "for epoch in range(epoches):\n",
    "    epoch_loss = 0.0\n",
    "    log_loss = 0.0\n",
    "    for idx, batch in enumerate(train_loader):\n",
    "        model.zero_grad()\n",
    "        batch = to_device(batch, device)\n",
    "        loss = model(**batch).loss\n",
    "        loss.backward()\n",
    "        optimizer.step()\n",
    "        epoch_loss += loss.item()\n",
    "        log_loss += loss.item()\n",
    "\n",
    "        wandb.log({'batch':idx, 'train_loss': loss.item()})\n",
    "        wandb.log({'batch':idx, 'accumulated_train_loss_in_this_100_batches': log_loss})\n",
    "\n",
    "        if idx % 100 == 0:\n",
    "            print(f\"Train Step: {idx} Loss: {log_loss / 100}\")\n",
    "            log_loss = 0.0\n",
    "    print(f\"Epoch: {epoch+1} Loss is: {epoch_loss}\")\n",
    "    eval_acc, eval_loss = evaluate(model, dev_loader)\n",
    "    print(f\"Epoch {epoch+1} Eval Acc: {eval_acc}; Eval Loss: {eval_loss}\")"
   ]
  },
  {
   "cell_type": "code",
   "execution_count": 16,
   "id": "27b27ea9-82a6-429a-9198-da7e64683bba",
   "metadata": {
    "id": "27b27ea9-82a6-429a-9198-da7e64683bba"
   },
   "outputs": [],
   "source": [
    "torch.save(model.state_dict(), path+\"T5-small_model_5epoch.pt\")"
   ]
  },
  {
   "cell_type": "code",
   "execution_count": 22,
   "id": "QU3_bzhwBXud",
   "metadata": {
    "colab": {
     "base_uri": "https://localhost:8080/"
    },
    "id": "QU3_bzhwBXud",
    "outputId": "54540000-5f37-4f12-8f4e-dd46f1984416"
   },
   "outputs": [
    {
     "name": "stdout",
     "output_type": "stream",
     "text": [
      "The model has 54,925,824 trainable parameters\n"
     ]
    }
   ],
   "source": [
    "def count_parameters(model):\n",
    "    return sum(p.numel() for p in model.parameters() if p.requires_grad)\n",
    "\n",
    "print(f'The model has {count_parameters(model):,} trainable parameters')"
   ]
  },
  {
   "cell_type": "markdown",
   "id": "nExNVXOrwSe_",
   "metadata": {
    "id": "nExNVXOrwSe_"
   },
   "source": [
    "## Evaluation"
   ]
  },
  {
   "cell_type": "code",
   "execution_count": 17,
   "id": "DLFW9KkpjPQ9",
   "metadata": {
    "id": "DLFW9KkpjPQ9"
   },
   "outputs": [],
   "source": [
    "@torch.no_grad()\n",
    "def fill_idiom(model, loader):\n",
    "\n",
    "    all_preds = []\n",
    "    all_labels = []\n",
    "    model.eval()\n",
    "    for batch in loader:\n",
    "        batch = to_device(batch, device)\n",
    "        input_ids = batch[\"input_ids\"]\n",
    "        attention_mask = batch[\"attention_mask\"]\n",
    "        labels = batch[\"labels\"]\n",
    "        outputs = model.generate(input_ids=input_ids, \n",
    "                                 attention_mask=attention_mask, \n",
    "                                 return_dict_in_generate=True, \n",
    "                                 pad_token_id=tokenizer.pad_token_id, \n",
    "                                 max_length=512, \n",
    "                                 top_k=15)\n",
    "        truncated_outputs = []\n",
    "\n",
    "        decode_texts = tokenizer.batch_decode([l[l != 0] for l in outputs['sequences']])\n",
    "        gold_texts = tokenizer.batch_decode([l[l != 0] for l in labels])\n",
    "        # print(decode_texts, gold_texts)\n",
    "        for gold, decode in zip(gold_texts, decode_texts):\n",
    "            l = set(gold.replace(' ', '').replace('[CLS]', '').split(','))\n",
    "            p = set(decode.replace(' ', '').replace('[CLS]', '').split(','))\n",
    "            # print(l, p)\n",
    "            all_labels.append(l)\n",
    "            all_preds.append(p)\n",
    "        # print(decode_texts)\n",
    "        # print(gold_texts)\n",
    "        # break\n",
    "    \n",
    "    return all_preds, all_labels\n",
    "\n",
    "def f1_score(sys, gold):\n",
    "    tp = 0\n",
    "    total = 0\n",
    "    pos = 0\n",
    "    for s, g in zip(sys, gold):\n",
    "        total += len(g)\n",
    "        pos += len(s)\n",
    "        tp += len(g & s)\n",
    "    precision = tp / pos if pos != 0 else 0\n",
    "    recall = tp / total if total != 0 else 0\n",
    "    f1 = (2 * precision * recall) / (precision + recall) if (precision + recall) != 0 else 0\n",
    "    return precision, recall, f1, tp"
   ]
  },
  {
   "cell_type": "code",
   "execution_count": 27,
   "id": "ZiMhMM_ZjWsj",
   "metadata": {
    "id": "ZiMhMM_ZjWsj"
   },
   "outputs": [],
   "source": [
    "sys, gold = fill_idiom(model, dev_loader)\n",
    "p, r, f1, tp = f1_score(sys, gold)"
   ]
  },
  {
   "cell_type": "code",
   "execution_count": 26,
   "id": "TvhKNUaaOh3j",
   "metadata": {
    "id": "TvhKNUaaOh3j"
   },
   "outputs": [],
   "source": [
    "total = 0\n",
    "for s, g in zip(sys, gold):\n",
    "    total += len(g)"
   ]
  },
  {
   "cell_type": "code",
   "execution_count": 28,
   "id": "NVeTyoI4MDRF",
   "metadata": {
    "colab": {
     "base_uri": "https://localhost:8080/"
    },
    "id": "NVeTyoI4MDRF",
    "outputId": "e1574d75-bb46-4e5a-9a0c-1f4466d743d5"
   },
   "outputs": [
    {
     "name": "stdout",
     "output_type": "stream",
     "text": [
      "Accurate amount for Validation set is 1228 out of 3058\n",
      "Accuracy for Validation set is 0.40156965336821454\n",
      "F1 score for Validation set is 0.4040138180621813\n"
     ]
    }
   ],
   "source": [
    "print(f\"Accurate amount for Validation set is {tp} out of {total}\")\n",
    "print(f\"Accuracy for Validation set is {tp/total}\")\n",
    "print(f\"F1 score for Validation set is {f1}\")"
   ]
  },
  {
   "cell_type": "code",
   "execution_count": 19,
   "id": "gMSWr-DEtcEB",
   "metadata": {
    "colab": {
     "base_uri": "https://localhost:8080/"
    },
    "id": "gMSWr-DEtcEB",
    "outputId": "f52674bb-a441-40f6-ad5c-a7bc5340e255"
   },
   "outputs": [
    {
     "data": {
      "text/plain": [
       "[{'恨入骨髓'},\n",
       " {'杂乱无章'},\n",
       " {'跃跃欲试'},\n",
       " {'无与伦比'},\n",
       " {'一语道破', '不厌其烦', '评头题足'},\n",
       " {'一模一样'},\n",
       " {'罪魁祸首'},\n",
       " {'聪明才智'},\n",
       " {'百年不遇'},\n",
       " {'酸甜苦辣'}]"
      ]
     },
     "execution_count": 19,
     "metadata": {},
     "output_type": "execute_result"
    }
   ],
   "source": [
    "sys[:10]"
   ]
  },
  {
   "cell_type": "code",
   "execution_count": 20,
   "id": "YulPihgI0l98",
   "metadata": {
    "colab": {
     "base_uri": "https://localhost:8080/"
    },
    "id": "YulPihgI0l98",
    "outputId": "c74c8537-026f-4662-8e90-c49815703f3c"
   },
   "outputs": [
    {
     "data": {
      "text/plain": [
       "[{'深恶痛绝'},\n",
       " {'杂乱无章'},\n",
       " {'磨刀霍霍'},\n",
       " {'独一无二'},\n",
       " {'一语道破', '不厌其烦', '品头题足'},\n",
       " {'大同小异'},\n",
       " {'罪魁祸首'},\n",
       " {'聪明才智'},\n",
       " {'千载难逢'},\n",
       " {'酸甜苦辣'}]"
      ]
     },
     "execution_count": 20,
     "metadata": {},
     "output_type": "execute_result"
    }
   ],
   "source": [
    "gold[:10]"
   ]
  },
  {
   "cell_type": "markdown",
   "id": "9yaWdXwlTcqC",
   "metadata": {
    "id": "9yaWdXwlTcqC"
   },
   "source": [
    "## Train for 2 more epoches to see"
   ]
  },
  {
   "cell_type": "code",
   "execution_count": null,
   "id": "FA1JOKa3CJaM",
   "metadata": {
    "id": "FA1JOKa3CJaM"
   },
   "outputs": [],
   "source": [
    "\n"
   ]
  }
 ],
 "metadata": {
  "accelerator": "GPU",
  "colab": {
   "machine_shape": "hm",
   "provenance": []
  },
  "gpuClass": "standard",
  "kernelspec": {
   "display_name": "Python 3 (ipykernel)",
   "language": "python",
   "name": "python3"
  },
  "language_info": {
   "codemirror_mode": {
    "name": "ipython",
    "version": 3
   },
   "file_extension": ".py",
   "mimetype": "text/x-python",
   "name": "python",
   "nbconvert_exporter": "python",
   "pygments_lexer": "ipython3",
   "version": "3.10.6"
  }
 },
 "nbformat": 4,
 "nbformat_minor": 5
}
