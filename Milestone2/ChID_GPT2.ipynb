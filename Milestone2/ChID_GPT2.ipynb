{
 "cells": [
  {
   "attachments": {},
   "cell_type": "markdown",
   "metadata": {},
   "source": [
    "# GPT2 Chinese Idiom"
   ]
  },
  {
   "attachments": {},
   "cell_type": "markdown",
   "metadata": {},
   "source": [
    "## Import"
   ]
  },
  {
   "cell_type": "code",
   "execution_count": 1,
   "metadata": {},
   "outputs": [
    {
     "name": "stdout",
     "output_type": "stream",
     "text": [
      "Collecting transformers\n",
      "  Downloading transformers-4.27.4-py3-none-any.whl (6.8 MB)\n",
      "\u001b[K     |████████████████████████████████| 6.8 MB 3.4 MB/s eta 0:00:01\n",
      "\u001b[?25hRequirement already satisfied: regex!=2019.12.17 in /Users/sherrywang/opt/anaconda3/lib/python3.8/site-packages (from transformers) (2021.4.4)\n",
      "Collecting huggingface-hub<1.0,>=0.11.0\n",
      "  Downloading huggingface_hub-0.13.4-py3-none-any.whl (200 kB)\n",
      "\u001b[K     |████████████████████████████████| 200 kB 171.5 MB/s eta 0:00:01\n",
      "\u001b[?25hRequirement already satisfied: numpy>=1.17 in /Users/sherrywang/opt/anaconda3/lib/python3.8/site-packages (from transformers) (1.20.1)\n",
      "Collecting tokenizers!=0.11.3,<0.14,>=0.11.1\n",
      "  Downloading tokenizers-0.13.3-cp38-cp38-macosx_10_11_x86_64.whl (4.0 MB)\n",
      "\u001b[K     |████████████████████████████████| 4.0 MB 100.5 MB/s eta 0:00:01\n",
      "\u001b[?25hRequirement already satisfied: packaging>=20.0 in /Users/sherrywang/opt/anaconda3/lib/python3.8/site-packages (from transformers) (20.9)\n",
      "Requirement already satisfied: requests in /Users/sherrywang/opt/anaconda3/lib/python3.8/site-packages (from transformers) (2.25.1)\n",
      "Requirement already satisfied: filelock in /Users/sherrywang/opt/anaconda3/lib/python3.8/site-packages (from transformers) (3.0.12)\n",
      "Requirement already satisfied: tqdm>=4.27 in /Users/sherrywang/opt/anaconda3/lib/python3.8/site-packages (from transformers) (4.59.0)\n",
      "Requirement already satisfied: pyyaml>=5.1 in /Users/sherrywang/opt/anaconda3/lib/python3.8/site-packages (from transformers) (5.4.1)\n",
      "Requirement already satisfied: typing-extensions>=3.7.4.3 in /Users/sherrywang/opt/anaconda3/lib/python3.8/site-packages (from huggingface-hub<1.0,>=0.11.0->transformers) (4.4.0)\n",
      "Requirement already satisfied: pyparsing>=2.0.2 in /Users/sherrywang/opt/anaconda3/lib/python3.8/site-packages (from packaging>=20.0->transformers) (2.4.7)\n",
      "Requirement already satisfied: certifi>=2017.4.17 in /Users/sherrywang/opt/anaconda3/lib/python3.8/site-packages (from requests->transformers) (2020.12.5)\n",
      "Requirement already satisfied: idna<3,>=2.5 in /Users/sherrywang/opt/anaconda3/lib/python3.8/site-packages (from requests->transformers) (2.10)\n",
      "Requirement already satisfied: chardet<5,>=3.0.2 in /Users/sherrywang/opt/anaconda3/lib/python3.8/site-packages (from requests->transformers) (4.0.0)\n",
      "Requirement already satisfied: urllib3<1.27,>=1.21.1 in /Users/sherrywang/opt/anaconda3/lib/python3.8/site-packages (from requests->transformers) (1.26.4)\n",
      "Installing collected packages: tokenizers, huggingface-hub, transformers\n",
      "Successfully installed huggingface-hub-0.13.4 tokenizers-0.13.3 transformers-4.27.4\n"
     ]
    }
   ],
   "source": [
    "!pip install -Uqq fastai\n",
    "!pip install transformers"
   ]
  },
  {
   "cell_type": "code",
   "execution_count": 3,
   "metadata": {},
   "outputs": [],
   "source": [
    "from transformers import GPT2LMHeadModel, GPT2TokenizerFast\n",
    "\n",
    "import torch\n",
    "from fastai.text.all import *\n",
    "\n",
    "import pandas as pd"
   ]
  },
  {
   "attachments": {},
   "cell_type": "markdown",
   "metadata": {},
   "source": [
    "### Model1: Nazi Generator"
   ]
  },
  {
   "cell_type": "code",
   "execution_count": 11,
   "metadata": {},
   "outputs": [],
   "source": [
    "# https://www.kaggle.com/code/vyombhatia/nazi-generator\n",
    "\n",
    "pretrained_weights = 'gpt2'\n",
    "tokenizer = GPT2TokenizerFast.from_pretrained(pretrained_weights)\n",
    "model = GPT2LMHeadModel.from_pretrained(pretrained_weights)"
   ]
  },
  {
   "cell_type": "code",
   "execution_count": 12,
   "metadata": {},
   "outputs": [
    {
     "data": {
      "text/plain": [
       "[1212, 318, 281, 1672, 286, 2420, 11, 290]"
      ]
     },
     "execution_count": 12,
     "metadata": {},
     "output_type": "execute_result"
    }
   ],
   "source": [
    "# Encoding\n",
    "ids = tokenizer.encode('This is an example of text, and')\n",
    "ids"
   ]
  },
  {
   "cell_type": "code",
   "execution_count": 13,
   "metadata": {},
   "outputs": [
    {
     "data": {
      "text/plain": [
       "'This is an example of text, and'"
      ]
     },
     "execution_count": 13,
     "metadata": {},
     "output_type": "execute_result"
    }
   ],
   "source": [
    "# Decoding\n",
    "tokenizer.decode(ids)"
   ]
  },
  {
   "attachments": {},
   "cell_type": "markdown",
   "metadata": {},
   "source": [
    "### Model2: uer/gpt2-chinese-cluecorpussmall"
   ]
  },
  {
   "cell_type": "code",
   "execution_count": 83,
   "metadata": {},
   "outputs": [
    {
     "name": "stderr",
     "output_type": "stream",
     "text": [
      "Setting `pad_token_id` to `eos_token_id`:50256 for open-end generation.\n"
     ]
    },
    {
     "data": {
      "text/plain": [
       "[{'generated_text': '这是很久之前的事情了 ， 一 直 没 在 意 过 。 小 刘 说 ， 以 前 上 厕 所 很 麻 烦 ， 就 是 觉 得 有 必 要 找 个 厕 所 之 类 的 ， 后 来 才 敢 去 找 ， 就 没 再 用 过 。 王 先 生 一 直 不 相 信 ， 为 什 么 要 找 这 样 的 厕 所 ， 他 找 来 小 编 ， 回 答 ： 没 有 的 ， 只 有 别 人 的 厕'}]"
      ]
     },
     "execution_count": 83,
     "metadata": {},
     "output_type": "execute_result"
    }
   ],
   "source": [
    "# https://huggingface.co/uer/gpt2-chinese-cluecorpussmall?text=%E4%BB%8A%E5%A4%A9%E5%A4%A9%E6%B0%94%E7%9C%9F%E5%A5%BD%EF%BC%8C%E4%BD%86%E6%98%AF\n",
    "\n",
    "from transformers import BertTokenizer, GPT2LMHeadModel, TextGenerationPipeline\n",
    "\n",
    "tokenizer = BertTokenizer.from_pretrained(\"uer/gpt2-chinese-cluecorpussmall\")\n",
    "model = GPT2LMHeadModel.from_pretrained(\"uer/gpt2-chinese-cluecorpussmall\")\n",
    "text_generator = TextGenerationPipeline(model, tokenizer)   \n",
    "text_generator(\"这是很久之前的事情了\", max_length=100, do_sample=True)"
   ]
  },
  {
   "attachments": {},
   "cell_type": "markdown",
   "metadata": {},
   "source": [
    "### Model3: yuanzhoulvpi/gpt2_chinese"
   ]
  },
  {
   "cell_type": "code",
   "execution_count": 4,
   "metadata": {},
   "outputs": [
    {
     "name": "stderr",
     "output_type": "stream",
     "text": [
      "Downloading (…)okenizer_config.json: 100%|██████████| 349/349 [00:00<00:00, 35.1kB/s]\n",
      "Downloading (…)solve/main/vocab.txt: 100%|██████████| 110k/110k [00:00<00:00, 2.15MB/s]\n",
      "Downloading (…)/main/tokenizer.json: 100%|██████████| 439k/439k [00:00<00:00, 2.27MB/s]\n",
      "Downloading (…)in/added_tokens.json: 100%|██████████| 29.0/29.0 [00:00<00:00, 6.18kB/s]\n",
      "Downloading (…)cial_tokens_map.json: 100%|██████████| 205/205 [00:00<00:00, 35.9kB/s]\n",
      "Downloading (…)lve/main/config.json: 100%|██████████| 906/906 [00:00<00:00, 182kB/s]\n",
      "Downloading pytorch_model.bin: 100%|██████████| 421M/421M [00:07<00:00, 59.3MB/s] \n",
      "Downloading (…)neration_config.json: 100%|██████████| 119/119 [00:00<00:00, 8.13kB/s]\n"
     ]
    }
   ],
   "source": [
    "# https://huggingface.co/yuanzhoulvpi/gpt2_chinese?text=%E6%88%91%E5%8F%AB%E7%8E%9B%E4%B8%BD%E4%BA%9A%EF%BC%8C%E6%88%91%E6%9C%80%E5%96%9C%E6%AC%A2%E7%9A%84+%E6%BC%94+%E5%91%98+%E6%98%AF+%E8%B0%81+%E5%95%8A+%EF%BC%9F%2C+%E7%AE%80+%E5%8D%95+%E7%9A%84+%E6%8F%8F+%E8%BF%B0+%E6%98%AF%2C+%E7%AD%94+%E6%A1%88+%E6%98%AF+%E4%BD%A0+%E5%A5%BD+%EF%BC%8C+%E6%88%91+%E6%9D%A5+%E6%8A%8A+%E4%BD%A0+%E4%BB%8B+%E7%BB%8D+%E4%B8%80+%E4%B8%8B..+%E6%98%AF+%E5%A5%B9+%E7%AC%AC+%E4%B8%80+%E4%BD%8D+%E6%BC%94\n",
    "\n",
    "from transformers import GPT2LMHeadModel, AutoTokenizer\n",
    "\n",
    "model_name_or_path = \"yuanzhoulvpi/gpt2_chinese\"#\"checkpoint-36000\"\n",
    "tokenizer = AutoTokenizer.from_pretrained(model_name_or_path)\n",
    "\n",
    "# add the EOS token as PAD token to avoid warnings\n",
    "model = GPT2LMHeadModel.from_pretrained(model_name_or_path, pad_token_id=tokenizer.eos_token_id)"
   ]
  },
  {
   "attachments": {},
   "cell_type": "markdown",
   "metadata": {},
   "source": [
    "### Model4: IDEA-CCNL/Wenzhong2.0-GPT2-3.5B-chinese"
   ]
  },
  {
   "cell_type": "code",
   "execution_count": 68,
   "metadata": {},
   "outputs": [],
   "source": [
    "# https://huggingface.co/IDEA-CCNL/Wenzhong2.0-GPT2-3.5B-chinese?text=%E6%88%91%E4%BB%8A%E5%A4%A9%E5%8E%BB%E5%90%83%E8%82%AF%E5%BE%B7%E5%9F%BA%EF%BC%8C%E7%84%B6%E5%90%8E\n",
    "\n",
    "from transformers import GPT2Tokenizer, GPT2LMHeadModel\n",
    "\n",
    "# tokenizer = GPT2Tokenizer.from_pretrained('IDEA-CCNL/Wenzhong2.0-GPT2-3.5B-chinese')\n",
    "# model = GPT2LMHeadModel.from_pretrained('IDEA-CCNL/Wenzhong2.0-GPT2-3.5B-chinese')\n",
    "# text = \"Replace me by any text you'd like.\"\n",
    "# encoded_input = tokenizer(text, return_tensors='pt')\n",
    "# output = model(**encoded_input)"
   ]
  },
  {
   "cell_type": "markdown",
   "metadata": {},
   "source": [
    "## Preprocessing"
   ]
  },
  {
   "attachments": {},
   "cell_type": "markdown",
   "metadata": {},
   "source": [
    "### Load data in dictionary format"
   ]
  },
  {
   "cell_type": "code",
   "execution_count": 78,
   "metadata": {},
   "outputs": [
    {
     "data": {
      "text/plain": [
       "['{\"groundTruth\": [\"发扬光大\", \"平易近人\", \"温文尔雅\"], \"candidates\": [[\"意气风发\", \"街谈巷议\", \"人才辈出\", \"一脉相传\", \"后继有人\", \"发扬光大\", \"腥风血雨\"], [\"平易近人\", \"落落大方\", \"八仙过海\", \"彬彬有礼\", \"史无前例\", \"盛气凌人\", \"好自为之\"], [\"不拘小节\", \"风流潇洒\", \"无病呻吟\", \"言谈举止\", \"壮志凌云\", \"关门闭户\", \"温文尔雅\"]], \"content\": \"由实力派演员刘威饰演的清华第三任校长蒋南翔，是我国著名的青年运动家和教育家，他跟清华终身校长梅贻琦一样，都是由清华人自己培养出来的校长。历史上的蒋南翔是著名的“一二九”学生救亡运动的领导人之一，他在清华校长之位14年期间，不但很好的继承了清华建校之初的优秀传统与理念，而且更加的#idiom#，他把清华的教师队伍扩大了将近5倍，将清华本科人数破万，为新中国培养了大量的有用人才。在《天行健》中饰演蒋南翔的刘威是观众所熟悉的著名实力派演员，早在1987年刘威就在《关东大侠》中饰演豪爽仗义的关云天一角而获得了金鸡奖最佳男主角的提名，后来更是因在《唐明皇》中精湛的表演而一举夺得金鹰奖最佳男演员奖。此次《天行健》选定刘威来出演正是看中了他#idiom#的表演方式和对人物深入内心的刻画。至此，《天行健》中涉及的三位清华校长的人选都已经曝光，#idiom#的第一任校长赵文?、稳重坚毅的第二任校长孙逊、亲切务实的第三任校长刘威，再加上梁思成、林徽因、朱自清、闻一多等一批“大师”的加盟，相信作为清华百年校庆重点项目之一的《天行健》一定会带领观众重温那段不能抹去的历史。\", \"realCount\": 3}\\n',\n",
       " '{\"groundTruth\": [\"肥头大耳\"], \"candidates\": [[\"超凡入圣\", \"骨瘦如柴\", \"青面獠牙\", \"虎背熊腰\", \"成人之美\", \"肥头大耳\", \"神不守舍\"]], \"content\": \"#idiom#的掌柜只穿一件衬衫，坐在柜台里。几个堂倌穿着脏得发黑的白工作服，因为没有顾客，都散坐在桌子旁。这当儿看到这位不寻常的客人，都露出好奇的神色列宁曾批评他理论上的错误，同时认为他“所写的全部哲学，赶紧迎上前来伺候。聂赫留朵夫要了一瓶矿泉水，在离窗较远的地方挨着一张铺有肮脏桌布的小桌坐下。\", \"realCount\": 1}\\n',\n",
       " '{\"groundTruth\": [\"通力合作\", \"有的放矢\"], \"candidates\": [[\"凭空捏造\", \"高头大马\", \"通力合作\", \"同舟共济\", \"和衷共济\", \"蓬头垢面\", \"紧锣密鼓\"], [\"叫苦连天\", \"量体裁衣\", \"金榜题名\", \"百战不殆\", \"知彼知己\", \"有的放矢\", \"风流才子\"]], \"content\": \"世锦赛的整体水平远高于亚洲杯，要如同亚洲杯那样“鱼与熊掌兼得”，就需要各方面密切配合、#idiom#。作为主帅的俞觉敏，除了得打破保守思想，敢于破格用人，还得巧于用兵、#idiom#、灵活排阵，指挥得当，力争通过比赛推新人、出佳绩、出新的战斗力。\", \"realCount\": 2}\\n',\n",
       " '{\"groundTruth\": [\"粉墨登场\"], \"candidates\": [[\"望洋而叹\", \"层出不穷\", \"纷至沓来\", \"不闻不问\", \"风云际会\", \"心广体胖\", \"粉墨登场\"]], \"content\": \"2011年，李晨的两部力作《奋斗》、《建党伟业》将相继上映，电视剧《风车》和《理发师》也将#idiom#，承接2010年的辉煌绽放，在新的一年，李晨将展现出更精彩，更惊艳的熟男魅力。\", \"realCount\": 1}\\n',\n",
       " '{\"groundTruth\": [\"老生常谈\"], \"candidates\": [[\"陈词滥调\", \"赏罚分明\", \"说来说去\", \"古往今来\", \"老生常谈\", \"双喜临门\", \"颠扑不破\"]], \"content\": \"第四，其实以上都是#idiom#，最重要的是你要爱上他，但当你的确有了一段以上的冷静后，我想你应该爆发一下，例如：是用恶搞恶唱的形式，还是在一个空间里将其痛骂，直至心中的闷火发泄出来，以上2点是必不可少的，作用甚佳。\", \"realCount\": 1}\\n']"
      ]
     },
     "execution_count": 78,
     "metadata": {},
     "output_type": "execute_result"
    }
   ],
   "source": [
    "def read_data(file):\n",
    "    with open (file) as t:\n",
    "        data = t.readlines()\n",
    "    return data\n",
    "\n",
    "train_data = read_data('./ChID_data/train_data.txt')\n",
    "dev_data = read_data('./ChID_data/dev_data.txt')\n",
    "test_data = read_data('./ChID_data/test_data.txt')\n",
    "\n",
    "train_data[:5]\n"
   ]
  },
  {
   "cell_type": "code",
   "execution_count": 79,
   "metadata": {},
   "outputs": [
    {
     "name": "stdout",
     "output_type": "stream",
     "text": [
      "['由实力派演员刘威饰演的清华第三任校长蒋南翔，是我国著名的青年运动家和教育家，他跟清华终身校长梅贻琦一样，都是由清华人自己培养出来的校长。历史上的蒋南翔是著名的“一二九”学生救亡运动的领导人之一，他在清华校长之位14年期间，不但很好的继承了清华建校之初的优秀传统与理念，而且更加的(意气风发|街谈巷议|人才辈出|一脉相传|后继有人|发扬光大|腥风血雨)，他把清华的教师队伍扩大了将近5倍，将清华本科人数破万，为新中国培养了大量的有用人才。在《天行健》中饰演蒋南翔的刘威是观众所熟悉的著名实力派演员，早在1987年刘威就在《关东大侠》中饰演豪爽仗义的关云天一角而获得了金鸡奖最佳男主角的提名，后来更是因在《唐明皇》中精湛的表演而一举夺得金鹰奖最佳男演员奖。此次《天行健》选定刘威来出演正是看中了他(平易近人|落落大方|八仙过海|彬彬有礼|史无前例|盛气凌人|好自为之)的表演方式和对人物深入内心的刻画。至此，《天行健》中涉及的三位清华校长的人选都已经曝光，(不拘小节|风流潇洒|无病呻吟|言谈举止|壮志凌云|关门闭户|温文尔雅)的第一任校长赵文?、稳重坚毅的第二任校长孙逊、亲切务实的第三任校长刘威，再加上梁思成、林徽因、朱自清、闻一多等一批“大师”的加盟，相信作为清华百年校庆重点项目之一的《天行健》一定会带领观众重温那段不能抹去的历史。', '(超凡入圣|骨瘦如柴|青面獠牙|虎背熊腰|成人之美|肥头大耳|神不守舍)的掌柜只穿一件衬衫，坐在柜台里。几个堂倌穿着脏得发黑的白工作服，因为没有顾客，都散坐在桌子旁。这当儿看到这位不寻常的客人，都露出好奇的神色列宁曾批评他理论上的错误，同时认为他“所写的全部哲学，赶紧迎上前来伺候。聂赫留朵夫要了一瓶矿泉水，在离窗较远的地方挨着一张铺有肮脏桌布的小桌坐下。'] \n",
      " [['发扬光大', '平易近人', '温文尔雅'], ['肥头大耳']]\n"
     ]
    }
   ],
   "source": [
    "# replace #idiom# with candidates\n",
    "def preprocess(data):\n",
    "    text_input = []\n",
    "    idiom_output = []\n",
    "    for i in range(len(data)):\n",
    "        data[i] = eval(data[i])\n",
    "        input_text = data[i]['content']\n",
    "        ground_truth = data[i]['groundTruth']\n",
    "        candidates = data[i]['candidates']\n",
    "        \n",
    "        for j, idiom in enumerate(ground_truth):\n",
    "            candidates_str = '|'.join([c for c in candidates[j]])\n",
    "            input_text = input_text.replace('#idiom#', \"(\" + candidates_str + \")\", 1)\n",
    "            label = idiom\n",
    "            \n",
    "        text_input.append(input_text)\n",
    "        idiom_output.append(ground_truth)\n",
    "    return text_input, idiom_output\n",
    "\n",
    "train_input, train_output = preprocess(train_data)\n",
    "dev_input, dev_output = preprocess(dev_data)\n",
    "test_input, test_output = preprocess(test_data)\n",
    "\n",
    "print(train_input[:2], '\\n', train_output[:2])"
   ]
  },
  {
   "cell_type": "code",
   "execution_count": 84,
   "metadata": {},
   "outputs": [
    {
     "name": "stderr",
     "output_type": "stream",
     "text": [
      "Setting `pad_token_id` to `eos_token_id`:50256 for open-end generation.\n"
     ]
    },
    {
     "name": "stdout",
     "output_type": "stream",
     "text": [
      "model result: 世 锦 赛 的 整 体 水 平 远 高 于 亚 洲 杯 ， 要 如 同 亚 洲 杯 那 样 鱼 与 熊 掌 兼 得 ， 就 需 要 各 方 面 密 切 配 合 、 （ 凭 空 捏 造 | 高 头 大 马 | 通 力 合 作 | 同 舟 共 济 | 和 衷 共 济 | 蓬 头 垢 面 | 紧 锣 密 鼓 ） 。 作 为 主 帅 的 俞 觉 敏 ， 除 了 得 打 破 保 守 思 想 ， 敢 于 破 格 用 人 ， 还 得 巧 于 用 兵 、 ( 叫 苦 连 天 | 量 体 裁 衣 | 金 榜 题 名 | 百 战 不 殆 | 知 彼 知 己 | 风 流 才 子 ) 、 灵 活 排 阵 ， 指 挥 得 当 ， 力 争 通 过 比 赛 推 新 人 、 出 佳 绩 、 出 新 的 战 斗 力 。 请 从 括 号 里 选 择 出 合 适 的 成 语? 【 中 国 乒 乓 球 队 】 ： 「 你 们 一 定 是 来 自 日 本 ！ 」 のともにかくるスタートンエイリアーフースタインクッカーをていろのコミーンムールートライトワーク 地 址 : www east collenja - parking station102 @ distorenation203 ＠↗121d270a9b8e6c4afa201401718acuisimple mapsto _ 6think16392093888538358527855695759674684568168805a5007077947367a10150885547786448248497072873789756673654596647497629334199128763340950694321499230541983926295061420161122022551240143004700463602103012710111233601331009013010110173651512016◆37015016010010130500800900340905208887503d2010200025020020152011201220092013 年 11 月 22 到 12 期 间 我 在 这 个 时 候 看 见 有 些 家 伙 把 小 孩 弄 丢 掉 呢 ？ 或 者 干 脆 将 他 扔 进 垃 圾 桶 裡 吧 啦 喏 ~ 唷! ﹗↓★☆⑧⑨⑦⑩⑤⑥①②③④▍█◢ ⑩├─└ ├ 湫 所 以 這\n",
      "****************************************************************************************************\n"
     ]
    }
   ],
   "source": [
    "device = torch.device('cuda' if torch.cuda.is_available() else 'cpu')\n",
    "\n",
    "def postprocess(text):\n",
    "    return text.replace('.', '').replace('</>','')\n",
    "\n",
    "def answer_fn(text, top_k=50):\n",
    "    encoding = tokenizer(text=[text], truncation=True, padding=True, max_length=256, return_tensors=\"pt\").to(device) \n",
    "    out = model.generate(**encoding, return_dict_in_generate=True, output_scores=False, max_length=512,temperature=0.5,do_sample=True,repetition_penalty=3.0 ,top_k=top_k)\n",
    "    result = tokenizer.batch_decode(out[\"sequences\"], skip_special_tokens=True)\n",
    "    return postprocess(result[0])\n",
    "\n",
    "x1 = \"\"\"世锦赛的整体水平远高于亚洲杯，要如同亚洲杯那样“鱼与熊掌兼得”，就需要各方面密切配合、（凭空捏造|高头大马|通力合作|同舟共济|和衷共济|蓬头垢面|紧锣密鼓）。作为主帅的俞觉敏，除了得打破保守思想，敢于破格用人，还得巧于用兵、(叫苦连天|量体裁衣|金榜题名|百战不殆|知彼知己|风流才子)、\n",
    "灵活排阵，指挥得当，力争通过比赛推新人、出佳绩、出新的战斗力。请从括号里选择出合适的成语\"\"\"\n",
    "# y1 = [\"高头大马\", \"叫苦连天\"]\n",
    "\n",
    "result=answer_fn(x1, top_k=50)\n",
    "print(\"model result:\",result)\n",
    "print('*'*100)"
   ]
  },
  {
   "attachments": {},
   "cell_type": "markdown",
   "metadata": {},
   "source": [
    "### Load data in dataframe format"
   ]
  },
  {
   "cell_type": "code",
   "execution_count": 113,
   "metadata": {},
   "outputs": [
    {
     "data": {
      "text/html": [
       "<div>\n",
       "<style scoped>\n",
       "    .dataframe tbody tr th:only-of-type {\n",
       "        vertical-align: middle;\n",
       "    }\n",
       "\n",
       "    .dataframe tbody tr th {\n",
       "        vertical-align: top;\n",
       "    }\n",
       "\n",
       "    .dataframe thead th {\n",
       "        text-align: right;\n",
       "    }\n",
       "</style>\n",
       "<table border=\"1\" class=\"dataframe\">\n",
       "  <thead>\n",
       "    <tr style=\"text-align: right;\">\n",
       "      <th></th>\n",
       "      <th>groundTruth</th>\n",
       "      <th>candidates</th>\n",
       "      <th>content</th>\n",
       "    </tr>\n",
       "  </thead>\n",
       "  <tbody>\n",
       "    <tr>\n",
       "      <th>0</th>\n",
       "      <td>[发扬光大, 平易近人, 温文尔雅]</td>\n",
       "      <td>[[意气风发, 街谈巷议, 人才辈出, 一脉相传, 后继有人, 发扬光大, 腥风血雨], [平易近人, 落落大方, 八仙过海, 彬彬有礼, 史无前例, 盛气凌人, 好自为之], [不拘小节, 风流潇洒, 无病呻吟, 言谈举止, 壮志凌云, 关门闭户, 温文尔雅]]</td>\n",
       "      <td>由实力派演员刘威饰演的清华第三任校长蒋南翔，是我国著名的青年运动家和教育家，他跟清华终身校长梅贻琦一样，都是由清华人自己培养出来的校长。历史上的蒋南翔是著名的“一二九”学生救亡运动的领导人之一，他在清华校长之位14年期间，不但很好的继承了清华建校之初的优秀传统与理念，而且更加的#idiom#，他把清华的教师队伍扩大了将近5倍，将清华本科人数破万，为新中国培养了大量的有用人才。在《天行健》中饰演蒋南翔的刘威是观众所熟悉的著名实力派演员，早在1987年刘威就在《关东大侠》中饰演豪爽仗义的关云天一角而获得了金鸡奖最佳男主角的提名，后来更是因在《唐明皇》中精湛的表演而一举夺得金鹰奖最佳男演员奖。此次《天行健》选定刘威来出演正是看中了他#idiom#的表演方式和对人物深入内心的刻画。至此，《天行健》中涉及的三位清华校长的人选都已经曝光，#idiom#的第一任校长赵文?、稳重坚毅的第二任校长孙逊、亲切务实的第三任校长刘威，再加上梁思成、林徽因、朱自清、闻一多等一批“大师”的加盟，相信作为清华百年校庆重点项目之一的《天行健》一定会带领观众重温那段不能抹去的历史。</td>\n",
       "    </tr>\n",
       "    <tr>\n",
       "      <th>1</th>\n",
       "      <td>[肥头大耳]</td>\n",
       "      <td>[[超凡入圣, 骨瘦如柴, 青面獠牙, 虎背熊腰, 成人之美, 肥头大耳, 神不守舍]]</td>\n",
       "      <td>#idiom#的掌柜只穿一件衬衫，坐在柜台里。几个堂倌穿着脏得发黑的白工作服，因为没有顾客，都散坐在桌子旁。这当儿看到这位不寻常的客人，都露出好奇的神色列宁曾批评他理论上的错误，同时认为他“所写的全部哲学，赶紧迎上前来伺候。聂赫留朵夫要了一瓶矿泉水，在离窗较远的地方挨着一张铺有肮脏桌布的小桌坐下。</td>\n",
       "    </tr>\n",
       "    <tr>\n",
       "      <th>2</th>\n",
       "      <td>[通力合作, 有的放矢]</td>\n",
       "      <td>[[凭空捏造, 高头大马, 通力合作, 同舟共济, 和衷共济, 蓬头垢面, 紧锣密鼓], [叫苦连天, 量体裁衣, 金榜题名, 百战不殆, 知彼知己, 有的放矢, 风流才子]]</td>\n",
       "      <td>世锦赛的整体水平远高于亚洲杯，要如同亚洲杯那样“鱼与熊掌兼得”，就需要各方面密切配合、#idiom#。作为主帅的俞觉敏，除了得打破保守思想，敢于破格用人，还得巧于用兵、#idiom#、灵活排阵，指挥得当，力争通过比赛推新人、出佳绩、出新的战斗力。</td>\n",
       "    </tr>\n",
       "    <tr>\n",
       "      <th>3</th>\n",
       "      <td>[粉墨登场]</td>\n",
       "      <td>[[望洋而叹, 层出不穷, 纷至沓来, 不闻不问, 风云际会, 心广体胖, 粉墨登场]]</td>\n",
       "      <td>2011年，李晨的两部力作《奋斗》、《建党伟业》将相继上映，电视剧《风车》和《理发师》也将#idiom#，承接2010年的辉煌绽放，在新的一年，李晨将展现出更精彩，更惊艳的熟男魅力。</td>\n",
       "    </tr>\n",
       "    <tr>\n",
       "      <th>4</th>\n",
       "      <td>[老生常谈]</td>\n",
       "      <td>[[陈词滥调, 赏罚分明, 说来说去, 古往今来, 老生常谈, 双喜临门, 颠扑不破]]</td>\n",
       "      <td>第四，其实以上都是#idiom#，最重要的是你要爱上他，但当你的确有了一段以上的冷静后，我想你应该爆发一下，例如：是用恶搞恶唱的形式，还是在一个空间里将其痛骂，直至心中的闷火发泄出来，以上2点是必不可少的，作用甚佳。</td>\n",
       "    </tr>\n",
       "    <tr>\n",
       "      <th>...</th>\n",
       "      <td>...</td>\n",
       "      <td>...</td>\n",
       "      <td>...</td>\n",
       "    </tr>\n",
       "    <tr>\n",
       "      <th>520706</th>\n",
       "      <td>[训练有素]</td>\n",
       "      <td>[[不同凡响, 训练有素, 人多势众, 正颜厉色, 溃不成军, 以一当十, 暴风骤雨]]</td>\n",
       "      <td>波托斯胆怯地啃着他的鸡翅膀，当他感到桌底下诉讼代理人太太的膝盖总来触碰他的膝盖时，他为之一颤。他也将倍受珍惜的这种葡萄酒喝了半杯，他品出这是蒙特勒伊产的难喝的酒。#idiom#的味觉真厉害。科克纳尔先生瞅他猛灌这种纯葡萄酒，长叹一声。</td>\n",
       "    </tr>\n",
       "    <tr>\n",
       "      <th>520707</th>\n",
       "      <td>[不胫而走, 添油加醋, 道听涂说, 应有尽有, 穷愁潦倒]</td>\n",
       "      <td>[[有勇无谋, 不胫而走, 摧枯拉朽, 轩然大波, 销声匿迹, 重见天日, 不攻自破], [捕风捉影, 料事如神, 原原本本, 怒气冲天, 借题发挥, 添油加醋, 衣衫蓝缕], [司空见惯, 不足为凭, 无稽之言, 道听涂说, 人云亦云, 劳苦功高, 高头大马], [五花八门, 林林总总, 开门见山, 一命归阴, 洗心革面, 数不胜数, 应有尽有], [家徒四壁, 穷愁潦倒, 欢欣鼓舞, 安然无恙, 一贫如洗, 囊空如洗, 粉墨登场]]</td>\n",
       "      <td>帕特里克被抓获的消息在沿海地区司法界#idiom#。许许多多的律师都在谈论此事，而且往往要#idiom#；然后这些经过加工的事实又以惊人的速度在他们中间再次流传。各种各样的传闻，#idiom#的，完全杜撰的，#idiom#。他体重130磅，会说五种语言。那笔巨款已经找到。所有那么多钱都收不回来了。他几乎是#idiom#。或许他有一幢豪华住宅。他一人独住。他又娶了妻，养了三个孩子。有关方面已经查明了那笔巨款的下落。迄今他们没有任何线索。</td>\n",
       "    </tr>\n",
       "    <tr>\n",
       "      <th>520708</th>\n",
       "      <td>[狭路相逢]</td>\n",
       "      <td>[[决一雌雄, 流连忘反, 冤家路窄, 狭路相逢, 顺理成章, 一文不名, 一决雌雄]]</td>\n",
       "      <td>新浪体育讯9月27日消息：2011年中信银行中国业余高尔夫球巡回赛首轮比赛正在苏州新东海高尔夫乡村俱乐部举行，女子球员上午出发，目前已全部完成比赛，刘思芸交出女选手中唯一六字头69杆，2杆优势获单独领先。业巡赛沈阳站领先争冠好手吴莎(微博)杨嘉欣(微博)再度#idiom#，两人都交出71杆后，排在并列第二位。</td>\n",
       "    </tr>\n",
       "    <tr>\n",
       "      <th>520709</th>\n",
       "      <td>[影影绰绰, 感同身受]</td>\n",
       "      <td>[[楚楚动人, 亭台楼阁, 无边无际, 戛然而止, 星星点点, 影影绰绰, 大势所趋], [刻骨铭心, 将心比心, 藏龙卧虎, 明火执仗, 盖棺论定, 感同身受, 肝肠寸断]]</td>\n",
       "      <td>雨肆虐着，天像被捅破了一般。又是一个清凉的夏夜，留出很多空白来，等着人们去填写和作答。睡不踏实，左小青早早上了床，挪过电视机，将荧屏正对着，一遍遍地去读各个频道轮番播出的抢劫画面。画面资料被重新制作了一遍，显得很新潮，但肖依被枪杀的片段仍打上了马赛克，#idiom#的。新凯悦珠宝店一案的悬红30万，被讲究地制成了艺术字，黑底红字，绷紧了整个屏幕，还尾随着三个大大的惊叹号。左小青很起腻，她觉得电视台根本不负责任，将一场抢劫谋杀案搞成了狂欢节，唯恐天下不乱似的。她#idiom#地想，要是被害人家属看到如此的画面，该作何感想?</td>\n",
       "    </tr>\n",
       "    <tr>\n",
       "      <th>520710</th>\n",
       "      <td>[交相辉映]</td>\n",
       "      <td>[[星罗棋布, 交相辉映, 鲜艳夺目, 五光十色, 兵戎相见, 正经八百, 有恃无恐]]</td>\n",
       "      <td>彻底打破了单一的颜色模式，用大红色沙发与草绿色羊毛毯替代了原有的冷调，原本就能擦出激烈火花的两种色彩，在白色背景映衬下，越发饱满、惹眼，迸发出家的激情与活力。吊灯替换了落地灯，错落的球形吊灯丰富了空间的视觉层次，与背景墙上的装饰画#idiom#，再也不会有放眼望去苍白一片的空虚感。</td>\n",
       "    </tr>\n",
       "  </tbody>\n",
       "</table>\n",
       "<p>520711 rows × 3 columns</p>\n",
       "</div>"
      ],
      "text/plain": [
       "                           groundTruth  \\\n",
       "0                   [发扬光大, 平易近人, 温文尔雅]   \n",
       "1                               [肥头大耳]   \n",
       "2                         [通力合作, 有的放矢]   \n",
       "3                               [粉墨登场]   \n",
       "4                               [老生常谈]   \n",
       "...                                ...   \n",
       "520706                          [训练有素]   \n",
       "520707  [不胫而走, 添油加醋, 道听涂说, 应有尽有, 穷愁潦倒]   \n",
       "520708                          [狭路相逢]   \n",
       "520709                    [影影绰绰, 感同身受]   \n",
       "520710                          [交相辉映]   \n",
       "\n",
       "                                                                                                                                                                                                                          candidates  \\\n",
       "0                                                                                               [[意气风发, 街谈巷议, 人才辈出, 一脉相传, 后继有人, 发扬光大, 腥风血雨], [平易近人, 落落大方, 八仙过海, 彬彬有礼, 史无前例, 盛气凌人, 好自为之], [不拘小节, 风流潇洒, 无病呻吟, 言谈举止, 壮志凌云, 关门闭户, 温文尔雅]]   \n",
       "1                                                                                                                                                                                       [[超凡入圣, 骨瘦如柴, 青面獠牙, 虎背熊腰, 成人之美, 肥头大耳, 神不守舍]]   \n",
       "2                                                                                                                                           [[凭空捏造, 高头大马, 通力合作, 同舟共济, 和衷共济, 蓬头垢面, 紧锣密鼓], [叫苦连天, 量体裁衣, 金榜题名, 百战不殆, 知彼知己, 有的放矢, 风流才子]]   \n",
       "3                                                                                                                                                                                       [[望洋而叹, 层出不穷, 纷至沓来, 不闻不问, 风云际会, 心广体胖, 粉墨登场]]   \n",
       "4                                                                                                                                                                                       [[陈词滥调, 赏罚分明, 说来说去, 古往今来, 老生常谈, 双喜临门, 颠扑不破]]   \n",
       "...                                                                                                                                                                                                                              ...   \n",
       "520706                                                                                                                                                                                  [[不同凡响, 训练有素, 人多势众, 正颜厉色, 溃不成军, 以一当十, 暴风骤雨]]   \n",
       "520707  [[有勇无谋, 不胫而走, 摧枯拉朽, 轩然大波, 销声匿迹, 重见天日, 不攻自破], [捕风捉影, 料事如神, 原原本本, 怒气冲天, 借题发挥, 添油加醋, 衣衫蓝缕], [司空见惯, 不足为凭, 无稽之言, 道听涂说, 人云亦云, 劳苦功高, 高头大马], [五花八门, 林林总总, 开门见山, 一命归阴, 洗心革面, 数不胜数, 应有尽有], [家徒四壁, 穷愁潦倒, 欢欣鼓舞, 安然无恙, 一贫如洗, 囊空如洗, 粉墨登场]]   \n",
       "520708                                                                                                                                                                                  [[决一雌雄, 流连忘反, 冤家路窄, 狭路相逢, 顺理成章, 一文不名, 一决雌雄]]   \n",
       "520709                                                                                                                                      [[楚楚动人, 亭台楼阁, 无边无际, 戛然而止, 星星点点, 影影绰绰, 大势所趋], [刻骨铭心, 将心比心, 藏龙卧虎, 明火执仗, 盖棺论定, 感同身受, 肝肠寸断]]   \n",
       "520710                                                                                                                                                                                  [[星罗棋布, 交相辉映, 鲜艳夺目, 五光十色, 兵戎相见, 正经八百, 有恃无恐]]   \n",
       "\n",
       "                                                                                                                                                                                                                                                                                                                                                                                                                                                                                                  content  \n",
       "0       由实力派演员刘威饰演的清华第三任校长蒋南翔，是我国著名的青年运动家和教育家，他跟清华终身校长梅贻琦一样，都是由清华人自己培养出来的校长。历史上的蒋南翔是著名的“一二九”学生救亡运动的领导人之一，他在清华校长之位14年期间，不但很好的继承了清华建校之初的优秀传统与理念，而且更加的#idiom#，他把清华的教师队伍扩大了将近5倍，将清华本科人数破万，为新中国培养了大量的有用人才。在《天行健》中饰演蒋南翔的刘威是观众所熟悉的著名实力派演员，早在1987年刘威就在《关东大侠》中饰演豪爽仗义的关云天一角而获得了金鸡奖最佳男主角的提名，后来更是因在《唐明皇》中精湛的表演而一举夺得金鹰奖最佳男演员奖。此次《天行健》选定刘威来出演正是看中了他#idiom#的表演方式和对人物深入内心的刻画。至此，《天行健》中涉及的三位清华校长的人选都已经曝光，#idiom#的第一任校长赵文?、稳重坚毅的第二任校长孙逊、亲切务实的第三任校长刘威，再加上梁思成、林徽因、朱自清、闻一多等一批“大师”的加盟，相信作为清华百年校庆重点项目之一的《天行健》一定会带领观众重温那段不能抹去的历史。  \n",
       "1                                                                                                                                                                                                                                                                                                                                                   #idiom#的掌柜只穿一件衬衫，坐在柜台里。几个堂倌穿着脏得发黑的白工作服，因为没有顾客，都散坐在桌子旁。这当儿看到这位不寻常的客人，都露出好奇的神色列宁曾批评他理论上的错误，同时认为他“所写的全部哲学，赶紧迎上前来伺候。聂赫留朵夫要了一瓶矿泉水，在离窗较远的地方挨着一张铺有肮脏桌布的小桌坐下。  \n",
       "2                                                                                                                                                                                                                                                                                                                                                                             世锦赛的整体水平远高于亚洲杯，要如同亚洲杯那样“鱼与熊掌兼得”，就需要各方面密切配合、#idiom#。作为主帅的俞觉敏，除了得打破保守思想，敢于破格用人，还得巧于用兵、#idiom#、灵活排阵，指挥得当，力争通过比赛推新人、出佳绩、出新的战斗力。  \n",
       "3                                                                                                                                                                                                                                                                                                                                                                                                             2011年，李晨的两部力作《奋斗》、《建党伟业》将相继上映，电视剧《风车》和《理发师》也将#idiom#，承接2010年的辉煌绽放，在新的一年，李晨将展现出更精彩，更惊艳的熟男魅力。  \n",
       "4                                                                                                                                                                                                                                                                                                                                                                                            第四，其实以上都是#idiom#，最重要的是你要爱上他，但当你的确有了一段以上的冷静后，我想你应该爆发一下，例如：是用恶搞恶唱的形式，还是在一个空间里将其痛骂，直至心中的闷火发泄出来，以上2点是必不可少的，作用甚佳。  \n",
       "...                                                                                                                                                                                                                                                                                                                                                                                                                                                                                                   ...  \n",
       "520706                                                                                                                                                                                                                                                                                                                                                                              波托斯胆怯地啃着他的鸡翅膀，当他感到桌底下诉讼代理人太太的膝盖总来触碰他的膝盖时，他为之一颤。他也将倍受珍惜的这种葡萄酒喝了半杯，他品出这是蒙特勒伊产的难喝的酒。#idiom#的味觉真厉害。科克纳尔先生瞅他猛灌这种纯葡萄酒，长叹一声。  \n",
       "520707                                                                                                                                                                                                                                                                        帕特里克被抓获的消息在沿海地区司法界#idiom#。许许多多的律师都在谈论此事，而且往往要#idiom#；然后这些经过加工的事实又以惊人的速度在他们中间再次流传。各种各样的传闻，#idiom#的，完全杜撰的，#idiom#。他体重130磅，会说五种语言。那笔巨款已经找到。所有那么多钱都收不回来了。他几乎是#idiom#。或许他有一幢豪华住宅。他一人独住。他又娶了妻，养了三个孩子。有关方面已经查明了那笔巨款的下落。迄今他们没有任何线索。  \n",
       "520708                                                                                                                                                                                                                                                                                                                                        新浪体育讯9月27日消息：2011年中信银行中国业余高尔夫球巡回赛首轮比赛正在苏州新东海高尔夫乡村俱乐部举行，女子球员上午出发，目前已全部完成比赛，刘思芸交出女选手中唯一六字头69杆，2杆优势获单独领先。业巡赛沈阳站领先争冠好手吴莎(微博)杨嘉欣(微博)再度#idiom#，两人都交出71杆后，排在并列第二位。  \n",
       "520709                                                                                                                                                                                                                            雨肆虐着，天像被捅破了一般。又是一个清凉的夏夜，留出很多空白来，等着人们去填写和作答。睡不踏实，左小青早早上了床，挪过电视机，将荧屏正对着，一遍遍地去读各个频道轮番播出的抢劫画面。画面资料被重新制作了一遍，显得很新潮，但肖依被枪杀的片段仍打上了马赛克，#idiom#的。新凯悦珠宝店一案的悬红30万，被讲究地制成了艺术字，黑底红字，绷紧了整个屏幕，还尾随着三个大大的惊叹号。左小青很起腻，她觉得电视台根本不负责任，将一场抢劫谋杀案搞成了狂欢节，唯恐天下不乱似的。她#idiom#地想，要是被害人家属看到如此的画面，该作何感想?  \n",
       "520710                                                                                                                                                                                                                                                                                                                                                      彻底打破了单一的颜色模式，用大红色沙发与草绿色羊毛毯替代了原有的冷调，原本就能擦出激烈火花的两种色彩，在白色背景映衬下，越发饱满、惹眼，迸发出家的激情与活力。吊灯替换了落地灯，错落的球形吊灯丰富了空间的视觉层次，与背景墙上的装饰画#idiom#，再也不会有放眼望去苍白一片的空虚感。  \n",
       "\n",
       "[520711 rows x 3 columns]"
      ]
     },
     "execution_count": 113,
     "metadata": {},
     "output_type": "execute_result"
    }
   ],
   "source": [
    "import pandas as pd\n",
    "import json\n",
    "\n",
    "def read_df(file):  \n",
    "    data_list = []\n",
    "    with open(file, 'r') as file:\n",
    "        for line in file:\n",
    "            data = json.loads(line)\n",
    "            data_list.append(data)\n",
    "\n",
    "    df = pd.DataFrame(data_list, columns=['groundTruth', 'candidates', 'content'])\n",
    "    return df\n",
    "\n",
    "df_train = read_df('./ChID_data/train_data.txt')\n",
    "df_dev = read_df('./ChID_data/dev_data.txt')\n",
    "df_test = read_df('./ChID_data/test_data.txt')\n",
    "\n",
    "df_train"
   ]
  },
  {
   "cell_type": "code",
   "execution_count": 114,
   "metadata": {},
   "outputs": [],
   "source": [
    "# change the candidates format. Call this cell only once.\n",
    "def format_candidates(candidates):\n",
    "    return '(' + '|'.join(candidates[0]) + ')'\n",
    "\n",
    "df_train['candidates'] = df_train['candidates'].apply(format_candidates)\n",
    "\n",
    "# replace #idiom# in content with the candidates\n",
    "df_train['content'] = df_train.apply(lambda row: row['content'].replace('#idiom#', row['candidates']), axis=1)\n",
    "\n",
    "# delete candidates column\n",
    "df_train = df_train.loc[:, ['groundTruth', 'content']]"
   ]
  },
  {
   "cell_type": "code",
   "execution_count": 115,
   "metadata": {},
   "outputs": [
    {
     "data": {
      "text/html": [
       "<div>\n",
       "<style scoped>\n",
       "    .dataframe tbody tr th:only-of-type {\n",
       "        vertical-align: middle;\n",
       "    }\n",
       "\n",
       "    .dataframe tbody tr th {\n",
       "        vertical-align: top;\n",
       "    }\n",
       "\n",
       "    .dataframe thead th {\n",
       "        text-align: right;\n",
       "    }\n",
       "</style>\n",
       "<table border=\"1\" class=\"dataframe\">\n",
       "  <thead>\n",
       "    <tr style=\"text-align: right;\">\n",
       "      <th></th>\n",
       "      <th>groundTruth</th>\n",
       "      <th>content</th>\n",
       "    </tr>\n",
       "  </thead>\n",
       "  <tbody>\n",
       "    <tr>\n",
       "      <th>0</th>\n",
       "      <td>[发扬光大, 平易近人, 温文尔雅]</td>\n",
       "      <td>由实力派演员刘威饰演的清华第三任校长蒋南翔，是我国著名的青年运动家和教育家，他跟清华终身校长梅贻琦一样，都是由清华人自己培养出来的校长。历史上的蒋南翔是著名的“一二九”学生救亡运动的领导人之一，他在清华校长之位14年期间，不但很好的继承了清华建校之初的优秀传统与理念，而且更加的(意气风发|街谈巷议|人才辈出|一脉相传|后继有人|发扬光大|腥风血雨)，他把清华的教师队伍扩大了将近5倍，将清华本科人数破万，为新中国培养了大量的有用人才。在《天行健》中饰演蒋南翔的刘威是观众所熟悉的著名实力派演员，早在1987年刘威就在《关东大侠》中饰演豪爽仗义的关云天一角而获得了金鸡奖最佳男主角的提名，后来更是因在《唐明皇》中精湛的表演而一举夺得金鹰奖最佳男演员奖。此次《天行健》选定刘威来出演正是看中了他(意气风发|街谈巷议|人才辈出|一脉相传|后继有人|发扬光大|腥风血雨)的表演方式和对人物深入内心的刻画。至此，《天行健》中涉及的三位清华校长的人选都已经曝光，(意气风发|街谈巷议|人才辈出|一脉相传|后继有人|发扬光大|腥风血雨)的第一任校长赵文?、稳重坚毅的第二任校长孙逊、亲切务实的第三任校长刘威，再加上梁思成、林徽因、朱自清、闻一多等一批“大师”的加盟，相信作为清华百年校庆重点项目之一的《天行健》一定会带领观众重温那段不能抹去的历史。</td>\n",
       "    </tr>\n",
       "    <tr>\n",
       "      <th>1</th>\n",
       "      <td>[肥头大耳]</td>\n",
       "      <td>(超凡入圣|骨瘦如柴|青面獠牙|虎背熊腰|成人之美|肥头大耳|神不守舍)的掌柜只穿一件衬衫，坐在柜台里。几个堂倌穿着脏得发黑的白工作服，因为没有顾客，都散坐在桌子旁。这当儿看到这位不寻常的客人，都露出好奇的神色列宁曾批评他理论上的错误，同时认为他“所写的全部哲学，赶紧迎上前来伺候。聂赫留朵夫要了一瓶矿泉水，在离窗较远的地方挨着一张铺有肮脏桌布的小桌坐下。</td>\n",
       "    </tr>\n",
       "    <tr>\n",
       "      <th>2</th>\n",
       "      <td>[通力合作, 有的放矢]</td>\n",
       "      <td>世锦赛的整体水平远高于亚洲杯，要如同亚洲杯那样“鱼与熊掌兼得”，就需要各方面密切配合、(凭空捏造|高头大马|通力合作|同舟共济|和衷共济|蓬头垢面|紧锣密鼓)。作为主帅的俞觉敏，除了得打破保守思想，敢于破格用人，还得巧于用兵、(凭空捏造|高头大马|通力合作|同舟共济|和衷共济|蓬头垢面|紧锣密鼓)、灵活排阵，指挥得当，力争通过比赛推新人、出佳绩、出新的战斗力。</td>\n",
       "    </tr>\n",
       "    <tr>\n",
       "      <th>3</th>\n",
       "      <td>[粉墨登场]</td>\n",
       "      <td>2011年，李晨的两部力作《奋斗》、《建党伟业》将相继上映，电视剧《风车》和《理发师》也将(望洋而叹|层出不穷|纷至沓来|不闻不问|风云际会|心广体胖|粉墨登场)，承接2010年的辉煌绽放，在新的一年，李晨将展现出更精彩，更惊艳的熟男魅力。</td>\n",
       "    </tr>\n",
       "    <tr>\n",
       "      <th>4</th>\n",
       "      <td>[老生常谈]</td>\n",
       "      <td>第四，其实以上都是(陈词滥调|赏罚分明|说来说去|古往今来|老生常谈|双喜临门|颠扑不破)，最重要的是你要爱上他，但当你的确有了一段以上的冷静后，我想你应该爆发一下，例如：是用恶搞恶唱的形式，还是在一个空间里将其痛骂，直至心中的闷火发泄出来，以上2点是必不可少的，作用甚佳。</td>\n",
       "    </tr>\n",
       "    <tr>\n",
       "      <th>...</th>\n",
       "      <td>...</td>\n",
       "      <td>...</td>\n",
       "    </tr>\n",
       "    <tr>\n",
       "      <th>520706</th>\n",
       "      <td>[训练有素]</td>\n",
       "      <td>波托斯胆怯地啃着他的鸡翅膀，当他感到桌底下诉讼代理人太太的膝盖总来触碰他的膝盖时，他为之一颤。他也将倍受珍惜的这种葡萄酒喝了半杯，他品出这是蒙特勒伊产的难喝的酒。(不同凡响|训练有素|人多势众|正颜厉色|溃不成军|以一当十|暴风骤雨)的味觉真厉害。科克纳尔先生瞅他猛灌这种纯葡萄酒，长叹一声。</td>\n",
       "    </tr>\n",
       "    <tr>\n",
       "      <th>520707</th>\n",
       "      <td>[不胫而走, 添油加醋, 道听涂说, 应有尽有, 穷愁潦倒]</td>\n",
       "      <td>帕特里克被抓获的消息在沿海地区司法界(有勇无谋|不胫而走|摧枯拉朽|轩然大波|销声匿迹|重见天日|不攻自破)。许许多多的律师都在谈论此事，而且往往要(有勇无谋|不胫而走|摧枯拉朽|轩然大波|销声匿迹|重见天日|不攻自破)；然后这些经过加工的事实又以惊人的速度在他们中间再次流传。各种各样的传闻，(有勇无谋|不胫而走|摧枯拉朽|轩然大波|销声匿迹|重见天日|不攻自破)的，完全杜撰的，(有勇无谋|不胫而走|摧枯拉朽|轩然大波|销声匿迹|重见天日|不攻自破)。他体重130磅，会说五种语言。那笔巨款已经找到。所有那么多钱都收不回来了。他几乎是(有勇无谋|不胫而走|摧枯拉朽|轩然大波|销声匿迹|重见天日|不攻自破)。或许他有一幢豪华住宅。他一人独住。他又娶了妻，养了三个孩子。有关方面已经查明了那笔巨款的下落。迄今他们没有任何线索。</td>\n",
       "    </tr>\n",
       "    <tr>\n",
       "      <th>520708</th>\n",
       "      <td>[狭路相逢]</td>\n",
       "      <td>新浪体育讯9月27日消息：2011年中信银行中国业余高尔夫球巡回赛首轮比赛正在苏州新东海高尔夫乡村俱乐部举行，女子球员上午出发，目前已全部完成比赛，刘思芸交出女选手中唯一六字头69杆，2杆优势获单独领先。业巡赛沈阳站领先争冠好手吴莎(微博)杨嘉欣(微博)再度(决一雌雄|流连忘反|冤家路窄|狭路相逢|顺理成章|一文不名|一决雌雄)，两人都交出71杆后，排在并列第二位。</td>\n",
       "    </tr>\n",
       "    <tr>\n",
       "      <th>520709</th>\n",
       "      <td>[影影绰绰, 感同身受]</td>\n",
       "      <td>雨肆虐着，天像被捅破了一般。又是一个清凉的夏夜，留出很多空白来，等着人们去填写和作答。睡不踏实，左小青早早上了床，挪过电视机，将荧屏正对着，一遍遍地去读各个频道轮番播出的抢劫画面。画面资料被重新制作了一遍，显得很新潮，但肖依被枪杀的片段仍打上了马赛克，(楚楚动人|亭台楼阁|无边无际|戛然而止|星星点点|影影绰绰|大势所趋)的。新凯悦珠宝店一案的悬红30万，被讲究地制成了艺术字，黑底红字，绷紧了整个屏幕，还尾随着三个大大的惊叹号。左小青很起腻，她觉得电视台根本不负责任，将一场抢劫谋杀案搞成了狂欢节，唯恐天下不乱似的。她(楚楚动人|亭台楼阁|无边无际|戛然而止|星星点点|影影绰绰|大势所趋)地想，要是被害人家属看到如此的画面，该作何感想?</td>\n",
       "    </tr>\n",
       "    <tr>\n",
       "      <th>520710</th>\n",
       "      <td>[交相辉映]</td>\n",
       "      <td>彻底打破了单一的颜色模式，用大红色沙发与草绿色羊毛毯替代了原有的冷调，原本就能擦出激烈火花的两种色彩，在白色背景映衬下，越发饱满、惹眼，迸发出家的激情与活力。吊灯替换了落地灯，错落的球形吊灯丰富了空间的视觉层次，与背景墙上的装饰画(星罗棋布|交相辉映|鲜艳夺目|五光十色|兵戎相见|正经八百|有恃无恐)，再也不会有放眼望去苍白一片的空虚感。</td>\n",
       "    </tr>\n",
       "  </tbody>\n",
       "</table>\n",
       "<p>520711 rows × 2 columns</p>\n",
       "</div>"
      ],
      "text/plain": [
       "                           groundTruth  \\\n",
       "0                   [发扬光大, 平易近人, 温文尔雅]   \n",
       "1                               [肥头大耳]   \n",
       "2                         [通力合作, 有的放矢]   \n",
       "3                               [粉墨登场]   \n",
       "4                               [老生常谈]   \n",
       "...                                ...   \n",
       "520706                          [训练有素]   \n",
       "520707  [不胫而走, 添油加醋, 道听涂说, 应有尽有, 穷愁潦倒]   \n",
       "520708                          [狭路相逢]   \n",
       "520709                    [影影绰绰, 感同身受]   \n",
       "520710                          [交相辉映]   \n",
       "\n",
       "                                                                                                                                                                                                                                                                                                                                                                                                                                                                                                                                                                                         content  \n",
       "0       由实力派演员刘威饰演的清华第三任校长蒋南翔，是我国著名的青年运动家和教育家，他跟清华终身校长梅贻琦一样，都是由清华人自己培养出来的校长。历史上的蒋南翔是著名的“一二九”学生救亡运动的领导人之一，他在清华校长之位14年期间，不但很好的继承了清华建校之初的优秀传统与理念，而且更加的(意气风发|街谈巷议|人才辈出|一脉相传|后继有人|发扬光大|腥风血雨)，他把清华的教师队伍扩大了将近5倍，将清华本科人数破万，为新中国培养了大量的有用人才。在《天行健》中饰演蒋南翔的刘威是观众所熟悉的著名实力派演员，早在1987年刘威就在《关东大侠》中饰演豪爽仗义的关云天一角而获得了金鸡奖最佳男主角的提名，后来更是因在《唐明皇》中精湛的表演而一举夺得金鹰奖最佳男演员奖。此次《天行健》选定刘威来出演正是看中了他(意气风发|街谈巷议|人才辈出|一脉相传|后继有人|发扬光大|腥风血雨)的表演方式和对人物深入内心的刻画。至此，《天行健》中涉及的三位清华校长的人选都已经曝光，(意气风发|街谈巷议|人才辈出|一脉相传|后继有人|发扬光大|腥风血雨)的第一任校长赵文?、稳重坚毅的第二任校长孙逊、亲切务实的第三任校长刘威，再加上梁思成、林徽因、朱自清、闻一多等一批“大师”的加盟，相信作为清华百年校庆重点项目之一的《天行健》一定会带领观众重温那段不能抹去的历史。  \n",
       "1                                                                                                                                                                                                                                                                                                                                                                                                             (超凡入圣|骨瘦如柴|青面獠牙|虎背熊腰|成人之美|肥头大耳|神不守舍)的掌柜只穿一件衬衫，坐在柜台里。几个堂倌穿着脏得发黑的白工作服，因为没有顾客，都散坐在桌子旁。这当儿看到这位不寻常的客人，都露出好奇的神色列宁曾批评他理论上的错误，同时认为他“所写的全部哲学，赶紧迎上前来伺候。聂赫留朵夫要了一瓶矿泉水，在离窗较远的地方挨着一张铺有肮脏桌布的小桌坐下。  \n",
       "2                                                                                                                                                                                                                                                                                                                                                                                                          世锦赛的整体水平远高于亚洲杯，要如同亚洲杯那样“鱼与熊掌兼得”，就需要各方面密切配合、(凭空捏造|高头大马|通力合作|同舟共济|和衷共济|蓬头垢面|紧锣密鼓)。作为主帅的俞觉敏，除了得打破保守思想，敢于破格用人，还得巧于用兵、(凭空捏造|高头大马|通力合作|同舟共济|和衷共济|蓬头垢面|紧锣密鼓)、灵活排阵，指挥得当，力争通过比赛推新人、出佳绩、出新的战斗力。  \n",
       "3                                                                                                                                                                                                                                                                                                                                                                                                                                                                       2011年，李晨的两部力作《奋斗》、《建党伟业》将相继上映，电视剧《风车》和《理发师》也将(望洋而叹|层出不穷|纷至沓来|不闻不问|风云际会|心广体胖|粉墨登场)，承接2010年的辉煌绽放，在新的一年，李晨将展现出更精彩，更惊艳的熟男魅力。  \n",
       "4                                                                                                                                                                                                                                                                                                                                                                                                                                                      第四，其实以上都是(陈词滥调|赏罚分明|说来说去|古往今来|老生常谈|双喜临门|颠扑不破)，最重要的是你要爱上他，但当你的确有了一段以上的冷静后，我想你应该爆发一下，例如：是用恶搞恶唱的形式，还是在一个空间里将其痛骂，直至心中的闷火发泄出来，以上2点是必不可少的，作用甚佳。  \n",
       "...                                                                                                                                                                                                                                                                                                                                                                                                                                                                                                                                                                                          ...  \n",
       "520706                                                                                                                                                                                                                                                                                                                                                                                                                                        波托斯胆怯地啃着他的鸡翅膀，当他感到桌底下诉讼代理人太太的膝盖总来触碰他的膝盖时，他为之一颤。他也将倍受珍惜的这种葡萄酒喝了半杯，他品出这是蒙特勒伊产的难喝的酒。(不同凡响|训练有素|人多势众|正颜厉色|溃不成军|以一当十|暴风骤雨)的味觉真厉害。科克纳尔先生瞅他猛灌这种纯葡萄酒，长叹一声。  \n",
       "520707                                                                                                                                                                                                              帕特里克被抓获的消息在沿海地区司法界(有勇无谋|不胫而走|摧枯拉朽|轩然大波|销声匿迹|重见天日|不攻自破)。许许多多的律师都在谈论此事，而且往往要(有勇无谋|不胫而走|摧枯拉朽|轩然大波|销声匿迹|重见天日|不攻自破)；然后这些经过加工的事实又以惊人的速度在他们中间再次流传。各种各样的传闻，(有勇无谋|不胫而走|摧枯拉朽|轩然大波|销声匿迹|重见天日|不攻自破)的，完全杜撰的，(有勇无谋|不胫而走|摧枯拉朽|轩然大波|销声匿迹|重见天日|不攻自破)。他体重130磅，会说五种语言。那笔巨款已经找到。所有那么多钱都收不回来了。他几乎是(有勇无谋|不胫而走|摧枯拉朽|轩然大波|销声匿迹|重见天日|不攻自破)。或许他有一幢豪华住宅。他一人独住。他又娶了妻，养了三个孩子。有关方面已经查明了那笔巨款的下落。迄今他们没有任何线索。  \n",
       "520708                                                                                                                                                                                                                                                                                                                                                                                                  新浪体育讯9月27日消息：2011年中信银行中国业余高尔夫球巡回赛首轮比赛正在苏州新东海高尔夫乡村俱乐部举行，女子球员上午出发，目前已全部完成比赛，刘思芸交出女选手中唯一六字头69杆，2杆优势获单独领先。业巡赛沈阳站领先争冠好手吴莎(微博)杨嘉欣(微博)再度(决一雌雄|流连忘反|冤家路窄|狭路相逢|顺理成章|一文不名|一决雌雄)，两人都交出71杆后，排在并列第二位。  \n",
       "520709                                                                                                                                                                                                                                                         雨肆虐着，天像被捅破了一般。又是一个清凉的夏夜，留出很多空白来，等着人们去填写和作答。睡不踏实，左小青早早上了床，挪过电视机，将荧屏正对着，一遍遍地去读各个频道轮番播出的抢劫画面。画面资料被重新制作了一遍，显得很新潮，但肖依被枪杀的片段仍打上了马赛克，(楚楚动人|亭台楼阁|无边无际|戛然而止|星星点点|影影绰绰|大势所趋)的。新凯悦珠宝店一案的悬红30万，被讲究地制成了艺术字，黑底红字，绷紧了整个屏幕，还尾随着三个大大的惊叹号。左小青很起腻，她觉得电视台根本不负责任，将一场抢劫谋杀案搞成了狂欢节，唯恐天下不乱似的。她(楚楚动人|亭台楼阁|无边无际|戛然而止|星星点点|影影绰绰|大势所趋)地想，要是被害人家属看到如此的画面，该作何感想?  \n",
       "520710                                                                                                                                                                                                                                                                                                                                                                                                                彻底打破了单一的颜色模式，用大红色沙发与草绿色羊毛毯替代了原有的冷调，原本就能擦出激烈火花的两种色彩，在白色背景映衬下，越发饱满、惹眼，迸发出家的激情与活力。吊灯替换了落地灯，错落的球形吊灯丰富了空间的视觉层次，与背景墙上的装饰画(星罗棋布|交相辉映|鲜艳夺目|五光十色|兵戎相见|正经八百|有恃无恐)，再也不会有放眼望去苍白一片的空虚感。  \n",
       "\n",
       "[520711 rows x 2 columns]"
      ]
     },
     "execution_count": 115,
     "metadata": {},
     "output_type": "execute_result"
    }
   ],
   "source": [
    "df_train"
   ]
  },
  {
   "cell_type": "code",
   "execution_count": 125,
   "metadata": {},
   "outputs": [],
   "source": [
    "all_texts = np.array(df_train['content'])"
   ]
  },
  {
   "cell_type": "code",
   "execution_count": 126,
   "metadata": {},
   "outputs": [],
   "source": [
    "class TransformersTokenizer(Transform):\n",
    "    def __init__(self, tokenizer): self.tokenizer = tokenizer\n",
    "    def encodes(self, x): \n",
    "        toks = self.tokenizer.tokenize(x)\n",
    "        return tensor(self.tokenizer.convert_tokens_to_ids(toks))\n",
    "    def decodes(self, x): return TitledStr(self.tokenizer.decode(x.cpu().numpy()))"
   ]
  },
  {
   "cell_type": "code",
   "execution_count": 127,
   "metadata": {},
   "outputs": [],
   "source": [
    "# Defining the splits for the dataloader:\n",
    "splits = [range_of(df_train), list(range(len(df_train), len(all_texts)))]\n",
    "# print(splits)\n",
    "\n",
    "# Defining the Transformed Lists:\n",
    "tls = TfmdLists(all_texts, TransformersTokenizer(tokenizer), splits=splits, dl_type=LMDataLoader)"
   ]
  },
  {
   "cell_type": "code",
   "execution_count": 129,
   "metadata": {},
   "outputs": [
    {
     "name": "stdout",
     "output_type": "stream",
     "text": [
      "由 实 力 派 演 员 刘 威 饰 演 的 清 华 第 三 任 校 长 蒋 南 翔 ， 是 我 国 著 名 的 青 年 运 动 家 和 教 育 家 ， 他 跟 清 华 终 身 校 长 梅 贻 琦 一 样 ， 都 是 由 清 华 人 自 己 培 养 出 来 的 校 长 。 历 史 上 的 蒋 南 翔 是 著 名 的 [UNK] 一 二 九 [UNK] 学 生 救 亡 运 动 的 领 导 人 之 一 ， 他 在 清 华 校 长 之 位 14 年 期 间 ， 不 但 很 好 的 继 承 了 清 华 建 校 之 初 的 优 秀 传 统 与 理 念 ， 而 且 更 加 的 ( 意 气 风 发 | 街 谈 巷 议 | 人 才 辈 出 | 一 脉 相 传 | 后 继 有 人 | 发 扬 光 大 | 腥 风 血 雨 ) ， 他 把 清 华 的 教 师 队 伍 扩 大 了 将 近 5 倍 ， 将 清 华 本 科 人 数 破 万 ， 为 新 中 国 培 养 了 大 量 的 有 用 人 才 。 在 《 天 行 健 》 中 饰 演 蒋 南 翔 的 刘 威 是 观 众 所 熟 悉 的 著 名 实 力 派 演 员 ， 早 在 1987 年 刘 威 就 在 《 关 东 大 侠 》 中 饰 演 豪 爽 仗 义 的 关 云 天 一 角 而 获 得 了 金 鸡 奖 最 佳 男 主 角 的 提 名 ， 后 来 更 是 因 在 《 唐 明 皇 》 中 精 湛 的 表 演 而 一 举 夺 得 金 鹰 奖 最 佳 男 演 员 奖 。 此 次 《 天 行 健 》 选 定 刘 威 来 出 演 正 是 看 中 了 他 ( 意 气 风 发 | 街 谈 巷 议 | 人 才 辈 出 | 一 脉 相 传 | 后 继 有 人 | 发 扬 光 大 | 腥 风 血 雨 ) 的 表 演 方 式 和 对 人 物 深 入 内 心 的 刻 画 。 至 此 ， 《 天 行 健 》 中 涉 及 的 三 位 清 华 校 长 的 人 选 都 已 经 曝 光 ， ( 意 气 风 发 | 街 谈 巷 议 | 人 才 辈 出 | 一 脉 相 传 | 后 继 有 人 | 发 扬 光 大 | 腥 风 血 雨 ) 的 第 一 任 校 长 赵 文? 、 稳 重 坚 毅 的 第 二 任 校 长 孙 逊 、 亲 切 务 实 的 第 三 任 校 长 刘 威 ， 再 加 上 梁 思 成 、 林 徽 因 、 朱 自 清 、 闻 一 多 等 一 批 [UNK] 大 师 [UNK] 的 加 盟 ， 相 信 作 为 清 华 百 年 校 庆 重 点 项 目 之 一 的 《 天 行 健 》 一 定 会 带 领 观 众 重 温 那 段 不 能 抹 去 的 历 史 。\n"
     ]
    }
   ],
   "source": [
    "show_at(tls.train, 0)"
   ]
  },
  {
   "cell_type": "code",
   "execution_count": 130,
   "metadata": {},
   "outputs": [],
   "source": [
    "# bs refers to the Batch Size while sl refers to the sequence length:\n",
    "bs,sl = 4,240 \n",
    "\n",
    "# Defining the Dataloader:\n",
    "dls = tls.dataloaders(bs=bs, seq_len=sl)"
   ]
  },
  {
   "cell_type": "code",
   "execution_count": 131,
   "metadata": {},
   "outputs": [
    {
     "data": {
      "text/html": [
       "<table border=\"1\" class=\"dataframe\">\n",
       "  <thead>\n",
       "    <tr style=\"text-align: right;\">\n",
       "      <th></th>\n",
       "      <th>text</th>\n",
       "      <th>text_</th>\n",
       "    </tr>\n",
       "  </thead>\n",
       "  <tbody>\n",
       "    <tr>\n",
       "      <th>0</th>\n",
       "      <td>2006 年 12 月 ， 就 在 张 坤 龙 为 自 己 近 百 万 元 欠 款 ( 不 胜 其 烦 | 高 歌 猛 进 | 人 心 惶 惶 | 一 筹 莫 展 | 落 落 大 方 | 焦 头 烂 额 | 好 好 先 生 ) 之 际 ， 一 个 转 机 又 出 现 了 ： 政 府 要 拆 迁 他 所 经 营 的 工 厂 ， 其 2100 平 方 米 的 厂 房 面 积 获 得 了 550 万 元 的 拆 迁 补 偿 款 。 还 掉 欠 债 后 ， 张 坤 龙 本 想 做 些 正 经 生 意 ， 却 遭 遇 到 金 融 危 机 ， 几 次 投 资 都 蒙 受 败 绩 。 子 不 久 就 软 下 来 了 。 她</td>\n",
       "      <td>年 12 月 ， 就 在 张 坤 龙 为 自 己 近 百 万 元 欠 款 ( 不 胜 其 烦 | 高 歌 猛 进 | 人 心 惶 惶 | 一 筹 莫 展 | 落 落 大 方 | 焦 头 烂 额 | 好 好 先 生 ) 之 际 ， 一 个 转 机 又 出 现 了 ： 政 府 要 拆 迁 他 所 经 营 的 工 厂 ， 其 2100 平 方 米 的 厂 房 面 积 获 得 了 550 万 元 的 拆 迁 补 偿 款 。 还 掉 欠 债 后 ， 张 坤 龙 本 想 做 些 正 经 生 意 ， 却 遭 遇 到 金 融 危 机 ， 几 次 投 资 都 蒙 受 败 绩 。 子 不 久 就 软 下 来 了 。 她 (</td>\n",
       "    </tr>\n",
       "    <tr>\n",
       "      <th>1</th>\n",
       "      <td>为 有 必 要 在 这 里 介 绍 一 下 它 的 要 点 。 塔 鲁 对 这 位 靠 年 金 生 活 的 小 矮 个 儿 的 总 印 象 可 以 归 纳 为 一 句 话 ： [UNK] 这 是 一 个 形 象 正 在 高 大 起 来 的 人 物 。 [UNK] 至 少 从 表 面 上 看 来 ， 他 的 心 情 显 得 越 来 越 愉 快 。 他 对 事 态 的 发 展 并 无 不 满 ， 在 塔 鲁 面 前 ， 他 有 时 会 用 这 类 话 来 表 达 他 思 想 深 处 的 想 法 ： [UNK] 当 然 ， 情 况 仍 不 见 好 转 ， 不 过 至 少 大 家 是 ( 肝 胆 相 照 | 上 下 一 心</td>\n",
       "      <td>有 必 要 在 这 里 介 绍 一 下 它 的 要 点 。 塔 鲁 对 这 位 靠 年 金 生 活 的 小 矮 个 儿 的 总 印 象 可 以 归 纳 为 一 句 话 ： [UNK] 这 是 一 个 形 象 正 在 高 大 起 来 的 人 物 。 [UNK] 至 少 从 表 面 上 看 来 ， 他 的 心 情 显 得 越 来 越 愉 快 。 他 对 事 态 的 发 展 并 无 不 满 ， 在 塔 鲁 面 前 ， 他 有 时 会 用 这 类 话 来 表 达 他 思 想 深 处 的 想 法 ： [UNK] 当 然 ， 情 况 仍 不 见 好 转 ， 不 过 至 少 大 家 是 ( 肝 胆 相 照 | 上 下 一 心 |</td>\n",
       "    </tr>\n",
       "    <tr>\n",
       "      <th>2</th>\n",
       "      <td>面 做 出 一 些 贡 献 ！ [UNK] ( 矫 枉 过 正 | 颠 扑 不 破 | 今 生 今 世 | 操 之 过 急 | 格 杀 勿 论 | 突 飞 猛 进 | 物 极 必 反 ) 。 昨 日 [UNK] 除 1 年 期 品 种 外 全 线 回 落 。 其 中 ， 隔 夜 利 率 继 上 周 五 狂 泻 201. 71 个 基 点 后 ， 昨 天 再 跌 28. 62 个 基 点 ， 至 2. 55 % ； 而 7 日 利 率 大 跌 119. 5 个 基 点 ， 至 3. 2008 % 的 两 周 新 低 。 [UNK] 的 跳 水 ， 反 映 市 场 流 动 性 回 暖 。 作 为 该 次 活 动 的 颁 奖 嘉 宾 童 蕾 向 我 们</td>\n",
       "      <td>做 出 一 些 贡 献 ！ [UNK] ( 矫 枉 过 正 | 颠 扑 不 破 | 今 生 今 世 | 操 之 过 急 | 格 杀 勿 论 | 突 飞 猛 进 | 物 极 必 反 ) 。 昨 日 [UNK] 除 1 年 期 品 种 外 全 线 回 落 。 其 中 ， 隔 夜 利 率 继 上 周 五 狂 泻 201. 71 个 基 点 后 ， 昨 天 再 跌 28. 62 个 基 点 ， 至 2. 55 % ； 而 7 日 利 率 大 跌 119. 5 个 基 点 ， 至 3. 2008 % 的 两 周 新 低 。 [UNK] 的 跳 水 ， 反 映 市 场 流 动 性 回 暖 。 作 为 该 次 活 动 的 颁 奖 嘉 宾 童 蕾 向 我 们 道</td>\n",
       "    </tr>\n",
       "    <tr>\n",
       "      <th>3</th>\n",
       "      <td>冷 漠 严 肃 的 样 子 说 。 2 月 10 日 晚 10 时 许 ， 一 名 手 提 猎 枪 的 男 子 出 现 在 坑 梓 办 事 处 第 三 办 公 楼 ， 在 寻 了 一 圈 无 果 之 后 ， 提 着 枪 ( 寸 步 难 行 | 一 丝 不 苟 | 不 可 磨 灭 | 趾 高 气 扬 | 光 明 正 大 | 鬼 鬼 祟 祟 | 大 摇 大 摆 ) 地 走 出 大 门 。 原 来 ， 男 子 是 来 [UNK] 寻 仇 [UNK] 的 ， 他 深 恨 街 道 执 法 队 长 总 是 针 对 自 己 叔 叔 家 的 违 建 ， 因 此 带 枪 过 来 寻 找 执 法 队 长 报 仇 ， 并 扬 言 [UNK]</td>\n",
       "      <td>漠 严 肃 的 样 子 说 。 2 月 10 日 晚 10 时 许 ， 一 名 手 提 猎 枪 的 男 子 出 现 在 坑 梓 办 事 处 第 三 办 公 楼 ， 在 寻 了 一 圈 无 果 之 后 ， 提 着 枪 ( 寸 步 难 行 | 一 丝 不 苟 | 不 可 磨 灭 | 趾 高 气 扬 | 光 明 正 大 | 鬼 鬼 祟 祟 | 大 摇 大 摆 ) 地 走 出 大 门 。 原 来 ， 男 子 是 来 [UNK] 寻 仇 [UNK] 的 ， 他 深 恨 街 道 执 法 队 长 总 是 针 对 自 己 叔 叔 家 的 违 建 ， 因 此 带 枪 过 来 寻 找 执 法 队 长 报 仇 ， 并 扬 言 [UNK] 要</td>\n",
       "    </tr>\n",
       "  </tbody>\n",
       "</table>"
      ],
      "text/plain": [
       "<IPython.core.display.HTML object>"
      ]
     },
     "metadata": {},
     "output_type": "display_data"
    }
   ],
   "source": [
    "dls.show_batch(max_n=5)"
   ]
  },
  {
   "cell_type": "code",
   "execution_count": 132,
   "metadata": {},
   "outputs": [
    {
     "data": {
      "text/html": [
       "\n",
       "<style>\n",
       "    /* Turns off some styling */\n",
       "    progress {\n",
       "        /* gets rid of default border in Firefox and Opera. */\n",
       "        border: none;\n",
       "        /* Needs to be in here for Safari polyfill so background images work as expected. */\n",
       "        background-size: auto;\n",
       "    }\n",
       "    progress:not([value]), progress:not([value])::-webkit-progress-bar {\n",
       "        background: repeating-linear-gradient(45deg, #7e7e7e, #7e7e7e 10px, #5c5c5c 10px, #5c5c5c 20px);\n",
       "    }\n",
       "    .progress-bar-interrupted, .progress-bar-interrupted::-webkit-progress-bar {\n",
       "        background: #F44336;\n",
       "    }\n",
       "</style>\n"
      ],
      "text/plain": [
       "<IPython.core.display.HTML object>"
      ]
     },
     "metadata": {},
     "output_type": "display_data"
    },
    {
     "data": {
      "text/html": [
       "\n",
       "    <div>\n",
       "      <progress value='520711' class='' max='520711' style='width:300px; height:20px; vertical-align: middle;'></progress>\n",
       "      100.00% [520711/520711 07:17&lt;00:00]\n",
       "    </div>\n",
       "    "
      ],
      "text/plain": [
       "<IPython.core.display.HTML object>"
      ]
     },
     "metadata": {},
     "output_type": "display_data"
    }
   ],
   "source": [
    "def tokenize(text):\n",
    "    toks = tokenizer.tokenize(text)\n",
    "    return tensor(tokenizer.convert_tokens_to_ids(toks))\n",
    "\n",
    "# Actually Tokenizing everything:\n",
    "tokenized = [tokenize(t) for t in progress_bar(all_texts)]"
   ]
  },
  {
   "cell_type": "markdown",
   "metadata": {},
   "source": [
    "## Finetuning"
   ]
  },
  {
   "cell_type": "code",
   "execution_count": 133,
   "metadata": {},
   "outputs": [],
   "source": [
    "class DropOutput(Callback):\n",
    "    def after_pred(self): self.learn.pred = self.pred[0]"
   ]
  },
  {
   "cell_type": "code",
   "execution_count": 134,
   "metadata": {},
   "outputs": [],
   "source": [
    "learn = Learner(dls, model, loss_func=CrossEntropyLossFlat(), cbs=[DropOutput], metrics=Perplexity()).to_fp16()"
   ]
  },
  {
   "cell_type": "code",
   "execution_count": 135,
   "metadata": {},
   "outputs": [
    {
     "name": "stderr",
     "output_type": "stream",
     "text": [
      "/Users/sherrywang/opt/anaconda3/lib/python3.8/site-packages/torch/autocast_mode.py:141: UserWarning: User provided device_type of 'cuda', but CUDA is not available. Disabling\n",
      "  warnings.warn('User provided device_type of \\'cuda\\', but CUDA is not available. Disabling')\n",
      "/Users/sherrywang/opt/anaconda3/lib/python3.8/site-packages/torch/cuda/amp/grad_scaler.py:115: UserWarning: torch.cuda.amp.GradScaler is enabled, but CUDA is not available.  Disabling.\n",
      "  warnings.warn(\"torch.cuda.amp.GradScaler is enabled, but CUDA is not available.  Disabling.\")\n"
     ]
    },
    {
     "data": {
      "text/html": [
       "\n",
       "<style>\n",
       "    /* Turns off some styling */\n",
       "    progress {\n",
       "        /* gets rid of default border in Firefox and Opera. */\n",
       "        border: none;\n",
       "        /* Needs to be in here for Safari polyfill so background images work as expected. */\n",
       "        background-size: auto;\n",
       "    }\n",
       "    progress:not([value]), progress:not([value])::-webkit-progress-bar {\n",
       "        background: repeating-linear-gradient(45deg, #7e7e7e, #7e7e7e 10px, #5c5c5c 10px, #5c5c5c 20px);\n",
       "    }\n",
       "    .progress-bar-interrupted, .progress-bar-interrupted::-webkit-progress-bar {\n",
       "        background: #F44336;\n",
       "    }\n",
       "</style>\n"
      ],
      "text/plain": [
       "<IPython.core.display.HTML object>"
      ]
     },
     "metadata": {},
     "output_type": "display_data"
    },
    {
     "data": {
      "text/html": [],
      "text/plain": [
       "<IPython.core.display.HTML object>"
      ]
     },
     "metadata": {},
     "output_type": "display_data"
    },
    {
     "name": "stderr",
     "output_type": "stream",
     "text": [
      "/Users/sherrywang/opt/anaconda3/lib/python3.8/site-packages/fastprogress/fastprogress.py:73: UserWarning: Your generator is empty.\n",
      "  warn(\"Your generator is empty.\")\n"
     ]
    },
    {
     "data": {
      "text/plain": [
       "(#2) [None,None]"
      ]
     },
     "execution_count": 135,
     "metadata": {},
     "output_type": "execute_result"
    }
   ],
   "source": [
    "learn.validate()"
   ]
  },
  {
   "cell_type": "code",
   "execution_count": 136,
   "metadata": {},
   "outputs": [
    {
     "data": {
      "text/html": [
       "\n",
       "<style>\n",
       "    /* Turns off some styling */\n",
       "    progress {\n",
       "        /* gets rid of default border in Firefox and Opera. */\n",
       "        border: none;\n",
       "        /* Needs to be in here for Safari polyfill so background images work as expected. */\n",
       "        background-size: auto;\n",
       "    }\n",
       "    progress:not([value]), progress:not([value])::-webkit-progress-bar {\n",
       "        background: repeating-linear-gradient(45deg, #7e7e7e, #7e7e7e 10px, #5c5c5c 10px, #5c5c5c 20px);\n",
       "    }\n",
       "    .progress-bar-interrupted, .progress-bar-interrupted::-webkit-progress-bar {\n",
       "        background: #F44336;\n",
       "    }\n",
       "</style>\n"
      ],
      "text/plain": [
       "<IPython.core.display.HTML object>"
      ]
     },
     "metadata": {},
     "output_type": "display_data"
    },
    {
     "data": {
      "text/html": [
       "\n",
       "    <div>\n",
       "      <progress value='0' class='' max='1' style='width:300px; height:20px; vertical-align: middle;'></progress>\n",
       "      0.00% [0/1 00:00&lt;?]\n",
       "    </div>\n",
       "    \n",
       "\n",
       "\n",
       "    <div>\n",
       "      <progress value='26' class='' max='109265' style='width:300px; height:20px; vertical-align: middle;'></progress>\n",
       "      0.02% [26/109265 06:16&lt;439:36:14 3.2822]\n",
       "    </div>\n",
       "    "
      ],
      "text/plain": [
       "<IPython.core.display.HTML object>"
      ]
     },
     "metadata": {},
     "output_type": "display_data"
    },
    {
     "ename": "KeyboardInterrupt",
     "evalue": "",
     "output_type": "error",
     "traceback": [
      "\u001b[0;31m---------------------------------------------------------------------------\u001b[0m",
      "\u001b[0;31mKeyboardInterrupt\u001b[0m                         Traceback (most recent call last)",
      "\u001b[0;32m<ipython-input-136-bb0e9f1e9327>\u001b[0m in \u001b[0;36m<module>\u001b[0;34m\u001b[0m\n\u001b[1;32m      1\u001b[0m \u001b[0;31m# learning rate\u001b[0m\u001b[0;34m\u001b[0m\u001b[0;34m\u001b[0m\u001b[0;34m\u001b[0m\u001b[0m\n\u001b[0;32m----> 2\u001b[0;31m \u001b[0mlearn\u001b[0m\u001b[0;34m.\u001b[0m\u001b[0mlr_find\u001b[0m\u001b[0;34m(\u001b[0m\u001b[0;34m)\u001b[0m\u001b[0;34m\u001b[0m\u001b[0;34m\u001b[0m\u001b[0m\n\u001b[0m",
      "\u001b[0;32m~/opt/anaconda3/lib/python3.8/site-packages/fastai/callback/schedule.py\u001b[0m in \u001b[0;36mlr_find\u001b[0;34m(self, start_lr, end_lr, num_it, stop_div, show_plot, suggest_funcs)\u001b[0m\n\u001b[1;32m    291\u001b[0m     \u001b[0mn_epoch\u001b[0m \u001b[0;34m=\u001b[0m \u001b[0mnum_it\u001b[0m\u001b[0;34m//\u001b[0m\u001b[0mlen\u001b[0m\u001b[0;34m(\u001b[0m\u001b[0mself\u001b[0m\u001b[0;34m.\u001b[0m\u001b[0mdls\u001b[0m\u001b[0;34m.\u001b[0m\u001b[0mtrain\u001b[0m\u001b[0;34m)\u001b[0m \u001b[0;34m+\u001b[0m \u001b[0;36m1\u001b[0m\u001b[0;34m\u001b[0m\u001b[0;34m\u001b[0m\u001b[0m\n\u001b[1;32m    292\u001b[0m     \u001b[0mcb\u001b[0m\u001b[0;34m=\u001b[0m\u001b[0mLRFinder\u001b[0m\u001b[0;34m(\u001b[0m\u001b[0mstart_lr\u001b[0m\u001b[0;34m=\u001b[0m\u001b[0mstart_lr\u001b[0m\u001b[0;34m,\u001b[0m \u001b[0mend_lr\u001b[0m\u001b[0;34m=\u001b[0m\u001b[0mend_lr\u001b[0m\u001b[0;34m,\u001b[0m \u001b[0mnum_it\u001b[0m\u001b[0;34m=\u001b[0m\u001b[0mnum_it\u001b[0m\u001b[0;34m,\u001b[0m \u001b[0mstop_div\u001b[0m\u001b[0;34m=\u001b[0m\u001b[0mstop_div\u001b[0m\u001b[0;34m)\u001b[0m\u001b[0;34m\u001b[0m\u001b[0;34m\u001b[0m\u001b[0m\n\u001b[0;32m--> 293\u001b[0;31m     \u001b[0;32mwith\u001b[0m \u001b[0mself\u001b[0m\u001b[0;34m.\u001b[0m\u001b[0mno_logging\u001b[0m\u001b[0;34m(\u001b[0m\u001b[0;34m)\u001b[0m\u001b[0;34m:\u001b[0m \u001b[0mself\u001b[0m\u001b[0;34m.\u001b[0m\u001b[0mfit\u001b[0m\u001b[0;34m(\u001b[0m\u001b[0mn_epoch\u001b[0m\u001b[0;34m,\u001b[0m \u001b[0mcbs\u001b[0m\u001b[0;34m=\u001b[0m\u001b[0mcb\u001b[0m\u001b[0;34m)\u001b[0m\u001b[0;34m\u001b[0m\u001b[0;34m\u001b[0m\u001b[0m\n\u001b[0m\u001b[1;32m    294\u001b[0m     \u001b[0;32mif\u001b[0m \u001b[0msuggest_funcs\u001b[0m \u001b[0;32mis\u001b[0m \u001b[0;32mnot\u001b[0m \u001b[0;32mNone\u001b[0m\u001b[0;34m:\u001b[0m\u001b[0;34m\u001b[0m\u001b[0;34m\u001b[0m\u001b[0m\n\u001b[1;32m    295\u001b[0m         \u001b[0mlrs\u001b[0m\u001b[0;34m,\u001b[0m \u001b[0mlosses\u001b[0m \u001b[0;34m=\u001b[0m \u001b[0mtensor\u001b[0m\u001b[0;34m(\u001b[0m\u001b[0mself\u001b[0m\u001b[0;34m.\u001b[0m\u001b[0mrecorder\u001b[0m\u001b[0;34m.\u001b[0m\u001b[0mlrs\u001b[0m\u001b[0;34m[\u001b[0m\u001b[0mnum_it\u001b[0m\u001b[0;34m//\u001b[0m\u001b[0;36m10\u001b[0m\u001b[0;34m:\u001b[0m\u001b[0;34m-\u001b[0m\u001b[0;36m5\u001b[0m\u001b[0;34m]\u001b[0m\u001b[0;34m)\u001b[0m\u001b[0;34m,\u001b[0m \u001b[0mtensor\u001b[0m\u001b[0;34m(\u001b[0m\u001b[0mself\u001b[0m\u001b[0;34m.\u001b[0m\u001b[0mrecorder\u001b[0m\u001b[0;34m.\u001b[0m\u001b[0mlosses\u001b[0m\u001b[0;34m[\u001b[0m\u001b[0mnum_it\u001b[0m\u001b[0;34m//\u001b[0m\u001b[0;36m10\u001b[0m\u001b[0;34m:\u001b[0m\u001b[0;34m-\u001b[0m\u001b[0;36m5\u001b[0m\u001b[0;34m]\u001b[0m\u001b[0;34m)\u001b[0m\u001b[0;34m\u001b[0m\u001b[0;34m\u001b[0m\u001b[0m\n",
      "\u001b[0;32m~/opt/anaconda3/lib/python3.8/site-packages/fastai/learner.py\u001b[0m in \u001b[0;36mfit\u001b[0;34m(self, n_epoch, lr, wd, cbs, reset_opt, start_epoch)\u001b[0m\n\u001b[1;32m    262\u001b[0m             \u001b[0mself\u001b[0m\u001b[0;34m.\u001b[0m\u001b[0mopt\u001b[0m\u001b[0;34m.\u001b[0m\u001b[0mset_hypers\u001b[0m\u001b[0;34m(\u001b[0m\u001b[0mlr\u001b[0m\u001b[0;34m=\u001b[0m\u001b[0mself\u001b[0m\u001b[0;34m.\u001b[0m\u001b[0mlr\u001b[0m \u001b[0;32mif\u001b[0m \u001b[0mlr\u001b[0m \u001b[0;32mis\u001b[0m \u001b[0;32mNone\u001b[0m \u001b[0;32melse\u001b[0m \u001b[0mlr\u001b[0m\u001b[0;34m)\u001b[0m\u001b[0;34m\u001b[0m\u001b[0;34m\u001b[0m\u001b[0m\n\u001b[1;32m    263\u001b[0m             \u001b[0mself\u001b[0m\u001b[0;34m.\u001b[0m\u001b[0mn_epoch\u001b[0m \u001b[0;34m=\u001b[0m \u001b[0mn_epoch\u001b[0m\u001b[0;34m\u001b[0m\u001b[0;34m\u001b[0m\u001b[0m\n\u001b[0;32m--> 264\u001b[0;31m             \u001b[0mself\u001b[0m\u001b[0;34m.\u001b[0m\u001b[0m_with_events\u001b[0m\u001b[0;34m(\u001b[0m\u001b[0mself\u001b[0m\u001b[0;34m.\u001b[0m\u001b[0m_do_fit\u001b[0m\u001b[0;34m,\u001b[0m \u001b[0;34m'fit'\u001b[0m\u001b[0;34m,\u001b[0m \u001b[0mCancelFitException\u001b[0m\u001b[0;34m,\u001b[0m \u001b[0mself\u001b[0m\u001b[0;34m.\u001b[0m\u001b[0m_end_cleanup\u001b[0m\u001b[0;34m)\u001b[0m\u001b[0;34m\u001b[0m\u001b[0;34m\u001b[0m\u001b[0m\n\u001b[0m\u001b[1;32m    265\u001b[0m \u001b[0;34m\u001b[0m\u001b[0m\n\u001b[1;32m    266\u001b[0m     \u001b[0;32mdef\u001b[0m \u001b[0m_end_cleanup\u001b[0m\u001b[0;34m(\u001b[0m\u001b[0mself\u001b[0m\u001b[0;34m)\u001b[0m\u001b[0;34m:\u001b[0m \u001b[0mself\u001b[0m\u001b[0;34m.\u001b[0m\u001b[0mdl\u001b[0m\u001b[0;34m,\u001b[0m\u001b[0mself\u001b[0m\u001b[0;34m.\u001b[0m\u001b[0mxb\u001b[0m\u001b[0;34m,\u001b[0m\u001b[0mself\u001b[0m\u001b[0;34m.\u001b[0m\u001b[0myb\u001b[0m\u001b[0;34m,\u001b[0m\u001b[0mself\u001b[0m\u001b[0;34m.\u001b[0m\u001b[0mpred\u001b[0m\u001b[0;34m,\u001b[0m\u001b[0mself\u001b[0m\u001b[0;34m.\u001b[0m\u001b[0mloss\u001b[0m \u001b[0;34m=\u001b[0m \u001b[0;32mNone\u001b[0m\u001b[0;34m,\u001b[0m\u001b[0;34m(\u001b[0m\u001b[0;32mNone\u001b[0m\u001b[0;34m,\u001b[0m\u001b[0;34m)\u001b[0m\u001b[0;34m,\u001b[0m\u001b[0;34m(\u001b[0m\u001b[0;32mNone\u001b[0m\u001b[0;34m,\u001b[0m\u001b[0;34m)\u001b[0m\u001b[0;34m,\u001b[0m\u001b[0;32mNone\u001b[0m\u001b[0;34m,\u001b[0m\u001b[0;32mNone\u001b[0m\u001b[0;34m\u001b[0m\u001b[0;34m\u001b[0m\u001b[0m\n",
      "\u001b[0;32m~/opt/anaconda3/lib/python3.8/site-packages/fastai/learner.py\u001b[0m in \u001b[0;36m_with_events\u001b[0;34m(self, f, event_type, ex, final)\u001b[0m\n\u001b[1;32m    197\u001b[0m \u001b[0;34m\u001b[0m\u001b[0m\n\u001b[1;32m    198\u001b[0m     \u001b[0;32mdef\u001b[0m \u001b[0m_with_events\u001b[0m\u001b[0;34m(\u001b[0m\u001b[0mself\u001b[0m\u001b[0;34m,\u001b[0m \u001b[0mf\u001b[0m\u001b[0;34m,\u001b[0m \u001b[0mevent_type\u001b[0m\u001b[0;34m,\u001b[0m \u001b[0mex\u001b[0m\u001b[0;34m,\u001b[0m \u001b[0mfinal\u001b[0m\u001b[0;34m=\u001b[0m\u001b[0mnoop\u001b[0m\u001b[0;34m)\u001b[0m\u001b[0;34m:\u001b[0m\u001b[0;34m\u001b[0m\u001b[0;34m\u001b[0m\u001b[0m\n\u001b[0;32m--> 199\u001b[0;31m         \u001b[0;32mtry\u001b[0m\u001b[0;34m:\u001b[0m \u001b[0mself\u001b[0m\u001b[0;34m(\u001b[0m\u001b[0;34mf'before_{event_type}'\u001b[0m\u001b[0;34m)\u001b[0m\u001b[0;34m;\u001b[0m  \u001b[0mf\u001b[0m\u001b[0;34m(\u001b[0m\u001b[0;34m)\u001b[0m\u001b[0;34m\u001b[0m\u001b[0;34m\u001b[0m\u001b[0m\n\u001b[0m\u001b[1;32m    200\u001b[0m         \u001b[0;32mexcept\u001b[0m \u001b[0mex\u001b[0m\u001b[0;34m:\u001b[0m \u001b[0mself\u001b[0m\u001b[0;34m(\u001b[0m\u001b[0;34mf'after_cancel_{event_type}'\u001b[0m\u001b[0;34m)\u001b[0m\u001b[0;34m\u001b[0m\u001b[0;34m\u001b[0m\u001b[0m\n\u001b[1;32m    201\u001b[0m         \u001b[0mself\u001b[0m\u001b[0;34m(\u001b[0m\u001b[0;34mf'after_{event_type}'\u001b[0m\u001b[0;34m)\u001b[0m\u001b[0;34m;\u001b[0m  \u001b[0mfinal\u001b[0m\u001b[0;34m(\u001b[0m\u001b[0;34m)\u001b[0m\u001b[0;34m\u001b[0m\u001b[0;34m\u001b[0m\u001b[0m\n",
      "\u001b[0;32m~/opt/anaconda3/lib/python3.8/site-packages/fastai/learner.py\u001b[0m in \u001b[0;36m_do_fit\u001b[0;34m(self)\u001b[0m\n\u001b[1;32m    251\u001b[0m         \u001b[0;32mfor\u001b[0m \u001b[0mepoch\u001b[0m \u001b[0;32min\u001b[0m \u001b[0mrange\u001b[0m\u001b[0;34m(\u001b[0m\u001b[0mself\u001b[0m\u001b[0;34m.\u001b[0m\u001b[0mn_epoch\u001b[0m\u001b[0;34m)\u001b[0m\u001b[0;34m:\u001b[0m\u001b[0;34m\u001b[0m\u001b[0;34m\u001b[0m\u001b[0m\n\u001b[1;32m    252\u001b[0m             \u001b[0mself\u001b[0m\u001b[0;34m.\u001b[0m\u001b[0mepoch\u001b[0m\u001b[0;34m=\u001b[0m\u001b[0mepoch\u001b[0m\u001b[0;34m\u001b[0m\u001b[0;34m\u001b[0m\u001b[0m\n\u001b[0;32m--> 253\u001b[0;31m             \u001b[0mself\u001b[0m\u001b[0;34m.\u001b[0m\u001b[0m_with_events\u001b[0m\u001b[0;34m(\u001b[0m\u001b[0mself\u001b[0m\u001b[0;34m.\u001b[0m\u001b[0m_do_epoch\u001b[0m\u001b[0;34m,\u001b[0m \u001b[0;34m'epoch'\u001b[0m\u001b[0;34m,\u001b[0m \u001b[0mCancelEpochException\u001b[0m\u001b[0;34m)\u001b[0m\u001b[0;34m\u001b[0m\u001b[0;34m\u001b[0m\u001b[0m\n\u001b[0m\u001b[1;32m    254\u001b[0m \u001b[0;34m\u001b[0m\u001b[0m\n\u001b[1;32m    255\u001b[0m     \u001b[0;32mdef\u001b[0m \u001b[0mfit\u001b[0m\u001b[0;34m(\u001b[0m\u001b[0mself\u001b[0m\u001b[0;34m,\u001b[0m \u001b[0mn_epoch\u001b[0m\u001b[0;34m,\u001b[0m \u001b[0mlr\u001b[0m\u001b[0;34m=\u001b[0m\u001b[0;32mNone\u001b[0m\u001b[0;34m,\u001b[0m \u001b[0mwd\u001b[0m\u001b[0;34m=\u001b[0m\u001b[0;32mNone\u001b[0m\u001b[0;34m,\u001b[0m \u001b[0mcbs\u001b[0m\u001b[0;34m=\u001b[0m\u001b[0;32mNone\u001b[0m\u001b[0;34m,\u001b[0m \u001b[0mreset_opt\u001b[0m\u001b[0;34m=\u001b[0m\u001b[0;32mFalse\u001b[0m\u001b[0;34m,\u001b[0m \u001b[0mstart_epoch\u001b[0m\u001b[0;34m=\u001b[0m\u001b[0;36m0\u001b[0m\u001b[0;34m)\u001b[0m\u001b[0;34m:\u001b[0m\u001b[0;34m\u001b[0m\u001b[0;34m\u001b[0m\u001b[0m\n",
      "\u001b[0;32m~/opt/anaconda3/lib/python3.8/site-packages/fastai/learner.py\u001b[0m in \u001b[0;36m_with_events\u001b[0;34m(self, f, event_type, ex, final)\u001b[0m\n\u001b[1;32m    197\u001b[0m \u001b[0;34m\u001b[0m\u001b[0m\n\u001b[1;32m    198\u001b[0m     \u001b[0;32mdef\u001b[0m \u001b[0m_with_events\u001b[0m\u001b[0;34m(\u001b[0m\u001b[0mself\u001b[0m\u001b[0;34m,\u001b[0m \u001b[0mf\u001b[0m\u001b[0;34m,\u001b[0m \u001b[0mevent_type\u001b[0m\u001b[0;34m,\u001b[0m \u001b[0mex\u001b[0m\u001b[0;34m,\u001b[0m \u001b[0mfinal\u001b[0m\u001b[0;34m=\u001b[0m\u001b[0mnoop\u001b[0m\u001b[0;34m)\u001b[0m\u001b[0;34m:\u001b[0m\u001b[0;34m\u001b[0m\u001b[0;34m\u001b[0m\u001b[0m\n\u001b[0;32m--> 199\u001b[0;31m         \u001b[0;32mtry\u001b[0m\u001b[0;34m:\u001b[0m \u001b[0mself\u001b[0m\u001b[0;34m(\u001b[0m\u001b[0;34mf'before_{event_type}'\u001b[0m\u001b[0;34m)\u001b[0m\u001b[0;34m;\u001b[0m  \u001b[0mf\u001b[0m\u001b[0;34m(\u001b[0m\u001b[0;34m)\u001b[0m\u001b[0;34m\u001b[0m\u001b[0;34m\u001b[0m\u001b[0m\n\u001b[0m\u001b[1;32m    200\u001b[0m         \u001b[0;32mexcept\u001b[0m \u001b[0mex\u001b[0m\u001b[0;34m:\u001b[0m \u001b[0mself\u001b[0m\u001b[0;34m(\u001b[0m\u001b[0;34mf'after_cancel_{event_type}'\u001b[0m\u001b[0;34m)\u001b[0m\u001b[0;34m\u001b[0m\u001b[0;34m\u001b[0m\u001b[0m\n\u001b[1;32m    201\u001b[0m         \u001b[0mself\u001b[0m\u001b[0;34m(\u001b[0m\u001b[0;34mf'after_{event_type}'\u001b[0m\u001b[0;34m)\u001b[0m\u001b[0;34m;\u001b[0m  \u001b[0mfinal\u001b[0m\u001b[0;34m(\u001b[0m\u001b[0;34m)\u001b[0m\u001b[0;34m\u001b[0m\u001b[0;34m\u001b[0m\u001b[0m\n",
      "\u001b[0;32m~/opt/anaconda3/lib/python3.8/site-packages/fastai/learner.py\u001b[0m in \u001b[0;36m_do_epoch\u001b[0;34m(self)\u001b[0m\n\u001b[1;32m    245\u001b[0m \u001b[0;34m\u001b[0m\u001b[0m\n\u001b[1;32m    246\u001b[0m     \u001b[0;32mdef\u001b[0m \u001b[0m_do_epoch\u001b[0m\u001b[0;34m(\u001b[0m\u001b[0mself\u001b[0m\u001b[0;34m)\u001b[0m\u001b[0;34m:\u001b[0m\u001b[0;34m\u001b[0m\u001b[0;34m\u001b[0m\u001b[0m\n\u001b[0;32m--> 247\u001b[0;31m         \u001b[0mself\u001b[0m\u001b[0;34m.\u001b[0m\u001b[0m_do_epoch_train\u001b[0m\u001b[0;34m(\u001b[0m\u001b[0;34m)\u001b[0m\u001b[0;34m\u001b[0m\u001b[0;34m\u001b[0m\u001b[0m\n\u001b[0m\u001b[1;32m    248\u001b[0m         \u001b[0mself\u001b[0m\u001b[0;34m.\u001b[0m\u001b[0m_do_epoch_validate\u001b[0m\u001b[0;34m(\u001b[0m\u001b[0;34m)\u001b[0m\u001b[0;34m\u001b[0m\u001b[0;34m\u001b[0m\u001b[0m\n\u001b[1;32m    249\u001b[0m \u001b[0;34m\u001b[0m\u001b[0m\n",
      "\u001b[0;32m~/opt/anaconda3/lib/python3.8/site-packages/fastai/learner.py\u001b[0m in \u001b[0;36m_do_epoch_train\u001b[0;34m(self)\u001b[0m\n\u001b[1;32m    237\u001b[0m     \u001b[0;32mdef\u001b[0m \u001b[0m_do_epoch_train\u001b[0m\u001b[0;34m(\u001b[0m\u001b[0mself\u001b[0m\u001b[0;34m)\u001b[0m\u001b[0;34m:\u001b[0m\u001b[0;34m\u001b[0m\u001b[0;34m\u001b[0m\u001b[0m\n\u001b[1;32m    238\u001b[0m         \u001b[0mself\u001b[0m\u001b[0;34m.\u001b[0m\u001b[0mdl\u001b[0m \u001b[0;34m=\u001b[0m \u001b[0mself\u001b[0m\u001b[0;34m.\u001b[0m\u001b[0mdls\u001b[0m\u001b[0;34m.\u001b[0m\u001b[0mtrain\u001b[0m\u001b[0;34m\u001b[0m\u001b[0;34m\u001b[0m\u001b[0m\n\u001b[0;32m--> 239\u001b[0;31m         \u001b[0mself\u001b[0m\u001b[0;34m.\u001b[0m\u001b[0m_with_events\u001b[0m\u001b[0;34m(\u001b[0m\u001b[0mself\u001b[0m\u001b[0;34m.\u001b[0m\u001b[0mall_batches\u001b[0m\u001b[0;34m,\u001b[0m \u001b[0;34m'train'\u001b[0m\u001b[0;34m,\u001b[0m \u001b[0mCancelTrainException\u001b[0m\u001b[0;34m)\u001b[0m\u001b[0;34m\u001b[0m\u001b[0;34m\u001b[0m\u001b[0m\n\u001b[0m\u001b[1;32m    240\u001b[0m \u001b[0;34m\u001b[0m\u001b[0m\n\u001b[1;32m    241\u001b[0m     \u001b[0;32mdef\u001b[0m \u001b[0m_do_epoch_validate\u001b[0m\u001b[0;34m(\u001b[0m\u001b[0mself\u001b[0m\u001b[0;34m,\u001b[0m \u001b[0mds_idx\u001b[0m\u001b[0;34m=\u001b[0m\u001b[0;36m1\u001b[0m\u001b[0;34m,\u001b[0m \u001b[0mdl\u001b[0m\u001b[0;34m=\u001b[0m\u001b[0;32mNone\u001b[0m\u001b[0;34m)\u001b[0m\u001b[0;34m:\u001b[0m\u001b[0;34m\u001b[0m\u001b[0;34m\u001b[0m\u001b[0m\n",
      "\u001b[0;32m~/opt/anaconda3/lib/python3.8/site-packages/fastai/learner.py\u001b[0m in \u001b[0;36m_with_events\u001b[0;34m(self, f, event_type, ex, final)\u001b[0m\n\u001b[1;32m    197\u001b[0m \u001b[0;34m\u001b[0m\u001b[0m\n\u001b[1;32m    198\u001b[0m     \u001b[0;32mdef\u001b[0m \u001b[0m_with_events\u001b[0m\u001b[0;34m(\u001b[0m\u001b[0mself\u001b[0m\u001b[0;34m,\u001b[0m \u001b[0mf\u001b[0m\u001b[0;34m,\u001b[0m \u001b[0mevent_type\u001b[0m\u001b[0;34m,\u001b[0m \u001b[0mex\u001b[0m\u001b[0;34m,\u001b[0m \u001b[0mfinal\u001b[0m\u001b[0;34m=\u001b[0m\u001b[0mnoop\u001b[0m\u001b[0;34m)\u001b[0m\u001b[0;34m:\u001b[0m\u001b[0;34m\u001b[0m\u001b[0;34m\u001b[0m\u001b[0m\n\u001b[0;32m--> 199\u001b[0;31m         \u001b[0;32mtry\u001b[0m\u001b[0;34m:\u001b[0m \u001b[0mself\u001b[0m\u001b[0;34m(\u001b[0m\u001b[0;34mf'before_{event_type}'\u001b[0m\u001b[0;34m)\u001b[0m\u001b[0;34m;\u001b[0m  \u001b[0mf\u001b[0m\u001b[0;34m(\u001b[0m\u001b[0;34m)\u001b[0m\u001b[0;34m\u001b[0m\u001b[0;34m\u001b[0m\u001b[0m\n\u001b[0m\u001b[1;32m    200\u001b[0m         \u001b[0;32mexcept\u001b[0m \u001b[0mex\u001b[0m\u001b[0;34m:\u001b[0m \u001b[0mself\u001b[0m\u001b[0;34m(\u001b[0m\u001b[0;34mf'after_cancel_{event_type}'\u001b[0m\u001b[0;34m)\u001b[0m\u001b[0;34m\u001b[0m\u001b[0;34m\u001b[0m\u001b[0m\n\u001b[1;32m    201\u001b[0m         \u001b[0mself\u001b[0m\u001b[0;34m(\u001b[0m\u001b[0;34mf'after_{event_type}'\u001b[0m\u001b[0;34m)\u001b[0m\u001b[0;34m;\u001b[0m  \u001b[0mfinal\u001b[0m\u001b[0;34m(\u001b[0m\u001b[0;34m)\u001b[0m\u001b[0;34m\u001b[0m\u001b[0;34m\u001b[0m\u001b[0m\n",
      "\u001b[0;32m~/opt/anaconda3/lib/python3.8/site-packages/fastai/learner.py\u001b[0m in \u001b[0;36mall_batches\u001b[0;34m(self)\u001b[0m\n\u001b[1;32m    203\u001b[0m     \u001b[0;32mdef\u001b[0m \u001b[0mall_batches\u001b[0m\u001b[0;34m(\u001b[0m\u001b[0mself\u001b[0m\u001b[0;34m)\u001b[0m\u001b[0;34m:\u001b[0m\u001b[0;34m\u001b[0m\u001b[0;34m\u001b[0m\u001b[0m\n\u001b[1;32m    204\u001b[0m         \u001b[0mself\u001b[0m\u001b[0;34m.\u001b[0m\u001b[0mn_iter\u001b[0m \u001b[0;34m=\u001b[0m \u001b[0mlen\u001b[0m\u001b[0;34m(\u001b[0m\u001b[0mself\u001b[0m\u001b[0;34m.\u001b[0m\u001b[0mdl\u001b[0m\u001b[0;34m)\u001b[0m\u001b[0;34m\u001b[0m\u001b[0;34m\u001b[0m\u001b[0m\n\u001b[0;32m--> 205\u001b[0;31m         \u001b[0;32mfor\u001b[0m \u001b[0mo\u001b[0m \u001b[0;32min\u001b[0m \u001b[0menumerate\u001b[0m\u001b[0;34m(\u001b[0m\u001b[0mself\u001b[0m\u001b[0;34m.\u001b[0m\u001b[0mdl\u001b[0m\u001b[0;34m)\u001b[0m\u001b[0;34m:\u001b[0m \u001b[0mself\u001b[0m\u001b[0;34m.\u001b[0m\u001b[0mone_batch\u001b[0m\u001b[0;34m(\u001b[0m\u001b[0;34m*\u001b[0m\u001b[0mo\u001b[0m\u001b[0;34m)\u001b[0m\u001b[0;34m\u001b[0m\u001b[0;34m\u001b[0m\u001b[0m\n\u001b[0m\u001b[1;32m    206\u001b[0m \u001b[0;34m\u001b[0m\u001b[0m\n\u001b[1;32m    207\u001b[0m     \u001b[0;32mdef\u001b[0m \u001b[0m_backward\u001b[0m\u001b[0;34m(\u001b[0m\u001b[0mself\u001b[0m\u001b[0;34m)\u001b[0m\u001b[0;34m:\u001b[0m \u001b[0mself\u001b[0m\u001b[0;34m.\u001b[0m\u001b[0mloss_grad\u001b[0m\u001b[0;34m.\u001b[0m\u001b[0mbackward\u001b[0m\u001b[0;34m(\u001b[0m\u001b[0;34m)\u001b[0m\u001b[0;34m\u001b[0m\u001b[0;34m\u001b[0m\u001b[0m\n",
      "\u001b[0;32m~/opt/anaconda3/lib/python3.8/site-packages/fastai/learner.py\u001b[0m in \u001b[0;36mone_batch\u001b[0;34m(self, i, b)\u001b[0m\n\u001b[1;32m    233\u001b[0m         \u001b[0mb\u001b[0m \u001b[0;34m=\u001b[0m \u001b[0mself\u001b[0m\u001b[0;34m.\u001b[0m\u001b[0m_set_device\u001b[0m\u001b[0;34m(\u001b[0m\u001b[0mb\u001b[0m\u001b[0;34m)\u001b[0m\u001b[0;34m\u001b[0m\u001b[0;34m\u001b[0m\u001b[0m\n\u001b[1;32m    234\u001b[0m         \u001b[0mself\u001b[0m\u001b[0;34m.\u001b[0m\u001b[0m_split\u001b[0m\u001b[0;34m(\u001b[0m\u001b[0mb\u001b[0m\u001b[0;34m)\u001b[0m\u001b[0;34m\u001b[0m\u001b[0;34m\u001b[0m\u001b[0m\n\u001b[0;32m--> 235\u001b[0;31m         \u001b[0mself\u001b[0m\u001b[0;34m.\u001b[0m\u001b[0m_with_events\u001b[0m\u001b[0;34m(\u001b[0m\u001b[0mself\u001b[0m\u001b[0;34m.\u001b[0m\u001b[0m_do_one_batch\u001b[0m\u001b[0;34m,\u001b[0m \u001b[0;34m'batch'\u001b[0m\u001b[0;34m,\u001b[0m \u001b[0mCancelBatchException\u001b[0m\u001b[0;34m)\u001b[0m\u001b[0;34m\u001b[0m\u001b[0;34m\u001b[0m\u001b[0m\n\u001b[0m\u001b[1;32m    236\u001b[0m \u001b[0;34m\u001b[0m\u001b[0m\n\u001b[1;32m    237\u001b[0m     \u001b[0;32mdef\u001b[0m \u001b[0m_do_epoch_train\u001b[0m\u001b[0;34m(\u001b[0m\u001b[0mself\u001b[0m\u001b[0;34m)\u001b[0m\u001b[0;34m:\u001b[0m\u001b[0;34m\u001b[0m\u001b[0;34m\u001b[0m\u001b[0m\n",
      "\u001b[0;32m~/opt/anaconda3/lib/python3.8/site-packages/fastai/learner.py\u001b[0m in \u001b[0;36m_with_events\u001b[0;34m(self, f, event_type, ex, final)\u001b[0m\n\u001b[1;32m    197\u001b[0m \u001b[0;34m\u001b[0m\u001b[0m\n\u001b[1;32m    198\u001b[0m     \u001b[0;32mdef\u001b[0m \u001b[0m_with_events\u001b[0m\u001b[0;34m(\u001b[0m\u001b[0mself\u001b[0m\u001b[0;34m,\u001b[0m \u001b[0mf\u001b[0m\u001b[0;34m,\u001b[0m \u001b[0mevent_type\u001b[0m\u001b[0;34m,\u001b[0m \u001b[0mex\u001b[0m\u001b[0;34m,\u001b[0m \u001b[0mfinal\u001b[0m\u001b[0;34m=\u001b[0m\u001b[0mnoop\u001b[0m\u001b[0;34m)\u001b[0m\u001b[0;34m:\u001b[0m\u001b[0;34m\u001b[0m\u001b[0;34m\u001b[0m\u001b[0m\n\u001b[0;32m--> 199\u001b[0;31m         \u001b[0;32mtry\u001b[0m\u001b[0;34m:\u001b[0m \u001b[0mself\u001b[0m\u001b[0;34m(\u001b[0m\u001b[0;34mf'before_{event_type}'\u001b[0m\u001b[0;34m)\u001b[0m\u001b[0;34m;\u001b[0m  \u001b[0mf\u001b[0m\u001b[0;34m(\u001b[0m\u001b[0;34m)\u001b[0m\u001b[0;34m\u001b[0m\u001b[0;34m\u001b[0m\u001b[0m\n\u001b[0m\u001b[1;32m    200\u001b[0m         \u001b[0;32mexcept\u001b[0m \u001b[0mex\u001b[0m\u001b[0;34m:\u001b[0m \u001b[0mself\u001b[0m\u001b[0;34m(\u001b[0m\u001b[0;34mf'after_cancel_{event_type}'\u001b[0m\u001b[0;34m)\u001b[0m\u001b[0;34m\u001b[0m\u001b[0;34m\u001b[0m\u001b[0m\n\u001b[1;32m    201\u001b[0m         \u001b[0mself\u001b[0m\u001b[0;34m(\u001b[0m\u001b[0;34mf'after_{event_type}'\u001b[0m\u001b[0;34m)\u001b[0m\u001b[0;34m;\u001b[0m  \u001b[0mfinal\u001b[0m\u001b[0;34m(\u001b[0m\u001b[0;34m)\u001b[0m\u001b[0;34m\u001b[0m\u001b[0;34m\u001b[0m\u001b[0m\n",
      "\u001b[0;32m~/opt/anaconda3/lib/python3.8/site-packages/fastai/learner.py\u001b[0m in \u001b[0;36m_do_one_batch\u001b[0;34m(self)\u001b[0m\n\u001b[1;32m    214\u001b[0m \u001b[0;34m\u001b[0m\u001b[0m\n\u001b[1;32m    215\u001b[0m     \u001b[0;32mdef\u001b[0m \u001b[0m_do_one_batch\u001b[0m\u001b[0;34m(\u001b[0m\u001b[0mself\u001b[0m\u001b[0;34m)\u001b[0m\u001b[0;34m:\u001b[0m\u001b[0;34m\u001b[0m\u001b[0;34m\u001b[0m\u001b[0m\n\u001b[0;32m--> 216\u001b[0;31m         \u001b[0mself\u001b[0m\u001b[0;34m.\u001b[0m\u001b[0mpred\u001b[0m \u001b[0;34m=\u001b[0m \u001b[0mself\u001b[0m\u001b[0;34m.\u001b[0m\u001b[0mmodel\u001b[0m\u001b[0;34m(\u001b[0m\u001b[0;34m*\u001b[0m\u001b[0mself\u001b[0m\u001b[0;34m.\u001b[0m\u001b[0mxb\u001b[0m\u001b[0;34m)\u001b[0m\u001b[0;34m\u001b[0m\u001b[0;34m\u001b[0m\u001b[0m\n\u001b[0m\u001b[1;32m    217\u001b[0m         \u001b[0mself\u001b[0m\u001b[0;34m(\u001b[0m\u001b[0;34m'after_pred'\u001b[0m\u001b[0;34m)\u001b[0m\u001b[0;34m\u001b[0m\u001b[0;34m\u001b[0m\u001b[0m\n\u001b[1;32m    218\u001b[0m         \u001b[0;32mif\u001b[0m \u001b[0mlen\u001b[0m\u001b[0;34m(\u001b[0m\u001b[0mself\u001b[0m\u001b[0;34m.\u001b[0m\u001b[0myb\u001b[0m\u001b[0;34m)\u001b[0m\u001b[0;34m:\u001b[0m\u001b[0;34m\u001b[0m\u001b[0;34m\u001b[0m\u001b[0m\n",
      "\u001b[0;32m~/opt/anaconda3/lib/python3.8/site-packages/torch/nn/modules/module.py\u001b[0m in \u001b[0;36m_call_impl\u001b[0;34m(self, *input, **kwargs)\u001b[0m\n\u001b[1;32m   1100\u001b[0m         if not (self._backward_hooks or self._forward_hooks or self._forward_pre_hooks or _global_backward_hooks\n\u001b[1;32m   1101\u001b[0m                 or _global_forward_hooks or _global_forward_pre_hooks):\n\u001b[0;32m-> 1102\u001b[0;31m             \u001b[0;32mreturn\u001b[0m \u001b[0mforward_call\u001b[0m\u001b[0;34m(\u001b[0m\u001b[0;34m*\u001b[0m\u001b[0minput\u001b[0m\u001b[0;34m,\u001b[0m \u001b[0;34m**\u001b[0m\u001b[0mkwargs\u001b[0m\u001b[0;34m)\u001b[0m\u001b[0;34m\u001b[0m\u001b[0;34m\u001b[0m\u001b[0m\n\u001b[0m\u001b[1;32m   1103\u001b[0m         \u001b[0;31m# Do not call functions when jit is used\u001b[0m\u001b[0;34m\u001b[0m\u001b[0;34m\u001b[0m\u001b[0;34m\u001b[0m\u001b[0m\n\u001b[1;32m   1104\u001b[0m         \u001b[0mfull_backward_hooks\u001b[0m\u001b[0;34m,\u001b[0m \u001b[0mnon_full_backward_hooks\u001b[0m \u001b[0;34m=\u001b[0m \u001b[0;34m[\u001b[0m\u001b[0;34m]\u001b[0m\u001b[0;34m,\u001b[0m \u001b[0;34m[\u001b[0m\u001b[0;34m]\u001b[0m\u001b[0;34m\u001b[0m\u001b[0;34m\u001b[0m\u001b[0m\n",
      "\u001b[0;32m~/opt/anaconda3/lib/python3.8/site-packages/transformers/models/gpt2/modeling_gpt2.py\u001b[0m in \u001b[0;36mforward\u001b[0;34m(self, input_ids, past_key_values, attention_mask, token_type_ids, position_ids, head_mask, inputs_embeds, encoder_hidden_states, encoder_attention_mask, labels, use_cache, output_attentions, output_hidden_states, return_dict)\u001b[0m\n\u001b[1;32m   1073\u001b[0m         \u001b[0mreturn_dict\u001b[0m \u001b[0;34m=\u001b[0m \u001b[0mreturn_dict\u001b[0m \u001b[0;32mif\u001b[0m \u001b[0mreturn_dict\u001b[0m \u001b[0;32mis\u001b[0m \u001b[0;32mnot\u001b[0m \u001b[0;32mNone\u001b[0m \u001b[0;32melse\u001b[0m \u001b[0mself\u001b[0m\u001b[0;34m.\u001b[0m\u001b[0mconfig\u001b[0m\u001b[0;34m.\u001b[0m\u001b[0muse_return_dict\u001b[0m\u001b[0;34m\u001b[0m\u001b[0;34m\u001b[0m\u001b[0m\n\u001b[1;32m   1074\u001b[0m \u001b[0;34m\u001b[0m\u001b[0m\n\u001b[0;32m-> 1075\u001b[0;31m         transformer_outputs = self.transformer(\n\u001b[0m\u001b[1;32m   1076\u001b[0m             \u001b[0minput_ids\u001b[0m\u001b[0;34m,\u001b[0m\u001b[0;34m\u001b[0m\u001b[0;34m\u001b[0m\u001b[0m\n\u001b[1;32m   1077\u001b[0m             \u001b[0mpast_key_values\u001b[0m\u001b[0;34m=\u001b[0m\u001b[0mpast_key_values\u001b[0m\u001b[0;34m,\u001b[0m\u001b[0;34m\u001b[0m\u001b[0;34m\u001b[0m\u001b[0m\n",
      "\u001b[0;32m~/opt/anaconda3/lib/python3.8/site-packages/torch/nn/modules/module.py\u001b[0m in \u001b[0;36m_call_impl\u001b[0;34m(self, *input, **kwargs)\u001b[0m\n\u001b[1;32m   1100\u001b[0m         if not (self._backward_hooks or self._forward_hooks or self._forward_pre_hooks or _global_backward_hooks\n\u001b[1;32m   1101\u001b[0m                 or _global_forward_hooks or _global_forward_pre_hooks):\n\u001b[0;32m-> 1102\u001b[0;31m             \u001b[0;32mreturn\u001b[0m \u001b[0mforward_call\u001b[0m\u001b[0;34m(\u001b[0m\u001b[0;34m*\u001b[0m\u001b[0minput\u001b[0m\u001b[0;34m,\u001b[0m \u001b[0;34m**\u001b[0m\u001b[0mkwargs\u001b[0m\u001b[0;34m)\u001b[0m\u001b[0;34m\u001b[0m\u001b[0;34m\u001b[0m\u001b[0m\n\u001b[0m\u001b[1;32m   1103\u001b[0m         \u001b[0;31m# Do not call functions when jit is used\u001b[0m\u001b[0;34m\u001b[0m\u001b[0;34m\u001b[0m\u001b[0;34m\u001b[0m\u001b[0m\n\u001b[1;32m   1104\u001b[0m         \u001b[0mfull_backward_hooks\u001b[0m\u001b[0;34m,\u001b[0m \u001b[0mnon_full_backward_hooks\u001b[0m \u001b[0;34m=\u001b[0m \u001b[0;34m[\u001b[0m\u001b[0;34m]\u001b[0m\u001b[0;34m,\u001b[0m \u001b[0;34m[\u001b[0m\u001b[0;34m]\u001b[0m\u001b[0;34m\u001b[0m\u001b[0;34m\u001b[0m\u001b[0m\n",
      "\u001b[0;32m~/opt/anaconda3/lib/python3.8/site-packages/transformers/models/gpt2/modeling_gpt2.py\u001b[0m in \u001b[0;36mforward\u001b[0;34m(self, input_ids, past_key_values, attention_mask, token_type_ids, position_ids, head_mask, inputs_embeds, encoder_hidden_states, encoder_attention_mask, use_cache, output_attentions, output_hidden_states, return_dict)\u001b[0m\n\u001b[1;32m    897\u001b[0m                 )\n\u001b[1;32m    898\u001b[0m             \u001b[0;32melse\u001b[0m\u001b[0;34m:\u001b[0m\u001b[0;34m\u001b[0m\u001b[0;34m\u001b[0m\u001b[0m\n\u001b[0;32m--> 899\u001b[0;31m                 outputs = block(\n\u001b[0m\u001b[1;32m    900\u001b[0m                     \u001b[0mhidden_states\u001b[0m\u001b[0;34m,\u001b[0m\u001b[0;34m\u001b[0m\u001b[0;34m\u001b[0m\u001b[0m\n\u001b[1;32m    901\u001b[0m                     \u001b[0mlayer_past\u001b[0m\u001b[0;34m=\u001b[0m\u001b[0mlayer_past\u001b[0m\u001b[0;34m,\u001b[0m\u001b[0;34m\u001b[0m\u001b[0;34m\u001b[0m\u001b[0m\n",
      "\u001b[0;32m~/opt/anaconda3/lib/python3.8/site-packages/torch/nn/modules/module.py\u001b[0m in \u001b[0;36m_call_impl\u001b[0;34m(self, *input, **kwargs)\u001b[0m\n\u001b[1;32m   1100\u001b[0m         if not (self._backward_hooks or self._forward_hooks or self._forward_pre_hooks or _global_backward_hooks\n\u001b[1;32m   1101\u001b[0m                 or _global_forward_hooks or _global_forward_pre_hooks):\n\u001b[0;32m-> 1102\u001b[0;31m             \u001b[0;32mreturn\u001b[0m \u001b[0mforward_call\u001b[0m\u001b[0;34m(\u001b[0m\u001b[0;34m*\u001b[0m\u001b[0minput\u001b[0m\u001b[0;34m,\u001b[0m \u001b[0;34m**\u001b[0m\u001b[0mkwargs\u001b[0m\u001b[0;34m)\u001b[0m\u001b[0;34m\u001b[0m\u001b[0;34m\u001b[0m\u001b[0m\n\u001b[0m\u001b[1;32m   1103\u001b[0m         \u001b[0;31m# Do not call functions when jit is used\u001b[0m\u001b[0;34m\u001b[0m\u001b[0;34m\u001b[0m\u001b[0;34m\u001b[0m\u001b[0m\n\u001b[1;32m   1104\u001b[0m         \u001b[0mfull_backward_hooks\u001b[0m\u001b[0;34m,\u001b[0m \u001b[0mnon_full_backward_hooks\u001b[0m \u001b[0;34m=\u001b[0m \u001b[0;34m[\u001b[0m\u001b[0;34m]\u001b[0m\u001b[0;34m,\u001b[0m \u001b[0;34m[\u001b[0m\u001b[0;34m]\u001b[0m\u001b[0;34m\u001b[0m\u001b[0;34m\u001b[0m\u001b[0m\n",
      "\u001b[0;32m~/opt/anaconda3/lib/python3.8/site-packages/transformers/models/gpt2/modeling_gpt2.py\u001b[0m in \u001b[0;36mforward\u001b[0;34m(self, hidden_states, layer_past, attention_mask, head_mask, encoder_hidden_states, encoder_attention_mask, use_cache, output_attentions)\u001b[0m\n\u001b[1;32m    387\u001b[0m         \u001b[0mresidual\u001b[0m \u001b[0;34m=\u001b[0m \u001b[0mhidden_states\u001b[0m\u001b[0;34m\u001b[0m\u001b[0;34m\u001b[0m\u001b[0m\n\u001b[1;32m    388\u001b[0m         \u001b[0mhidden_states\u001b[0m \u001b[0;34m=\u001b[0m \u001b[0mself\u001b[0m\u001b[0;34m.\u001b[0m\u001b[0mln_1\u001b[0m\u001b[0;34m(\u001b[0m\u001b[0mhidden_states\u001b[0m\u001b[0;34m)\u001b[0m\u001b[0;34m\u001b[0m\u001b[0;34m\u001b[0m\u001b[0m\n\u001b[0;32m--> 389\u001b[0;31m         attn_outputs = self.attn(\n\u001b[0m\u001b[1;32m    390\u001b[0m             \u001b[0mhidden_states\u001b[0m\u001b[0;34m,\u001b[0m\u001b[0;34m\u001b[0m\u001b[0;34m\u001b[0m\u001b[0m\n\u001b[1;32m    391\u001b[0m             \u001b[0mlayer_past\u001b[0m\u001b[0;34m=\u001b[0m\u001b[0mlayer_past\u001b[0m\u001b[0;34m,\u001b[0m\u001b[0;34m\u001b[0m\u001b[0;34m\u001b[0m\u001b[0m\n",
      "\u001b[0;32m~/opt/anaconda3/lib/python3.8/site-packages/torch/nn/modules/module.py\u001b[0m in \u001b[0;36m_call_impl\u001b[0;34m(self, *input, **kwargs)\u001b[0m\n\u001b[1;32m   1100\u001b[0m         if not (self._backward_hooks or self._forward_hooks or self._forward_pre_hooks or _global_backward_hooks\n\u001b[1;32m   1101\u001b[0m                 or _global_forward_hooks or _global_forward_pre_hooks):\n\u001b[0;32m-> 1102\u001b[0;31m             \u001b[0;32mreturn\u001b[0m \u001b[0mforward_call\u001b[0m\u001b[0;34m(\u001b[0m\u001b[0;34m*\u001b[0m\u001b[0minput\u001b[0m\u001b[0;34m,\u001b[0m \u001b[0;34m**\u001b[0m\u001b[0mkwargs\u001b[0m\u001b[0;34m)\u001b[0m\u001b[0;34m\u001b[0m\u001b[0;34m\u001b[0m\u001b[0m\n\u001b[0m\u001b[1;32m   1103\u001b[0m         \u001b[0;31m# Do not call functions when jit is used\u001b[0m\u001b[0;34m\u001b[0m\u001b[0;34m\u001b[0m\u001b[0;34m\u001b[0m\u001b[0m\n\u001b[1;32m   1104\u001b[0m         \u001b[0mfull_backward_hooks\u001b[0m\u001b[0;34m,\u001b[0m \u001b[0mnon_full_backward_hooks\u001b[0m \u001b[0;34m=\u001b[0m \u001b[0;34m[\u001b[0m\u001b[0;34m]\u001b[0m\u001b[0;34m,\u001b[0m \u001b[0;34m[\u001b[0m\u001b[0;34m]\u001b[0m\u001b[0;34m\u001b[0m\u001b[0;34m\u001b[0m\u001b[0m\n",
      "\u001b[0;32m~/opt/anaconda3/lib/python3.8/site-packages/transformers/models/gpt2/modeling_gpt2.py\u001b[0m in \u001b[0;36mforward\u001b[0;34m(self, hidden_states, layer_past, attention_mask, head_mask, encoder_hidden_states, encoder_attention_mask, use_cache, output_attentions)\u001b[0m\n\u001b[1;32m    309\u001b[0m             \u001b[0mattention_mask\u001b[0m \u001b[0;34m=\u001b[0m \u001b[0mencoder_attention_mask\u001b[0m\u001b[0;34m\u001b[0m\u001b[0;34m\u001b[0m\u001b[0m\n\u001b[1;32m    310\u001b[0m         \u001b[0;32melse\u001b[0m\u001b[0;34m:\u001b[0m\u001b[0;34m\u001b[0m\u001b[0;34m\u001b[0m\u001b[0m\n\u001b[0;32m--> 311\u001b[0;31m             \u001b[0mquery\u001b[0m\u001b[0;34m,\u001b[0m \u001b[0mkey\u001b[0m\u001b[0;34m,\u001b[0m \u001b[0mvalue\u001b[0m \u001b[0;34m=\u001b[0m \u001b[0mself\u001b[0m\u001b[0;34m.\u001b[0m\u001b[0mc_attn\u001b[0m\u001b[0;34m(\u001b[0m\u001b[0mhidden_states\u001b[0m\u001b[0;34m)\u001b[0m\u001b[0;34m.\u001b[0m\u001b[0msplit\u001b[0m\u001b[0;34m(\u001b[0m\u001b[0mself\u001b[0m\u001b[0;34m.\u001b[0m\u001b[0msplit_size\u001b[0m\u001b[0;34m,\u001b[0m \u001b[0mdim\u001b[0m\u001b[0;34m=\u001b[0m\u001b[0;36m2\u001b[0m\u001b[0;34m)\u001b[0m\u001b[0;34m\u001b[0m\u001b[0;34m\u001b[0m\u001b[0m\n\u001b[0m\u001b[1;32m    312\u001b[0m \u001b[0;34m\u001b[0m\u001b[0m\n\u001b[1;32m    313\u001b[0m         \u001b[0mquery\u001b[0m \u001b[0;34m=\u001b[0m \u001b[0mself\u001b[0m\u001b[0;34m.\u001b[0m\u001b[0m_split_heads\u001b[0m\u001b[0;34m(\u001b[0m\u001b[0mquery\u001b[0m\u001b[0;34m,\u001b[0m \u001b[0mself\u001b[0m\u001b[0;34m.\u001b[0m\u001b[0mnum_heads\u001b[0m\u001b[0;34m,\u001b[0m \u001b[0mself\u001b[0m\u001b[0;34m.\u001b[0m\u001b[0mhead_dim\u001b[0m\u001b[0;34m)\u001b[0m\u001b[0;34m\u001b[0m\u001b[0;34m\u001b[0m\u001b[0m\n",
      "\u001b[0;32m~/opt/anaconda3/lib/python3.8/site-packages/torch/nn/modules/module.py\u001b[0m in \u001b[0;36m_call_impl\u001b[0;34m(self, *input, **kwargs)\u001b[0m\n\u001b[1;32m   1100\u001b[0m         if not (self._backward_hooks or self._forward_hooks or self._forward_pre_hooks or _global_backward_hooks\n\u001b[1;32m   1101\u001b[0m                 or _global_forward_hooks or _global_forward_pre_hooks):\n\u001b[0;32m-> 1102\u001b[0;31m             \u001b[0;32mreturn\u001b[0m \u001b[0mforward_call\u001b[0m\u001b[0;34m(\u001b[0m\u001b[0;34m*\u001b[0m\u001b[0minput\u001b[0m\u001b[0;34m,\u001b[0m \u001b[0;34m**\u001b[0m\u001b[0mkwargs\u001b[0m\u001b[0;34m)\u001b[0m\u001b[0;34m\u001b[0m\u001b[0;34m\u001b[0m\u001b[0m\n\u001b[0m\u001b[1;32m   1103\u001b[0m         \u001b[0;31m# Do not call functions when jit is used\u001b[0m\u001b[0;34m\u001b[0m\u001b[0;34m\u001b[0m\u001b[0;34m\u001b[0m\u001b[0m\n\u001b[1;32m   1104\u001b[0m         \u001b[0mfull_backward_hooks\u001b[0m\u001b[0;34m,\u001b[0m \u001b[0mnon_full_backward_hooks\u001b[0m \u001b[0;34m=\u001b[0m \u001b[0;34m[\u001b[0m\u001b[0;34m]\u001b[0m\u001b[0;34m,\u001b[0m \u001b[0;34m[\u001b[0m\u001b[0;34m]\u001b[0m\u001b[0;34m\u001b[0m\u001b[0;34m\u001b[0m\u001b[0m\n",
      "\u001b[0;32m~/opt/anaconda3/lib/python3.8/site-packages/transformers/pytorch_utils.py\u001b[0m in \u001b[0;36mforward\u001b[0;34m(self, x)\u001b[0m\n\u001b[1;32m    112\u001b[0m     \u001b[0;32mdef\u001b[0m \u001b[0mforward\u001b[0m\u001b[0;34m(\u001b[0m\u001b[0mself\u001b[0m\u001b[0;34m,\u001b[0m \u001b[0mx\u001b[0m\u001b[0;34m)\u001b[0m\u001b[0;34m:\u001b[0m\u001b[0;34m\u001b[0m\u001b[0;34m\u001b[0m\u001b[0m\n\u001b[1;32m    113\u001b[0m         \u001b[0msize_out\u001b[0m \u001b[0;34m=\u001b[0m \u001b[0mx\u001b[0m\u001b[0;34m.\u001b[0m\u001b[0msize\u001b[0m\u001b[0;34m(\u001b[0m\u001b[0;34m)\u001b[0m\u001b[0;34m[\u001b[0m\u001b[0;34m:\u001b[0m\u001b[0;34m-\u001b[0m\u001b[0;36m1\u001b[0m\u001b[0;34m]\u001b[0m \u001b[0;34m+\u001b[0m \u001b[0;34m(\u001b[0m\u001b[0mself\u001b[0m\u001b[0;34m.\u001b[0m\u001b[0mnf\u001b[0m\u001b[0;34m,\u001b[0m\u001b[0;34m)\u001b[0m\u001b[0;34m\u001b[0m\u001b[0;34m\u001b[0m\u001b[0m\n\u001b[0;32m--> 114\u001b[0;31m         \u001b[0mx\u001b[0m \u001b[0;34m=\u001b[0m \u001b[0mtorch\u001b[0m\u001b[0;34m.\u001b[0m\u001b[0maddmm\u001b[0m\u001b[0;34m(\u001b[0m\u001b[0mself\u001b[0m\u001b[0;34m.\u001b[0m\u001b[0mbias\u001b[0m\u001b[0;34m,\u001b[0m \u001b[0mx\u001b[0m\u001b[0;34m.\u001b[0m\u001b[0mview\u001b[0m\u001b[0;34m(\u001b[0m\u001b[0;34m-\u001b[0m\u001b[0;36m1\u001b[0m\u001b[0;34m,\u001b[0m \u001b[0mx\u001b[0m\u001b[0;34m.\u001b[0m\u001b[0msize\u001b[0m\u001b[0;34m(\u001b[0m\u001b[0;34m-\u001b[0m\u001b[0;36m1\u001b[0m\u001b[0;34m)\u001b[0m\u001b[0;34m)\u001b[0m\u001b[0;34m,\u001b[0m \u001b[0mself\u001b[0m\u001b[0;34m.\u001b[0m\u001b[0mweight\u001b[0m\u001b[0;34m)\u001b[0m\u001b[0;34m\u001b[0m\u001b[0;34m\u001b[0m\u001b[0m\n\u001b[0m\u001b[1;32m    115\u001b[0m         \u001b[0mx\u001b[0m \u001b[0;34m=\u001b[0m \u001b[0mx\u001b[0m\u001b[0;34m.\u001b[0m\u001b[0mview\u001b[0m\u001b[0;34m(\u001b[0m\u001b[0msize_out\u001b[0m\u001b[0;34m)\u001b[0m\u001b[0;34m\u001b[0m\u001b[0;34m\u001b[0m\u001b[0m\n\u001b[1;32m    116\u001b[0m         \u001b[0;32mreturn\u001b[0m \u001b[0mx\u001b[0m\u001b[0;34m\u001b[0m\u001b[0;34m\u001b[0m\u001b[0m\n",
      "\u001b[0;31mKeyboardInterrupt\u001b[0m: "
     ]
    }
   ],
   "source": [
    "# learning rate\n",
    "learn.lr_find()"
   ]
  },
  {
   "cell_type": "code",
   "execution_count": null,
   "metadata": {},
   "outputs": [
    {
     "data": {
      "text/html": [
       "\n",
       "<style>\n",
       "    /* Turns off some styling */\n",
       "    progress {\n",
       "        /* gets rid of default border in Firefox and Opera. */\n",
       "        border: none;\n",
       "        /* Needs to be in here for Safari polyfill so background images work as expected. */\n",
       "        background-size: auto;\n",
       "    }\n",
       "    progress:not([value]), progress:not([value])::-webkit-progress-bar {\n",
       "        background: repeating-linear-gradient(45deg, #7e7e7e, #7e7e7e 10px, #5c5c5c 10px, #5c5c5c 20px);\n",
       "    }\n",
       "    .progress-bar-interrupted, .progress-bar-interrupted::-webkit-progress-bar {\n",
       "        background: #F44336;\n",
       "    }\n",
       "</style>\n"
      ],
      "text/plain": [
       "<IPython.core.display.HTML object>"
      ]
     },
     "metadata": {},
     "output_type": "display_data"
    },
    {
     "data": {
      "text/html": [
       "<table border=\"1\" class=\"dataframe\">\n",
       "  <thead>\n",
       "    <tr style=\"text-align: left;\">\n",
       "      <th>epoch</th>\n",
       "      <th>train_loss</th>\n",
       "      <th>valid_loss</th>\n",
       "      <th>perplexity</th>\n",
       "      <th>time</th>\n",
       "    </tr>\n",
       "  </thead>\n",
       "  <tbody>\n",
       "    <tr>\n",
       "      <td>0</td>\n",
       "      <td>9.825723</td>\n",
       "      <td>None</td>\n",
       "      <td>None</td>\n",
       "      <td>00:00</td>\n",
       "    </tr>\n",
       "    <tr>\n",
       "      <td>1</td>\n",
       "      <td>10.710649</td>\n",
       "      <td>None</td>\n",
       "      <td>None</td>\n",
       "      <td>00:00</td>\n",
       "    </tr>\n",
       "    <tr>\n",
       "      <td>2</td>\n",
       "      <td>10.867957</td>\n",
       "      <td>None</td>\n",
       "      <td>None</td>\n",
       "      <td>00:00</td>\n",
       "    </tr>\n",
       "    <tr>\n",
       "      <td>3</td>\n",
       "      <td>10.785975</td>\n",
       "      <td>None</td>\n",
       "      <td>None</td>\n",
       "      <td>00:00</td>\n",
       "    </tr>\n",
       "    <tr>\n",
       "      <td>4</td>\n",
       "      <td>10.983597</td>\n",
       "      <td>None</td>\n",
       "      <td>None</td>\n",
       "      <td>00:00</td>\n",
       "    </tr>\n",
       "  </tbody>\n",
       "</table>"
      ],
      "text/plain": [
       "<IPython.core.display.HTML object>"
      ]
     },
     "metadata": {},
     "output_type": "display_data"
    }
   ],
   "source": [
    "# fitting the model\n",
    "learn.fit_one_cycle(5, 1e-5)"
   ]
  },
  {
   "cell_type": "markdown",
   "metadata": {},
   "source": [
    "### Prediction"
   ]
  },
  {
   "cell_type": "code",
   "execution_count": null,
   "metadata": {},
   "outputs": [],
   "source": [
    "def predict(prompt, length, beams, temp):\n",
    "    prompt_ids = tokenizer.encode(prompt)\n",
    "    inp = tensor(prompt_ids)[None].cuda()\n",
    "    preds = learn.model.generate(inp, max_length=length, num_beams=beams, temperature=temp)\n",
    "    return tokenizer.decode(preds[0].cpu().numpy())"
   ]
  },
  {
   "cell_type": "code",
   "execution_count": null,
   "metadata": {},
   "outputs": [],
   "source": []
  }
 ],
 "metadata": {
  "kernelspec": {
   "display_name": "Python 3",
   "language": "python",
   "name": "python3"
  },
  "language_info": {
   "codemirror_mode": {
    "name": "ipython",
    "version": 3
   },
   "file_extension": ".py",
   "mimetype": "text/x-python",
   "name": "python",
   "nbconvert_exporter": "python",
   "pygments_lexer": "ipython3",
   "version": "3.8.8"
  },
  "vscode": {
   "interpreter": {
    "hash": "0518852ff62385004de8bd73d417ac700497fc53f895674a15f3b7955170bcf6"
   }
  }
 },
 "nbformat": 4,
 "nbformat_minor": 2
}
